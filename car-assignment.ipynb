{
 "cells": [
  {
   "cell_type": "markdown",
   "id": "2f1745b7",
   "metadata": {
    "papermill": {
     "duration": 0.033184,
     "end_time": "2024-04-23T01:02:27.843483",
     "exception": false,
     "start_time": "2024-04-23T01:02:27.810299",
     "status": "completed"
    },
    "tags": []
   },
   "source": [
    "#### Table of Contents\n",
    "    \n",
    "  <a class=\"list-group-item list-group-item-action\" data-toggle=\"list\" href=\"#1.-Features-Description\" role=\"tab\" aria-controls=\"profile\">1. Features Description</a>\n",
    "    \n",
    "  <a class=\"list-group-item list-group-item-action\" data-toggle=\"list\" href=\"#2.-Importing-Packages-/-Libraries\" role=\"tab\" aria-controls=\"messages\">2. Importing Packages / Libraries</a>\n",
    "    \n",
    "  <a class=\"list-group-item list-group-item-action\"  data-toggle=\"list\" href=\"#3.-Loading-the-Dataset\" role=\"tab\" aria-controls=\"settings\">3. Loading the Dataset</a>\n",
    "    \n",
    "  <a class=\"list-group-item list-group-item-action\" data-toggle=\"list\" href=\"#4.-Data-Cleaning\" role=\"tab\" aria-controls=\"settings\">4. Data Cleaning</a> \n",
    "    \n",
    "  <a class=\"list-group-item list-group-item-action\" data-toggle=\"list\" href=\"#5.-Model-Building\" role=\"tab\" aria-controls=\"settings\">5. Model Building</a>\n",
    "  \n",
    "  <a class=\"list-group-item list-group-item-action\" data-toggle=\"list\" href=\"#6.Conclusion:\" role=\"tab\" aria-controls=\"settings\">6. Conclusion</a>\n"
   ]
  },
  {
   "cell_type": "markdown",
   "id": "f817d5b0",
   "metadata": {
    "papermill": {
     "duration": 0.032233,
     "end_time": "2024-04-23T01:02:27.910316",
     "exception": false,
     "start_time": "2024-04-23T01:02:27.878083",
     "status": "completed"
    },
    "tags": []
   },
   "source": [
    "## Introduction\n",
    "<font size=\"3\">\n",
    "- This dataset basically includes information regarding cars like engine size, engine power, car dimensions, fuel type and their respective fuel consumption in miles per gallon (mpg) in both City and Highway.\n",
    "- The Exploratory Data Analysis for this dataset will use pandas for working with dataframes and seaborn and plotly for data visualization.\n",
    "</font>"
   ]
  },
  {
   "cell_type": "markdown",
   "id": "83799313",
   "metadata": {
    "papermill": {
     "duration": 0.0325,
     "end_time": "2024-04-23T01:02:27.975331",
     "exception": false,
     "start_time": "2024-04-23T01:02:27.942831",
     "status": "completed"
    },
    "tags": []
   },
   "source": [
    "## 1. Features Description\n",
    "<div class=\"list-group\" id=\"list-tab\" role=\"tablist\">\n",
    "  <h3 class=\"list-group-item list-group-item-action active\" data-toggle=\"list\"  role=\"tab\" aria-controls=\"home\"  style=\"text-align: center; vertical-align: middle;\">Features Summary</h3>\n",
    "\n",
    "<font size=\"4\">\n",
    "<table style=\"float:left; font-size:80%\" style=\"width:100%\" width = 985px>\n",
    "    \n",
    "<colgroup><col span=\"1\" style=\"width: 20%;\"><col span=\"1\" style=\"width: 20%;\"><col span=\"1\" style=\"width: 60%;\"></colgroup>\n",
    "    \n",
    "<tr><th style=\"text-align: center; vertical-align: middle;\">Variable</th><th style=\"text-align: center; vertical-align: middle;\">Variable Type</th><th style=\"text-align: center; vertical-align: middle;\">Variable Description</th></tr><tr>\n",
    "<td style=\"text-align: center; vertical-align: middle;\">Symboling</td><td style=\"text-align: center; vertical-align: middle;\">Nominal Qualitative</td><td style=\"text-align: center; vertical-align: middle;\">Insurance risk rating for cars.</td></tr>\n",
    "<tr><td style=\"text-align: center; vertical-align: middle;\">Normalized Losses</td><td style=\"text-align: center; vertical-align: middle;\">Continuous Quantitative</td><td style=\"text-align: center; vertical-align: middle;\">Relative average loss payment per insured vehicle.</td></tr>\n",
    "<tr><td style=\"text-align: center; vertical-align: middle;\">Make</td><td style=\"text-align: center; vertical-align: middle;\">Nominal Qualitative</td><td style=\"text-align: center; vertical-align: middle;\">Manufacturer of the car.</td></tr>\n",
    "<tr><td style=\"text-align: center; vertical-align: middle;\">Fuel Type</td><td style=\"text-align: center; vertical-align: middle;\">Nominal Qualitative</td><td style=\"text-align: center; vertical-align: middle;\">Type of fuel used by the car.</td></tr>\n",
    "<tr><td style=\"text-align: center; vertical-align: middle;\">Body Style</td><td style=\"text-align: center; vertical-align: middle;\">Nominal Qualitative</td><td style=\"text-align: center; vertical-align: middle;\">The body style of the car.</td></tr>\n",
    "<tr><td style=\"text-align: center; vertical-align: middle;\">Drive Wheels</td><td style=\"text-align: center; vertical-align: middle;\">Nominal Qualitative</td><td style=\"text-align: center; vertical-align: middle;\">Type of drive wheels.</td></tr>\n",
    "<tr><td style=\"text-align: center; vertical-align: middle;\">Engine Location</td><td style=\"text-align: center; vertical-align: middle;\">Nominal Qualitative</td><td style=\"text-align: center; vertical-align: middle;\">Location of the car engine.</td></tr>\n",
    "<tr><td style=\"text-align: center; vertical-align: middle;\">Width</td><td style=\"text-align: center; vertical-align: middle;\">Continuous Quantitative</td><td style=\"text-align: center; vertical-align: middle;\">Width of the car.</td></tr>\n",
    "<tr><td style=\"text-align: center; vertical-align: middle;\">Height</td><td style=\"text-align: center; vertical-align: middle;\">Continuous Quantitative</td><td style=\"text-align: center; vertical-align: middle;\">Height of the car.</td></tr>\n",
    "<tr><td style=\"text-align: center; vertical-align: middle;\">Engine Type</td><td style=\"text-align: center; vertical-align: middle;\">Nominal Qualitative</td><td style=\"text-align: center; vertical-align: middle;\">Type of car engine.</td></tr>\n",
    "<tr><td style=\"text-align: center; vertical-align: middle;\">Engine Size</td><td style=\"text-align: center; vertical-align: middle;\">Continuous Quantitative</td><td style=\"text-align: center; vertical-align: middle;\">Size of the car engine.</td></tr>\n",
    "<tr><td style=\"text-align: center; vertical-align: middle;\">Horsepower</td><td style=\"text-align: center; vertical-align: middle;\">Continuous Quantitative</td><td style=\"text-align: center; vertical-align: middle;\">Power of the car engine.</td></tr>   \n",
    "<tr><td style=\"text-align: center; vertical-align: middle;\">City MPG</td><td style=\"text-align: center; vertical-align: middle;\">Continuous Quantitative</td><td style=\"text-align: center; vertical-align: middle;\">Miles per gallon in city driving.</td></tr>\n",
    "<tr><td style=\"text-align: center; vertical-align: middle;\">Highway MPG</td\n",
    "\n",
    "><td style=\"text-align: center; vertical-align: middle;\">Continuous Quantitative</td><td style=\"text-align: center; vertical-align: middle;\">Miles per gallon on the highway.</td></tr>\n",
    "<tr><td style=\"text-align: center; vertical-align: middle;\">Price</td><td style=\"text-align: center; vertical-align: middle;\">Continuous Quantitative</td><td style=\"text-align: center; vertical-align: middle;\">Price of the car.</td></tr>\n",
    "</table>\n",
    "    \n",
    "\n"
   ]
  },
  {
   "cell_type": "markdown",
   "id": "b86a09ce",
   "metadata": {
    "papermill": {
     "duration": 0.033548,
     "end_time": "2024-04-23T01:02:28.041321",
     "exception": false,
     "start_time": "2024-04-23T01:02:28.007773",
     "status": "completed"
    },
    "tags": []
   },
   "source": [
    "## 2. Importing Packages / Libraries"
   ]
  },
  {
   "cell_type": "markdown",
   "id": "d4423939",
   "metadata": {
    "papermill": {
     "duration": 0.032554,
     "end_time": "2024-04-23T01:02:28.106335",
     "exception": false,
     "start_time": "2024-04-23T01:02:28.073781",
     "status": "completed"
    },
    "tags": []
   },
   "source": [
    "#### `Data handling:`"
   ]
  },
  {
   "cell_type": "code",
   "execution_count": 1,
   "id": "91a65dd4",
   "metadata": {
    "execution": {
     "iopub.execute_input": "2024-04-23T01:02:28.172897Z",
     "iopub.status.busy": "2024-04-23T01:02:28.172469Z",
     "iopub.status.idle": "2024-04-23T01:02:29.219233Z",
     "shell.execute_reply": "2024-04-23T01:02:29.218081Z"
    },
    "papermill": {
     "duration": 1.083796,
     "end_time": "2024-04-23T01:02:29.222418",
     "exception": false,
     "start_time": "2024-04-23T01:02:28.138622",
     "status": "completed"
    },
    "tags": []
   },
   "outputs": [],
   "source": [
    "import pandas as pd # Data Manipulation\n",
    "import numpy as np # Multi-dimensional array object\n"
   ]
  },
  {
   "cell_type": "markdown",
   "id": "75ec3011",
   "metadata": {
    "papermill": {
     "duration": 0.032093,
     "end_time": "2024-04-23T01:02:29.287800",
     "exception": false,
     "start_time": "2024-04-23T01:02:29.255707",
     "status": "completed"
    },
    "tags": []
   },
   "source": [
    "#### `Data Visualization:`"
   ]
  },
  {
   "cell_type": "code",
   "execution_count": 2,
   "id": "60d3c6fd",
   "metadata": {
    "execution": {
     "iopub.execute_input": "2024-04-23T01:02:29.357028Z",
     "iopub.status.busy": "2024-04-23T01:02:29.356429Z",
     "iopub.status.idle": "2024-04-23T01:02:33.753797Z",
     "shell.execute_reply": "2024-04-23T01:02:33.752534Z"
    },
    "papermill": {
     "duration": 4.435978,
     "end_time": "2024-04-23T01:02:33.756780",
     "exception": false,
     "start_time": "2024-04-23T01:02:29.320802",
     "status": "completed"
    },
    "tags": []
   },
   "outputs": [],
   "source": [
    "import seaborn as sns\n",
    "import matplotlib.pyplot as plt\n",
    "import plotly.graph_objs as go\n",
    "import plotly.express as px\n",
    "from plotly.subplots import make_subplots\n",
    "import statsmodels.api as sm"
   ]
  },
  {
   "cell_type": "markdown",
   "id": "7f217fe0",
   "metadata": {
    "papermill": {
     "duration": 0.034421,
     "end_time": "2024-04-23T01:02:33.824923",
     "exception": false,
     "start_time": "2024-04-23T01:02:33.790502",
     "status": "completed"
    },
    "tags": []
   },
   "source": [
    "#### `Model Building:`"
   ]
  },
  {
   "cell_type": "code",
   "execution_count": 3,
   "id": "4be3428b",
   "metadata": {
    "execution": {
     "iopub.execute_input": "2024-04-23T01:02:33.954862Z",
     "iopub.status.busy": "2024-04-23T01:02:33.954248Z",
     "iopub.status.idle": "2024-04-23T01:02:34.454922Z",
     "shell.execute_reply": "2024-04-23T01:02:34.453457Z"
    },
    "papermill": {
     "duration": 0.599985,
     "end_time": "2024-04-23T01:02:34.458046",
     "exception": false,
     "start_time": "2024-04-23T01:02:33.858061",
     "status": "completed"
    },
    "tags": []
   },
   "outputs": [],
   "source": [
    "from sklearn.model_selection import train_test_split\n",
    "from sklearn.metrics import r2_score\n",
    "from sklearn.linear_model import LinearRegression\n",
    "from sklearn.tree import DecisionTreeRegressor\n",
    "from sklearn.ensemble import RandomForestRegressor\n",
    "from sklearn.svm import SVR\n"
   ]
  },
  {
   "cell_type": "markdown",
   "id": "04cec2d2",
   "metadata": {
    "papermill": {
     "duration": 0.032376,
     "end_time": "2024-04-23T01:02:34.523208",
     "exception": false,
     "start_time": "2024-04-23T01:02:34.490832",
     "status": "completed"
    },
    "tags": []
   },
   "source": [
    "#### `Warning Remover:`"
   ]
  },
  {
   "cell_type": "markdown",
   "id": "f745a6cd",
   "metadata": {
    "papermill": {
     "duration": 0.047755,
     "end_time": "2024-04-23T01:02:34.623316",
     "exception": false,
     "start_time": "2024-04-23T01:02:34.575561",
     "status": "completed"
    },
    "tags": []
   },
   "source": []
  },
  {
   "cell_type": "code",
   "execution_count": 4,
   "id": "38b8677f",
   "metadata": {
    "execution": {
     "iopub.execute_input": "2024-04-23T01:02:34.691634Z",
     "iopub.status.busy": "2024-04-23T01:02:34.691239Z",
     "iopub.status.idle": "2024-04-23T01:02:34.695942Z",
     "shell.execute_reply": "2024-04-23T01:02:34.695041Z"
    },
    "papermill": {
     "duration": 0.042115,
     "end_time": "2024-04-23T01:02:34.698355",
     "exception": false,
     "start_time": "2024-04-23T01:02:34.656240",
     "status": "completed"
    },
    "tags": []
   },
   "outputs": [],
   "source": [
    "import warnings\n",
    "warnings.filterwarnings('ignore')"
   ]
  },
  {
   "cell_type": "markdown",
   "id": "df2501cf",
   "metadata": {
    "papermill": {
     "duration": 0.032665,
     "end_time": "2024-04-23T01:02:34.764378",
     "exception": false,
     "start_time": "2024-04-23T01:02:34.731713",
     "status": "completed"
    },
    "tags": []
   },
   "source": [
    "## 3. Loading the Dataset"
   ]
  },
  {
   "cell_type": "markdown",
   "id": "c955ae07",
   "metadata": {
    "papermill": {
     "duration": 0.033531,
     "end_time": "2024-04-23T01:02:34.834683",
     "exception": false,
     "start_time": "2024-04-23T01:02:34.801152",
     "status": "completed"
    },
    "tags": []
   },
   "source": [
    "#### `Loading the CSV file into a pandas dataframe:`"
   ]
  },
  {
   "cell_type": "code",
   "execution_count": 5,
   "id": "a9558a1d",
   "metadata": {
    "execution": {
     "iopub.execute_input": "2024-04-23T01:02:34.903408Z",
     "iopub.status.busy": "2024-04-23T01:02:34.902944Z",
     "iopub.status.idle": "2024-04-23T01:02:34.923318Z",
     "shell.execute_reply": "2024-04-23T01:02:34.922141Z"
    },
    "papermill": {
     "duration": 0.058025,
     "end_time": "2024-04-23T01:02:34.926513",
     "exception": false,
     "start_time": "2024-04-23T01:02:34.868488",
     "status": "completed"
    },
    "tags": []
   },
   "outputs": [],
   "source": [
    "df=pd.read_csv(\"/kaggle/input/cars-csv/cars.csv\")"
   ]
  },
  {
   "cell_type": "code",
   "execution_count": 6,
   "id": "3a842c70",
   "metadata": {
    "execution": {
     "iopub.execute_input": "2024-04-23T01:02:34.994139Z",
     "iopub.status.busy": "2024-04-23T01:02:34.993701Z",
     "iopub.status.idle": "2024-04-23T01:02:35.010573Z",
     "shell.execute_reply": "2024-04-23T01:02:35.009413Z"
    },
    "papermill": {
     "duration": 0.053587,
     "end_time": "2024-04-23T01:02:35.013046",
     "exception": false,
     "start_time": "2024-04-23T01:02:34.959459",
     "status": "completed"
    },
    "tags": []
   },
   "outputs": [
    {
     "data": {
      "text/plain": [
       "engine-location\n",
       "front    202\n",
       "rear       3\n",
       "Name: count, dtype: int64"
      ]
     },
     "execution_count": 6,
     "metadata": {},
     "output_type": "execute_result"
    }
   ],
   "source": [
    "df['engine-location'].value_counts()"
   ]
  },
  {
   "cell_type": "markdown",
   "id": "dc3d336a",
   "metadata": {
    "papermill": {
     "duration": 0.033158,
     "end_time": "2024-04-23T01:02:35.079270",
     "exception": false,
     "start_time": "2024-04-23T01:02:35.046112",
     "status": "completed"
    },
    "tags": []
   },
   "source": [
    "#### `Visualizating some data:`"
   ]
  },
  {
   "cell_type": "code",
   "execution_count": 7,
   "id": "9089e8f4",
   "metadata": {
    "execution": {
     "iopub.execute_input": "2024-04-23T01:02:35.147892Z",
     "iopub.status.busy": "2024-04-23T01:02:35.146653Z",
     "iopub.status.idle": "2024-04-23T01:02:35.177505Z",
     "shell.execute_reply": "2024-04-23T01:02:35.176579Z"
    },
    "papermill": {
     "duration": 0.067657,
     "end_time": "2024-04-23T01:02:35.179835",
     "exception": false,
     "start_time": "2024-04-23T01:02:35.112178",
     "status": "completed"
    },
    "tags": []
   },
   "outputs": [
    {
     "data": {
      "text/html": [
       "<div>\n",
       "<style scoped>\n",
       "    .dataframe tbody tr th:only-of-type {\n",
       "        vertical-align: middle;\n",
       "    }\n",
       "\n",
       "    .dataframe tbody tr th {\n",
       "        vertical-align: top;\n",
       "    }\n",
       "\n",
       "    .dataframe thead th {\n",
       "        text-align: right;\n",
       "    }\n",
       "</style>\n",
       "<table border=\"1\" class=\"dataframe\">\n",
       "  <thead>\n",
       "    <tr style=\"text-align: right;\">\n",
       "      <th></th>\n",
       "      <th>symboling</th>\n",
       "      <th>normalized-losses</th>\n",
       "      <th>make</th>\n",
       "      <th>fuel-type</th>\n",
       "      <th>body-style</th>\n",
       "      <th>drive-wheels</th>\n",
       "      <th>engine-location</th>\n",
       "      <th>width</th>\n",
       "      <th>height</th>\n",
       "      <th>engine-type</th>\n",
       "      <th>engine-size</th>\n",
       "      <th>horsepower</th>\n",
       "      <th>city-mpg</th>\n",
       "      <th>highway-mpg</th>\n",
       "      <th>price</th>\n",
       "    </tr>\n",
       "  </thead>\n",
       "  <tbody>\n",
       "    <tr>\n",
       "      <th>104</th>\n",
       "      <td>3</td>\n",
       "      <td>194</td>\n",
       "      <td>nissan</td>\n",
       "      <td>gas</td>\n",
       "      <td>hatchback</td>\n",
       "      <td>rwd</td>\n",
       "      <td>front</td>\n",
       "      <td>67.9</td>\n",
       "      <td>49.7</td>\n",
       "      <td>ohcv</td>\n",
       "      <td>181</td>\n",
       "      <td>160</td>\n",
       "      <td>19</td>\n",
       "      <td>25</td>\n",
       "      <td>17199</td>\n",
       "    </tr>\n",
       "    <tr>\n",
       "      <th>158</th>\n",
       "      <td>0</td>\n",
       "      <td>91</td>\n",
       "      <td>toyota</td>\n",
       "      <td>diesel</td>\n",
       "      <td>sedan</td>\n",
       "      <td>fwd</td>\n",
       "      <td>front</td>\n",
       "      <td>64.4</td>\n",
       "      <td>53.0</td>\n",
       "      <td>ohc</td>\n",
       "      <td>110</td>\n",
       "      <td>56</td>\n",
       "      <td>34</td>\n",
       "      <td>36</td>\n",
       "      <td>7898</td>\n",
       "    </tr>\n",
       "    <tr>\n",
       "      <th>7</th>\n",
       "      <td>1</td>\n",
       "      <td>?</td>\n",
       "      <td>audi</td>\n",
       "      <td>gas</td>\n",
       "      <td>wagon</td>\n",
       "      <td>fwd</td>\n",
       "      <td>front</td>\n",
       "      <td>71.4</td>\n",
       "      <td>55.7</td>\n",
       "      <td>ohc</td>\n",
       "      <td>136</td>\n",
       "      <td>110</td>\n",
       "      <td>19</td>\n",
       "      <td>25</td>\n",
       "      <td>18920</td>\n",
       "    </tr>\n",
       "    <tr>\n",
       "      <th>69</th>\n",
       "      <td>0</td>\n",
       "      <td>93</td>\n",
       "      <td>mercedes-benz</td>\n",
       "      <td>diesel</td>\n",
       "      <td>hardtop</td>\n",
       "      <td>rwd</td>\n",
       "      <td>front</td>\n",
       "      <td>70.3</td>\n",
       "      <td>54.9</td>\n",
       "      <td>ohc</td>\n",
       "      <td>183</td>\n",
       "      <td>123</td>\n",
       "      <td>22</td>\n",
       "      <td>25</td>\n",
       "      <td>28176</td>\n",
       "    </tr>\n",
       "    <tr>\n",
       "      <th>2</th>\n",
       "      <td>1</td>\n",
       "      <td>?</td>\n",
       "      <td>alfa-romero</td>\n",
       "      <td>gas</td>\n",
       "      <td>hatchback</td>\n",
       "      <td>rwd</td>\n",
       "      <td>front</td>\n",
       "      <td>65.5</td>\n",
       "      <td>52.4</td>\n",
       "      <td>ohcv</td>\n",
       "      <td>152</td>\n",
       "      <td>154</td>\n",
       "      <td>19</td>\n",
       "      <td>26</td>\n",
       "      <td>16500</td>\n",
       "    </tr>\n",
       "  </tbody>\n",
       "</table>\n",
       "</div>"
      ],
      "text/plain": [
       "     symboling normalized-losses           make fuel-type body-style  \\\n",
       "104          3               194         nissan       gas  hatchback   \n",
       "158          0                91         toyota    diesel      sedan   \n",
       "7            1                 ?           audi       gas      wagon   \n",
       "69           0                93  mercedes-benz    diesel    hardtop   \n",
       "2            1                 ?    alfa-romero       gas  hatchback   \n",
       "\n",
       "    drive-wheels engine-location  width  height engine-type  engine-size  \\\n",
       "104          rwd           front   67.9    49.7        ohcv          181   \n",
       "158          fwd           front   64.4    53.0         ohc          110   \n",
       "7            fwd           front   71.4    55.7         ohc          136   \n",
       "69           rwd           front   70.3    54.9         ohc          183   \n",
       "2            rwd           front   65.5    52.4        ohcv          152   \n",
       "\n",
       "    horsepower  city-mpg  highway-mpg  price  \n",
       "104        160        19           25  17199  \n",
       "158         56        34           36   7898  \n",
       "7          110        19           25  18920  \n",
       "69         123        22           25  28176  \n",
       "2          154        19           26  16500  "
      ]
     },
     "execution_count": 7,
     "metadata": {},
     "output_type": "execute_result"
    }
   ],
   "source": [
    "df.sample(5)"
   ]
  },
  {
   "cell_type": "markdown",
   "id": "96aa16f2",
   "metadata": {
    "papermill": {
     "duration": 0.032994,
     "end_time": "2024-04-23T01:02:35.246732",
     "exception": false,
     "start_time": "2024-04-23T01:02:35.213738",
     "status": "completed"
    },
    "tags": []
   },
   "source": [
    "### Shape of the dataset"
   ]
  },
  {
   "cell_type": "code",
   "execution_count": 8,
   "id": "dd10d881",
   "metadata": {
    "execution": {
     "iopub.execute_input": "2024-04-23T01:02:35.315523Z",
     "iopub.status.busy": "2024-04-23T01:02:35.314281Z",
     "iopub.status.idle": "2024-04-23T01:02:35.321397Z",
     "shell.execute_reply": "2024-04-23T01:02:35.320003Z"
    },
    "papermill": {
     "duration": 0.043921,
     "end_time": "2024-04-23T01:02:35.323808",
     "exception": false,
     "start_time": "2024-04-23T01:02:35.279887",
     "status": "completed"
    },
    "tags": []
   },
   "outputs": [
    {
     "name": "stdout",
     "output_type": "stream",
     "text": [
      "Row Count: 205\n",
      "Column Count: 15\n"
     ]
    }
   ],
   "source": [
    "print(\"Row Count:\",df.shape[0])\n",
    "print(\"Column Count:\",df.shape[1])"
   ]
  },
  {
   "cell_type": "markdown",
   "id": "0f16ab50",
   "metadata": {
    "papermill": {
     "duration": 0.037536,
     "end_time": "2024-04-23T01:02:35.396698",
     "exception": false,
     "start_time": "2024-04-23T01:02:35.359162",
     "status": "completed"
    },
    "tags": []
   },
   "source": [
    "- Checking for the data types because sometimes the data is stored in a wrong type. If so, we will need to convert it in order to plot the data."
   ]
  },
  {
   "cell_type": "code",
   "execution_count": 9,
   "id": "34ae8dfd",
   "metadata": {
    "execution": {
     "iopub.execute_input": "2024-04-23T01:02:35.467053Z",
     "iopub.status.busy": "2024-04-23T01:02:35.466596Z",
     "iopub.status.idle": "2024-04-23T01:02:35.475690Z",
     "shell.execute_reply": "2024-04-23T01:02:35.474340Z"
    },
    "papermill": {
     "duration": 0.048377,
     "end_time": "2024-04-23T01:02:35.478482",
     "exception": false,
     "start_time": "2024-04-23T01:02:35.430105",
     "status": "completed"
    },
    "tags": []
   },
   "outputs": [
    {
     "data": {
      "text/plain": [
       "symboling              int64\n",
       "normalized-losses     object\n",
       "make                  object\n",
       "fuel-type             object\n",
       "body-style            object\n",
       "drive-wheels          object\n",
       "engine-location       object\n",
       "width                float64\n",
       "height               float64\n",
       "engine-type           object\n",
       "engine-size            int64\n",
       "horsepower            object\n",
       "city-mpg               int64\n",
       "highway-mpg            int64\n",
       "price                  int64\n",
       "dtype: object"
      ]
     },
     "execution_count": 9,
     "metadata": {},
     "output_type": "execute_result"
    }
   ],
   "source": [
    "df.dtypes"
   ]
  },
  {
   "cell_type": "markdown",
   "id": "65ea8ffb",
   "metadata": {
    "papermill": {
     "duration": 0.034651,
     "end_time": "2024-04-23T01:02:35.546824",
     "exception": false,
     "start_time": "2024-04-23T01:02:35.512173",
     "status": "completed"
    },
    "tags": []
   },
   "source": [
    "### _Descriptive Statistics_"
   ]
  },
  {
   "cell_type": "code",
   "execution_count": 10,
   "id": "de17bce3",
   "metadata": {
    "execution": {
     "iopub.execute_input": "2024-04-23T01:02:35.620412Z",
     "iopub.status.busy": "2024-04-23T01:02:35.619701Z",
     "iopub.status.idle": "2024-04-23T01:02:35.653295Z",
     "shell.execute_reply": "2024-04-23T01:02:35.651986Z"
    },
    "papermill": {
     "duration": 0.072342,
     "end_time": "2024-04-23T01:02:35.655911",
     "exception": false,
     "start_time": "2024-04-23T01:02:35.583569",
     "status": "completed"
    },
    "tags": []
   },
   "outputs": [
    {
     "data": {
      "text/html": [
       "<div>\n",
       "<style scoped>\n",
       "    .dataframe tbody tr th:only-of-type {\n",
       "        vertical-align: middle;\n",
       "    }\n",
       "\n",
       "    .dataframe tbody tr th {\n",
       "        vertical-align: top;\n",
       "    }\n",
       "\n",
       "    .dataframe thead th {\n",
       "        text-align: right;\n",
       "    }\n",
       "</style>\n",
       "<table border=\"1\" class=\"dataframe\">\n",
       "  <thead>\n",
       "    <tr style=\"text-align: right;\">\n",
       "      <th></th>\n",
       "      <th>count</th>\n",
       "      <th>mean</th>\n",
       "      <th>std</th>\n",
       "      <th>min</th>\n",
       "      <th>25%</th>\n",
       "      <th>50%</th>\n",
       "      <th>75%</th>\n",
       "      <th>max</th>\n",
       "    </tr>\n",
       "  </thead>\n",
       "  <tbody>\n",
       "    <tr>\n",
       "      <th>symboling</th>\n",
       "      <td>205.0</td>\n",
       "      <td>0.8</td>\n",
       "      <td>1.2</td>\n",
       "      <td>-2.0</td>\n",
       "      <td>0.0</td>\n",
       "      <td>1.0</td>\n",
       "      <td>2.0</td>\n",
       "      <td>3.0</td>\n",
       "    </tr>\n",
       "    <tr>\n",
       "      <th>width</th>\n",
       "      <td>205.0</td>\n",
       "      <td>65.9</td>\n",
       "      <td>2.1</td>\n",
       "      <td>60.3</td>\n",
       "      <td>64.1</td>\n",
       "      <td>65.5</td>\n",
       "      <td>66.9</td>\n",
       "      <td>72.3</td>\n",
       "    </tr>\n",
       "    <tr>\n",
       "      <th>height</th>\n",
       "      <td>205.0</td>\n",
       "      <td>53.7</td>\n",
       "      <td>2.4</td>\n",
       "      <td>47.8</td>\n",
       "      <td>52.0</td>\n",
       "      <td>54.1</td>\n",
       "      <td>55.5</td>\n",
       "      <td>59.8</td>\n",
       "    </tr>\n",
       "    <tr>\n",
       "      <th>engine-size</th>\n",
       "      <td>205.0</td>\n",
       "      <td>126.9</td>\n",
       "      <td>41.6</td>\n",
       "      <td>61.0</td>\n",
       "      <td>97.0</td>\n",
       "      <td>120.0</td>\n",
       "      <td>141.0</td>\n",
       "      <td>326.0</td>\n",
       "    </tr>\n",
       "    <tr>\n",
       "      <th>city-mpg</th>\n",
       "      <td>205.0</td>\n",
       "      <td>25.2</td>\n",
       "      <td>6.5</td>\n",
       "      <td>13.0</td>\n",
       "      <td>19.0</td>\n",
       "      <td>24.0</td>\n",
       "      <td>30.0</td>\n",
       "      <td>49.0</td>\n",
       "    </tr>\n",
       "    <tr>\n",
       "      <th>highway-mpg</th>\n",
       "      <td>205.0</td>\n",
       "      <td>30.8</td>\n",
       "      <td>6.9</td>\n",
       "      <td>16.0</td>\n",
       "      <td>25.0</td>\n",
       "      <td>30.0</td>\n",
       "      <td>34.0</td>\n",
       "      <td>54.0</td>\n",
       "    </tr>\n",
       "    <tr>\n",
       "      <th>price</th>\n",
       "      <td>205.0</td>\n",
       "      <td>13227.5</td>\n",
       "      <td>7902.7</td>\n",
       "      <td>5118.0</td>\n",
       "      <td>7788.0</td>\n",
       "      <td>10345.0</td>\n",
       "      <td>16500.0</td>\n",
       "      <td>45400.0</td>\n",
       "    </tr>\n",
       "  </tbody>\n",
       "</table>\n",
       "</div>"
      ],
      "text/plain": [
       "             count    mean    std    min    25%     50%     75%     max\n",
       "symboling    205.0     0.8    1.2   -2.0    0.0     1.0     2.0     3.0\n",
       "width        205.0    65.9    2.1   60.3   64.1    65.5    66.9    72.3\n",
       "height       205.0    53.7    2.4   47.8   52.0    54.1    55.5    59.8\n",
       "engine-size  205.0   126.9   41.6   61.0   97.0   120.0   141.0   326.0\n",
       "city-mpg     205.0    25.2    6.5   13.0   19.0    24.0    30.0    49.0\n",
       "highway-mpg  205.0    30.8    6.9   16.0   25.0    30.0    34.0    54.0\n",
       "price        205.0 13227.5 7902.7 5118.0 7788.0 10345.0 16500.0 45400.0"
      ]
     },
     "execution_count": 10,
     "metadata": {},
     "output_type": "execute_result"
    }
   ],
   "source": [
    "pd.set_option('display.float_format', '{:.1f}'.format)\n",
    "df.describe().transpose()"
   ]
  },
  {
   "cell_type": "code",
   "execution_count": 11,
   "id": "4834dca2",
   "metadata": {
    "execution": {
     "iopub.execute_input": "2024-04-23T01:02:35.727281Z",
     "iopub.status.busy": "2024-04-23T01:02:35.726847Z",
     "iopub.status.idle": "2024-04-23T01:02:35.754323Z",
     "shell.execute_reply": "2024-04-23T01:02:35.753198Z"
    },
    "papermill": {
     "duration": 0.065853,
     "end_time": "2024-04-23T01:02:35.756779",
     "exception": false,
     "start_time": "2024-04-23T01:02:35.690926",
     "status": "completed"
    },
    "tags": []
   },
   "outputs": [
    {
     "data": {
      "text/html": [
       "<div>\n",
       "<style scoped>\n",
       "    .dataframe tbody tr th:only-of-type {\n",
       "        vertical-align: middle;\n",
       "    }\n",
       "\n",
       "    .dataframe tbody tr th {\n",
       "        vertical-align: top;\n",
       "    }\n",
       "\n",
       "    .dataframe thead th {\n",
       "        text-align: right;\n",
       "    }\n",
       "</style>\n",
       "<table border=\"1\" class=\"dataframe\">\n",
       "  <thead>\n",
       "    <tr style=\"text-align: right;\">\n",
       "      <th></th>\n",
       "      <th>normalized-losses</th>\n",
       "      <th>make</th>\n",
       "      <th>fuel-type</th>\n",
       "      <th>body-style</th>\n",
       "      <th>drive-wheels</th>\n",
       "      <th>engine-location</th>\n",
       "      <th>engine-type</th>\n",
       "      <th>horsepower</th>\n",
       "    </tr>\n",
       "  </thead>\n",
       "  <tbody>\n",
       "    <tr>\n",
       "      <th>count</th>\n",
       "      <td>205</td>\n",
       "      <td>205</td>\n",
       "      <td>205</td>\n",
       "      <td>205</td>\n",
       "      <td>205</td>\n",
       "      <td>205</td>\n",
       "      <td>205</td>\n",
       "      <td>205</td>\n",
       "    </tr>\n",
       "    <tr>\n",
       "      <th>unique</th>\n",
       "      <td>52</td>\n",
       "      <td>22</td>\n",
       "      <td>2</td>\n",
       "      <td>5</td>\n",
       "      <td>3</td>\n",
       "      <td>2</td>\n",
       "      <td>7</td>\n",
       "      <td>60</td>\n",
       "    </tr>\n",
       "    <tr>\n",
       "      <th>top</th>\n",
       "      <td>?</td>\n",
       "      <td>toyota</td>\n",
       "      <td>gas</td>\n",
       "      <td>sedan</td>\n",
       "      <td>fwd</td>\n",
       "      <td>front</td>\n",
       "      <td>ohc</td>\n",
       "      <td>68</td>\n",
       "    </tr>\n",
       "    <tr>\n",
       "      <th>freq</th>\n",
       "      <td>41</td>\n",
       "      <td>32</td>\n",
       "      <td>185</td>\n",
       "      <td>96</td>\n",
       "      <td>120</td>\n",
       "      <td>202</td>\n",
       "      <td>148</td>\n",
       "      <td>19</td>\n",
       "    </tr>\n",
       "  </tbody>\n",
       "</table>\n",
       "</div>"
      ],
      "text/plain": [
       "       normalized-losses    make fuel-type body-style drive-wheels  \\\n",
       "count                205     205       205        205          205   \n",
       "unique                52      22         2          5            3   \n",
       "top                    ?  toyota       gas      sedan          fwd   \n",
       "freq                  41      32       185         96          120   \n",
       "\n",
       "       engine-location engine-type horsepower  \n",
       "count              205         205        205  \n",
       "unique               2           7         60  \n",
       "top              front         ohc         68  \n",
       "freq               202         148         19  "
      ]
     },
     "execution_count": 11,
     "metadata": {},
     "output_type": "execute_result"
    }
   ],
   "source": [
    "df.describe(include=['object'])"
   ]
  },
  {
   "cell_type": "markdown",
   "id": "fa6cbc6a",
   "metadata": {
    "papermill": {
     "duration": 0.03847,
     "end_time": "2024-04-23T01:02:35.830737",
     "exception": false,
     "start_time": "2024-04-23T01:02:35.792267",
     "status": "completed"
    },
    "tags": []
   },
   "source": [
    "## 4. Data Cleaning"
   ]
  },
  {
   "cell_type": "markdown",
   "id": "cd2f633b",
   "metadata": {
    "papermill": {
     "duration": 0.036586,
     "end_time": "2024-04-23T01:02:35.902946",
     "exception": false,
     "start_time": "2024-04-23T01:02:35.866360",
     "status": "completed"
    },
    "tags": []
   },
   "source": [
    "### _Checking for Missing  or Null Values:_"
   ]
  },
  {
   "cell_type": "markdown",
   "id": "268332e2",
   "metadata": {
    "papermill": {
     "duration": 0.033853,
     "end_time": "2024-04-23T01:02:35.971216",
     "exception": false,
     "start_time": "2024-04-23T01:02:35.937363",
     "status": "completed"
    },
    "tags": []
   },
   "source": [
    "- Check for missing values to ensure that we won't have any problems during plotting the graphs. "
   ]
  },
  {
   "cell_type": "code",
   "execution_count": 12,
   "id": "05ae98be",
   "metadata": {
    "execution": {
     "iopub.execute_input": "2024-04-23T01:02:36.044119Z",
     "iopub.status.busy": "2024-04-23T01:02:36.043639Z",
     "iopub.status.idle": "2024-04-23T01:02:36.054623Z",
     "shell.execute_reply": "2024-04-23T01:02:36.053372Z"
    },
    "papermill": {
     "duration": 0.051865,
     "end_time": "2024-04-23T01:02:36.057509",
     "exception": false,
     "start_time": "2024-04-23T01:02:36.005644",
     "status": "completed"
    },
    "tags": []
   },
   "outputs": [
    {
     "data": {
      "text/plain": [
       "symboling            0\n",
       "normalized-losses    0\n",
       "make                 0\n",
       "fuel-type            0\n",
       "body-style           0\n",
       "drive-wheels         0\n",
       "engine-location      0\n",
       "width                0\n",
       "height               0\n",
       "engine-type          0\n",
       "engine-size          0\n",
       "horsepower           0\n",
       "city-mpg             0\n",
       "highway-mpg          0\n",
       "price                0\n",
       "dtype: int64"
      ]
     },
     "execution_count": 12,
     "metadata": {},
     "output_type": "execute_result"
    }
   ],
   "source": [
    "df.isna().sum()"
   ]
  },
  {
   "cell_type": "code",
   "execution_count": 13,
   "id": "f8930f48",
   "metadata": {
    "execution": {
     "iopub.execute_input": "2024-04-23T01:02:36.131348Z",
     "iopub.status.busy": "2024-04-23T01:02:36.130802Z",
     "iopub.status.idle": "2024-04-23T01:02:36.920199Z",
     "shell.execute_reply": "2024-04-23T01:02:36.919021Z"
    },
    "papermill": {
     "duration": 0.828418,
     "end_time": "2024-04-23T01:02:36.923247",
     "exception": false,
     "start_time": "2024-04-23T01:02:36.094829",
     "status": "completed"
    },
    "tags": []
   },
   "outputs": [
    {
     "data": {
      "text/plain": [
       "<Axes: >"
      ]
     },
     "execution_count": 13,
     "metadata": {},
     "output_type": "execute_result"
    },
    {
     "data": {
      "image/png": "[encoded data removed]",
      "text/plain": [
       "<Figure size 640x480 with 2 Axes>"
      ]
     },
     "metadata": {},
     "output_type": "display_data"
    }
   ],
   "source": [
    "sns.heatmap(df.isna())"
   ]
  },
  {
   "cell_type": "code",
   "execution_count": 14,
   "id": "27733591",
   "metadata": {
    "execution": {
     "iopub.execute_input": "2024-04-23T01:02:36.996905Z",
     "iopub.status.busy": "2024-04-23T01:02:36.996412Z",
     "iopub.status.idle": "2024-04-23T01:02:37.016525Z",
     "shell.execute_reply": "2024-04-23T01:02:37.015327Z"
    },
    "papermill": {
     "duration": 0.06091,
     "end_time": "2024-04-23T01:02:37.019732",
     "exception": false,
     "start_time": "2024-04-23T01:02:36.958822",
     "status": "completed"
    },
    "tags": []
   },
   "outputs": [
    {
     "data": {
      "text/html": [
       "<div>\n",
       "<style scoped>\n",
       "    .dataframe tbody tr th:only-of-type {\n",
       "        vertical-align: middle;\n",
       "    }\n",
       "\n",
       "    .dataframe tbody tr th {\n",
       "        vertical-align: top;\n",
       "    }\n",
       "\n",
       "    .dataframe thead th {\n",
       "        text-align: right;\n",
       "    }\n",
       "</style>\n",
       "<table border=\"1\" class=\"dataframe\">\n",
       "  <thead>\n",
       "    <tr style=\"text-align: right;\">\n",
       "      <th></th>\n",
       "      <th>symboling</th>\n",
       "      <th>normalized-losses</th>\n",
       "      <th>make</th>\n",
       "      <th>fuel-type</th>\n",
       "      <th>body-style</th>\n",
       "      <th>drive-wheels</th>\n",
       "      <th>engine-location</th>\n",
       "      <th>width</th>\n",
       "      <th>height</th>\n",
       "      <th>engine-type</th>\n",
       "      <th>engine-size</th>\n",
       "      <th>horsepower</th>\n",
       "      <th>city-mpg</th>\n",
       "      <th>highway-mpg</th>\n",
       "      <th>price</th>\n",
       "    </tr>\n",
       "  </thead>\n",
       "  <tbody>\n",
       "    <tr>\n",
       "      <th>0</th>\n",
       "      <td>3</td>\n",
       "      <td>?</td>\n",
       "      <td>alfa-romero</td>\n",
       "      <td>gas</td>\n",
       "      <td>convertible</td>\n",
       "      <td>rwd</td>\n",
       "      <td>front</td>\n",
       "      <td>64.1</td>\n",
       "      <td>48.8</td>\n",
       "      <td>dohc</td>\n",
       "      <td>130</td>\n",
       "      <td>111</td>\n",
       "      <td>21</td>\n",
       "      <td>27</td>\n",
       "      <td>13495</td>\n",
       "    </tr>\n",
       "    <tr>\n",
       "      <th>1</th>\n",
       "      <td>3</td>\n",
       "      <td>?</td>\n",
       "      <td>alfa-romero</td>\n",
       "      <td>gas</td>\n",
       "      <td>convertible</td>\n",
       "      <td>rwd</td>\n",
       "      <td>front</td>\n",
       "      <td>64.1</td>\n",
       "      <td>48.8</td>\n",
       "      <td>dohc</td>\n",
       "      <td>130</td>\n",
       "      <td>111</td>\n",
       "      <td>21</td>\n",
       "      <td>27</td>\n",
       "      <td>16500</td>\n",
       "    </tr>\n",
       "    <tr>\n",
       "      <th>2</th>\n",
       "      <td>1</td>\n",
       "      <td>?</td>\n",
       "      <td>alfa-romero</td>\n",
       "      <td>gas</td>\n",
       "      <td>hatchback</td>\n",
       "      <td>rwd</td>\n",
       "      <td>front</td>\n",
       "      <td>65.5</td>\n",
       "      <td>52.4</td>\n",
       "      <td>ohcv</td>\n",
       "      <td>152</td>\n",
       "      <td>154</td>\n",
       "      <td>19</td>\n",
       "      <td>26</td>\n",
       "      <td>16500</td>\n",
       "    </tr>\n",
       "    <tr>\n",
       "      <th>3</th>\n",
       "      <td>2</td>\n",
       "      <td>164</td>\n",
       "      <td>audi</td>\n",
       "      <td>gas</td>\n",
       "      <td>sedan</td>\n",
       "      <td>fwd</td>\n",
       "      <td>front</td>\n",
       "      <td>66.2</td>\n",
       "      <td>54.3</td>\n",
       "      <td>ohc</td>\n",
       "      <td>109</td>\n",
       "      <td>102</td>\n",
       "      <td>24</td>\n",
       "      <td>30</td>\n",
       "      <td>13950</td>\n",
       "    </tr>\n",
       "    <tr>\n",
       "      <th>4</th>\n",
       "      <td>2</td>\n",
       "      <td>164</td>\n",
       "      <td>audi</td>\n",
       "      <td>gas</td>\n",
       "      <td>sedan</td>\n",
       "      <td>4wd</td>\n",
       "      <td>front</td>\n",
       "      <td>66.4</td>\n",
       "      <td>54.3</td>\n",
       "      <td>ohc</td>\n",
       "      <td>136</td>\n",
       "      <td>115</td>\n",
       "      <td>18</td>\n",
       "      <td>22</td>\n",
       "      <td>17450</td>\n",
       "    </tr>\n",
       "  </tbody>\n",
       "</table>\n",
       "</div>"
      ],
      "text/plain": [
       "   symboling normalized-losses         make fuel-type   body-style  \\\n",
       "0          3                 ?  alfa-romero       gas  convertible   \n",
       "1          3                 ?  alfa-romero       gas  convertible   \n",
       "2          1                 ?  alfa-romero       gas    hatchback   \n",
       "3          2               164         audi       gas        sedan   \n",
       "4          2               164         audi       gas        sedan   \n",
       "\n",
       "  drive-wheels engine-location  width  height engine-type  engine-size  \\\n",
       "0          rwd           front   64.1    48.8        dohc          130   \n",
       "1          rwd           front   64.1    48.8        dohc          130   \n",
       "2          rwd           front   65.5    52.4        ohcv          152   \n",
       "3          fwd           front   66.2    54.3         ohc          109   \n",
       "4          4wd           front   66.4    54.3         ohc          136   \n",
       "\n",
       "  horsepower  city-mpg  highway-mpg  price  \n",
       "0        111        21           27  13495  \n",
       "1        111        21           27  16500  \n",
       "2        154        19           26  16500  \n",
       "3        102        24           30  13950  \n",
       "4        115        18           22  17450  "
      ]
     },
     "execution_count": 14,
     "metadata": {},
     "output_type": "execute_result"
    }
   ],
   "source": [
    "df.head()"
   ]
  },
  {
   "cell_type": "markdown",
   "id": "e4e1dc4a",
   "metadata": {
    "papermill": {
     "duration": 0.036537,
     "end_time": "2024-04-23T01:02:37.094826",
     "exception": false,
     "start_time": "2024-04-23T01:02:37.058289",
     "status": "completed"
    },
    "tags": []
   },
   "source": [
    "- In the normalized-losses column there are some \"?\" data present,we have to investigate the count of \"?\" in the df\n",
    "- <p style=\"color:red\"> Normalized & Horse power marked as Wrong data type <p>"
   ]
  },
  {
   "cell_type": "code",
   "execution_count": 15,
   "id": "f8c63885",
   "metadata": {
    "execution": {
     "iopub.execute_input": "2024-04-23T01:02:37.169858Z",
     "iopub.status.busy": "2024-04-23T01:02:37.169479Z",
     "iopub.status.idle": "2024-04-23T01:02:37.178405Z",
     "shell.execute_reply": "2024-04-23T01:02:37.177438Z"
    },
    "papermill": {
     "duration": 0.048578,
     "end_time": "2024-04-23T01:02:37.180673",
     "exception": false,
     "start_time": "2024-04-23T01:02:37.132095",
     "status": "completed"
    },
    "tags": []
   },
   "outputs": [
    {
     "data": {
      "text/plain": [
       "normalized-losses\n",
       "?      41\n",
       "161    11\n",
       "91      8\n",
       "150     7\n",
       "134     6\n",
       "128     6\n",
       "104     6\n",
       "85      5\n",
       "94      5\n",
       "65      5\n",
       "102     5\n",
       "74      5\n",
       "168     5\n",
       "103     5\n",
       "95      5\n",
       "106     4\n",
       "93      4\n",
       "118     4\n",
       "148     4\n",
       "122     4\n",
       "83      3\n",
       "125     3\n",
       "154     3\n",
       "115     3\n",
       "137     3\n",
       "101     3\n",
       "119     2\n",
       "87      2\n",
       "89      2\n",
       "192     2\n",
       "197     2\n",
       "158     2\n",
       "81      2\n",
       "188     2\n",
       "194     2\n",
       "153     2\n",
       "129     2\n",
       "108     2\n",
       "110     2\n",
       "164     2\n",
       "145     2\n",
       "113     2\n",
       "256     1\n",
       "107     1\n",
       "90      1\n",
       "231     1\n",
       "142     1\n",
       "121     1\n",
       "78      1\n",
       "98      1\n",
       "186     1\n",
       "77      1\n",
       "Name: count, dtype: int64"
      ]
     },
     "execution_count": 15,
     "metadata": {},
     "output_type": "execute_result"
    }
   ],
   "source": [
    "df['normalized-losses'].value_counts()"
   ]
  },
  {
   "cell_type": "markdown",
   "id": "426a5ef4",
   "metadata": {
    "papermill": {
     "duration": 0.036333,
     "end_time": "2024-04-23T01:02:37.253377",
     "exception": false,
     "start_time": "2024-04-23T01:02:37.217044",
     "status": "completed"
    },
    "tags": []
   },
   "source": [
    "  <h4 style=\"color:red\"> There are <b>41</b> \"?\" present in the normalized column"
   ]
  },
  {
   "cell_type": "markdown",
   "id": "043ccccd",
   "metadata": {
    "papermill": {
     "duration": 0.035539,
     "end_time": "2024-04-23T01:02:37.324792",
     "exception": false,
     "start_time": "2024-04-23T01:02:37.289253",
     "status": "completed"
    },
    "tags": []
   },
   "source": [
    " - Because of the unknown data in the normalized-losses column pandas treating the column is object data type\n",
    " "
   ]
  },
  {
   "cell_type": "code",
   "execution_count": 16,
   "id": "0b3beacd",
   "metadata": {
    "execution": {
     "iopub.execute_input": "2024-04-23T01:02:37.403680Z",
     "iopub.status.busy": "2024-04-23T01:02:37.403278Z",
     "iopub.status.idle": "2024-04-23T01:02:37.419972Z",
     "shell.execute_reply": "2024-04-23T01:02:37.418714Z"
    },
    "papermill": {
     "duration": 0.061402,
     "end_time": "2024-04-23T01:02:37.422292",
     "exception": false,
     "start_time": "2024-04-23T01:02:37.360890",
     "status": "completed"
    },
    "tags": []
   },
   "outputs": [
    {
     "data": {
      "text/html": [
       "<div>\n",
       "<style scoped>\n",
       "    .dataframe tbody tr th:only-of-type {\n",
       "        vertical-align: middle;\n",
       "    }\n",
       "\n",
       "    .dataframe tbody tr th {\n",
       "        vertical-align: top;\n",
       "    }\n",
       "\n",
       "    .dataframe thead th {\n",
       "        text-align: right;\n",
       "    }\n",
       "</style>\n",
       "<table border=\"1\" class=\"dataframe\">\n",
       "  <thead>\n",
       "    <tr style=\"text-align: right;\">\n",
       "      <th></th>\n",
       "      <th>symboling</th>\n",
       "      <th>normalized-losses</th>\n",
       "      <th>make</th>\n",
       "      <th>fuel-type</th>\n",
       "      <th>body-style</th>\n",
       "      <th>drive-wheels</th>\n",
       "      <th>engine-location</th>\n",
       "      <th>width</th>\n",
       "      <th>height</th>\n",
       "      <th>engine-type</th>\n",
       "      <th>engine-size</th>\n",
       "      <th>horsepower</th>\n",
       "      <th>city-mpg</th>\n",
       "      <th>highway-mpg</th>\n",
       "      <th>price</th>\n",
       "    </tr>\n",
       "  </thead>\n",
       "  <tbody>\n",
       "    <tr>\n",
       "      <th>130</th>\n",
       "      <td>0</td>\n",
       "      <td>?</td>\n",
       "      <td>renault</td>\n",
       "      <td>gas</td>\n",
       "      <td>wagon</td>\n",
       "      <td>fwd</td>\n",
       "      <td>front</td>\n",
       "      <td>66.5</td>\n",
       "      <td>55.2</td>\n",
       "      <td>ohc</td>\n",
       "      <td>132</td>\n",
       "      <td>?</td>\n",
       "      <td>23</td>\n",
       "      <td>31</td>\n",
       "      <td>9295</td>\n",
       "    </tr>\n",
       "    <tr>\n",
       "      <th>131</th>\n",
       "      <td>2</td>\n",
       "      <td>?</td>\n",
       "      <td>renault</td>\n",
       "      <td>gas</td>\n",
       "      <td>hatchback</td>\n",
       "      <td>fwd</td>\n",
       "      <td>front</td>\n",
       "      <td>66.6</td>\n",
       "      <td>50.5</td>\n",
       "      <td>ohc</td>\n",
       "      <td>132</td>\n",
       "      <td>?</td>\n",
       "      <td>23</td>\n",
       "      <td>31</td>\n",
       "      <td>9895</td>\n",
       "    </tr>\n",
       "  </tbody>\n",
       "</table>\n",
       "</div>"
      ],
      "text/plain": [
       "     symboling normalized-losses     make fuel-type body-style drive-wheels  \\\n",
       "130          0                 ?  renault       gas      wagon          fwd   \n",
       "131          2                 ?  renault       gas  hatchback          fwd   \n",
       "\n",
       "    engine-location  width  height engine-type  engine-size horsepower  \\\n",
       "130           front   66.5    55.2         ohc          132          ?   \n",
       "131           front   66.6    50.5         ohc          132          ?   \n",
       "\n",
       "     city-mpg  highway-mpg  price  \n",
       "130        23           31   9295  \n",
       "131        23           31   9895  "
      ]
     },
     "execution_count": 16,
     "metadata": {},
     "output_type": "execute_result"
    }
   ],
   "source": [
    "df[df['horsepower']==\"?\"]"
   ]
  },
  {
   "cell_type": "markdown",
   "id": "e9a073be",
   "metadata": {
    "papermill": {
     "duration": 0.036071,
     "end_time": "2024-04-23T01:02:37.494898",
     "exception": false,
     "start_time": "2024-04-23T01:02:37.458827",
     "status": "completed"
    },
    "tags": []
   },
   "source": [
    "- Here also it having some \"?\" present in the dataset"
   ]
  },
  {
   "cell_type": "markdown",
   "id": "262a9f0d",
   "metadata": {
    "papermill": {
     "duration": 0.036518,
     "end_time": "2024-04-23T01:02:37.567735",
     "exception": false,
     "start_time": "2024-04-23T01:02:37.531217",
     "status": "completed"
    },
    "tags": []
   },
   "source": [
    "<h3 style=\"color:green\"> Converting the Unknow data into Not a Number <h3>"
   ]
  },
  {
   "cell_type": "code",
   "execution_count": 17,
   "id": "c0d1e008",
   "metadata": {
    "execution": {
     "iopub.execute_input": "2024-04-23T01:02:37.643536Z",
     "iopub.status.busy": "2024-04-23T01:02:37.642756Z",
     "iopub.status.idle": "2024-04-23T01:02:37.659106Z",
     "shell.execute_reply": "2024-04-23T01:02:37.657762Z"
    },
    "papermill": {
     "duration": 0.056765,
     "end_time": "2024-04-23T01:02:37.661875",
     "exception": false,
     "start_time": "2024-04-23T01:02:37.605110",
     "status": "completed"
    },
    "tags": []
   },
   "outputs": [
    {
     "data": {
      "text/plain": [
       "normalized-losses    float64\n",
       "horsepower           float64\n",
       "dtype: object"
      ]
     },
     "execution_count": 17,
     "metadata": {},
     "output_type": "execute_result"
    }
   ],
   "source": [
    "# This replace method helps to converting \"?\" into NAN then we can easily convert the data type of the particular column\n",
    "df.replace(\"?\", np.nan, inplace=True)\n",
    "#converting the data type\n",
    "df[['normalized-losses','horsepower']]=df[['normalized-losses','horsepower']].astype(\"float64\")\n",
    "df[['normalized-losses','horsepower']].dtypes\n"
   ]
  },
  {
   "cell_type": "code",
   "execution_count": 18,
   "id": "c481770c",
   "metadata": {
    "execution": {
     "iopub.execute_input": "2024-04-23T01:02:37.737187Z",
     "iopub.status.busy": "2024-04-23T01:02:37.736754Z",
     "iopub.status.idle": "2024-04-23T01:02:37.751662Z",
     "shell.execute_reply": "2024-04-23T01:02:37.750404Z"
    },
    "papermill": {
     "duration": 0.056025,
     "end_time": "2024-04-23T01:02:37.754318",
     "exception": false,
     "start_time": "2024-04-23T01:02:37.698293",
     "status": "completed"
    },
    "tags": []
   },
   "outputs": [
    {
     "data": {
      "text/plain": [
       "symboling            0\n",
       "normalized-losses    0\n",
       "make                 0\n",
       "fuel-type            0\n",
       "body-style           0\n",
       "drive-wheels         0\n",
       "engine-location      0\n",
       "width                0\n",
       "height               0\n",
       "engine-type          0\n",
       "engine-size          0\n",
       "horsepower           0\n",
       "city-mpg             0\n",
       "highway-mpg          0\n",
       "price                0\n",
       "dtype: int64"
      ]
     },
     "execution_count": 18,
     "metadata": {},
     "output_type": "execute_result"
    }
   ],
   "source": [
    "df[df.duplicated()].count()"
   ]
  },
  {
   "cell_type": "markdown",
   "id": "a70566e5",
   "metadata": {
    "papermill": {
     "duration": 0.038033,
     "end_time": "2024-04-23T01:02:37.829219",
     "exception": false,
     "start_time": "2024-04-23T01:02:37.791186",
     "status": "completed"
    },
    "tags": []
   },
   "source": [
    "- We have converted the false identified object column into float32.\n",
    "- There is no duplicate in any column in the df,if any means we can use this <b>df.drop_duplicates(column_name, inplace= True)</b>\n",
    "- To fill the Nan value we have to use <b style=\"color:blue\">\"imputation\""
   ]
  },
  {
   "cell_type": "markdown",
   "id": "44804ba9",
   "metadata": {
    "papermill": {
     "duration": 0.036,
     "end_time": "2024-04-23T01:02:37.902165",
     "exception": false,
     "start_time": "2024-04-23T01:02:37.866165",
     "status": "completed"
    },
    "tags": []
   },
   "source": [
    "## Imputation "
   ]
  },
  {
   "cell_type": "markdown",
   "id": "8d720613",
   "metadata": {
    "papermill": {
     "duration": 0.037112,
     "end_time": "2024-04-23T01:02:37.976918",
     "exception": false,
     "start_time": "2024-04-23T01:02:37.939806",
     "status": "completed"
    },
    "tags": []
   },
   "source": [
    "- Before going to imputation we need to select the strategy to fill the null values with mean/median which gives a normal distribution"
   ]
  },
  {
   "cell_type": "code",
   "execution_count": 19,
   "id": "32243a61",
   "metadata": {
    "execution": {
     "iopub.execute_input": "2024-04-23T01:02:38.053059Z",
     "iopub.status.busy": "2024-04-23T01:02:38.051582Z",
     "iopub.status.idle": "2024-04-23T01:02:38.069354Z",
     "shell.execute_reply": "2024-04-23T01:02:38.068097Z"
    },
    "papermill": {
     "duration": 0.058282,
     "end_time": "2024-04-23T01:02:38.071877",
     "exception": false,
     "start_time": "2024-04-23T01:02:38.013595",
     "status": "completed"
    },
    "tags": []
   },
   "outputs": [
    {
     "name": "stdout",
     "output_type": "stream",
     "text": [
      "Normalized_Mean: 122.0\n",
      "Normalized_Median: 115.0\n",
      "Horsepower_Mean: 104.25615763546799\n",
      "Horsepower_Median:  95.0\n"
     ]
    }
   ],
   "source": [
    "impute=pd.DataFrame(df[['normalized-losses','horsepower']].describe().loc[['mean','50%']])\n",
    "nor_mean=impute.iloc[0,0]\n",
    "nor_median=impute.iloc[1,0]\n",
    "mean_hor=impute.iloc[0,1]\n",
    "median_hor=impute.iloc[1,1]\n",
    "print(\"Normalized_Mean:\",nor_mean)\n",
    "print(\"Normalized_Median:\", nor_median)\n",
    "print(\"Horsepower_Mean:\", mean_hor)\n",
    "print(\"Horsepower_Median: \",median_hor)"
   ]
  },
  {
   "cell_type": "code",
   "execution_count": 20,
   "id": "ccf6c0c0",
   "metadata": {
    "execution": {
     "iopub.execute_input": "2024-04-23T01:02:38.149542Z",
     "iopub.status.busy": "2024-04-23T01:02:38.148306Z",
     "iopub.status.idle": "2024-04-23T01:02:38.258675Z",
     "shell.execute_reply": "2024-04-23T01:02:38.257170Z"
    },
    "papermill": {
     "duration": 0.152267,
     "end_time": "2024-04-23T01:02:38.261492",
     "exception": false,
     "start_time": "2024-04-23T01:02:38.109225",
     "status": "completed"
    },
    "tags": []
   },
   "outputs": [
    {
     "data": {
      "text/html": [
       "<style type=\"text/css\">\n",
       "#T_07770_row0_col0, #T_07770_row0_col1 {\n",
       "  background-color: #023858;\n",
       "  color: #f1f1f1;\n",
       "}\n",
       "#T_07770_row1_col0, #T_07770_row1_col1 {\n",
       "  background-color: #fff7fb;\n",
       "  color: #000000;\n",
       "}\n",
       "</style>\n",
       "<table id=\"T_07770\">\n",
       "  <thead>\n",
       "    <tr>\n",
       "      <th class=\"blank level0\" >&nbsp;</th>\n",
       "      <th id=\"T_07770_level0_col0\" class=\"col_heading level0 col0\" >normalized-losses</th>\n",
       "      <th id=\"T_07770_level0_col1\" class=\"col_heading level0 col1\" >horsepower</th>\n",
       "    </tr>\n",
       "  </thead>\n",
       "  <tbody>\n",
       "    <tr>\n",
       "      <th id=\"T_07770_level0_row0\" class=\"row_heading level0 row0\" >mean</th>\n",
       "      <td id=\"T_07770_row0_col0\" class=\"data row0 col0\" >122.000000</td>\n",
       "      <td id=\"T_07770_row0_col1\" class=\"data row0 col1\" >104.256158</td>\n",
       "    </tr>\n",
       "    <tr>\n",
       "      <th id=\"T_07770_level0_row1\" class=\"row_heading level0 row1\" >50%</th>\n",
       "      <td id=\"T_07770_row1_col0\" class=\"data row1 col0\" >115.000000</td>\n",
       "      <td id=\"T_07770_row1_col1\" class=\"data row1 col1\" >95.000000</td>\n",
       "    </tr>\n",
       "  </tbody>\n",
       "</table>\n"
      ],
      "text/plain": [
       "<pandas.io.formats.style.Styler at 0x7da90f7931f0>"
      ]
     },
     "execution_count": 20,
     "metadata": {},
     "output_type": "execute_result"
    }
   ],
   "source": [
    "impute.style.background_gradient()"
   ]
  },
  {
   "cell_type": "markdown",
   "id": "cbb11e76",
   "metadata": {
    "papermill": {
     "duration": 0.037768,
     "end_time": "2024-04-23T01:02:38.337140",
     "exception": false,
     "start_time": "2024-04-23T01:02:38.299372",
     "status": "completed"
    },
    "tags": []
   },
   "source": [
    "- In both columns mean is greater than median"
   ]
  },
  {
   "cell_type": "code",
   "execution_count": 21,
   "id": "aa7e1780",
   "metadata": {
    "execution": {
     "iopub.execute_input": "2024-04-23T01:02:38.418654Z",
     "iopub.status.busy": "2024-04-23T01:02:38.418028Z",
     "iopub.status.idle": "2024-04-23T01:02:39.964748Z",
     "shell.execute_reply": "2024-04-23T01:02:39.963339Z"
    },
    "papermill": {
     "duration": 1.592351,
     "end_time": "2024-04-23T01:02:39.967601",
     "exception": false,
     "start_time": "2024-04-23T01:02:38.375250",
     "status": "completed"
    },
    "tags": []
   },
   "outputs": [
    {
     "data": {
      "image/png": "[encoded data removed]",
      "text/plain": [
       "<Figure size 2000x800 with 4 Axes>"
      ]
     },
     "metadata": {},
     "output_type": "display_data"
    }
   ],
   "source": [
    "# Create subplots\n",
    "plt.figure(figsize=(20, 8))\n",
    "\n",
    "# Subplot 1: Distribution of 'normalized-losses'\n",
    "plt.subplot(221)\n",
    "sns.distplot(df['normalized-losses'].dropna())  # Drop NaN values before plotting\n",
    "plt.xlabel('Normalized Losses')\n",
    "\n",
    "# Subplot 2: Distribution of 'normalized-losses' with mean and median\n",
    "plt.subplot(222)\n",
    "sns.histplot(df[\"normalized-losses\"].replace(np.nan, nor_mean), kde=True, color=\"blue\", label=\"Mean\")\n",
    "sns.histplot(df[\"normalized-losses\"].replace(np.nan, nor_median), kde=True, color=\"red\", label=\"Median\")\n",
    "plt.xlabel('Normalized Losses')\n",
    "plt.legend()\n",
    "\n",
    "# Subplot 3: Distribution of 'horsepower'\n",
    "plt.subplot(223)\n",
    "sns.distplot(df['horsepower'].dropna())  # Drop NaN values before plotting\n",
    "plt.xlabel('Horsepower')\n",
    "\n",
    "# Subplot 4: Distribution of 'horsepower' with mean and median\n",
    "plt.subplot(224)\n",
    "sns.histplot(df[\"horsepower\"].replace(np.nan, mean_hor), kde=True, color=\"blue\", label=\"Mean\")\n",
    "sns.histplot(df[\"horsepower\"].replace(np.nan, median_hor), kde=True, color=\"red\", label=\"Median\")\n",
    "plt.xlabel('Horsepower')\n",
    "plt.legend()\n",
    "\n",
    "plt.show()"
   ]
  },
  {
   "cell_type": "markdown",
   "id": "5d6daba2",
   "metadata": {
    "papermill": {
     "duration": 0.039004,
     "end_time": "2024-04-23T01:02:40.045636",
     "exception": false,
     "start_time": "2024-04-23T01:02:40.006632",
     "status": "completed"
    },
    "tags": []
   },
   "source": [
    "- Here both normalized-losses and horsepower columns are right skewed data that mean (<b> Mean > Median</b>)\n",
    "- It is most suitable to replace Nan values with mean "
   ]
  },
  {
   "cell_type": "code",
   "execution_count": 22,
   "id": "91bdd15d",
   "metadata": {
    "execution": {
     "iopub.execute_input": "2024-04-23T01:02:40.125643Z",
     "iopub.status.busy": "2024-04-23T01:02:40.125145Z",
     "iopub.status.idle": "2024-04-23T01:02:40.142236Z",
     "shell.execute_reply": "2024-04-23T01:02:40.140943Z"
    },
    "papermill": {
     "duration": 0.060724,
     "end_time": "2024-04-23T01:02:40.145189",
     "exception": false,
     "start_time": "2024-04-23T01:02:40.084465",
     "status": "completed"
    },
    "tags": []
   },
   "outputs": [],
   "source": [
    "from sklearn.impute import SimpleImputer\n",
    "si=SimpleImputer(missing_values=np.nan,strategy='mean')\n",
    "df[['normalized-losses','horsepower']]=si.fit_transform(df[['normalized-losses','horsepower']])"
   ]
  },
  {
   "cell_type": "code",
   "execution_count": 23,
   "id": "ee1d1a02",
   "metadata": {
    "execution": {
     "iopub.execute_input": "2024-04-23T01:02:40.224881Z",
     "iopub.status.busy": "2024-04-23T01:02:40.224463Z",
     "iopub.status.idle": "2024-04-23T01:02:40.237174Z",
     "shell.execute_reply": "2024-04-23T01:02:40.236029Z"
    },
    "papermill": {
     "duration": 0.055105,
     "end_time": "2024-04-23T01:02:40.239483",
     "exception": false,
     "start_time": "2024-04-23T01:02:40.184378",
     "status": "completed"
    },
    "tags": []
   },
   "outputs": [
    {
     "data": {
      "text/html": [
       "<div>\n",
       "<style scoped>\n",
       "    .dataframe tbody tr th:only-of-type {\n",
       "        vertical-align: middle;\n",
       "    }\n",
       "\n",
       "    .dataframe tbody tr th {\n",
       "        vertical-align: top;\n",
       "    }\n",
       "\n",
       "    .dataframe thead th {\n",
       "        text-align: right;\n",
       "    }\n",
       "</style>\n",
       "<table border=\"1\" class=\"dataframe\">\n",
       "  <thead>\n",
       "    <tr style=\"text-align: right;\">\n",
       "      <th></th>\n",
       "      <th>normalized-losses</th>\n",
       "      <th>horsepower</th>\n",
       "    </tr>\n",
       "  </thead>\n",
       "  <tbody>\n",
       "    <tr>\n",
       "      <th>0</th>\n",
       "      <td>122.0</td>\n",
       "      <td>111.0</td>\n",
       "    </tr>\n",
       "    <tr>\n",
       "      <th>1</th>\n",
       "      <td>122.0</td>\n",
       "      <td>111.0</td>\n",
       "    </tr>\n",
       "    <tr>\n",
       "      <th>2</th>\n",
       "      <td>122.0</td>\n",
       "      <td>154.0</td>\n",
       "    </tr>\n",
       "    <tr>\n",
       "      <th>3</th>\n",
       "      <td>164.0</td>\n",
       "      <td>102.0</td>\n",
       "    </tr>\n",
       "    <tr>\n",
       "      <th>4</th>\n",
       "      <td>164.0</td>\n",
       "      <td>115.0</td>\n",
       "    </tr>\n",
       "  </tbody>\n",
       "</table>\n",
       "</div>"
      ],
      "text/plain": [
       "   normalized-losses  horsepower\n",
       "0              122.0       111.0\n",
       "1              122.0       111.0\n",
       "2              122.0       154.0\n",
       "3              164.0       102.0\n",
       "4              164.0       115.0"
      ]
     },
     "execution_count": 23,
     "metadata": {},
     "output_type": "execute_result"
    }
   ],
   "source": [
    "df[[\"normalized-losses\",'horsepower']].head()"
   ]
  },
  {
   "cell_type": "markdown",
   "id": "3cf56091",
   "metadata": {
    "papermill": {
     "duration": 0.03863,
     "end_time": "2024-04-23T01:02:40.316928",
     "exception": false,
     "start_time": "2024-04-23T01:02:40.278298",
     "status": "completed"
    },
    "tags": []
   },
   "source": [
    " - <h4 style=\"color:green\"> Now the Nan values are replaced <h4>"
   ]
  },
  {
   "cell_type": "markdown",
   "id": "dd93ffb9",
   "metadata": {
    "papermill": {
     "duration": 0.038855,
     "end_time": "2024-04-23T01:02:40.394546",
     "exception": false,
     "start_time": "2024-04-23T01:02:40.355691",
     "status": "completed"
    },
    "tags": []
   },
   "source": []
  },
  {
   "cell_type": "markdown",
   "id": "998d83d0",
   "metadata": {
    "papermill": {
     "duration": 0.038409,
     "end_time": "2024-04-23T01:02:40.473667",
     "exception": false,
     "start_time": "2024-04-23T01:02:40.435258",
     "status": "completed"
    },
    "tags": []
   },
   "source": [
    "# Descriptive Statistics"
   ]
  },
  {
   "cell_type": "markdown",
   "id": "b8326950",
   "metadata": {
    "papermill": {
     "duration": 0.038569,
     "end_time": "2024-04-23T01:02:40.551230",
     "exception": false,
     "start_time": "2024-04-23T01:02:40.512661",
     "status": "completed"
    },
    "tags": []
   },
   "source": [
    "-  Showing some statistics about the dataset in order to get an idea of the data distribution."
   ]
  },
  {
   "cell_type": "markdown",
   "id": "4e9c4887",
   "metadata": {
    "papermill": {
     "duration": 0.039735,
     "end_time": "2024-04-23T01:02:40.630391",
     "exception": false,
     "start_time": "2024-04-23T01:02:40.590656",
     "status": "completed"
    },
    "tags": []
   },
   "source": [
    "#### **`Numerical Variables:`**"
   ]
  },
  {
   "cell_type": "code",
   "execution_count": 24,
   "id": "10806762",
   "metadata": {
    "execution": {
     "iopub.execute_input": "2024-04-23T01:02:40.711466Z",
     "iopub.status.busy": "2024-04-23T01:02:40.711054Z",
     "iopub.status.idle": "2024-04-23T01:02:40.745465Z",
     "shell.execute_reply": "2024-04-23T01:02:40.744121Z"
    },
    "papermill": {
     "duration": 0.077451,
     "end_time": "2024-04-23T01:02:40.748341",
     "exception": false,
     "start_time": "2024-04-23T01:02:40.670890",
     "status": "completed"
    },
    "tags": []
   },
   "outputs": [
    {
     "data": {
      "text/html": [
       "<div>\n",
       "<style scoped>\n",
       "    .dataframe tbody tr th:only-of-type {\n",
       "        vertical-align: middle;\n",
       "    }\n",
       "\n",
       "    .dataframe tbody tr th {\n",
       "        vertical-align: top;\n",
       "    }\n",
       "\n",
       "    .dataframe thead th {\n",
       "        text-align: right;\n",
       "    }\n",
       "</style>\n",
       "<table border=\"1\" class=\"dataframe\">\n",
       "  <thead>\n",
       "    <tr style=\"text-align: right;\">\n",
       "      <th></th>\n",
       "      <th>count</th>\n",
       "      <th>mean</th>\n",
       "      <th>std</th>\n",
       "      <th>min</th>\n",
       "      <th>25%</th>\n",
       "      <th>50%</th>\n",
       "      <th>75%</th>\n",
       "      <th>max</th>\n",
       "    </tr>\n",
       "  </thead>\n",
       "  <tbody>\n",
       "    <tr>\n",
       "      <th>symboling</th>\n",
       "      <td>205.0</td>\n",
       "      <td>0.8</td>\n",
       "      <td>1.2</td>\n",
       "      <td>-2.0</td>\n",
       "      <td>0.0</td>\n",
       "      <td>1.0</td>\n",
       "      <td>2.0</td>\n",
       "      <td>3.0</td>\n",
       "    </tr>\n",
       "    <tr>\n",
       "      <th>normalized-losses</th>\n",
       "      <td>205.0</td>\n",
       "      <td>122.0</td>\n",
       "      <td>31.7</td>\n",
       "      <td>65.0</td>\n",
       "      <td>101.0</td>\n",
       "      <td>122.0</td>\n",
       "      <td>137.0</td>\n",
       "      <td>256.0</td>\n",
       "    </tr>\n",
       "    <tr>\n",
       "      <th>width</th>\n",
       "      <td>205.0</td>\n",
       "      <td>65.9</td>\n",
       "      <td>2.1</td>\n",
       "      <td>60.3</td>\n",
       "      <td>64.1</td>\n",
       "      <td>65.5</td>\n",
       "      <td>66.9</td>\n",
       "      <td>72.3</td>\n",
       "    </tr>\n",
       "    <tr>\n",
       "      <th>height</th>\n",
       "      <td>205.0</td>\n",
       "      <td>53.7</td>\n",
       "      <td>2.4</td>\n",
       "      <td>47.8</td>\n",
       "      <td>52.0</td>\n",
       "      <td>54.1</td>\n",
       "      <td>55.5</td>\n",
       "      <td>59.8</td>\n",
       "    </tr>\n",
       "    <tr>\n",
       "      <th>engine-size</th>\n",
       "      <td>205.0</td>\n",
       "      <td>126.9</td>\n",
       "      <td>41.6</td>\n",
       "      <td>61.0</td>\n",
       "      <td>97.0</td>\n",
       "      <td>120.0</td>\n",
       "      <td>141.0</td>\n",
       "      <td>326.0</td>\n",
       "    </tr>\n",
       "    <tr>\n",
       "      <th>horsepower</th>\n",
       "      <td>205.0</td>\n",
       "      <td>104.3</td>\n",
       "      <td>39.5</td>\n",
       "      <td>48.0</td>\n",
       "      <td>70.0</td>\n",
       "      <td>95.0</td>\n",
       "      <td>116.0</td>\n",
       "      <td>288.0</td>\n",
       "    </tr>\n",
       "    <tr>\n",
       "      <th>city-mpg</th>\n",
       "      <td>205.0</td>\n",
       "      <td>25.2</td>\n",
       "      <td>6.5</td>\n",
       "      <td>13.0</td>\n",
       "      <td>19.0</td>\n",
       "      <td>24.0</td>\n",
       "      <td>30.0</td>\n",
       "      <td>49.0</td>\n",
       "    </tr>\n",
       "    <tr>\n",
       "      <th>highway-mpg</th>\n",
       "      <td>205.0</td>\n",
       "      <td>30.8</td>\n",
       "      <td>6.9</td>\n",
       "      <td>16.0</td>\n",
       "      <td>25.0</td>\n",
       "      <td>30.0</td>\n",
       "      <td>34.0</td>\n",
       "      <td>54.0</td>\n",
       "    </tr>\n",
       "    <tr>\n",
       "      <th>price</th>\n",
       "      <td>205.0</td>\n",
       "      <td>13227.5</td>\n",
       "      <td>7902.7</td>\n",
       "      <td>5118.0</td>\n",
       "      <td>7788.0</td>\n",
       "      <td>10345.0</td>\n",
       "      <td>16500.0</td>\n",
       "      <td>45400.0</td>\n",
       "    </tr>\n",
       "  </tbody>\n",
       "</table>\n",
       "</div>"
      ],
      "text/plain": [
       "                   count    mean    std    min    25%     50%     75%     max\n",
       "symboling          205.0     0.8    1.2   -2.0    0.0     1.0     2.0     3.0\n",
       "normalized-losses  205.0   122.0   31.7   65.0  101.0   122.0   137.0   256.0\n",
       "width              205.0    65.9    2.1   60.3   64.1    65.5    66.9    72.3\n",
       "height             205.0    53.7    2.4   47.8   52.0    54.1    55.5    59.8\n",
       "engine-size        205.0   126.9   41.6   61.0   97.0   120.0   141.0   326.0\n",
       "horsepower         205.0   104.3   39.5   48.0   70.0    95.0   116.0   288.0\n",
       "city-mpg           205.0    25.2    6.5   13.0   19.0    24.0    30.0    49.0\n",
       "highway-mpg        205.0    30.8    6.9   16.0   25.0    30.0    34.0    54.0\n",
       "price              205.0 13227.5 7902.7 5118.0 7788.0 10345.0 16500.0 45400.0"
      ]
     },
     "execution_count": 24,
     "metadata": {},
     "output_type": "execute_result"
    }
   ],
   "source": [
    "pd.set_option('display.float_format', '{:.1f}'.format)\n",
    "df.describe().transpose()"
   ]
  },
  {
   "cell_type": "markdown",
   "id": "f10cc67e",
   "metadata": {
    "papermill": {
     "duration": 0.040071,
     "end_time": "2024-04-23T01:02:40.827546",
     "exception": false,
     "start_time": "2024-04-23T01:02:40.787475",
     "status": "completed"
    },
    "tags": []
   },
   "source": [
    "- Comparing Mean and maximum in each column there is a high deviation in \"Price\" that mean it have more outliers present"
   ]
  },
  {
   "cell_type": "markdown",
   "id": "61c866f5",
   "metadata": {
    "papermill": {
     "duration": 0.039117,
     "end_time": "2024-04-23T01:02:40.908168",
     "exception": false,
     "start_time": "2024-04-23T01:02:40.869051",
     "status": "completed"
    },
    "tags": []
   },
   "source": [
    "#### **`Categorical Variables:`**"
   ]
  },
  {
   "cell_type": "code",
   "execution_count": 25,
   "id": "bf4963ad",
   "metadata": {
    "execution": {
     "iopub.execute_input": "2024-04-23T01:02:40.988840Z",
     "iopub.status.busy": "2024-04-23T01:02:40.988435Z",
     "iopub.status.idle": "2024-04-23T01:02:41.011025Z",
     "shell.execute_reply": "2024-04-23T01:02:41.009819Z"
    },
    "papermill": {
     "duration": 0.065925,
     "end_time": "2024-04-23T01:02:41.013586",
     "exception": false,
     "start_time": "2024-04-23T01:02:40.947661",
     "status": "completed"
    },
    "tags": []
   },
   "outputs": [
    {
     "data": {
      "text/html": [
       "<div>\n",
       "<style scoped>\n",
       "    .dataframe tbody tr th:only-of-type {\n",
       "        vertical-align: middle;\n",
       "    }\n",
       "\n",
       "    .dataframe tbody tr th {\n",
       "        vertical-align: top;\n",
       "    }\n",
       "\n",
       "    .dataframe thead th {\n",
       "        text-align: right;\n",
       "    }\n",
       "</style>\n",
       "<table border=\"1\" class=\"dataframe\">\n",
       "  <thead>\n",
       "    <tr style=\"text-align: right;\">\n",
       "      <th></th>\n",
       "      <th>make</th>\n",
       "      <th>fuel-type</th>\n",
       "      <th>body-style</th>\n",
       "      <th>drive-wheels</th>\n",
       "      <th>engine-location</th>\n",
       "      <th>engine-type</th>\n",
       "    </tr>\n",
       "  </thead>\n",
       "  <tbody>\n",
       "    <tr>\n",
       "      <th>count</th>\n",
       "      <td>205</td>\n",
       "      <td>205</td>\n",
       "      <td>205</td>\n",
       "      <td>205</td>\n",
       "      <td>205</td>\n",
       "      <td>205</td>\n",
       "    </tr>\n",
       "    <tr>\n",
       "      <th>unique</th>\n",
       "      <td>22</td>\n",
       "      <td>2</td>\n",
       "      <td>5</td>\n",
       "      <td>3</td>\n",
       "      <td>2</td>\n",
       "      <td>7</td>\n",
       "    </tr>\n",
       "    <tr>\n",
       "      <th>top</th>\n",
       "      <td>toyota</td>\n",
       "      <td>gas</td>\n",
       "      <td>sedan</td>\n",
       "      <td>fwd</td>\n",
       "      <td>front</td>\n",
       "      <td>ohc</td>\n",
       "    </tr>\n",
       "    <tr>\n",
       "      <th>freq</th>\n",
       "      <td>32</td>\n",
       "      <td>185</td>\n",
       "      <td>96</td>\n",
       "      <td>120</td>\n",
       "      <td>202</td>\n",
       "      <td>148</td>\n",
       "    </tr>\n",
       "  </tbody>\n",
       "</table>\n",
       "</div>"
      ],
      "text/plain": [
       "          make fuel-type body-style drive-wheels engine-location engine-type\n",
       "count      205       205        205          205             205         205\n",
       "unique      22         2          5            3               2           7\n",
       "top     toyota       gas      sedan          fwd           front         ohc\n",
       "freq        32       185         96          120             202         148"
      ]
     },
     "execution_count": 25,
     "metadata": {},
     "output_type": "execute_result"
    }
   ],
   "source": [
    "df.describe(include=['object'])"
   ]
  },
  {
   "cell_type": "code",
   "execution_count": 26,
   "id": "d713daf8",
   "metadata": {
    "execution": {
     "iopub.execute_input": "2024-04-23T01:02:41.097317Z",
     "iopub.status.busy": "2024-04-23T01:02:41.096869Z",
     "iopub.status.idle": "2024-04-23T01:02:41.571200Z",
     "shell.execute_reply": "2024-04-23T01:02:41.570005Z"
    },
    "papermill": {
     "duration": 0.518094,
     "end_time": "2024-04-23T01:02:41.574038",
     "exception": false,
     "start_time": "2024-04-23T01:02:41.055944",
     "status": "completed"
    },
    "tags": []
   },
   "outputs": [
    {
     "data": {
      "text/plain": [
       "<Axes: xlabel='price', ylabel='Density'>"
      ]
     },
     "execution_count": 26,
     "metadata": {},
     "output_type": "execute_result"
    },
    {
     "data": {
      "image/png": "[encoded data removed]",
      "text/plain": [
       "<Figure size 640x480 with 1 Axes>"
      ]
     },
     "metadata": {},
     "output_type": "display_data"
    }
   ],
   "source": [
    "sns.set_style('whitegrid')\n",
    "sns.distplot(df['price'])"
   ]
  },
  {
   "cell_type": "markdown",
   "id": "37671a55",
   "metadata": {
    "papermill": {
     "duration": 0.041008,
     "end_time": "2024-04-23T01:02:41.655294",
     "exception": false,
     "start_time": "2024-04-23T01:02:41.614286",
     "status": "completed"
    },
    "tags": []
   },
   "source": [
    "- After 30,000 the tail extended into right side those values will be outliers"
   ]
  },
  {
   "cell_type": "code",
   "execution_count": 27,
   "id": "7357c3db",
   "metadata": {
    "execution": {
     "iopub.execute_input": "2024-04-23T01:02:41.739404Z",
     "iopub.status.busy": "2024-04-23T01:02:41.738383Z",
     "iopub.status.idle": "2024-04-23T01:02:42.152041Z",
     "shell.execute_reply": "2024-04-23T01:02:42.150466Z"
    },
    "papermill": {
     "duration": 0.45842,
     "end_time": "2024-04-23T01:02:42.155035",
     "exception": false,
     "start_time": "2024-04-23T01:02:41.696615",
     "status": "completed"
    },
    "tags": []
   },
   "outputs": [
    {
     "data": {
      "image/png": "[encoded data removed]",
      "text/plain": [
       "<Figure size 1000x500 with 1 Axes>"
      ]
     },
     "metadata": {},
     "output_type": "display_data"
    }
   ],
   "source": [
    "plt.figure(figsize=(10,5))\n",
    "sns.boxplot(df)\n",
    "plt.xticks(rotation=25)\n",
    "plt.show()"
   ]
  },
  {
   "cell_type": "markdown",
   "id": "d09c7e58",
   "metadata": {
    "papermill": {
     "duration": 0.040466,
     "end_time": "2024-04-23T01:02:42.236577",
     "exception": false,
     "start_time": "2024-04-23T01:02:42.196111",
     "status": "completed"
    },
    "tags": []
   },
   "source": [
    "- There are more outliers present in the price column"
   ]
  },
  {
   "cell_type": "code",
   "execution_count": 28,
   "id": "4fd0eb9b",
   "metadata": {
    "execution": {
     "iopub.execute_input": "2024-04-23T01:02:42.321918Z",
     "iopub.status.busy": "2024-04-23T01:02:42.321239Z",
     "iopub.status.idle": "2024-04-23T01:02:42.701745Z",
     "shell.execute_reply": "2024-04-23T01:02:42.700456Z"
    },
    "papermill": {
     "duration": 0.426818,
     "end_time": "2024-04-23T01:02:42.704537",
     "exception": false,
     "start_time": "2024-04-23T01:02:42.277719",
     "status": "completed"
    },
    "tags": []
   },
   "outputs": [
    {
     "data": {
      "text/plain": [
       "<Axes: >"
      ]
     },
     "execution_count": 28,
     "metadata": {},
     "output_type": "execute_result"
    },
    {
     "data": {
      "image/png": "[encoded data removed]",
      "text/plain": [
       "<Figure size 640x480 with 1 Axes>"
      ]
     },
     "metadata": {},
     "output_type": "display_data"
    }
   ],
   "source": [
    "sns.boxplot(df['price'],color='red',orient=\"h\",saturation=1,whis=2)"
   ]
  },
  {
   "cell_type": "markdown",
   "id": "e31c4bcf",
   "metadata": {
    "papermill": {
     "duration": 0.042878,
     "end_time": "2024-04-23T01:02:42.790006",
     "exception": false,
     "start_time": "2024-04-23T01:02:42.747128",
     "status": "completed"
    },
    "tags": []
   },
   "source": [
    "  - In price column more than 30,000 box plot consider those values as outliers"
   ]
  },
  {
   "cell_type": "code",
   "execution_count": 29,
   "id": "626583da",
   "metadata": {
    "execution": {
     "iopub.execute_input": "2024-04-23T01:02:42.893396Z",
     "iopub.status.busy": "2024-04-23T01:02:42.892936Z",
     "iopub.status.idle": "2024-04-23T01:02:42.899838Z",
     "shell.execute_reply": "2024-04-23T01:02:42.898748Z"
    },
    "papermill": {
     "duration": 0.058342,
     "end_time": "2024-04-23T01:02:42.902649",
     "exception": false,
     "start_time": "2024-04-23T01:02:42.844307",
     "status": "completed"
    },
    "tags": []
   },
   "outputs": [
    {
     "name": "stdout",
     "output_type": "stream",
     "text": [
      "No of Outliers Present in Price Column: 14\n"
     ]
    }
   ],
   "source": [
    "print(\"No of Outliers Present in Price Column:\", df[df['price']>30000][\"price\"].count())"
   ]
  },
  {
   "cell_type": "code",
   "execution_count": 30,
   "id": "e16b2387",
   "metadata": {
    "execution": {
     "iopub.execute_input": "2024-04-23T01:02:43.004016Z",
     "iopub.status.busy": "2024-04-23T01:02:43.003000Z",
     "iopub.status.idle": "2024-04-23T01:02:43.785327Z",
     "shell.execute_reply": "2024-04-23T01:02:43.784130Z"
    },
    "papermill": {
     "duration": 0.831932,
     "end_time": "2024-04-23T01:02:43.787921",
     "exception": false,
     "start_time": "2024-04-23T01:02:42.955989",
     "status": "completed"
    },
    "tags": []
   },
   "outputs": [
    {
     "data": {
      "image/png": "[encoded data removed]",
      "text/plain": [
       "<Figure size 1500x1000 with 1 Axes>"
      ]
     },
     "metadata": {},
     "output_type": "display_data"
    }
   ],
   "source": [
    "sns.set_style(\"whitegrid\")\n",
    "plt.figure(figsize=(15,10))\n",
    "sns.boxplot(x=df['price'],y=df['make'])\n",
    "plt.show()\n"
   ]
  },
  {
   "cell_type": "markdown",
   "id": "58249892",
   "metadata": {
    "papermill": {
     "duration": 0.043847,
     "end_time": "2024-04-23T01:02:43.874831",
     "exception": false,
     "start_time": "2024-04-23T01:02:43.830984",
     "status": "completed"
    },
    "tags": []
   },
   "source": [
    "## To fix the outlier in the feature we can use \n",
    "   - 1.IQR  (Q3-Q1)\n",
    "   - 2.Z-Score"
   ]
  },
  {
   "cell_type": "code",
   "execution_count": 31,
   "id": "13a11d57",
   "metadata": {
    "execution": {
     "iopub.execute_input": "2024-04-23T01:02:43.964394Z",
     "iopub.status.busy": "2024-04-23T01:02:43.963462Z",
     "iopub.status.idle": "2024-04-23T01:02:43.976517Z",
     "shell.execute_reply": "2024-04-23T01:02:43.975220Z"
    },
    "papermill": {
     "duration": 0.060994,
     "end_time": "2024-04-23T01:02:43.979008",
     "exception": false,
     "start_time": "2024-04-23T01:02:43.918014",
     "status": "completed"
    },
    "tags": []
   },
   "outputs": [
    {
     "data": {
      "text/plain": [
       "25%    7788.0\n",
       "75%   16500.0\n",
       "Name: price, dtype: float64"
      ]
     },
     "execution_count": 31,
     "metadata": {},
     "output_type": "execute_result"
    }
   ],
   "source": [
    "df['price'].describe().loc[['25%','75%']]"
   ]
  },
  {
   "cell_type": "code",
   "execution_count": 32,
   "id": "a8248a67",
   "metadata": {
    "execution": {
     "iopub.execute_input": "2024-04-23T01:02:44.069049Z",
     "iopub.status.busy": "2024-04-23T01:02:44.068561Z",
     "iopub.status.idle": "2024-04-23T01:02:44.081491Z",
     "shell.execute_reply": "2024-04-23T01:02:44.079979Z"
    },
    "papermill": {
     "duration": 0.06139,
     "end_time": "2024-04-23T01:02:44.083946",
     "exception": false,
     "start_time": "2024-04-23T01:02:44.022556",
     "status": "completed"
    },
    "tags": []
   },
   "outputs": [
    {
     "name": "stdout",
     "output_type": "stream",
     "text": [
      "Min_range -5280.0\n",
      "Max_range 29568.0\n"
     ]
    }
   ],
   "source": [
    "q1=df['price'].quantile(0.25)\n",
    "q3=df['price'].quantile(0.75)\n",
    "Iqr=q3-q1\n",
    "Min_range=q1-(1.5*Iqr)\n",
    "Max_range=q3+(1.5*Iqr)\n",
    "print(\"Min_range\",Min_range)\n",
    "\n",
    "print(\"Max_range\",Max_range)\n",
    "\n",
    "Iqr_df= df[(df['price'] >= Min_range) & (df['price'] <= Max_range)]\n",
    "\n",
    "\n",
    "\n"
   ]
  },
  {
   "cell_type": "code",
   "execution_count": 33,
   "id": "cb2e0be2",
   "metadata": {
    "execution": {
     "iopub.execute_input": "2024-04-23T01:02:44.170498Z",
     "iopub.status.busy": "2024-04-23T01:02:44.169792Z",
     "iopub.status.idle": "2024-04-23T01:02:44.176404Z",
     "shell.execute_reply": "2024-04-23T01:02:44.175225Z"
    },
    "papermill": {
     "duration": 0.052561,
     "end_time": "2024-04-23T01:02:44.178698",
     "exception": false,
     "start_time": "2024-04-23T01:02:44.126137",
     "status": "completed"
    },
    "tags": []
   },
   "outputs": [
    {
     "data": {
      "text/plain": [
       "(191, 15)"
      ]
     },
     "execution_count": 33,
     "metadata": {},
     "output_type": "execute_result"
    }
   ],
   "source": [
    "Iqr_df.shape"
   ]
  },
  {
   "cell_type": "markdown",
   "id": "a96f9ec1",
   "metadata": {
    "papermill": {
     "duration": 0.042265,
     "end_time": "2024-04-23T01:02:44.263165",
     "exception": false,
     "start_time": "2024-04-23T01:02:44.220900",
     "status": "completed"
    },
    "tags": []
   },
   "source": [
    "- There are **14** outliers present in the Price column"
   ]
  },
  {
   "cell_type": "markdown",
   "id": "52d60de4",
   "metadata": {
    "papermill": {
     "duration": 0.042434,
     "end_time": "2024-04-23T01:02:44.347867",
     "exception": false,
     "start_time": "2024-04-23T01:02:44.305433",
     "status": "completed"
    },
    "tags": []
   },
   "source": [
    "## Z-Score"
   ]
  },
  {
   "cell_type": "code",
   "execution_count": 34,
   "id": "bb31898b",
   "metadata": {
    "execution": {
     "iopub.execute_input": "2024-04-23T01:02:44.438319Z",
     "iopub.status.busy": "2024-04-23T01:02:44.437602Z",
     "iopub.status.idle": "2024-04-23T01:02:44.446083Z",
     "shell.execute_reply": "2024-04-23T01:02:44.444826Z"
    },
    "papermill": {
     "duration": 0.057695,
     "end_time": "2024-04-23T01:02:44.448870",
     "exception": false,
     "start_time": "2024-04-23T01:02:44.391175",
     "status": "completed"
    },
    "tags": []
   },
   "outputs": [
    {
     "data": {
      "text/plain": [
       "(-10480.476797472396, 36935.43289503337)"
      ]
     },
     "execution_count": 34,
     "metadata": {},
     "output_type": "execute_result"
    }
   ],
   "source": [
    "z_min=df['price'].mean()-(3*df['price'].std())\n",
    "z_max=df['price'].mean()+(3*df['price'].std())\n",
    "z_min,z_max"
   ]
  },
  {
   "cell_type": "code",
   "execution_count": 35,
   "id": "65783531",
   "metadata": {
    "execution": {
     "iopub.execute_input": "2024-04-23T01:02:44.536403Z",
     "iopub.status.busy": "2024-04-23T01:02:44.536002Z",
     "iopub.status.idle": "2024-04-23T01:02:44.542908Z",
     "shell.execute_reply": "2024-04-23T01:02:44.541707Z"
    },
    "papermill": {
     "duration": 0.053646,
     "end_time": "2024-04-23T01:02:44.545262",
     "exception": false,
     "start_time": "2024-04-23T01:02:44.491616",
     "status": "completed"
    },
    "tags": []
   },
   "outputs": [],
   "source": [
    "z_df=df[(df['price']<=z_max)& (df['price']>=z_min)]\n",
    "# z_score=(df['price']-df['price'].mean())/df['price'].std()\n",
    "# z_score[z_score>3]\n",
    "\n"
   ]
  },
  {
   "cell_type": "code",
   "execution_count": 36,
   "id": "fe315c73",
   "metadata": {
    "execution": {
     "iopub.execute_input": "2024-04-23T01:02:44.633736Z",
     "iopub.status.busy": "2024-04-23T01:02:44.632892Z",
     "iopub.status.idle": "2024-04-23T01:02:44.639318Z",
     "shell.execute_reply": "2024-04-23T01:02:44.638053Z"
    },
    "papermill": {
     "duration": 0.053534,
     "end_time": "2024-04-23T01:02:44.641608",
     "exception": false,
     "start_time": "2024-04-23T01:02:44.588074",
     "status": "completed"
    },
    "tags": []
   },
   "outputs": [
    {
     "data": {
      "text/plain": [
       "(201, 15)"
      ]
     },
     "execution_count": 36,
     "metadata": {},
     "output_type": "execute_result"
    }
   ],
   "source": [
    "z_df.shape"
   ]
  },
  {
   "cell_type": "markdown",
   "id": "1210573c",
   "metadata": {
    "papermill": {
     "duration": 0.042677,
     "end_time": "2024-04-23T01:02:44.728421",
     "exception": false,
     "start_time": "2024-04-23T01:02:44.685744",
     "status": "completed"
    },
    "tags": []
   },
   "source": [
    "- After removing the outliers in Price column we have 205 rows and 15 columns"
   ]
  },
  {
   "cell_type": "code",
   "execution_count": 37,
   "id": "cb8e102d",
   "metadata": {
    "execution": {
     "iopub.execute_input": "2024-04-23T01:02:44.817156Z",
     "iopub.status.busy": "2024-04-23T01:02:44.816081Z",
     "iopub.status.idle": "2024-04-23T01:02:45.817985Z",
     "shell.execute_reply": "2024-04-23T01:02:45.816465Z"
    },
    "papermill": {
     "duration": 1.049446,
     "end_time": "2024-04-23T01:02:45.820629",
     "exception": false,
     "start_time": "2024-04-23T01:02:44.771183",
     "status": "completed"
    },
    "tags": []
   },
   "outputs": [
    {
     "data": {
      "image/png": "[encoded data removed]",
      "text/plain": [
       "<Figure size 2000x800 with 2 Axes>"
      ]
     },
     "metadata": {},
     "output_type": "display_data"
    }
   ],
   "source": [
    "plt.figure(figsize=(20,8))\n",
    "plt.subplot(121)\n",
    "sns.distplot(Iqr_df['price'],kde=True,color='red')\n",
    "plt.title(\"Iqr_df\")\n",
    "plt.subplot(122)\n",
    "sns.distplot(z_df['price'],kde=True,color='blue')\n",
    "plt.title(\"z_df\")\n",
    "\n",
    "plt.show()\n"
   ]
  },
  {
   "cell_type": "markdown",
   "id": "3e9757c9",
   "metadata": {
    "papermill": {
     "duration": 0.043609,
     "end_time": "2024-04-23T01:02:45.908818",
     "exception": false,
     "start_time": "2024-04-23T01:02:45.865209",
     "status": "completed"
    },
    "tags": []
   },
   "source": [
    "   - The Data points lies on right side,right skewed data (mean> median)"
   ]
  },
  {
   "cell_type": "code",
   "execution_count": 38,
   "id": "a0689153",
   "metadata": {
    "execution": {
     "iopub.execute_input": "2024-04-23T01:02:45.999651Z",
     "iopub.status.busy": "2024-04-23T01:02:45.999231Z",
     "iopub.status.idle": "2024-04-23T01:02:46.037375Z",
     "shell.execute_reply": "2024-04-23T01:02:46.035660Z"
    },
    "papermill": {
     "duration": 0.086815,
     "end_time": "2024-04-23T01:02:46.040147",
     "exception": false,
     "start_time": "2024-04-23T01:02:45.953332",
     "status": "completed"
    },
    "tags": []
   },
   "outputs": [
    {
     "name": "stdout",
     "output_type": "stream",
     "text": [
      "Z_df Skewness: 1.6246290729449775\n",
      "Iqr_Skewness: 1.0176661887138065\n"
     ]
    },
    {
     "data": {
      "text/plain": [
       "mean   11560.7\n",
       "50%     9988.0\n",
       "Name: price, dtype: float64"
      ]
     },
     "execution_count": 38,
     "metadata": {},
     "output_type": "execute_result"
    }
   ],
   "source": [
    "print(\"Z_df Skewness:\",z_df['price'].skew())\n",
    "print(\"Iqr_Skewness:\",Iqr_df['price'].skew())\n",
    "\n",
    "Iqr_df.describe().loc[['mean','50%']]['price'].transpose()\n",
    "\n"
   ]
  },
  {
   "cell_type": "markdown",
   "id": "cf9aff8c",
   "metadata": {
    "papermill": {
     "duration": 0.043729,
     "end_time": "2024-04-23T01:02:46.129160",
     "exception": false,
     "start_time": "2024-04-23T01:02:46.085431",
     "status": "completed"
    },
    "tags": []
   },
   "source": [
    "   - Data points are highly skewed in this case Iqr outlier method is suitable for removing outliers\n",
    "   - Iqr outlier method detects 14 rows as outliers"
   ]
  },
  {
   "cell_type": "code",
   "execution_count": 39,
   "id": "a96d9da5",
   "metadata": {
    "execution": {
     "iopub.execute_input": "2024-04-23T01:02:46.219583Z",
     "iopub.status.busy": "2024-04-23T01:02:46.219191Z",
     "iopub.status.idle": "2024-04-23T01:02:46.287246Z",
     "shell.execute_reply": "2024-04-23T01:02:46.286321Z"
    },
    "papermill": {
     "duration": 0.116598,
     "end_time": "2024-04-23T01:02:46.290314",
     "exception": false,
     "start_time": "2024-04-23T01:02:46.173716",
     "status": "completed"
    },
    "tags": []
   },
   "outputs": [
    {
     "name": "stdout",
     "output_type": "stream",
     "text": [
      "alfa-romero\n",
      "18753.75 12743.75\n",
      "[]\n",
      "==================================\n",
      "audi\n",
      "23887.5 9027.5\n",
      "[]\n",
      "==================================\n",
      "bmw\n",
      "50786.875 1461.875\n",
      "[]\n",
      "==================================\n",
      "chevrolet\n",
      "7503.0 4655.0\n",
      "[]\n",
      "==================================\n",
      "dodge\n",
      "11829.5 3105.5\n",
      "[29]\n",
      "==================================\n",
      "honda\n",
      "12455.0 3495.0\n",
      "[41]\n",
      "==================================\n",
      "isuzu\n",
      "21295.625 1936.625\n",
      "[45]\n",
      "==================================\n",
      "jaguar\n",
      "38587.5 31087.5\n",
      "[]\n",
      "==================================\n",
      "mazda\n",
      "18520.0 720.0\n",
      "[]\n",
      "==================================\n",
      "mercedes-benz\n",
      "48985.0 15777.0\n",
      "[]\n",
      "==================================\n",
      "mercury\n",
      "16503.0 16503.0\n",
      "[]\n",
      "==================================\n",
      "mitsubishi\n",
      "14414.0 2534.0\n",
      "[83, 84]\n",
      "==================================\n",
      "nissan\n",
      "22780.25 -1969.75\n",
      "[]\n",
      "==================================\n",
      "peugot\n",
      "22173.75 8343.75\n",
      "[]\n",
      "==================================\n",
      "plymouth\n",
      "11406.75 3492.75\n",
      "[124]\n",
      "==================================\n",
      "porsche\n",
      "52043.0 4003.0\n",
      "[]\n",
      "==================================\n",
      "renault\n",
      "10195.0 8995.0\n",
      "[]\n",
      "==================================\n",
      "saab\n",
      "24393.75 5983.75\n",
      "[]\n",
      "==================================\n",
      "subaru\n",
      "13980.625 3417.625\n",
      "[]\n",
      "==================================\n",
      "toyota\n",
      "15627.375 3216.375\n",
      "[172, 178, 179, 180, 181]\n",
      "==================================\n",
      "volkswagen\n",
      "17204.375 2709.375\n",
      "[]\n",
      "==================================\n",
      "volvo\n",
      "26287.5 10227.5\n",
      "[]\n",
      "==================================\n"
     ]
    }
   ],
   "source": [
    "def caculate_b(data):\n",
    "    q1=np.quantile(data,0.25)\n",
    "    q3=np.quantile(data,0.75)\n",
    "    iqr=q3-q1\n",
    "    ub=q3+(iqr*1.5)\n",
    "    lb=q1-(iqr*1.5)\n",
    "    return ub,lb\n",
    "\n",
    "\n",
    "\n",
    "make_list=df[\"make\"].unique()\n",
    "\n",
    "for m in make_list:\n",
    "    print(m)\n",
    "    ub,lb=caculate_b(df[df[\"make\"]==m][\"price\"])\n",
    "    print(ub,lb)\n",
    "    index_values=df[(df[\"make\"]==m)&((df[\"price\"]>ub)|(df[\"price\"]<lb))].index.to_list()\n",
    "    print(index_values)\n",
    "    df.drop(index_values,inplace=True)\n",
    "    print(\"==================================\")\n",
    "    "
   ]
  },
  {
   "cell_type": "code",
   "execution_count": 40,
   "id": "7da09199",
   "metadata": {
    "execution": {
     "iopub.execute_input": "2024-04-23T01:02:46.381857Z",
     "iopub.status.busy": "2024-04-23T01:02:46.381409Z",
     "iopub.status.idle": "2024-04-23T01:02:46.389048Z",
     "shell.execute_reply": "2024-04-23T01:02:46.387797Z"
    },
    "papermill": {
     "duration": 0.057057,
     "end_time": "2024-04-23T01:02:46.391813",
     "exception": false,
     "start_time": "2024-04-23T01:02:46.334756",
     "status": "completed"
    },
    "tags": []
   },
   "outputs": [
    {
     "data": {
      "text/plain": [
       "(194, 15)"
      ]
     },
     "execution_count": 40,
     "metadata": {},
     "output_type": "execute_result"
    }
   ],
   "source": [
    "df.shape"
   ]
  },
  {
   "cell_type": "markdown",
   "id": "56e863ac",
   "metadata": {
    "papermill": {
     "duration": 0.044633,
     "end_time": "2024-04-23T01:02:46.482616",
     "exception": false,
     "start_time": "2024-04-23T01:02:46.437983",
     "status": "completed"
    },
    "tags": []
   },
   "source": [
    "- Iqr is good fit for non-linear data points"
   ]
  },
  {
   "cell_type": "code",
   "execution_count": 41,
   "id": "3a26d563",
   "metadata": {
    "execution": {
     "iopub.execute_input": "2024-04-23T01:02:46.573860Z",
     "iopub.status.busy": "2024-04-23T01:02:46.573425Z",
     "iopub.status.idle": "2024-04-23T01:02:46.806460Z",
     "shell.execute_reply": "2024-04-23T01:02:46.805060Z"
    },
    "papermill": {
     "duration": 0.282053,
     "end_time": "2024-04-23T01:02:46.809251",
     "exception": false,
     "start_time": "2024-04-23T01:02:46.527198",
     "status": "completed"
    },
    "tags": []
   },
   "outputs": [
    {
     "name": "stdout",
     "output_type": "stream",
     "text": [
      "Shape of the dataset Rows:194 and columns:15\n"
     ]
    },
    {
     "data": {
      "image/png": "[encoded data removed]",
      "text/plain": [
       "<Figure size 1000x300 with 1 Axes>"
      ]
     },
     "metadata": {},
     "output_type": "display_data"
    }
   ],
   "source": [
    "df= df.reset_index(drop=True)\n",
    "print(f\"Shape of the dataset Rows:{df.shape[0]} and columns:{df.shape[1]}\")\n",
    "df.head()\n",
    "df['engine-location'].value_counts()\n",
    "\n",
    "\n",
    "\n",
    "sns.set_style(\"ticks\")\n",
    "plt.figure(figsize=(10,3))\n",
    "sns.boxplot(x=df['price'],orient='h',palette=\"dark\",dodge=False,)\n",
    "plt.ylabel('Density')\n",
    "plt.show()\n"
   ]
  },
  {
   "cell_type": "markdown",
   "id": "d036b585",
   "metadata": {
    "papermill": {
     "duration": 0.045111,
     "end_time": "2024-04-23T01:02:46.901827",
     "exception": false,
     "start_time": "2024-04-23T01:02:46.856716",
     "status": "completed"
    },
    "tags": []
   },
   "source": [
    "## Feature Scaling\n",
    "1. standardization\n",
    "2. Normalization"
   ]
  },
  {
   "cell_type": "markdown",
   "id": "34bdce35",
   "metadata": {
    "papermill": {
     "duration": 0.048897,
     "end_time": "2024-04-23T01:02:46.995751",
     "exception": false,
     "start_time": "2024-04-23T01:02:46.946854",
     "status": "completed"
    },
    "tags": []
   },
   "source": [
    "**What is Standardization?**\n",
    "\n",
    "Standardization is the process of transforming data into a common format which allows the researcher to make the meaningful comparison.\n",
    "\n",
    "Example\n",
    "\n",
    "Transform mpg to L/100km:\n",
    "\n",
    "In our dataset, the fuel consumption columns \"city-mpg\" and \"highway-mpg\" are represented by mpg (miles per gallon) unit. Assume we are developing an application in a country that accept the fuel consumption with L/100km standard\n",
    "\n",
    "We will need to apply data transformation to transform mpg into L/100km?"
   ]
  },
  {
   "cell_type": "code",
   "execution_count": 42,
   "id": "7f00fd3c",
   "metadata": {
    "execution": {
     "iopub.execute_input": "2024-04-23T01:02:47.089278Z",
     "iopub.status.busy": "2024-04-23T01:02:47.088241Z",
     "iopub.status.idle": "2024-04-23T01:02:47.096823Z",
     "shell.execute_reply": "2024-04-23T01:02:47.095774Z"
    },
    "papermill": {
     "duration": 0.057973,
     "end_time": "2024-04-23T01:02:47.099395",
     "exception": false,
     "start_time": "2024-04-23T01:02:47.041422",
     "status": "completed"
    },
    "tags": []
   },
   "outputs": [],
   "source": [
    "df['city-L/100km'] = 235/df[\"city-mpg\"]\n",
    "df[\"highway-L/100km\"] = 235/df[\"highway-mpg\"]\n",
    "df.drop(['city-mpg', 'highway-mpg'],axis=1,inplace=True)\n"
   ]
  },
  {
   "cell_type": "code",
   "execution_count": 43,
   "id": "c1930b9a",
   "metadata": {
    "execution": {
     "iopub.execute_input": "2024-04-23T01:02:47.193006Z",
     "iopub.status.busy": "2024-04-23T01:02:47.191979Z",
     "iopub.status.idle": "2024-04-23T01:02:47.213369Z",
     "shell.execute_reply": "2024-04-23T01:02:47.211938Z"
    },
    "papermill": {
     "duration": 0.072044,
     "end_time": "2024-04-23T01:02:47.216239",
     "exception": false,
     "start_time": "2024-04-23T01:02:47.144195",
     "status": "completed"
    },
    "tags": []
   },
   "outputs": [
    {
     "data": {
      "text/html": [
       "<div>\n",
       "<style scoped>\n",
       "    .dataframe tbody tr th:only-of-type {\n",
       "        vertical-align: middle;\n",
       "    }\n",
       "\n",
       "    .dataframe tbody tr th {\n",
       "        vertical-align: top;\n",
       "    }\n",
       "\n",
       "    .dataframe thead th {\n",
       "        text-align: right;\n",
       "    }\n",
       "</style>\n",
       "<table border=\"1\" class=\"dataframe\">\n",
       "  <thead>\n",
       "    <tr style=\"text-align: right;\">\n",
       "      <th></th>\n",
       "      <th>symboling</th>\n",
       "      <th>normalized-losses</th>\n",
       "      <th>make</th>\n",
       "      <th>fuel-type</th>\n",
       "      <th>body-style</th>\n",
       "      <th>drive-wheels</th>\n",
       "      <th>engine-location</th>\n",
       "      <th>width</th>\n",
       "      <th>height</th>\n",
       "      <th>engine-type</th>\n",
       "      <th>engine-size</th>\n",
       "      <th>horsepower</th>\n",
       "      <th>price</th>\n",
       "      <th>city-L/100km</th>\n",
       "      <th>highway-L/100km</th>\n",
       "    </tr>\n",
       "  </thead>\n",
       "  <tbody>\n",
       "    <tr>\n",
       "      <th>0</th>\n",
       "      <td>3</td>\n",
       "      <td>122.0</td>\n",
       "      <td>alfa-romero</td>\n",
       "      <td>gas</td>\n",
       "      <td>convertible</td>\n",
       "      <td>rwd</td>\n",
       "      <td>front</td>\n",
       "      <td>64.1</td>\n",
       "      <td>48.8</td>\n",
       "      <td>dohc</td>\n",
       "      <td>130</td>\n",
       "      <td>111.0</td>\n",
       "      <td>13495</td>\n",
       "      <td>11.2</td>\n",
       "      <td>8.7</td>\n",
       "    </tr>\n",
       "    <tr>\n",
       "      <th>1</th>\n",
       "      <td>3</td>\n",
       "      <td>122.0</td>\n",
       "      <td>alfa-romero</td>\n",
       "      <td>gas</td>\n",
       "      <td>convertible</td>\n",
       "      <td>rwd</td>\n",
       "      <td>front</td>\n",
       "      <td>64.1</td>\n",
       "      <td>48.8</td>\n",
       "      <td>dohc</td>\n",
       "      <td>130</td>\n",
       "      <td>111.0</td>\n",
       "      <td>16500</td>\n",
       "      <td>11.2</td>\n",
       "      <td>8.7</td>\n",
       "    </tr>\n",
       "    <tr>\n",
       "      <th>2</th>\n",
       "      <td>1</td>\n",
       "      <td>122.0</td>\n",
       "      <td>alfa-romero</td>\n",
       "      <td>gas</td>\n",
       "      <td>hatchback</td>\n",
       "      <td>rwd</td>\n",
       "      <td>front</td>\n",
       "      <td>65.5</td>\n",
       "      <td>52.4</td>\n",
       "      <td>ohcv</td>\n",
       "      <td>152</td>\n",
       "      <td>154.0</td>\n",
       "      <td>16500</td>\n",
       "      <td>12.4</td>\n",
       "      <td>9.0</td>\n",
       "    </tr>\n",
       "    <tr>\n",
       "      <th>3</th>\n",
       "      <td>2</td>\n",
       "      <td>164.0</td>\n",
       "      <td>audi</td>\n",
       "      <td>gas</td>\n",
       "      <td>sedan</td>\n",
       "      <td>fwd</td>\n",
       "      <td>front</td>\n",
       "      <td>66.2</td>\n",
       "      <td>54.3</td>\n",
       "      <td>ohc</td>\n",
       "      <td>109</td>\n",
       "      <td>102.0</td>\n",
       "      <td>13950</td>\n",
       "      <td>9.8</td>\n",
       "      <td>7.8</td>\n",
       "    </tr>\n",
       "    <tr>\n",
       "      <th>4</th>\n",
       "      <td>2</td>\n",
       "      <td>164.0</td>\n",
       "      <td>audi</td>\n",
       "      <td>gas</td>\n",
       "      <td>sedan</td>\n",
       "      <td>4wd</td>\n",
       "      <td>front</td>\n",
       "      <td>66.4</td>\n",
       "      <td>54.3</td>\n",
       "      <td>ohc</td>\n",
       "      <td>136</td>\n",
       "      <td>115.0</td>\n",
       "      <td>17450</td>\n",
       "      <td>13.1</td>\n",
       "      <td>10.7</td>\n",
       "    </tr>\n",
       "    <tr>\n",
       "      <th>...</th>\n",
       "      <td>...</td>\n",
       "      <td>...</td>\n",
       "      <td>...</td>\n",
       "      <td>...</td>\n",
       "      <td>...</td>\n",
       "      <td>...</td>\n",
       "      <td>...</td>\n",
       "      <td>...</td>\n",
       "      <td>...</td>\n",
       "      <td>...</td>\n",
       "      <td>...</td>\n",
       "      <td>...</td>\n",
       "      <td>...</td>\n",
       "      <td>...</td>\n",
       "      <td>...</td>\n",
       "    </tr>\n",
       "    <tr>\n",
       "      <th>189</th>\n",
       "      <td>-1</td>\n",
       "      <td>95.0</td>\n",
       "      <td>volvo</td>\n",
       "      <td>gas</td>\n",
       "      <td>sedan</td>\n",
       "      <td>rwd</td>\n",
       "      <td>front</td>\n",
       "      <td>68.9</td>\n",
       "      <td>55.5</td>\n",
       "      <td>ohc</td>\n",
       "      <td>141</td>\n",
       "      <td>114.0</td>\n",
       "      <td>16845</td>\n",
       "      <td>10.2</td>\n",
       "      <td>8.4</td>\n",
       "    </tr>\n",
       "    <tr>\n",
       "      <th>190</th>\n",
       "      <td>-1</td>\n",
       "      <td>95.0</td>\n",
       "      <td>volvo</td>\n",
       "      <td>gas</td>\n",
       "      <td>sedan</td>\n",
       "      <td>rwd</td>\n",
       "      <td>front</td>\n",
       "      <td>68.8</td>\n",
       "      <td>55.5</td>\n",
       "      <td>ohc</td>\n",
       "      <td>141</td>\n",
       "      <td>160.0</td>\n",
       "      <td>19045</td>\n",
       "      <td>12.4</td>\n",
       "      <td>9.4</td>\n",
       "    </tr>\n",
       "    <tr>\n",
       "      <th>191</th>\n",
       "      <td>-1</td>\n",
       "      <td>95.0</td>\n",
       "      <td>volvo</td>\n",
       "      <td>gas</td>\n",
       "      <td>sedan</td>\n",
       "      <td>rwd</td>\n",
       "      <td>front</td>\n",
       "      <td>68.9</td>\n",
       "      <td>55.5</td>\n",
       "      <td>ohcv</td>\n",
       "      <td>173</td>\n",
       "      <td>134.0</td>\n",
       "      <td>21485</td>\n",
       "      <td>13.1</td>\n",
       "      <td>10.2</td>\n",
       "    </tr>\n",
       "    <tr>\n",
       "      <th>192</th>\n",
       "      <td>-1</td>\n",
       "      <td>95.0</td>\n",
       "      <td>volvo</td>\n",
       "      <td>diesel</td>\n",
       "      <td>sedan</td>\n",
       "      <td>rwd</td>\n",
       "      <td>front</td>\n",
       "      <td>68.9</td>\n",
       "      <td>55.5</td>\n",
       "      <td>ohc</td>\n",
       "      <td>145</td>\n",
       "      <td>106.0</td>\n",
       "      <td>22470</td>\n",
       "      <td>9.0</td>\n",
       "      <td>8.7</td>\n",
       "    </tr>\n",
       "    <tr>\n",
       "      <th>193</th>\n",
       "      <td>-1</td>\n",
       "      <td>95.0</td>\n",
       "      <td>volvo</td>\n",
       "      <td>gas</td>\n",
       "      <td>sedan</td>\n",
       "      <td>rwd</td>\n",
       "      <td>front</td>\n",
       "      <td>68.9</td>\n",
       "      <td>55.5</td>\n",
       "      <td>ohc</td>\n",
       "      <td>141</td>\n",
       "      <td>114.0</td>\n",
       "      <td>22625</td>\n",
       "      <td>12.4</td>\n",
       "      <td>9.4</td>\n",
       "    </tr>\n",
       "  </tbody>\n",
       "</table>\n",
       "<p>194 rows × 15 columns</p>\n",
       "</div>"
      ],
      "text/plain": [
       "     symboling  normalized-losses         make fuel-type   body-style  \\\n",
       "0            3              122.0  alfa-romero       gas  convertible   \n",
       "1            3              122.0  alfa-romero       gas  convertible   \n",
       "2            1              122.0  alfa-romero       gas    hatchback   \n",
       "3            2              164.0         audi       gas        sedan   \n",
       "4            2              164.0         audi       gas        sedan   \n",
       "..         ...                ...          ...       ...          ...   \n",
       "189         -1               95.0        volvo       gas        sedan   \n",
       "190         -1               95.0        volvo       gas        sedan   \n",
       "191         -1               95.0        volvo       gas        sedan   \n",
       "192         -1               95.0        volvo    diesel        sedan   \n",
       "193         -1               95.0        volvo       gas        sedan   \n",
       "\n",
       "    drive-wheels engine-location  width  height engine-type  engine-size  \\\n",
       "0            rwd           front   64.1    48.8        dohc          130   \n",
       "1            rwd           front   64.1    48.8        dohc          130   \n",
       "2            rwd           front   65.5    52.4        ohcv          152   \n",
       "3            fwd           front   66.2    54.3         ohc          109   \n",
       "4            4wd           front   66.4    54.3         ohc          136   \n",
       "..           ...             ...    ...     ...         ...          ...   \n",
       "189          rwd           front   68.9    55.5         ohc          141   \n",
       "190          rwd           front   68.8    55.5         ohc          141   \n",
       "191          rwd           front   68.9    55.5        ohcv          173   \n",
       "192          rwd           front   68.9    55.5         ohc          145   \n",
       "193          rwd           front   68.9    55.5         ohc          141   \n",
       "\n",
       "     horsepower  price  city-L/100km  highway-L/100km  \n",
       "0         111.0  13495          11.2              8.7  \n",
       "1         111.0  16500          11.2              8.7  \n",
       "2         154.0  16500          12.4              9.0  \n",
       "3         102.0  13950           9.8              7.8  \n",
       "4         115.0  17450          13.1             10.7  \n",
       "..          ...    ...           ...              ...  \n",
       "189       114.0  16845          10.2              8.4  \n",
       "190       160.0  19045          12.4              9.4  \n",
       "191       134.0  21485          13.1             10.2  \n",
       "192       106.0  22470           9.0              8.7  \n",
       "193       114.0  22625          12.4              9.4  \n",
       "\n",
       "[194 rows x 15 columns]"
      ]
     },
     "execution_count": 43,
     "metadata": {},
     "output_type": "execute_result"
    }
   ],
   "source": [
    "df"
   ]
  },
  {
   "cell_type": "code",
   "execution_count": 44,
   "id": "4aeffbbe",
   "metadata": {
    "execution": {
     "iopub.execute_input": "2024-04-23T01:02:47.311403Z",
     "iopub.status.busy": "2024-04-23T01:02:47.310905Z",
     "iopub.status.idle": "2024-04-23T01:02:47.318203Z",
     "shell.execute_reply": "2024-04-23T01:02:47.317313Z"
    },
    "papermill": {
     "duration": 0.057737,
     "end_time": "2024-04-23T01:02:47.320458",
     "exception": false,
     "start_time": "2024-04-23T01:02:47.262721",
     "status": "completed"
    },
    "tags": []
   },
   "outputs": [
    {
     "data": {
      "text/plain": [
       "(15,)"
      ]
     },
     "execution_count": 44,
     "metadata": {},
     "output_type": "execute_result"
    }
   ],
   "source": [
    "df.columns.shape"
   ]
  },
  {
   "cell_type": "markdown",
   "id": "43379a4c",
   "metadata": {
    "papermill": {
     "duration": 0.046102,
     "end_time": "2024-04-23T01:02:47.412509",
     "exception": false,
     "start_time": "2024-04-23T01:02:47.366407",
     "status": "completed"
    },
    "tags": []
   },
   "source": [
    "## Normalization"
   ]
  },
  {
   "cell_type": "code",
   "execution_count": 45,
   "id": "5e682904",
   "metadata": {
    "execution": {
     "iopub.execute_input": "2024-04-23T01:02:47.508297Z",
     "iopub.status.busy": "2024-04-23T01:02:47.507542Z",
     "iopub.status.idle": "2024-04-23T01:02:48.372510Z",
     "shell.execute_reply": "2024-04-23T01:02:48.371117Z"
    },
    "papermill": {
     "duration": 0.915343,
     "end_time": "2024-04-23T01:02:48.375232",
     "exception": false,
     "start_time": "2024-04-23T01:02:47.459889",
     "status": "completed"
    },
    "tags": []
   },
   "outputs": [
    {
     "data": {
      "text/plain": [
       "<Axes: title={'center': 'Height distribution'}, ylabel='Density'>"
      ]
     },
     "execution_count": 45,
     "metadata": {},
     "output_type": "execute_result"
    },
    {
     "data": {
      "image/png": "[encoded data removed]",
      "text/plain": [
       "<Figure size 2000x800 with 2 Axes>"
      ]
     },
     "metadata": {},
     "output_type": "display_data"
    }
   ],
   "source": [
    "plt.figure(figsize=(20,8))\n",
    "plt.subplot(121)\n",
    "sns.distplot(x=df[['width']])\n",
    "plt.title(\"Width distribution\")\n",
    "plt.subplot(122)\n",
    "plt.title('Height distribution')\n",
    "sns.distplot(x=df[['height']])"
   ]
  },
  {
   "cell_type": "code",
   "execution_count": 46,
   "id": "1102d914",
   "metadata": {
    "execution": {
     "iopub.execute_input": "2024-04-23T01:02:48.476086Z",
     "iopub.status.busy": "2024-04-23T01:02:48.474907Z",
     "iopub.status.idle": "2024-04-23T01:02:48.998250Z",
     "shell.execute_reply": "2024-04-23T01:02:48.997361Z"
    },
    "papermill": {
     "duration": 0.577328,
     "end_time": "2024-04-23T01:02:49.000512",
     "exception": false,
     "start_time": "2024-04-23T01:02:48.423184",
     "status": "completed"
    },
    "tags": []
   },
   "outputs": [
    {
     "data": {
      "text/plain": [
       "<Figure size 1600x800 with 0 Axes>"
      ]
     },
     "metadata": {},
     "output_type": "display_data"
    },
    {
     "data": {
      "image/png": "[encoded data removed]",
      "text/plain": [
       "<Figure size 640x480 with 1 Axes>"
      ]
     },
     "metadata": {},
     "output_type": "display_data"
    },
    {
     "data": {
      "image/png": "[encoded data removed]",
      "text/plain": [
       "<Figure size 640x480 with 1 Axes>"
      ]
     },
     "metadata": {},
     "output_type": "display_data"
    }
   ],
   "source": [
    "plt.figure(figsize=(16,8))\n",
    "sm.qqplot(df['width'], line='s')\n",
    "\n",
    "sm.qqplot(df['height'],line='s')\n",
    "plt.tight_layout()\n",
    "\n",
    "plt.show()\n",
    "\n",
    "\n",
    "\n"
   ]
  },
  {
   "cell_type": "markdown",
   "id": "7616ce05",
   "metadata": {
    "papermill": {
     "duration": 0.048553,
     "end_time": "2024-04-23T01:02:49.097723",
     "exception": false,
     "start_time": "2024-04-23T01:02:49.049170",
     "status": "completed"
    },
    "tags": []
   },
   "source": [
    "       - According to Q-Q plot Height column is Normally distributed and Width column is Bimodel\n",
    "       - Skewness of Width is 0.81 and skewness of Height is 0.0114"
   ]
  },
  {
   "cell_type": "code",
   "execution_count": 47,
   "id": "4f89fcc3",
   "metadata": {
    "execution": {
     "iopub.execute_input": "2024-04-23T01:02:49.198271Z",
     "iopub.status.busy": "2024-04-23T01:02:49.197796Z",
     "iopub.status.idle": "2024-04-23T01:02:49.211572Z",
     "shell.execute_reply": "2024-04-23T01:02:49.210524Z"
    },
    "papermill": {
     "duration": 0.067433,
     "end_time": "2024-04-23T01:02:49.214287",
     "exception": false,
     "start_time": "2024-04-23T01:02:49.146854",
     "status": "completed"
    },
    "tags": []
   },
   "outputs": [],
   "source": [
    "from sklearn.preprocessing import MinMaxScaler,StandardScaler\n",
    "ss=StandardScaler()\n",
    "mm=MinMaxScaler()\n",
    "df['height_scale']=ss.fit_transform(df[['height']])\n",
    "df['width_scale']=mm.fit_transform(df[['width']])\n"
   ]
  },
  {
   "cell_type": "code",
   "execution_count": 48,
   "id": "8c4ea600",
   "metadata": {
    "execution": {
     "iopub.execute_input": "2024-04-23T01:02:49.314529Z",
     "iopub.status.busy": "2024-04-23T01:02:49.313869Z",
     "iopub.status.idle": "2024-04-23T01:02:51.065816Z",
     "shell.execute_reply": "2024-04-23T01:02:51.064379Z"
    },
    "papermill": {
     "duration": 1.805876,
     "end_time": "2024-04-23T01:02:51.069304",
     "exception": false,
     "start_time": "2024-04-23T01:02:49.263428",
     "status": "completed"
    },
    "tags": []
   },
   "outputs": [
    {
     "data": {
      "text/plain": [
       "<Axes: xlabel='width_scale', ylabel='Density'>"
      ]
     },
     "execution_count": 48,
     "metadata": {},
     "output_type": "execute_result"
    },
    {
     "data": {
      "image/png": "[encoded data removed]",
      "text/plain": [
       "<Figure size 1000x600 with 4 Axes>"
      ]
     },
     "metadata": {},
     "output_type": "display_data"
    }
   ],
   "source": [
    "sns.set_style('whitegrid')\n",
    "plt.figure(figsize=(10,6))\n",
    "plt.subplot(221)\n",
    "sns.distplot(df['height'],color=\"orange\")\n",
    "plt.subplot(222)\n",
    "sns.distplot(df['height_scale'],color=\"orange\")\n",
    "plt.subplot(223)\n",
    "sns.distplot(df['width'],color=\"blue\")\n",
    "plt.subplot(224)\n",
    "sns.distplot(df['width_scale'],color=\"blue\")"
   ]
  },
  {
   "cell_type": "code",
   "execution_count": 49,
   "id": "b8b0f37e",
   "metadata": {
    "execution": {
     "iopub.execute_input": "2024-04-23T01:02:51.172939Z",
     "iopub.status.busy": "2024-04-23T01:02:51.172496Z",
     "iopub.status.idle": "2024-04-23T01:02:51.180548Z",
     "shell.execute_reply": "2024-04-23T01:02:51.178836Z"
    },
    "papermill": {
     "duration": 0.064435,
     "end_time": "2024-04-23T01:02:51.184807",
     "exception": false,
     "start_time": "2024-04-23T01:02:51.120372",
     "status": "completed"
    },
    "tags": []
   },
   "outputs": [],
   "source": [
    "df.drop(columns=['height','width'],axis=1,inplace=True)"
   ]
  },
  {
   "cell_type": "code",
   "execution_count": 50,
   "id": "d17be542",
   "metadata": {
    "execution": {
     "iopub.execute_input": "2024-04-23T01:02:51.288766Z",
     "iopub.status.busy": "2024-04-23T01:02:51.288308Z",
     "iopub.status.idle": "2024-04-23T01:02:51.296347Z",
     "shell.execute_reply": "2024-04-23T01:02:51.294943Z"
    },
    "papermill": {
     "duration": 0.063499,
     "end_time": "2024-04-23T01:02:51.298904",
     "exception": false,
     "start_time": "2024-04-23T01:02:51.235405",
     "status": "completed"
    },
    "tags": []
   },
   "outputs": [
    {
     "data": {
      "text/plain": [
       "(15,)"
      ]
     },
     "execution_count": 50,
     "metadata": {},
     "output_type": "execute_result"
    }
   ],
   "source": [
    "df.columns.shape"
   ]
  },
  {
   "cell_type": "markdown",
   "id": "85553d5a",
   "metadata": {
    "papermill": {
     "duration": 0.052856,
     "end_time": "2024-04-23T01:02:51.402444",
     "exception": false,
     "start_time": "2024-04-23T01:02:51.349588",
     "status": "completed"
    },
    "tags": []
   },
   "source": [
    "## Detection of Presence of duplicate values present in the dataframe"
   ]
  },
  {
   "cell_type": "code",
   "execution_count": 51,
   "id": "fef8fc30",
   "metadata": {
    "execution": {
     "iopub.execute_input": "2024-04-23T01:02:51.506693Z",
     "iopub.status.busy": "2024-04-23T01:02:51.506265Z",
     "iopub.status.idle": "2024-04-23T01:02:51.519935Z",
     "shell.execute_reply": "2024-04-23T01:02:51.519051Z"
    },
    "papermill": {
     "duration": 0.067892,
     "end_time": "2024-04-23T01:02:51.522432",
     "exception": false,
     "start_time": "2024-04-23T01:02:51.454540",
     "status": "completed"
    },
    "tags": []
   },
   "outputs": [
    {
     "data": {
      "text/plain": [
       "symboling            0\n",
       "normalized-losses    0\n",
       "make                 0\n",
       "fuel-type            0\n",
       "body-style           0\n",
       "drive-wheels         0\n",
       "engine-location      0\n",
       "engine-type          0\n",
       "engine-size          0\n",
       "horsepower           0\n",
       "price                0\n",
       "city-L/100km         0\n",
       "highway-L/100km      0\n",
       "height_scale         0\n",
       "width_scale          0\n",
       "dtype: int64"
      ]
     },
     "execution_count": 51,
     "metadata": {},
     "output_type": "execute_result"
    }
   ],
   "source": [
    "df[df.duplicated()].count()"
   ]
  },
  {
   "cell_type": "markdown",
   "id": "d17f3de7",
   "metadata": {
    "papermill": {
     "duration": 0.050631,
     "end_time": "2024-04-23T01:02:51.624445",
     "exception": false,
     "start_time": "2024-04-23T01:02:51.573814",
     "status": "completed"
    },
    "tags": []
   },
   "source": [
    "- There is no null values present in the dataset,if we have any means we will use \n",
    "      \n",
    "     <b> df.drop_duplicates(inplace=True)</b>\n",
    "     \n",
    " \n",
    " <br>\n",
    " <br>\n",
    "\n",
    "### What is the need to check the duplicated?\n",
    "     To checking the duplicated data in the dataset helps to identifying duplicated value ,dropping duplicates improves the models performance,it helps to identify the pattern "
   ]
  },
  {
   "cell_type": "code",
   "execution_count": 52,
   "id": "7c0fb6a6",
   "metadata": {
    "execution": {
     "iopub.execute_input": "2024-04-23T01:02:51.729231Z",
     "iopub.status.busy": "2024-04-23T01:02:51.728818Z",
     "iopub.status.idle": "2024-04-23T01:02:51.749532Z",
     "shell.execute_reply": "2024-04-23T01:02:51.748005Z"
    },
    "papermill": {
     "duration": 0.076373,
     "end_time": "2024-04-23T01:02:51.752272",
     "exception": false,
     "start_time": "2024-04-23T01:02:51.675899",
     "status": "completed"
    },
    "tags": []
   },
   "outputs": [
    {
     "data": {
      "text/html": [
       "<div>\n",
       "<style scoped>\n",
       "    .dataframe tbody tr th:only-of-type {\n",
       "        vertical-align: middle;\n",
       "    }\n",
       "\n",
       "    .dataframe tbody tr th {\n",
       "        vertical-align: top;\n",
       "    }\n",
       "\n",
       "    .dataframe thead th {\n",
       "        text-align: right;\n",
       "    }\n",
       "</style>\n",
       "<table border=\"1\" class=\"dataframe\">\n",
       "  <thead>\n",
       "    <tr style=\"text-align: right;\">\n",
       "      <th></th>\n",
       "      <th>symboling</th>\n",
       "      <th>normalized-losses</th>\n",
       "      <th>make</th>\n",
       "      <th>fuel-type</th>\n",
       "      <th>body-style</th>\n",
       "      <th>drive-wheels</th>\n",
       "      <th>engine-location</th>\n",
       "      <th>engine-type</th>\n",
       "      <th>engine-size</th>\n",
       "      <th>horsepower</th>\n",
       "      <th>price</th>\n",
       "      <th>city-L/100km</th>\n",
       "      <th>highway-L/100km</th>\n",
       "      <th>height_scale</th>\n",
       "      <th>width_scale</th>\n",
       "    </tr>\n",
       "  </thead>\n",
       "  <tbody>\n",
       "    <tr>\n",
       "      <th>0</th>\n",
       "      <td>3</td>\n",
       "      <td>122.0</td>\n",
       "      <td>alfa-romero</td>\n",
       "      <td>gas</td>\n",
       "      <td>convertible</td>\n",
       "      <td>rwd</td>\n",
       "      <td>front</td>\n",
       "      <td>dohc</td>\n",
       "      <td>130</td>\n",
       "      <td>111.0</td>\n",
       "      <td>13495</td>\n",
       "      <td>11.2</td>\n",
       "      <td>8.7</td>\n",
       "      <td>-2.1</td>\n",
       "      <td>0.3</td>\n",
       "    </tr>\n",
       "    <tr>\n",
       "      <th>1</th>\n",
       "      <td>3</td>\n",
       "      <td>122.0</td>\n",
       "      <td>alfa-romero</td>\n",
       "      <td>gas</td>\n",
       "      <td>convertible</td>\n",
       "      <td>rwd</td>\n",
       "      <td>front</td>\n",
       "      <td>dohc</td>\n",
       "      <td>130</td>\n",
       "      <td>111.0</td>\n",
       "      <td>16500</td>\n",
       "      <td>11.2</td>\n",
       "      <td>8.7</td>\n",
       "      <td>-2.1</td>\n",
       "      <td>0.3</td>\n",
       "    </tr>\n",
       "    <tr>\n",
       "      <th>2</th>\n",
       "      <td>1</td>\n",
       "      <td>122.0</td>\n",
       "      <td>alfa-romero</td>\n",
       "      <td>gas</td>\n",
       "      <td>hatchback</td>\n",
       "      <td>rwd</td>\n",
       "      <td>front</td>\n",
       "      <td>ohcv</td>\n",
       "      <td>152</td>\n",
       "      <td>154.0</td>\n",
       "      <td>16500</td>\n",
       "      <td>12.4</td>\n",
       "      <td>9.0</td>\n",
       "      <td>-0.6</td>\n",
       "      <td>0.4</td>\n",
       "    </tr>\n",
       "    <tr>\n",
       "      <th>3</th>\n",
       "      <td>2</td>\n",
       "      <td>164.0</td>\n",
       "      <td>audi</td>\n",
       "      <td>gas</td>\n",
       "      <td>sedan</td>\n",
       "      <td>fwd</td>\n",
       "      <td>front</td>\n",
       "      <td>ohc</td>\n",
       "      <td>109</td>\n",
       "      <td>102.0</td>\n",
       "      <td>13950</td>\n",
       "      <td>9.8</td>\n",
       "      <td>7.8</td>\n",
       "      <td>0.2</td>\n",
       "      <td>0.5</td>\n",
       "    </tr>\n",
       "    <tr>\n",
       "      <th>4</th>\n",
       "      <td>2</td>\n",
       "      <td>164.0</td>\n",
       "      <td>audi</td>\n",
       "      <td>gas</td>\n",
       "      <td>sedan</td>\n",
       "      <td>4wd</td>\n",
       "      <td>front</td>\n",
       "      <td>ohc</td>\n",
       "      <td>136</td>\n",
       "      <td>115.0</td>\n",
       "      <td>17450</td>\n",
       "      <td>13.1</td>\n",
       "      <td>10.7</td>\n",
       "      <td>0.2</td>\n",
       "      <td>0.5</td>\n",
       "    </tr>\n",
       "    <tr>\n",
       "      <th>5</th>\n",
       "      <td>2</td>\n",
       "      <td>122.0</td>\n",
       "      <td>audi</td>\n",
       "      <td>gas</td>\n",
       "      <td>sedan</td>\n",
       "      <td>fwd</td>\n",
       "      <td>front</td>\n",
       "      <td>ohc</td>\n",
       "      <td>136</td>\n",
       "      <td>110.0</td>\n",
       "      <td>15250</td>\n",
       "      <td>12.4</td>\n",
       "      <td>9.4</td>\n",
       "      <td>-0.3</td>\n",
       "      <td>0.5</td>\n",
       "    </tr>\n",
       "    <tr>\n",
       "      <th>6</th>\n",
       "      <td>1</td>\n",
       "      <td>158.0</td>\n",
       "      <td>audi</td>\n",
       "      <td>gas</td>\n",
       "      <td>sedan</td>\n",
       "      <td>fwd</td>\n",
       "      <td>front</td>\n",
       "      <td>ohc</td>\n",
       "      <td>136</td>\n",
       "      <td>110.0</td>\n",
       "      <td>17710</td>\n",
       "      <td>12.4</td>\n",
       "      <td>9.4</td>\n",
       "      <td>0.8</td>\n",
       "      <td>0.9</td>\n",
       "    </tr>\n",
       "    <tr>\n",
       "      <th>7</th>\n",
       "      <td>1</td>\n",
       "      <td>122.0</td>\n",
       "      <td>audi</td>\n",
       "      <td>gas</td>\n",
       "      <td>wagon</td>\n",
       "      <td>fwd</td>\n",
       "      <td>front</td>\n",
       "      <td>ohc</td>\n",
       "      <td>136</td>\n",
       "      <td>110.0</td>\n",
       "      <td>18920</td>\n",
       "      <td>12.4</td>\n",
       "      <td>9.4</td>\n",
       "      <td>0.8</td>\n",
       "      <td>0.9</td>\n",
       "    </tr>\n",
       "    <tr>\n",
       "      <th>8</th>\n",
       "      <td>1</td>\n",
       "      <td>158.0</td>\n",
       "      <td>audi</td>\n",
       "      <td>gas</td>\n",
       "      <td>sedan</td>\n",
       "      <td>fwd</td>\n",
       "      <td>front</td>\n",
       "      <td>ohc</td>\n",
       "      <td>131</td>\n",
       "      <td>140.0</td>\n",
       "      <td>23875</td>\n",
       "      <td>13.8</td>\n",
       "      <td>11.8</td>\n",
       "      <td>0.9</td>\n",
       "      <td>0.9</td>\n",
       "    </tr>\n",
       "    <tr>\n",
       "      <th>9</th>\n",
       "      <td>0</td>\n",
       "      <td>122.0</td>\n",
       "      <td>audi</td>\n",
       "      <td>gas</td>\n",
       "      <td>hatchback</td>\n",
       "      <td>4wd</td>\n",
       "      <td>front</td>\n",
       "      <td>ohc</td>\n",
       "      <td>131</td>\n",
       "      <td>160.0</td>\n",
       "      <td>12000</td>\n",
       "      <td>14.7</td>\n",
       "      <td>10.7</td>\n",
       "      <td>-0.7</td>\n",
       "      <td>0.6</td>\n",
       "    </tr>\n",
       "  </tbody>\n",
       "</table>\n",
       "</div>"
      ],
      "text/plain": [
       "   symboling  normalized-losses         make fuel-type   body-style  \\\n",
       "0          3              122.0  alfa-romero       gas  convertible   \n",
       "1          3              122.0  alfa-romero       gas  convertible   \n",
       "2          1              122.0  alfa-romero       gas    hatchback   \n",
       "3          2              164.0         audi       gas        sedan   \n",
       "4          2              164.0         audi       gas        sedan   \n",
       "5          2              122.0         audi       gas        sedan   \n",
       "6          1              158.0         audi       gas        sedan   \n",
       "7          1              122.0         audi       gas        wagon   \n",
       "8          1              158.0         audi       gas        sedan   \n",
       "9          0              122.0         audi       gas    hatchback   \n",
       "\n",
       "  drive-wheels engine-location engine-type  engine-size  horsepower  price  \\\n",
       "0          rwd           front        dohc          130       111.0  13495   \n",
       "1          rwd           front        dohc          130       111.0  16500   \n",
       "2          rwd           front        ohcv          152       154.0  16500   \n",
       "3          fwd           front         ohc          109       102.0  13950   \n",
       "4          4wd           front         ohc          136       115.0  17450   \n",
       "5          fwd           front         ohc          136       110.0  15250   \n",
       "6          fwd           front         ohc          136       110.0  17710   \n",
       "7          fwd           front         ohc          136       110.0  18920   \n",
       "8          fwd           front         ohc          131       140.0  23875   \n",
       "9          4wd           front         ohc          131       160.0  12000   \n",
       "\n",
       "   city-L/100km  highway-L/100km  height_scale  width_scale  \n",
       "0          11.2              8.7          -2.1          0.3  \n",
       "1          11.2              8.7          -2.1          0.3  \n",
       "2          12.4              9.0          -0.6          0.4  \n",
       "3           9.8              7.8           0.2          0.5  \n",
       "4          13.1             10.7           0.2          0.5  \n",
       "5          12.4              9.4          -0.3          0.5  \n",
       "6          12.4              9.4           0.8          0.9  \n",
       "7          12.4              9.4           0.8          0.9  \n",
       "8          13.8             11.8           0.9          0.9  \n",
       "9          14.7             10.7          -0.7          0.6  "
      ]
     },
     "execution_count": 52,
     "metadata": {},
     "output_type": "execute_result"
    }
   ],
   "source": [
    "df.head(10)"
   ]
  },
  {
   "cell_type": "markdown",
   "id": "6b721f1a",
   "metadata": {
    "papermill": {
     "duration": 0.051881,
     "end_time": "2024-04-23T01:02:51.854882",
     "exception": false,
     "start_time": "2024-04-23T01:02:51.803001",
     "status": "completed"
    },
    "tags": []
   },
   "source": [
    "## Data Encoding"
   ]
  },
  {
   "cell_type": "code",
   "execution_count": 53,
   "id": "e00afc82",
   "metadata": {
    "execution": {
     "iopub.execute_input": "2024-04-23T01:02:51.961250Z",
     "iopub.status.busy": "2024-04-23T01:02:51.960766Z",
     "iopub.status.idle": "2024-04-23T01:02:51.968793Z",
     "shell.execute_reply": "2024-04-23T01:02:51.967598Z"
    },
    "papermill": {
     "duration": 0.063842,
     "end_time": "2024-04-23T01:02:51.971099",
     "exception": false,
     "start_time": "2024-04-23T01:02:51.907257",
     "status": "completed"
    },
    "tags": []
   },
   "outputs": [
    {
     "data": {
      "text/plain": [
       "Index(['make', 'fuel-type', 'body-style', 'drive-wheels', 'engine-location',\n",
       "       'engine-type'],\n",
       "      dtype='object')"
      ]
     },
     "execution_count": 53,
     "metadata": {},
     "output_type": "execute_result"
    }
   ],
   "source": [
    "df.select_dtypes(include=object).columns"
   ]
  },
  {
   "cell_type": "markdown",
   "id": "9509979b",
   "metadata": {
    "papermill": {
     "duration": 0.051637,
     "end_time": "2024-04-23T01:02:52.073717",
     "exception": false,
     "start_time": "2024-04-23T01:02:52.022080",
     "status": "completed"
    },
    "tags": []
   },
   "source": [
    "- Converting the categorical data into numerical data"
   ]
  },
  {
   "cell_type": "code",
   "execution_count": 54,
   "id": "12fe8f90",
   "metadata": {
    "execution": {
     "iopub.execute_input": "2024-04-23T01:02:52.178639Z",
     "iopub.status.busy": "2024-04-23T01:02:52.178231Z",
     "iopub.status.idle": "2024-04-23T01:02:52.194320Z",
     "shell.execute_reply": "2024-04-23T01:02:52.193087Z"
    },
    "papermill": {
     "duration": 0.072086,
     "end_time": "2024-04-23T01:02:52.197074",
     "exception": false,
     "start_time": "2024-04-23T01:02:52.124988",
     "status": "completed"
    },
    "tags": []
   },
   "outputs": [
    {
     "data": {
      "text/html": [
       "<div>\n",
       "<style scoped>\n",
       "    .dataframe tbody tr th:only-of-type {\n",
       "        vertical-align: middle;\n",
       "    }\n",
       "\n",
       "    .dataframe tbody tr th {\n",
       "        vertical-align: top;\n",
       "    }\n",
       "\n",
       "    .dataframe thead th {\n",
       "        text-align: right;\n",
       "    }\n",
       "</style>\n",
       "<table border=\"1\" class=\"dataframe\">\n",
       "  <thead>\n",
       "    <tr style=\"text-align: right;\">\n",
       "      <th></th>\n",
       "      <th>fuel-type_diesel</th>\n",
       "      <th>fuel-type_gas</th>\n",
       "    </tr>\n",
       "  </thead>\n",
       "  <tbody>\n",
       "    <tr>\n",
       "      <th>0</th>\n",
       "      <td>False</td>\n",
       "      <td>True</td>\n",
       "    </tr>\n",
       "    <tr>\n",
       "      <th>1</th>\n",
       "      <td>False</td>\n",
       "      <td>True</td>\n",
       "    </tr>\n",
       "    <tr>\n",
       "      <th>2</th>\n",
       "      <td>False</td>\n",
       "      <td>True</td>\n",
       "    </tr>\n",
       "    <tr>\n",
       "      <th>3</th>\n",
       "      <td>False</td>\n",
       "      <td>True</td>\n",
       "    </tr>\n",
       "    <tr>\n",
       "      <th>4</th>\n",
       "      <td>False</td>\n",
       "      <td>True</td>\n",
       "    </tr>\n",
       "    <tr>\n",
       "      <th>...</th>\n",
       "      <td>...</td>\n",
       "      <td>...</td>\n",
       "    </tr>\n",
       "    <tr>\n",
       "      <th>189</th>\n",
       "      <td>False</td>\n",
       "      <td>True</td>\n",
       "    </tr>\n",
       "    <tr>\n",
       "      <th>190</th>\n",
       "      <td>False</td>\n",
       "      <td>True</td>\n",
       "    </tr>\n",
       "    <tr>\n",
       "      <th>191</th>\n",
       "      <td>False</td>\n",
       "      <td>True</td>\n",
       "    </tr>\n",
       "    <tr>\n",
       "      <th>192</th>\n",
       "      <td>True</td>\n",
       "      <td>False</td>\n",
       "    </tr>\n",
       "    <tr>\n",
       "      <th>193</th>\n",
       "      <td>False</td>\n",
       "      <td>True</td>\n",
       "    </tr>\n",
       "  </tbody>\n",
       "</table>\n",
       "<p>194 rows × 2 columns</p>\n",
       "</div>"
      ],
      "text/plain": [
       "     fuel-type_diesel  fuel-type_gas\n",
       "0               False           True\n",
       "1               False           True\n",
       "2               False           True\n",
       "3               False           True\n",
       "4               False           True\n",
       "..                ...            ...\n",
       "189             False           True\n",
       "190             False           True\n",
       "191             False           True\n",
       "192              True          False\n",
       "193             False           True\n",
       "\n",
       "[194 rows x 2 columns]"
      ]
     },
     "execution_count": 54,
     "metadata": {},
     "output_type": "execute_result"
    }
   ],
   "source": [
    "en_data=df[[ 'fuel-type']]\n",
    "pd.get_dummies(en_data)"
   ]
  },
  {
   "cell_type": "code",
   "execution_count": 55,
   "id": "765c17d3",
   "metadata": {
    "execution": {
     "iopub.execute_input": "2024-04-23T01:02:52.300722Z",
     "iopub.status.busy": "2024-04-23T01:02:52.300281Z",
     "iopub.status.idle": "2024-04-23T01:02:52.311750Z",
     "shell.execute_reply": "2024-04-23T01:02:52.310437Z"
    },
    "papermill": {
     "duration": 0.066616,
     "end_time": "2024-04-23T01:02:52.314708",
     "exception": false,
     "start_time": "2024-04-23T01:02:52.248092",
     "status": "completed"
    },
    "tags": []
   },
   "outputs": [],
   "source": [
    "from sklearn.preprocessing import OneHotEncoder\n",
    "ohe=OneHotEncoder(drop='first')\n",
    "df['fuel-type']=pd.DataFrame(data=ohe.fit_transform(en_data).toarray(),columns=['fuel-type'])\n"
   ]
  },
  {
   "cell_type": "code",
   "execution_count": 56,
   "id": "6dd03ad8",
   "metadata": {
    "execution": {
     "iopub.execute_input": "2024-04-23T01:02:52.421394Z",
     "iopub.status.busy": "2024-04-23T01:02:52.420439Z",
     "iopub.status.idle": "2024-04-23T01:02:52.429818Z",
     "shell.execute_reply": "2024-04-23T01:02:52.428827Z"
    },
    "papermill": {
     "duration": 0.064114,
     "end_time": "2024-04-23T01:02:52.432371",
     "exception": false,
     "start_time": "2024-04-23T01:02:52.368257",
     "status": "completed"
    },
    "tags": []
   },
   "outputs": [
    {
     "data": {
      "text/plain": [
       "0     1.0\n",
       "1     1.0\n",
       "2     1.0\n",
       "3     1.0\n",
       "4     1.0\n",
       "       ..\n",
       "189   1.0\n",
       "190   1.0\n",
       "191   1.0\n",
       "192   0.0\n",
       "193   1.0\n",
       "Name: fuel-type, Length: 194, dtype: float64"
      ]
     },
     "execution_count": 56,
     "metadata": {},
     "output_type": "execute_result"
    }
   ],
   "source": [
    "df['fuel-type']"
   ]
  },
  {
   "cell_type": "markdown",
   "id": "4963ab21",
   "metadata": {
    "papermill": {
     "duration": 0.057695,
     "end_time": "2024-04-23T01:02:52.553561",
     "exception": false,
     "start_time": "2024-04-23T01:02:52.495866",
     "status": "completed"
    },
    "tags": []
   },
   "source": [
    "## Label Encoder"
   ]
  },
  {
   "cell_type": "code",
   "execution_count": 57,
   "id": "8ca53f8a",
   "metadata": {
    "execution": {
     "iopub.execute_input": "2024-04-23T01:02:52.659847Z",
     "iopub.status.busy": "2024-04-23T01:02:52.659423Z",
     "iopub.status.idle": "2024-04-23T01:02:52.675084Z",
     "shell.execute_reply": "2024-04-23T01:02:52.673765Z"
    },
    "papermill": {
     "duration": 0.073275,
     "end_time": "2024-04-23T01:02:52.678083",
     "exception": false,
     "start_time": "2024-04-23T01:02:52.604808",
     "status": "completed"
    },
    "tags": []
   },
   "outputs": [
    {
     "data": {
      "text/html": [
       "<div>\n",
       "<style scoped>\n",
       "    .dataframe tbody tr th:only-of-type {\n",
       "        vertical-align: middle;\n",
       "    }\n",
       "\n",
       "    .dataframe tbody tr th {\n",
       "        vertical-align: top;\n",
       "    }\n",
       "\n",
       "    .dataframe thead th {\n",
       "        text-align: right;\n",
       "    }\n",
       "</style>\n",
       "<table border=\"1\" class=\"dataframe\">\n",
       "  <thead>\n",
       "    <tr style=\"text-align: right;\">\n",
       "      <th></th>\n",
       "      <th>make</th>\n",
       "      <th>body-style</th>\n",
       "      <th>drive-wheels</th>\n",
       "      <th>engine-location</th>\n",
       "      <th>engine-type</th>\n",
       "    </tr>\n",
       "  </thead>\n",
       "  <tbody>\n",
       "    <tr>\n",
       "      <th>0</th>\n",
       "      <td>alfa-romero</td>\n",
       "      <td>convertible</td>\n",
       "      <td>rwd</td>\n",
       "      <td>front</td>\n",
       "      <td>dohc</td>\n",
       "    </tr>\n",
       "    <tr>\n",
       "      <th>1</th>\n",
       "      <td>alfa-romero</td>\n",
       "      <td>convertible</td>\n",
       "      <td>rwd</td>\n",
       "      <td>front</td>\n",
       "      <td>dohc</td>\n",
       "    </tr>\n",
       "    <tr>\n",
       "      <th>2</th>\n",
       "      <td>alfa-romero</td>\n",
       "      <td>hatchback</td>\n",
       "      <td>rwd</td>\n",
       "      <td>front</td>\n",
       "      <td>ohcv</td>\n",
       "    </tr>\n",
       "    <tr>\n",
       "      <th>3</th>\n",
       "      <td>audi</td>\n",
       "      <td>sedan</td>\n",
       "      <td>fwd</td>\n",
       "      <td>front</td>\n",
       "      <td>ohc</td>\n",
       "    </tr>\n",
       "    <tr>\n",
       "      <th>4</th>\n",
       "      <td>audi</td>\n",
       "      <td>sedan</td>\n",
       "      <td>4wd</td>\n",
       "      <td>front</td>\n",
       "      <td>ohc</td>\n",
       "    </tr>\n",
       "    <tr>\n",
       "      <th>...</th>\n",
       "      <td>...</td>\n",
       "      <td>...</td>\n",
       "      <td>...</td>\n",
       "      <td>...</td>\n",
       "      <td>...</td>\n",
       "    </tr>\n",
       "    <tr>\n",
       "      <th>189</th>\n",
       "      <td>volvo</td>\n",
       "      <td>sedan</td>\n",
       "      <td>rwd</td>\n",
       "      <td>front</td>\n",
       "      <td>ohc</td>\n",
       "    </tr>\n",
       "    <tr>\n",
       "      <th>190</th>\n",
       "      <td>volvo</td>\n",
       "      <td>sedan</td>\n",
       "      <td>rwd</td>\n",
       "      <td>front</td>\n",
       "      <td>ohc</td>\n",
       "    </tr>\n",
       "    <tr>\n",
       "      <th>191</th>\n",
       "      <td>volvo</td>\n",
       "      <td>sedan</td>\n",
       "      <td>rwd</td>\n",
       "      <td>front</td>\n",
       "      <td>ohcv</td>\n",
       "    </tr>\n",
       "    <tr>\n",
       "      <th>192</th>\n",
       "      <td>volvo</td>\n",
       "      <td>sedan</td>\n",
       "      <td>rwd</td>\n",
       "      <td>front</td>\n",
       "      <td>ohc</td>\n",
       "    </tr>\n",
       "    <tr>\n",
       "      <th>193</th>\n",
       "      <td>volvo</td>\n",
       "      <td>sedan</td>\n",
       "      <td>rwd</td>\n",
       "      <td>front</td>\n",
       "      <td>ohc</td>\n",
       "    </tr>\n",
       "  </tbody>\n",
       "</table>\n",
       "<p>194 rows × 5 columns</p>\n",
       "</div>"
      ],
      "text/plain": [
       "            make   body-style drive-wheels engine-location engine-type\n",
       "0    alfa-romero  convertible          rwd           front        dohc\n",
       "1    alfa-romero  convertible          rwd           front        dohc\n",
       "2    alfa-romero    hatchback          rwd           front        ohcv\n",
       "3           audi        sedan          fwd           front         ohc\n",
       "4           audi        sedan          4wd           front         ohc\n",
       "..           ...          ...          ...             ...         ...\n",
       "189        volvo        sedan          rwd           front         ohc\n",
       "190        volvo        sedan          rwd           front         ohc\n",
       "191        volvo        sedan          rwd           front        ohcv\n",
       "192        volvo        sedan          rwd           front         ohc\n",
       "193        volvo        sedan          rwd           front         ohc\n",
       "\n",
       "[194 rows x 5 columns]"
      ]
     },
     "execution_count": 57,
     "metadata": {},
     "output_type": "execute_result"
    }
   ],
   "source": [
    "df.select_dtypes(include=object)"
   ]
  },
  {
   "cell_type": "code",
   "execution_count": 58,
   "id": "da54968f",
   "metadata": {
    "execution": {
     "iopub.execute_input": "2024-04-23T01:02:52.787778Z",
     "iopub.status.busy": "2024-04-23T01:02:52.787319Z",
     "iopub.status.idle": "2024-04-23T01:02:52.797602Z",
     "shell.execute_reply": "2024-04-23T01:02:52.796545Z"
    },
    "papermill": {
     "duration": 0.067648,
     "end_time": "2024-04-23T01:02:52.799980",
     "exception": false,
     "start_time": "2024-04-23T01:02:52.732332",
     "status": "completed"
    },
    "tags": []
   },
   "outputs": [],
   "source": [
    "from sklearn.preprocessing import LabelEncoder\n",
    "le=LabelEncoder()\n",
    "label_data=df[['make','body-style','engine-location','engine-type']]\n",
    "\n",
    "for col in label_data.columns:\n",
    "    df[col] = le.fit_transform(label_data[col])\n",
    "    \n",
    "\n"
   ]
  },
  {
   "cell_type": "code",
   "execution_count": 59,
   "id": "a22d0c4b",
   "metadata": {
    "execution": {
     "iopub.execute_input": "2024-04-23T01:02:52.908127Z",
     "iopub.status.busy": "2024-04-23T01:02:52.907671Z",
     "iopub.status.idle": "2024-04-23T01:02:52.929764Z",
     "shell.execute_reply": "2024-04-23T01:02:52.928565Z"
    },
    "papermill": {
     "duration": 0.079586,
     "end_time": "2024-04-23T01:02:52.932229",
     "exception": false,
     "start_time": "2024-04-23T01:02:52.852643",
     "status": "completed"
    },
    "tags": []
   },
   "outputs": [
    {
     "data": {
      "text/html": [
       "<div>\n",
       "<style scoped>\n",
       "    .dataframe tbody tr th:only-of-type {\n",
       "        vertical-align: middle;\n",
       "    }\n",
       "\n",
       "    .dataframe tbody tr th {\n",
       "        vertical-align: top;\n",
       "    }\n",
       "\n",
       "    .dataframe thead th {\n",
       "        text-align: right;\n",
       "    }\n",
       "</style>\n",
       "<table border=\"1\" class=\"dataframe\">\n",
       "  <thead>\n",
       "    <tr style=\"text-align: right;\">\n",
       "      <th></th>\n",
       "      <th>symboling</th>\n",
       "      <th>normalized-losses</th>\n",
       "      <th>make</th>\n",
       "      <th>fuel-type</th>\n",
       "      <th>body-style</th>\n",
       "      <th>drive-wheels</th>\n",
       "      <th>engine-location</th>\n",
       "      <th>engine-type</th>\n",
       "      <th>engine-size</th>\n",
       "      <th>horsepower</th>\n",
       "      <th>price</th>\n",
       "      <th>city-L/100km</th>\n",
       "      <th>highway-L/100km</th>\n",
       "      <th>height_scale</th>\n",
       "      <th>width_scale</th>\n",
       "    </tr>\n",
       "  </thead>\n",
       "  <tbody>\n",
       "    <tr>\n",
       "      <th>0</th>\n",
       "      <td>3</td>\n",
       "      <td>122.0</td>\n",
       "      <td>0</td>\n",
       "      <td>1.0</td>\n",
       "      <td>0</td>\n",
       "      <td>rwd</td>\n",
       "      <td>0</td>\n",
       "      <td>0</td>\n",
       "      <td>130</td>\n",
       "      <td>111.0</td>\n",
       "      <td>13495</td>\n",
       "      <td>11.2</td>\n",
       "      <td>8.7</td>\n",
       "      <td>-2.1</td>\n",
       "      <td>0.3</td>\n",
       "    </tr>\n",
       "    <tr>\n",
       "      <th>1</th>\n",
       "      <td>3</td>\n",
       "      <td>122.0</td>\n",
       "      <td>0</td>\n",
       "      <td>1.0</td>\n",
       "      <td>0</td>\n",
       "      <td>rwd</td>\n",
       "      <td>0</td>\n",
       "      <td>0</td>\n",
       "      <td>130</td>\n",
       "      <td>111.0</td>\n",
       "      <td>16500</td>\n",
       "      <td>11.2</td>\n",
       "      <td>8.7</td>\n",
       "      <td>-2.1</td>\n",
       "      <td>0.3</td>\n",
       "    </tr>\n",
       "    <tr>\n",
       "      <th>2</th>\n",
       "      <td>1</td>\n",
       "      <td>122.0</td>\n",
       "      <td>0</td>\n",
       "      <td>1.0</td>\n",
       "      <td>2</td>\n",
       "      <td>rwd</td>\n",
       "      <td>0</td>\n",
       "      <td>5</td>\n",
       "      <td>152</td>\n",
       "      <td>154.0</td>\n",
       "      <td>16500</td>\n",
       "      <td>12.4</td>\n",
       "      <td>9.0</td>\n",
       "      <td>-0.6</td>\n",
       "      <td>0.4</td>\n",
       "    </tr>\n",
       "    <tr>\n",
       "      <th>3</th>\n",
       "      <td>2</td>\n",
       "      <td>164.0</td>\n",
       "      <td>1</td>\n",
       "      <td>1.0</td>\n",
       "      <td>3</td>\n",
       "      <td>fwd</td>\n",
       "      <td>0</td>\n",
       "      <td>3</td>\n",
       "      <td>109</td>\n",
       "      <td>102.0</td>\n",
       "      <td>13950</td>\n",
       "      <td>9.8</td>\n",
       "      <td>7.8</td>\n",
       "      <td>0.2</td>\n",
       "      <td>0.5</td>\n",
       "    </tr>\n",
       "    <tr>\n",
       "      <th>4</th>\n",
       "      <td>2</td>\n",
       "      <td>164.0</td>\n",
       "      <td>1</td>\n",
       "      <td>1.0</td>\n",
       "      <td>3</td>\n",
       "      <td>4wd</td>\n",
       "      <td>0</td>\n",
       "      <td>3</td>\n",
       "      <td>136</td>\n",
       "      <td>115.0</td>\n",
       "      <td>17450</td>\n",
       "      <td>13.1</td>\n",
       "      <td>10.7</td>\n",
       "      <td>0.2</td>\n",
       "      <td>0.5</td>\n",
       "    </tr>\n",
       "    <tr>\n",
       "      <th>...</th>\n",
       "      <td>...</td>\n",
       "      <td>...</td>\n",
       "      <td>...</td>\n",
       "      <td>...</td>\n",
       "      <td>...</td>\n",
       "      <td>...</td>\n",
       "      <td>...</td>\n",
       "      <td>...</td>\n",
       "      <td>...</td>\n",
       "      <td>...</td>\n",
       "      <td>...</td>\n",
       "      <td>...</td>\n",
       "      <td>...</td>\n",
       "      <td>...</td>\n",
       "      <td>...</td>\n",
       "    </tr>\n",
       "    <tr>\n",
       "      <th>189</th>\n",
       "      <td>-1</td>\n",
       "      <td>95.0</td>\n",
       "      <td>21</td>\n",
       "      <td>1.0</td>\n",
       "      <td>3</td>\n",
       "      <td>rwd</td>\n",
       "      <td>0</td>\n",
       "      <td>3</td>\n",
       "      <td>141</td>\n",
       "      <td>114.0</td>\n",
       "      <td>16845</td>\n",
       "      <td>10.2</td>\n",
       "      <td>8.4</td>\n",
       "      <td>0.7</td>\n",
       "      <td>0.7</td>\n",
       "    </tr>\n",
       "    <tr>\n",
       "      <th>190</th>\n",
       "      <td>-1</td>\n",
       "      <td>95.0</td>\n",
       "      <td>21</td>\n",
       "      <td>1.0</td>\n",
       "      <td>3</td>\n",
       "      <td>rwd</td>\n",
       "      <td>0</td>\n",
       "      <td>3</td>\n",
       "      <td>141</td>\n",
       "      <td>160.0</td>\n",
       "      <td>19045</td>\n",
       "      <td>12.4</td>\n",
       "      <td>9.4</td>\n",
       "      <td>0.7</td>\n",
       "      <td>0.7</td>\n",
       "    </tr>\n",
       "    <tr>\n",
       "      <th>191</th>\n",
       "      <td>-1</td>\n",
       "      <td>95.0</td>\n",
       "      <td>21</td>\n",
       "      <td>1.0</td>\n",
       "      <td>3</td>\n",
       "      <td>rwd</td>\n",
       "      <td>0</td>\n",
       "      <td>5</td>\n",
       "      <td>173</td>\n",
       "      <td>134.0</td>\n",
       "      <td>21485</td>\n",
       "      <td>13.1</td>\n",
       "      <td>10.2</td>\n",
       "      <td>0.7</td>\n",
       "      <td>0.7</td>\n",
       "    </tr>\n",
       "    <tr>\n",
       "      <th>192</th>\n",
       "      <td>-1</td>\n",
       "      <td>95.0</td>\n",
       "      <td>21</td>\n",
       "      <td>0.0</td>\n",
       "      <td>3</td>\n",
       "      <td>rwd</td>\n",
       "      <td>0</td>\n",
       "      <td>3</td>\n",
       "      <td>145</td>\n",
       "      <td>106.0</td>\n",
       "      <td>22470</td>\n",
       "      <td>9.0</td>\n",
       "      <td>8.7</td>\n",
       "      <td>0.7</td>\n",
       "      <td>0.7</td>\n",
       "    </tr>\n",
       "    <tr>\n",
       "      <th>193</th>\n",
       "      <td>-1</td>\n",
       "      <td>95.0</td>\n",
       "      <td>21</td>\n",
       "      <td>1.0</td>\n",
       "      <td>3</td>\n",
       "      <td>rwd</td>\n",
       "      <td>0</td>\n",
       "      <td>3</td>\n",
       "      <td>141</td>\n",
       "      <td>114.0</td>\n",
       "      <td>22625</td>\n",
       "      <td>12.4</td>\n",
       "      <td>9.4</td>\n",
       "      <td>0.7</td>\n",
       "      <td>0.7</td>\n",
       "    </tr>\n",
       "  </tbody>\n",
       "</table>\n",
       "<p>194 rows × 15 columns</p>\n",
       "</div>"
      ],
      "text/plain": [
       "     symboling  normalized-losses  make  fuel-type  body-style drive-wheels  \\\n",
       "0            3              122.0     0        1.0           0          rwd   \n",
       "1            3              122.0     0        1.0           0          rwd   \n",
       "2            1              122.0     0        1.0           2          rwd   \n",
       "3            2              164.0     1        1.0           3          fwd   \n",
       "4            2              164.0     1        1.0           3          4wd   \n",
       "..         ...                ...   ...        ...         ...          ...   \n",
       "189         -1               95.0    21        1.0           3          rwd   \n",
       "190         -1               95.0    21        1.0           3          rwd   \n",
       "191         -1               95.0    21        1.0           3          rwd   \n",
       "192         -1               95.0    21        0.0           3          rwd   \n",
       "193         -1               95.0    21        1.0           3          rwd   \n",
       "\n",
       "     engine-location  engine-type  engine-size  horsepower  price  \\\n",
       "0                  0            0          130       111.0  13495   \n",
       "1                  0            0          130       111.0  16500   \n",
       "2                  0            5          152       154.0  16500   \n",
       "3                  0            3          109       102.0  13950   \n",
       "4                  0            3          136       115.0  17450   \n",
       "..               ...          ...          ...         ...    ...   \n",
       "189                0            3          141       114.0  16845   \n",
       "190                0            3          141       160.0  19045   \n",
       "191                0            5          173       134.0  21485   \n",
       "192                0            3          145       106.0  22470   \n",
       "193                0            3          141       114.0  22625   \n",
       "\n",
       "     city-L/100km  highway-L/100km  height_scale  width_scale  \n",
       "0            11.2              8.7          -2.1          0.3  \n",
       "1            11.2              8.7          -2.1          0.3  \n",
       "2            12.4              9.0          -0.6          0.4  \n",
       "3             9.8              7.8           0.2          0.5  \n",
       "4            13.1             10.7           0.2          0.5  \n",
       "..            ...              ...           ...          ...  \n",
       "189          10.2              8.4           0.7          0.7  \n",
       "190          12.4              9.4           0.7          0.7  \n",
       "191          13.1             10.2           0.7          0.7  \n",
       "192           9.0              8.7           0.7          0.7  \n",
       "193          12.4              9.4           0.7          0.7  \n",
       "\n",
       "[194 rows x 15 columns]"
      ]
     },
     "execution_count": 59,
     "metadata": {},
     "output_type": "execute_result"
    }
   ],
   "source": [
    "df"
   ]
  },
  {
   "cell_type": "code",
   "execution_count": 60,
   "id": "d2ce0210",
   "metadata": {
    "execution": {
     "iopub.execute_input": "2024-04-23T01:02:53.038646Z",
     "iopub.status.busy": "2024-04-23T01:02:53.038207Z",
     "iopub.status.idle": "2024-04-23T01:02:53.047455Z",
     "shell.execute_reply": "2024-04-23T01:02:53.046321Z"
    },
    "papermill": {
     "duration": 0.065507,
     "end_time": "2024-04-23T01:02:53.049756",
     "exception": false,
     "start_time": "2024-04-23T01:02:52.984249",
     "status": "completed"
    },
    "tags": []
   },
   "outputs": [
    {
     "data": {
      "text/plain": [
       "drive-wheels\n",
       "fwd    115\n",
       "rwd     70\n",
       "4wd      9\n",
       "Name: count, dtype: int64"
      ]
     },
     "execution_count": 60,
     "metadata": {},
     "output_type": "execute_result"
    }
   ],
   "source": [
    "df['drive-wheels'].value_counts()"
   ]
  },
  {
   "cell_type": "markdown",
   "id": "034d0c73",
   "metadata": {
    "papermill": {
     "duration": 0.052575,
     "end_time": "2024-04-23T01:02:53.156574",
     "exception": false,
     "start_time": "2024-04-23T01:02:53.103999",
     "status": "completed"
    },
    "tags": []
   },
   "source": [
    "### Ordinal Encoding"
   ]
  },
  {
   "cell_type": "code",
   "execution_count": 61,
   "id": "faaea70b",
   "metadata": {
    "execution": {
     "iopub.execute_input": "2024-04-23T01:02:53.264354Z",
     "iopub.status.busy": "2024-04-23T01:02:53.263909Z",
     "iopub.status.idle": "2024-04-23T01:02:53.272708Z",
     "shell.execute_reply": "2024-04-23T01:02:53.271319Z"
    },
    "papermill": {
     "duration": 0.066208,
     "end_time": "2024-04-23T01:02:53.275242",
     "exception": false,
     "start_time": "2024-04-23T01:02:53.209034",
     "status": "completed"
    },
    "tags": []
   },
   "outputs": [],
   "source": [
    "from sklearn.preprocessing import OrdinalEncoder\n",
    "order=[['fwd','rwd','4wd']]\n",
    "ore=OrdinalEncoder(categories=order)\n",
    "df['drive-wheels']=ore.fit_transform(df[['drive-wheels']])"
   ]
  },
  {
   "cell_type": "code",
   "execution_count": 62,
   "id": "5a7853dd",
   "metadata": {
    "execution": {
     "iopub.execute_input": "2024-04-23T01:02:53.383506Z",
     "iopub.status.busy": "2024-04-23T01:02:53.383072Z",
     "iopub.status.idle": "2024-04-23T01:02:53.392562Z",
     "shell.execute_reply": "2024-04-23T01:02:53.391338Z"
    },
    "papermill": {
     "duration": 0.066647,
     "end_time": "2024-04-23T01:02:53.394882",
     "exception": false,
     "start_time": "2024-04-23T01:02:53.328235",
     "status": "completed"
    },
    "tags": []
   },
   "outputs": [
    {
     "data": {
      "text/plain": [
       "symboling              int64\n",
       "normalized-losses    float64\n",
       "make                   int64\n",
       "fuel-type            float64\n",
       "body-style             int64\n",
       "drive-wheels         float64\n",
       "engine-location        int64\n",
       "engine-type            int64\n",
       "engine-size            int64\n",
       "horsepower           float64\n",
       "price                  int64\n",
       "city-L/100km         float64\n",
       "highway-L/100km      float64\n",
       "height_scale         float64\n",
       "width_scale          float64\n",
       "dtype: object"
      ]
     },
     "execution_count": 62,
     "metadata": {},
     "output_type": "execute_result"
    }
   ],
   "source": [
    "df.dtypes"
   ]
  },
  {
   "cell_type": "code",
   "execution_count": 63,
   "id": "da7928e7",
   "metadata": {
    "execution": {
     "iopub.execute_input": "2024-04-23T01:02:53.504037Z",
     "iopub.status.busy": "2024-04-23T01:02:53.503602Z",
     "iopub.status.idle": "2024-04-23T01:02:53.524905Z",
     "shell.execute_reply": "2024-04-23T01:02:53.523675Z"
    },
    "papermill": {
     "duration": 0.079128,
     "end_time": "2024-04-23T01:02:53.527194",
     "exception": false,
     "start_time": "2024-04-23T01:02:53.448066",
     "status": "completed"
    },
    "tags": []
   },
   "outputs": [
    {
     "data": {
      "text/html": [
       "<div>\n",
       "<style scoped>\n",
       "    .dataframe tbody tr th:only-of-type {\n",
       "        vertical-align: middle;\n",
       "    }\n",
       "\n",
       "    .dataframe tbody tr th {\n",
       "        vertical-align: top;\n",
       "    }\n",
       "\n",
       "    .dataframe thead th {\n",
       "        text-align: right;\n",
       "    }\n",
       "</style>\n",
       "<table border=\"1\" class=\"dataframe\">\n",
       "  <thead>\n",
       "    <tr style=\"text-align: right;\">\n",
       "      <th></th>\n",
       "      <th>symboling</th>\n",
       "      <th>normalized-losses</th>\n",
       "      <th>make</th>\n",
       "      <th>fuel-type</th>\n",
       "      <th>body-style</th>\n",
       "      <th>drive-wheels</th>\n",
       "      <th>engine-location</th>\n",
       "      <th>engine-type</th>\n",
       "      <th>engine-size</th>\n",
       "      <th>horsepower</th>\n",
       "      <th>price</th>\n",
       "      <th>city-L/100km</th>\n",
       "      <th>highway-L/100km</th>\n",
       "      <th>height_scale</th>\n",
       "      <th>width_scale</th>\n",
       "    </tr>\n",
       "  </thead>\n",
       "  <tbody>\n",
       "    <tr>\n",
       "      <th>0</th>\n",
       "      <td>3</td>\n",
       "      <td>122.0</td>\n",
       "      <td>0</td>\n",
       "      <td>1.0</td>\n",
       "      <td>0</td>\n",
       "      <td>1.0</td>\n",
       "      <td>0</td>\n",
       "      <td>0</td>\n",
       "      <td>130</td>\n",
       "      <td>111.0</td>\n",
       "      <td>13495</td>\n",
       "      <td>11.2</td>\n",
       "      <td>8.7</td>\n",
       "      <td>-2.1</td>\n",
       "      <td>0.3</td>\n",
       "    </tr>\n",
       "    <tr>\n",
       "      <th>1</th>\n",
       "      <td>3</td>\n",
       "      <td>122.0</td>\n",
       "      <td>0</td>\n",
       "      <td>1.0</td>\n",
       "      <td>0</td>\n",
       "      <td>1.0</td>\n",
       "      <td>0</td>\n",
       "      <td>0</td>\n",
       "      <td>130</td>\n",
       "      <td>111.0</td>\n",
       "      <td>16500</td>\n",
       "      <td>11.2</td>\n",
       "      <td>8.7</td>\n",
       "      <td>-2.1</td>\n",
       "      <td>0.3</td>\n",
       "    </tr>\n",
       "    <tr>\n",
       "      <th>2</th>\n",
       "      <td>1</td>\n",
       "      <td>122.0</td>\n",
       "      <td>0</td>\n",
       "      <td>1.0</td>\n",
       "      <td>2</td>\n",
       "      <td>1.0</td>\n",
       "      <td>0</td>\n",
       "      <td>5</td>\n",
       "      <td>152</td>\n",
       "      <td>154.0</td>\n",
       "      <td>16500</td>\n",
       "      <td>12.4</td>\n",
       "      <td>9.0</td>\n",
       "      <td>-0.6</td>\n",
       "      <td>0.4</td>\n",
       "    </tr>\n",
       "    <tr>\n",
       "      <th>3</th>\n",
       "      <td>2</td>\n",
       "      <td>164.0</td>\n",
       "      <td>1</td>\n",
       "      <td>1.0</td>\n",
       "      <td>3</td>\n",
       "      <td>0.0</td>\n",
       "      <td>0</td>\n",
       "      <td>3</td>\n",
       "      <td>109</td>\n",
       "      <td>102.0</td>\n",
       "      <td>13950</td>\n",
       "      <td>9.8</td>\n",
       "      <td>7.8</td>\n",
       "      <td>0.2</td>\n",
       "      <td>0.5</td>\n",
       "    </tr>\n",
       "    <tr>\n",
       "      <th>4</th>\n",
       "      <td>2</td>\n",
       "      <td>164.0</td>\n",
       "      <td>1</td>\n",
       "      <td>1.0</td>\n",
       "      <td>3</td>\n",
       "      <td>2.0</td>\n",
       "      <td>0</td>\n",
       "      <td>3</td>\n",
       "      <td>136</td>\n",
       "      <td>115.0</td>\n",
       "      <td>17450</td>\n",
       "      <td>13.1</td>\n",
       "      <td>10.7</td>\n",
       "      <td>0.2</td>\n",
       "      <td>0.5</td>\n",
       "    </tr>\n",
       "    <tr>\n",
       "      <th>...</th>\n",
       "      <td>...</td>\n",
       "      <td>...</td>\n",
       "      <td>...</td>\n",
       "      <td>...</td>\n",
       "      <td>...</td>\n",
       "      <td>...</td>\n",
       "      <td>...</td>\n",
       "      <td>...</td>\n",
       "      <td>...</td>\n",
       "      <td>...</td>\n",
       "      <td>...</td>\n",
       "      <td>...</td>\n",
       "      <td>...</td>\n",
       "      <td>...</td>\n",
       "      <td>...</td>\n",
       "    </tr>\n",
       "    <tr>\n",
       "      <th>189</th>\n",
       "      <td>-1</td>\n",
       "      <td>95.0</td>\n",
       "      <td>21</td>\n",
       "      <td>1.0</td>\n",
       "      <td>3</td>\n",
       "      <td>1.0</td>\n",
       "      <td>0</td>\n",
       "      <td>3</td>\n",
       "      <td>141</td>\n",
       "      <td>114.0</td>\n",
       "      <td>16845</td>\n",
       "      <td>10.2</td>\n",
       "      <td>8.4</td>\n",
       "      <td>0.7</td>\n",
       "      <td>0.7</td>\n",
       "    </tr>\n",
       "    <tr>\n",
       "      <th>190</th>\n",
       "      <td>-1</td>\n",
       "      <td>95.0</td>\n",
       "      <td>21</td>\n",
       "      <td>1.0</td>\n",
       "      <td>3</td>\n",
       "      <td>1.0</td>\n",
       "      <td>0</td>\n",
       "      <td>3</td>\n",
       "      <td>141</td>\n",
       "      <td>160.0</td>\n",
       "      <td>19045</td>\n",
       "      <td>12.4</td>\n",
       "      <td>9.4</td>\n",
       "      <td>0.7</td>\n",
       "      <td>0.7</td>\n",
       "    </tr>\n",
       "    <tr>\n",
       "      <th>191</th>\n",
       "      <td>-1</td>\n",
       "      <td>95.0</td>\n",
       "      <td>21</td>\n",
       "      <td>1.0</td>\n",
       "      <td>3</td>\n",
       "      <td>1.0</td>\n",
       "      <td>0</td>\n",
       "      <td>5</td>\n",
       "      <td>173</td>\n",
       "      <td>134.0</td>\n",
       "      <td>21485</td>\n",
       "      <td>13.1</td>\n",
       "      <td>10.2</td>\n",
       "      <td>0.7</td>\n",
       "      <td>0.7</td>\n",
       "    </tr>\n",
       "    <tr>\n",
       "      <th>192</th>\n",
       "      <td>-1</td>\n",
       "      <td>95.0</td>\n",
       "      <td>21</td>\n",
       "      <td>0.0</td>\n",
       "      <td>3</td>\n",
       "      <td>1.0</td>\n",
       "      <td>0</td>\n",
       "      <td>3</td>\n",
       "      <td>145</td>\n",
       "      <td>106.0</td>\n",
       "      <td>22470</td>\n",
       "      <td>9.0</td>\n",
       "      <td>8.7</td>\n",
       "      <td>0.7</td>\n",
       "      <td>0.7</td>\n",
       "    </tr>\n",
       "    <tr>\n",
       "      <th>193</th>\n",
       "      <td>-1</td>\n",
       "      <td>95.0</td>\n",
       "      <td>21</td>\n",
       "      <td>1.0</td>\n",
       "      <td>3</td>\n",
       "      <td>1.0</td>\n",
       "      <td>0</td>\n",
       "      <td>3</td>\n",
       "      <td>141</td>\n",
       "      <td>114.0</td>\n",
       "      <td>22625</td>\n",
       "      <td>12.4</td>\n",
       "      <td>9.4</td>\n",
       "      <td>0.7</td>\n",
       "      <td>0.7</td>\n",
       "    </tr>\n",
       "  </tbody>\n",
       "</table>\n",
       "<p>194 rows × 15 columns</p>\n",
       "</div>"
      ],
      "text/plain": [
       "     symboling  normalized-losses  make  fuel-type  body-style  drive-wheels  \\\n",
       "0            3              122.0     0        1.0           0           1.0   \n",
       "1            3              122.0     0        1.0           0           1.0   \n",
       "2            1              122.0     0        1.0           2           1.0   \n",
       "3            2              164.0     1        1.0           3           0.0   \n",
       "4            2              164.0     1        1.0           3           2.0   \n",
       "..         ...                ...   ...        ...         ...           ...   \n",
       "189         -1               95.0    21        1.0           3           1.0   \n",
       "190         -1               95.0    21        1.0           3           1.0   \n",
       "191         -1               95.0    21        1.0           3           1.0   \n",
       "192         -1               95.0    21        0.0           3           1.0   \n",
       "193         -1               95.0    21        1.0           3           1.0   \n",
       "\n",
       "     engine-location  engine-type  engine-size  horsepower  price  \\\n",
       "0                  0            0          130       111.0  13495   \n",
       "1                  0            0          130       111.0  16500   \n",
       "2                  0            5          152       154.0  16500   \n",
       "3                  0            3          109       102.0  13950   \n",
       "4                  0            3          136       115.0  17450   \n",
       "..               ...          ...          ...         ...    ...   \n",
       "189                0            3          141       114.0  16845   \n",
       "190                0            3          141       160.0  19045   \n",
       "191                0            5          173       134.0  21485   \n",
       "192                0            3          145       106.0  22470   \n",
       "193                0            3          141       114.0  22625   \n",
       "\n",
       "     city-L/100km  highway-L/100km  height_scale  width_scale  \n",
       "0            11.2              8.7          -2.1          0.3  \n",
       "1            11.2              8.7          -2.1          0.3  \n",
       "2            12.4              9.0          -0.6          0.4  \n",
       "3             9.8              7.8           0.2          0.5  \n",
       "4            13.1             10.7           0.2          0.5  \n",
       "..            ...              ...           ...          ...  \n",
       "189          10.2              8.4           0.7          0.7  \n",
       "190          12.4              9.4           0.7          0.7  \n",
       "191          13.1             10.2           0.7          0.7  \n",
       "192           9.0              8.7           0.7          0.7  \n",
       "193          12.4              9.4           0.7          0.7  \n",
       "\n",
       "[194 rows x 15 columns]"
      ]
     },
     "execution_count": 63,
     "metadata": {},
     "output_type": "execute_result"
    }
   ],
   "source": [
    "df"
   ]
  },
  {
   "cell_type": "markdown",
   "id": "8b2db061",
   "metadata": {
    "papermill": {
     "duration": 0.052648,
     "end_time": "2024-04-23T01:02:53.633015",
     "exception": false,
     "start_time": "2024-04-23T01:02:53.580367",
     "status": "completed"
    },
    "tags": []
   },
   "source": [
    "# 5. Model Building"
   ]
  },
  {
   "cell_type": "code",
   "execution_count": 64,
   "id": "df4fbf9f",
   "metadata": {
    "execution": {
     "iopub.execute_input": "2024-04-23T01:02:53.741522Z",
     "iopub.status.busy": "2024-04-23T01:02:53.741106Z",
     "iopub.status.idle": "2024-04-23T01:02:53.784208Z",
     "shell.execute_reply": "2024-04-23T01:02:53.782893Z"
    },
    "papermill": {
     "duration": 0.100429,
     "end_time": "2024-04-23T01:02:53.786651",
     "exception": false,
     "start_time": "2024-04-23T01:02:53.686222",
     "status": "completed"
    },
    "tags": []
   },
   "outputs": [
    {
     "name": "stdout",
     "output_type": "stream",
     "text": [
      "r2_Score of LinearRegression() model on Training Data is: 87.25574791901636\n",
      "r2_Score of LinearRegression() model on Testing Data is: 82.59122740516723\n"
     ]
    }
   ],
   "source": [
    "training_score=[]\n",
    "testing_score=[]\n",
    "X=df.drop(columns=['price'],axis=1)\n",
    "y=df['price']\n",
    "X_train, X_test, y_train, y_test = train_test_split(X, y, random_state=0)\n",
    "\n",
    "\n",
    "def model_prediction(model):\n",
    "    model.fit(X_train,y_train)\n",
    "    X_train_pred = model.predict(X_train)\n",
    "    X_test_pred = model.predict(X_test)\n",
    "    a = r2_score(y_train,X_train_pred)*100\n",
    "    b = r2_score(y_test,X_test_pred)*100\n",
    "    training_score.append(a)\n",
    "    testing_score.append(b)\n",
    "    \n",
    "    print(f\"r2_Score of {model} model on Training Data is:\",a)\n",
    "    print(f\"r2_Score of {model} model on Testing Data is:\",b)\n",
    "    \n",
    "model_prediction(LinearRegression())"
   ]
  },
  {
   "cell_type": "code",
   "execution_count": 65,
   "id": "1a2fa6bb",
   "metadata": {
    "execution": {
     "iopub.execute_input": "2024-04-23T01:02:53.915144Z",
     "iopub.status.busy": "2024-04-23T01:02:53.914361Z",
     "iopub.status.idle": "2024-04-23T01:02:54.188101Z",
     "shell.execute_reply": "2024-04-23T01:02:54.186824Z"
    },
    "papermill": {
     "duration": 0.35043,
     "end_time": "2024-04-23T01:02:54.190505",
     "exception": false,
     "start_time": "2024-04-23T01:02:53.840075",
     "status": "completed"
    },
    "tags": []
   },
   "outputs": [
    {
     "name": "stdout",
     "output_type": "stream",
     "text": [
      "r2_Score of DecisionTreeRegressor() model on Training Data is: 99.41652530169382\n",
      "r2_Score of DecisionTreeRegressor() model on Testing Data is: 66.92927503063021\n",
      "r2_Score of RandomForestRegressor() model on Training Data is: 98.25549393858424\n",
      "r2_Score of RandomForestRegressor() model on Testing Data is: 78.34515515031025\n"
     ]
    }
   ],
   "source": [
    "model_prediction(DecisionTreeRegressor())\n",
    "model_prediction(RandomForestRegressor())"
   ]
  },
  {
   "cell_type": "code",
   "execution_count": 66,
   "id": "21ee2f97",
   "metadata": {
    "execution": {
     "iopub.execute_input": "2024-04-23T01:02:54.301932Z",
     "iopub.status.busy": "2024-04-23T01:02:54.301501Z",
     "iopub.status.idle": "2024-04-23T01:02:54.316949Z",
     "shell.execute_reply": "2024-04-23T01:02:54.315780Z"
    },
    "papermill": {
     "duration": 0.075171,
     "end_time": "2024-04-23T01:02:54.319551",
     "exception": false,
     "start_time": "2024-04-23T01:02:54.244380",
     "status": "completed"
    },
    "tags": []
   },
   "outputs": [
    {
     "data": {
      "text/html": [
       "<div>\n",
       "<style scoped>\n",
       "    .dataframe tbody tr th:only-of-type {\n",
       "        vertical-align: middle;\n",
       "    }\n",
       "\n",
       "    .dataframe tbody tr th {\n",
       "        vertical-align: top;\n",
       "    }\n",
       "\n",
       "    .dataframe thead th {\n",
       "        text-align: right;\n",
       "    }\n",
       "</style>\n",
       "<table border=\"1\" class=\"dataframe\">\n",
       "  <thead>\n",
       "    <tr style=\"text-align: right;\">\n",
       "      <th></th>\n",
       "      <th>models</th>\n",
       "      <th>Training_score</th>\n",
       "      <th>Testing_score</th>\n",
       "      <th>Diff</th>\n",
       "    </tr>\n",
       "  </thead>\n",
       "  <tbody>\n",
       "    <tr>\n",
       "      <th>0</th>\n",
       "      <td>LinearRegression</td>\n",
       "      <td>87.3</td>\n",
       "      <td>82.6</td>\n",
       "      <td>4.7</td>\n",
       "    </tr>\n",
       "    <tr>\n",
       "      <th>1</th>\n",
       "      <td>DecisionTreeRegressor</td>\n",
       "      <td>99.4</td>\n",
       "      <td>66.9</td>\n",
       "      <td>32.5</td>\n",
       "    </tr>\n",
       "    <tr>\n",
       "      <th>2</th>\n",
       "      <td>RandomTreeRegressor</td>\n",
       "      <td>98.3</td>\n",
       "      <td>78.3</td>\n",
       "      <td>19.9</td>\n",
       "    </tr>\n",
       "  </tbody>\n",
       "</table>\n",
       "</div>"
      ],
      "text/plain": [
       "                  models  Training_score  Testing_score  Diff\n",
       "0       LinearRegression            87.3           82.6   4.7\n",
       "1  DecisionTreeRegressor            99.4           66.9  32.5\n",
       "2    RandomTreeRegressor            98.3           78.3  19.9"
      ]
     },
     "execution_count": 66,
     "metadata": {},
     "output_type": "execute_result"
    }
   ],
   "source": [
    "models=['LinearRegression','DecisionTreeRegressor','RandomTreeRegressor']\n",
    "data={\"models\":models,\"Training_score\":training_score,\"Testing_score\":testing_score}\n",
    "result=pd.DataFrame(data=data)\n",
    "result['Diff']=result['Training_score']-result['Testing_score']\n",
    "result"
   ]
  },
  {
   "cell_type": "code",
   "execution_count": 67,
   "id": "1b13d7b4",
   "metadata": {
    "execution": {
     "iopub.execute_input": "2024-04-23T01:02:54.431446Z",
     "iopub.status.busy": "2024-04-23T01:02:54.430926Z",
     "iopub.status.idle": "2024-04-23T01:02:54.798723Z",
     "shell.execute_reply": "2024-04-23T01:02:54.797498Z"
    },
    "papermill": {
     "duration": 0.427105,
     "end_time": "2024-04-23T01:02:54.801506",
     "exception": false,
     "start_time": "2024-04-23T01:02:54.374401",
     "status": "completed"
    },
    "tags": []
   },
   "outputs": [
    {
     "data": {
      "text/plain": [
       "<Axes: xlabel='models'>"
      ]
     },
     "execution_count": 67,
     "metadata": {},
     "output_type": "execute_result"
    },
    {
     "data": {
      "image/png": "[encoded data removed]",
      "text/plain": [
       "<Figure size 640x480 with 1 Axes>"
      ]
     },
     "metadata": {},
     "output_type": "display_data"
    }
   ],
   "source": [
    "sns.set_style('whitegrid')\n",
    "result.plot(x='models',y=['Training_score','Testing_score'],kind='bar')"
   ]
  },
  {
   "cell_type": "markdown",
   "id": "129d4f02",
   "metadata": {
    "papermill": {
     "duration": 0.054784,
     "end_time": "2024-04-23T01:02:54.912996",
     "exception": false,
     "start_time": "2024-04-23T01:02:54.858212",
     "status": "completed"
    },
    "tags": []
   },
   "source": [
    "## Cross Validation"
   ]
  },
  {
   "cell_type": "code",
   "execution_count": 68,
   "id": "5ac147f7",
   "metadata": {
    "execution": {
     "iopub.execute_input": "2024-04-23T01:02:55.024169Z",
     "iopub.status.busy": "2024-04-23T01:02:55.023712Z",
     "iopub.status.idle": "2024-04-23T01:02:55.437448Z",
     "shell.execute_reply": "2024-04-23T01:02:55.436102Z"
    },
    "papermill": {
     "duration": 0.472873,
     "end_time": "2024-04-23T01:02:55.440368",
     "exception": false,
     "start_time": "2024-04-23T01:02:54.967495",
     "status": "completed"
    },
    "tags": []
   },
   "outputs": [
    {
     "name": "stdout",
     "output_type": "stream",
     "text": [
      "Alpha: 1\n",
      "Cross-validated scores: [0.78567731 0.84141851 0.7767249  0.72612957]\n",
      "Mean CV score: 0.7824875702592565\n",
      "-------------------------\n",
      "Alpha: 2\n",
      "Cross-validated scores: [0.77822036 0.83690541 0.78051085 0.72642853]\n",
      "Mean CV score: 0.7805162871891639\n",
      "-------------------------\n",
      "Alpha: 3\n",
      "Cross-validated scores: [0.77325065 0.8341228  0.78238251 0.72782005]\n",
      "Mean CV score: 0.7793940013514263\n",
      "-------------------------\n",
      "Alpha: 4\n",
      "Cross-validated scores: [0.76946018 0.83199134 0.78355698 0.72952452]\n",
      "Mean CV score: 0.7786332534665336\n",
      "-------------------------\n",
      "Alpha: 5\n",
      "Cross-validated scores: [0.76633626 0.83020458 0.78437138 0.73125869]\n",
      "Mean CV score: 0.7780427271871377\n",
      "-------------------------\n",
      "Alpha: 6\n",
      "Cross-validated scores: [0.76364187 0.82864431 0.78496909 0.73291865]\n",
      "Mean CV score: 0.7775434804574839\n",
      "-------------------------\n",
      "Alpha: 7\n",
      "Cross-validated scores: [0.76125128 0.82725259 0.78542565 0.73446816]\n",
      "Mean CV score: 0.7770994207423596\n",
      "-------------------------\n",
      "Alpha: 8\n",
      "Cross-validated scores: [0.75909034 0.82599535 0.7857859  0.73589836]\n",
      "Mean CV score: 0.7766924885651565\n",
      "-------------------------\n",
      "Alpha: 9\n",
      "Cross-validated scores: [0.75711153 0.82484977 0.78607849 0.73721184]\n",
      "Mean CV score: 0.7763129079636306\n",
      "-------------------------\n",
      "Alpha: 100\n",
      "Cross-validated scores: [0.74167833 0.82878094 0.78766696 0.73175613]\n",
      "Mean CV score: 0.7724705919829151\n",
      "------------------------\n",
      "Alpha: 110\n",
      "Cross-validated scores: [0.73632245 0.82742194 0.78859715 0.73347442]\n",
      "Mean CV score: 0.771453990645903\n",
      "------------------------\n",
      "Alpha: 120\n",
      "Cross-validated scores: [0.73397407 0.82583738 0.78947308 0.73508168]\n",
      "Mean CV score: 0.7710915524626902\n",
      "------------------------\n",
      "Alpha: 130\n",
      "Cross-validated scores: [0.73156325 0.82402834 0.7902953  0.73657831]\n",
      "Mean CV score: 0.7706163004603375\n",
      "------------------------\n",
      "Alpha: 140\n",
      "Cross-validated scores: [0.72908836 0.82155821 0.7910638  0.73796417]\n",
      "Mean CV score: 0.7699186355516923\n",
      "------------------------\n",
      "Alpha: 150\n",
      "Cross-validated scores: [0.72655143 0.8186637  0.7917786  0.73923885]\n",
      "Mean CV score: 0.7690581438542325\n",
      "------------------------\n"
     ]
    }
   ],
   "source": [
    "from sklearn.model_selection import cross_val_score\n",
    "from sklearn.linear_model import Lasso, Ridge\n",
    "\n",
    "\n",
    "# Ridge\n",
    "for alpha in range(1, 10):\n",
    "    l2 = Ridge(alpha)\n",
    "    scores = cross_val_score(l2, X_train, y_train, cv=4)\n",
    "    print('Alpha:', alpha)\n",
    "    print('Cross-validated scores:', scores)\n",
    "    print('Mean CV score:', scores.mean())\n",
    "    print('-------------------------')\n",
    "\n",
    "# Lasso\n",
    "for alpha in range(100, 151, 10):\n",
    "    l1 = Lasso(alpha)\n",
    "    scores = cross_val_score(l1, X_train, y_train, cv=4)\n",
    "    print('Alpha:', alpha)\n",
    "    print('Cross-validated scores:', scores)\n",
    "    print('Mean CV score:', scores.mean())\n",
    "    print('------------------------')\n"
   ]
  },
  {
   "cell_type": "markdown",
   "id": "9632dba0",
   "metadata": {
    "papermill": {
     "duration": 0.053835,
     "end_time": "2024-04-23T01:02:55.549041",
     "exception": false,
     "start_time": "2024-04-23T01:02:55.495206",
     "status": "completed"
    },
    "tags": []
   },
   "source": [
    "## Evaluate the Model"
   ]
  },
  {
   "cell_type": "code",
   "execution_count": 69,
   "id": "defaddb4",
   "metadata": {
    "execution": {
     "iopub.execute_input": "2024-04-23T01:02:55.663597Z",
     "iopub.status.busy": "2024-04-23T01:02:55.662886Z",
     "iopub.status.idle": "2024-04-23T01:02:55.675769Z",
     "shell.execute_reply": "2024-04-23T01:02:55.674460Z"
    },
    "papermill": {
     "duration": 0.073604,
     "end_time": "2024-04-23T01:02:55.678803",
     "exception": false,
     "start_time": "2024-04-23T01:02:55.605199",
     "status": "completed"
    },
    "tags": []
   },
   "outputs": [],
   "source": [
    "from sklearn.metrics import mean_squared_error, mean_absolute_error\n",
    "le=LinearRegression()\n",
    "le.fit(X_train, y_train)\n",
    "\n",
    "# Predict on the test data\n",
    "y_pred = le.predict(X_test)\n",
    "\n",
    "# Calculate mean squared error and mean absolute error\n",
    "mse = mean_squared_error(y_test, y_pred)\n",
    "mae = mean_absolute_error(y_test, y_pred)\n",
    "\n",
    "\n"
   ]
  },
  {
   "cell_type": "code",
   "execution_count": 70,
   "id": "247a80b0",
   "metadata": {
    "execution": {
     "iopub.execute_input": "2024-04-23T01:02:55.794513Z",
     "iopub.status.busy": "2024-04-23T01:02:55.794075Z",
     "iopub.status.idle": "2024-04-23T01:02:55.804452Z",
     "shell.execute_reply": "2024-04-23T01:02:55.803223Z"
    },
    "papermill": {
     "duration": 0.07057,
     "end_time": "2024-04-23T01:02:55.806978",
     "exception": false,
     "start_time": "2024-04-23T01:02:55.736408",
     "status": "completed"
    },
    "tags": []
   },
   "outputs": [
    {
     "name": "stdout",
     "output_type": "stream",
     "text": [
      "columns Index(['symboling', 'normalized-losses', 'make', 'fuel-type', 'body-style',\n",
      "       'drive-wheels', 'engine-location', 'engine-type', 'engine-size',\n",
      "       'horsepower', 'price', 'city-L/100km', 'highway-L/100km',\n",
      "       'height_scale', 'width_scale'],\n",
      "      dtype='object')\n"
     ]
    },
    {
     "data": {
      "text/plain": [
       "models            LinearRegression\n",
       "Training_score                87.3\n",
       "Testing_score                 82.6\n",
       "Diff                           4.7\n",
       "Name: 0, dtype: object"
      ]
     },
     "execution_count": 70,
     "metadata": {},
     "output_type": "execute_result"
    }
   ],
   "source": [
    "print(\"columns\",df.columns)\n",
    "\n",
    "result.iloc[0]\n"
   ]
  },
  {
   "cell_type": "markdown",
   "id": "822ee520",
   "metadata": {
    "papermill": {
     "duration": 0.056058,
     "end_time": "2024-04-23T01:02:55.918529",
     "exception": false,
     "start_time": "2024-04-23T01:02:55.862471",
     "status": "completed"
    },
    "tags": []
   },
   "source": [
    "## 6.Conclusion:\n",
    "\n"
   ]
  },
  {
   "cell_type": "markdown",
   "id": "e6e063af",
   "metadata": {
    "papermill": {
     "duration": 0.055312,
     "end_time": "2024-04-23T01:02:56.030055",
     "exception": false,
     "start_time": "2024-04-23T01:02:55.974743",
     "status": "completed"
    },
    "tags": []
   },
   "source": [
    "<html>\n",
    "    <style>\n",
    "        .highlight {\n",
    "            background-color: #ffffcc;\n",
    "            font-weight: bold;\n",
    "        }\n",
    "    </style>\n",
    "</head>\n",
    "<body>\n",
    "    <div class=\"container\">\n",
    "        <p>After performing all necessary preprocessing steps including data cleaning, encoding, feature scaling, and model building, we evaluated three different regression models:</p>\n",
    "        <ul>\n",
    "            <li><strong>Decision Tree Regressor</strong></li>\n",
    "            <li><strong>Random Forest Regressor</strong></li>\n",
    "            <li><strong>Linear Regression</strong></li>\n",
    "        </ul>\n",
    "        <p>Among these models, <span class=\"highlight\">Linear Regression</span> exhibited the best performance on both the training and testing datasets:</p>\n",
    "        <div class=\"table-responsive\">\n",
    "            <table class=\"table\">\n",
    "                <thead>\n",
    "                    <tr>\n",
    "                        <th>Models</th>\n",
    "                        <th>Training Score</th>\n",
    "                        <th>Testing Score</th>\n",
    "                        <th>Difference</th>\n",
    "                    </tr>\n",
    "                </thead>\n",
    "                <tbody>\n",
    "                    <tr>\n",
    "                        <td>Linear Regression</td>\n",
    "                        <td>87.3</td>\n",
    "                        <td class=\"highlight\">82.6</td>\n",
    "                        <td>4.7</td>\n",
    "                    </tr>\n",
    "                </tbody>\n",
    "            </table>\n",
    "        </div>\n",
    "   <p> Based on these results, we can conclude that Linear Regression is the most suitable model for predicting car prices using the provided dataset.</p>\n",
    "   \n",
    "  \n",
    "</html>\n"
   ]
  }
 ],
 "metadata": {
  "kaggle": {
   "accelerator": "none",
   "dataSources": [
    {
     "datasetId": 4697248,
     "sourceId": 7980850,
     "sourceType": "datasetVersion"
    }
   ],
   "dockerImageVersionId": 30684,
   "isGpuEnabled": false,
   "isInternetEnabled": false,
   "language": "python",
   "sourceType": "notebook"
  },
  "kernelspec": {
   "display_name": "Python 3",
   "language": "python",
   "name": "python3"
  },
  "language_info": {
   "codemirror_mode": {
    "name": "ipython",
    "version": 3
   },
   "file_extension": ".py",
   "mimetype": "text/x-python",
   "name": "python",
   "nbconvert_exporter": "python",
   "pygments_lexer": "ipython3",
   "version": "3.10.13"
  },
  "papermill": {
   "default_parameters": {},
   "duration": 32.46167,
   "end_time": "2024-04-23T01:02:57.012580",
   "environment_variables": {},
   "exception": null,
   "input_path": "__notebook__.ipynb",
   "output_path": "__notebook__.ipynb",
   "parameters": {},
   "start_time": "2024-04-23T01:02:24.550910",
   "version": "2.5.0"
  }
 },
 "nbformat": 4,
 "nbformat_minor": 5
}
