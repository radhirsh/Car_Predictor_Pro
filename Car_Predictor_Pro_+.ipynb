{
 "cells": [
  {
   "cell_type": "markdown",
   "id": "339069d5",
   "metadata": {},
   "source": [
    "# CAR PREDICTOR PRO+\n"
   ]
  },
  {
   "cell_type": "markdown",
   "id": "9019c01d",
   "metadata": {},
   "source": [
    "# 🚀 PROJECT IS GOING TO BE PRESENTED BY\n",
    "  🎓 S.Sridhar Pursuing in data software engineering\n",
    "  📊 B.Sruthi Pursuing in data science and analytics\n",
    "  "
   ]
  },
  {
   "cell_type": "markdown",
   "id": "7c596b2b",
   "metadata": {},
   "source": [
    "# Introduction\n",
    "Car Predictor Pro+ harnesses the power of machine learning algorithms to accurately forecast car prices based on various car features. This project leverages ML techniques alongside Python, HTML, CSS, JavaScript, SQL, and Django to deliver precise predictions.\n",
    "\n",
   ]
  },
  {
   "cell_type": "markdown",
   "id": "2724c280",
   "metadata": {},
   "source": [
    "# Why This Name?\n",
    "The name \"Car Predictor Pro+\" signifies the project's advanced capabilities in predicting car prices with precision and reliability. The addition of \"Pro+\" emphasizes its professional-grade performance and features, indicating an enhanced version of traditional car prediction systems."
   ]
  },
  {
   "cell_type": "markdown",
   "id": "eccae444",
   "metadata": {},
   "source": [
    "# Our goal\n",
    "1. **Accurate Price Prediction**: Car Predictor Pro aims to predict the prices of cars with high accuracy.\n",
    "2. **Utilization of Advanced Machine Learning**: The project utilizes advanced machine learning techniques to achieve precise predictions.\n",
    "3. **Feature-based Analysis**: It analyzes various features of the car, such as engine size, horsepower, mileage, etc., to make predictions.\n",
    "4. **Informed Decision-making**: By providing reliable price estimates, the system helps users make informed decisions when buying or selling cars.\n",
    "5. **Multifaceted Technology Stack**: Car Predictor Pro incorporates a diverse range of technologies including Python, HTML, CSS, JavaScript, SQL, and Django to create a comprehensive solution.\n",
    "6. **User-Friendly Interface**: The project is designed with a user-friendly interface to enhance usability and accessibility for users."
   ]
  },
  {
   "cell_type": "markdown",
   "id": "6bf949d3",
   "metadata": {},
   "source": [
    "# Life Cycle \n",
    "1. **Understanding the Problem:** Grasp the project requirements and define objectives.\n",
    "2. **Data Collection:** Gather relevant datasets for analysis.\n",
    "3. **Data Preprocessing:** Clean, transform, and prepare the data for modeling.\n",
    "4. **Feature Engineering:** Select or create meaningful features to improve model performance.\n",
    "5. **Model Selection:** Choose appropriate machine learning algorithms for the task.\n",
    "6. **Model Training:** Train the selected models using the prepared data.\n",
    "7. **Model Evaluation:** Assess the performance of trained models using appropriate evaluation metrics.\n",
    "8. **Model Tuning:** Optimize model hyperparameters to enhance performance.\n",
    "9. **Deployment:** Integrate the trained models into a production environment.\n",
    "10. **Monitoring and Maintenance:** Continuously monitor model performance and update as needed to maintain accuracy and relevance."
   ]
  },
  {
   "cell_type": "code",
   "execution_count": 1,
   "id": "d1cde241",
   "metadata": {},
   "outputs": [],
   "source": [
    "# importing necessary libraries\n",
    "import numpy as np\n",
    "import pandas as pd\n",
    "\n",
    "import matplotlib.pyplot as plt\n",
    "import seaborn as sns\n",
    "\n",
    "import warnings\n",
    "warnings.filterwarnings('ignore')\n",
    "\n",
    "from sklearn.model_selection import train_test_split\n",
    "from sklearn.linear_model import LinearRegression\n",
    "from sklearn.preprocessing import LabelEncoder\n",
    "from sklearn.ensemble import RandomForestRegressor\n"
   ]
  },
  {
   "cell_type": "markdown",
   "id": "4bdfad1c",
   "metadata": {},
   "source": [
    "# Why This Libraries\n",
    "1. `numpy`: Used for numerical computing and array manipulation.\n",
    "2. `pandas`: Provides data structures and tools for data analysis.\n",
    "3. `matplotlib.pyplot`: Enables creation of data visualizations in Python.\n",
    "4. `seaborn`: Provides high-level interface for drawing attractive and informative statistical graphics.\n",
    "5. `warnings`: Used to control warning messages displayed during code execution.\n",
    "6. `sklearn.model_selection.train_test_split`: Splits data into training and testing sets for model evaluation.\n",
    "7. `sklearn.linear_model.LinearRegression`: Implements linear regression modeling for prediction tasks.\n",
    "8. `sklearn.preprocessing.LabelEncoder`: Encodes categorical variables into numerical values for machine learning models."
   ]
  },
  {
   "cell_type": "code",
   "execution_count": 2,
   "id": "847cf45c",
   "metadata": {},
   "outputs": [
    {
     "data": {
      "text/html": [
       "<div>\n",
       "<style scoped>\n",
       "    .dataframe tbody tr th:only-of-type {\n",
       "        vertical-align: middle;\n",
       "    }\n",
       "\n",
       "    .dataframe tbody tr th {\n",
       "        vertical-align: top;\n",
       "    }\n",
       "\n",
       "    .dataframe thead th {\n",
       "        text-align: right;\n",
       "    }\n",
       "</style>\n",
       "<table border=\"1\" class=\"dataframe\">\n",
       "  <thead>\n",
       "    <tr style=\"text-align: right;\">\n",
       "      <th></th>\n",
       "      <th>symboling</th>\n",
       "      <th>normalized-losses</th>\n",
       "      <th>make</th>\n",
       "      <th>fuel-type</th>\n",
       "      <th>body-style</th>\n",
       "      <th>drive-wheels</th>\n",
       "      <th>engine-location</th>\n",
       "      <th>width</th>\n",
       "      <th>height</th>\n",
       "      <th>engine-type</th>\n",
       "      <th>engine-size</th>\n",
       "      <th>horsepower</th>\n",
       "      <th>city-mpg</th>\n",
       "      <th>highway-mpg</th>\n",
       "      <th>price</th>\n",
       "    </tr>\n",
       "  </thead>\n",
       "  <tbody>\n",
       "    <tr>\n",
       "      <th>0</th>\n",
       "      <td>3</td>\n",
       "      <td>?</td>\n",
       "      <td>alfa-romero</td>\n",
       "      <td>gas</td>\n",
       "      <td>convertible</td>\n",
       "      <td>rwd</td>\n",
       "      <td>front</td>\n",
       "      <td>64.1</td>\n",
       "      <td>48.8</td>\n",
       "      <td>dohc</td>\n",
       "      <td>130</td>\n",
       "      <td>111</td>\n",
       "      <td>21</td>\n",
       "      <td>27</td>\n",
       "      <td>13495</td>\n",
       "    </tr>\n",
       "    <tr>\n",
       "      <th>1</th>\n",
       "      <td>3</td>\n",
       "      <td>?</td>\n",
       "      <td>alfa-romero</td>\n",
       "      <td>gas</td>\n",
       "      <td>convertible</td>\n",
       "      <td>rwd</td>\n",
       "      <td>front</td>\n",
       "      <td>64.1</td>\n",
       "      <td>48.8</td>\n",
       "      <td>dohc</td>\n",
       "      <td>130</td>\n",
       "      <td>111</td>\n",
       "      <td>21</td>\n",
       "      <td>27</td>\n",
       "      <td>16500</td>\n",
       "    </tr>\n",
       "    <tr>\n",
       "      <th>2</th>\n",
       "      <td>1</td>\n",
       "      <td>?</td>\n",
       "      <td>alfa-romero</td>\n",
       "      <td>gas</td>\n",
       "      <td>hatchback</td>\n",
       "      <td>rwd</td>\n",
       "      <td>front</td>\n",
       "      <td>65.5</td>\n",
       "      <td>52.4</td>\n",
       "      <td>ohcv</td>\n",
       "      <td>152</td>\n",
       "      <td>154</td>\n",
       "      <td>19</td>\n",
       "      <td>26</td>\n",
       "      <td>16500</td>\n",
       "    </tr>\n",
       "    <tr>\n",
       "      <th>3</th>\n",
       "      <td>2</td>\n",
       "      <td>164</td>\n",
       "      <td>audi</td>\n",
       "      <td>gas</td>\n",
       "      <td>sedan</td>\n",
       "      <td>fwd</td>\n",
       "      <td>front</td>\n",
       "      <td>66.2</td>\n",
       "      <td>54.3</td>\n",
       "      <td>ohc</td>\n",
       "      <td>109</td>\n",
       "      <td>102</td>\n",
       "      <td>24</td>\n",
       "      <td>30</td>\n",
       "      <td>13950</td>\n",
       "    </tr>\n",
       "    <tr>\n",
       "      <th>4</th>\n",
       "      <td>2</td>\n",
       "      <td>164</td>\n",
       "      <td>audi</td>\n",
       "      <td>gas</td>\n",
       "      <td>sedan</td>\n",
       "      <td>4wd</td>\n",
       "      <td>front</td>\n",
       "      <td>66.4</td>\n",
       "      <td>54.3</td>\n",
       "      <td>ohc</td>\n",
       "      <td>136</td>\n",
       "      <td>115</td>\n",
       "      <td>18</td>\n",
       "      <td>22</td>\n",
       "      <td>17450</td>\n",
       "    </tr>\n",
       "  </tbody>\n",
       "</table>\n",
       "</div>"
      ],
      "text/plain": [
       "   symboling normalized-losses         make fuel-type   body-style   \n",
       "0          3                 ?  alfa-romero       gas  convertible  \\\n",
       "1          3                 ?  alfa-romero       gas  convertible   \n",
       "2          1                 ?  alfa-romero       gas    hatchback   \n",
       "3          2               164         audi       gas        sedan   \n",
       "4          2               164         audi       gas        sedan   \n",
       "\n",
       "  drive-wheels engine-location  width  height engine-type  engine-size   \n",
       "0          rwd           front   64.1    48.8        dohc          130  \\\n",
       "1          rwd           front   64.1    48.8        dohc          130   \n",
       "2          rwd           front   65.5    52.4        ohcv          152   \n",
       "3          fwd           front   66.2    54.3         ohc          109   \n",
       "4          4wd           front   66.4    54.3         ohc          136   \n",
       "\n",
       "  horsepower  city-mpg  highway-mpg  price  \n",
       "0        111        21           27  13495  \n",
       "1        111        21           27  16500  \n",
       "2        154        19           26  16500  \n",
       "3        102        24           30  13950  \n",
       "4        115        18           22  17450  "
      ]
     },
     "execution_count": 2,
     "metadata": {},
     "output_type": "execute_result"
    }
   ],
   "source": [
    "#reading dataset\n",
    "df=pd.read_csv('cars.csv')\n",
    "df.head()"
   ]
  },
  {
   "cell_type": "markdown",
   "id": "1c2f12b4",
   "metadata": {},
   "source": [
    "# Exploring the data set\n"
   ]
  },
  {
   "cell_type": "code",
   "execution_count": 3,
   "id": "39a3d8a3",
   "metadata": {},
   "outputs": [
    {
     "data": {
      "text/plain": [
       "(205, 15)"
      ]
     },
     "execution_count": 3,
     "metadata": {},
     "output_type": "execute_result"
    }
   ],
   "source": [
    "df.shape"
   ]
  },
  {
   "cell_type": "markdown",
   "id": "a42e1d77",
   "metadata": {},
   "source": [
    "### There are 205 rows and 15 columns present in the car dataset (df)"
   ]
  },
  {
   "cell_type": "code",
   "execution_count": 4,
   "id": "85de6362",
   "metadata": {},
   "outputs": [
    {
     "data": {
      "text/plain": [
       "Index(['symboling', 'normalized-losses', 'make', 'fuel-type', 'body-style',\n",
       "       'drive-wheels', 'engine-location', 'width', 'height', 'engine-type',\n",
       "       'engine-size', 'horsepower', 'city-mpg', 'highway-mpg', 'price'],\n",
       "      dtype='object')"
      ]
     },
     "execution_count": 4,
     "metadata": {},
     "output_type": "execute_result"
    }
   ],
   "source": [
    "df.columns"
   ]
  },
  {
   "cell_type": "markdown",
   "id": "ead61d8f",
   "metadata": {},
   "source": [
    "# Column Explanation\n",
    "\n",
    "1. `symboling`: Insurance risk rating of the car, indicating its insurability.\n",
    "2. `normalized-losses`: Average loss payment per insured vehicle year, normalized.\n",
    "3. `make`: Manufacturer or brand of the car.\n",
    "4. `fuel-type`: Type of fuel used by the car (gasoline or diesel).\n",
    "5. `body-style`: Configuration or style of the car's body (sedan, coupe, hatchback).\n",
    "6. `drive-wheels`: Type of drive wheels the car has (front-wheel drive, rear-wheel drive, all-wheel drive).\n",
    "7. `engine-location`: Location of the car's engine (front or rear).\n",
    "8. `width`: Width of the car in inches.\n",
    "9. `height`: Height of the car in inches.\n",
    "10. `engine-type`: Type or configuration of the car's engine (inline, V-shape).\n",
    "11. `engine-size`: Size of the car's engine in cubic centimeters (cc) or liters.\n",
    "12. `horsepower`: Power output of the car's engine, typically in horsepower (hp) or kilowatts (kW).\n",
    "13. `city-mpg`: Miles per gallon (mpg) rating of the car for city driving conditions.\n",
    "14. `highway-mpg`: Miles per gallon (mpg) rating of the car for highway driving conditions.\n",
    "15. `price`: Price of the car."
   ]
  },
  {
   "cell_type": "code",
   "execution_count": 5,
   "id": "f21a8308",
   "metadata": {},
   "outputs": [
    {
     "data": {
      "text/plain": [
       "symboling              int64\n",
       "normalized-losses     object\n",
       "make                  object\n",
       "fuel-type             object\n",
       "body-style            object\n",
       "drive-wheels          object\n",
       "engine-location       object\n",
       "width                float64\n",
       "height               float64\n",
       "engine-type           object\n",
       "engine-size            int64\n",
       "horsepower            object\n",
       "city-mpg               int64\n",
       "highway-mpg            int64\n",
       "price                  int64\n",
       "dtype: object"
      ]
     },
     "execution_count": 5,
     "metadata": {},
     "output_type": "execute_result"
    }
   ],
   "source": [
    "#Checking the data type of each column\n",
    "df.dtypes"
   ]
  },
  {
   "cell_type": "code",
   "execution_count": 6,
   "id": "c3508b7f",
   "metadata": {},
   "outputs": [
    {
     "data": {
      "text/plain": [
       "array([3, '?', 'alfa-romero', 'gas', 'convertible', 'rwd', 'front', 64.1,\n",
       "       48.8, 'dohc', 130, '111', 21, 27, 13495], dtype=object)"
      ]
     },
     "execution_count": 6,
     "metadata": {},
     "output_type": "execute_result"
    }
   ],
   "source": [
    "np.array(df.iloc[0])"
   ]
  },
  {
   "cell_type": "markdown",
   "id": "9674675e",
   "metadata": {},
   "source": [
    ".  I have noticed that some numeric columns are marked as object column that mean that column having some null values"
   ]
  },
  {
   "cell_type": "markdown",
   "id": "397197f6",
   "metadata": {},
   "source": [
    "# Data Cleaning\n"
   ]
  },
  {
   "cell_type": "markdown",
   "id": "adfedd6a",
   "metadata": {},
   "source": [
    "1. Missing Data Handling\n",
    "2. Duplicate Removal\n",
    "3. Error Correction\n",
    "4. Format Standardization\n",
    "5. Outlier Handling\n",
    "6. Inconsistency Resolution"
   ]
  },
  {
   "cell_type": "code",
   "execution_count": 7,
   "id": "a00fbb12",
   "metadata": {},
   "outputs": [
    {
     "data": {
      "text/plain": [
       "symboling            0\n",
       "normalized-losses    0\n",
       "make                 0\n",
       "fuel-type            0\n",
       "body-style           0\n",
       "drive-wheels         0\n",
       "engine-location      0\n",
       "width                0\n",
       "height               0\n",
       "engine-type          0\n",
       "engine-size          0\n",
       "horsepower           0\n",
       "city-mpg             0\n",
       "highway-mpg          0\n",
       "price                0\n",
       "dtype: int64"
      ]
     },
     "execution_count": 7,
     "metadata": {},
     "output_type": "execute_result"
    }
   ],
   "source": [
    "\n",
    "df.isna().sum()\n",
    "#missing values can be nan,missing,' '\n",
    "#isna can deletct only nan \n",
    "#it will return boolean value if nan/missing/'' present in the data it return 1 else o"
   ]
  },
  {
   "cell_type": "code",
   "execution_count": 8,
   "id": "9341a761",
   "metadata": {},
   "outputs": [
    {
     "name": "stdout",
     "output_type": "stream",
     "text": [
      "<class 'pandas.core.frame.DataFrame'>\n",
      "RangeIndex: 205 entries, 0 to 204\n",
      "Data columns (total 15 columns):\n",
      " #   Column             Non-Null Count  Dtype  \n",
      "---  ------             --------------  -----  \n",
      " 0   symboling          205 non-null    int64  \n",
      " 1   normalized-losses  205 non-null    object \n",
      " 2   make               205 non-null    object \n",
      " 3   fuel-type          205 non-null    object \n",
      " 4   body-style         205 non-null    object \n",
      " 5   drive-wheels       205 non-null    object \n",
      " 6   engine-location    205 non-null    object \n",
      " 7   width              205 non-null    float64\n",
      " 8   height             205 non-null    float64\n",
      " 9   engine-type        205 non-null    object \n",
      " 10  engine-size        205 non-null    int64  \n",
      " 11  horsepower         205 non-null    object \n",
      " 12  city-mpg           205 non-null    int64  \n",
      " 13  highway-mpg        205 non-null    int64  \n",
      " 14  price              205 non-null    int64  \n",
      "dtypes: float64(2), int64(5), object(8)\n",
      "memory usage: 24.1+ KB\n",
      "None\n"
     ]
    }
   ],
   "source": [
    "#df.isna() is used specifically for detecting missing values, \n",
    "# while df.info() gives general information about the DataFrame.\n",
    "print(df.info())"
   ]
  },
  {
   "cell_type": "markdown",
   "id": "d9288a06",
   "metadata": {},
   "source": [
    "### info() method explains that we have 205 data in each column ,There is no null values present in any column \n",
    "there are \n",
    "- Two columns in float64 datatype --> ('width', 'height') #df.select_dtypes(include=\"float64\").columns\n",
    "- Five columns in int64 datatype --->('symboling', 'engine-size', 'city-mpg', 'highway-mpg', 'price') #df.select_dtypes(include=\"int32\").columns\n",
    "- Eight columns in object data type ----> ('normalized-losses', 'make', 'fuel-type', 'body-style', 'drive-wheels',\n",
    "       'engine-location', 'engine-type', 'horsepower')#df.select_dtypes(include=object).columns\n",
    "     "
   ]
  },
  {
   "cell_type": "code",
   "execution_count": 9,
   "id": "9037e3b9",
   "metadata": {},
   "outputs": [
    {
     "data": {
      "text/html": [
       "<div>\n",
       "<style scoped>\n",
       "    .dataframe tbody tr th:only-of-type {\n",
       "        vertical-align: middle;\n",
       "    }\n",
       "\n",
       "    .dataframe tbody tr th {\n",
       "        vertical-align: top;\n",
       "    }\n",
       "\n",
       "    .dataframe thead th {\n",
       "        text-align: right;\n",
       "    }\n",
       "</style>\n",
       "<table border=\"1\" class=\"dataframe\">\n",
       "  <thead>\n",
       "    <tr style=\"text-align: right;\">\n",
       "      <th></th>\n",
       "      <th>symboling</th>\n",
       "      <th>width</th>\n",
       "      <th>height</th>\n",
       "      <th>engine-size</th>\n",
       "      <th>city-mpg</th>\n",
       "      <th>highway-mpg</th>\n",
       "      <th>price</th>\n",
       "    </tr>\n",
       "  </thead>\n",
       "  <tbody>\n",
       "    <tr>\n",
       "      <th>count</th>\n",
       "      <td>205.000000</td>\n",
       "      <td>205.000000</td>\n",
       "      <td>205.000000</td>\n",
       "      <td>205.000000</td>\n",
       "      <td>205.000000</td>\n",
       "      <td>205.000000</td>\n",
       "      <td>205.000000</td>\n",
       "    </tr>\n",
       "    <tr>\n",
       "      <th>mean</th>\n",
       "      <td>0.834146</td>\n",
       "      <td>65.907805</td>\n",
       "      <td>53.724878</td>\n",
       "      <td>126.907317</td>\n",
       "      <td>25.219512</td>\n",
       "      <td>30.751220</td>\n",
       "      <td>13227.478049</td>\n",
       "    </tr>\n",
       "    <tr>\n",
       "      <th>std</th>\n",
       "      <td>1.245307</td>\n",
       "      <td>2.145204</td>\n",
       "      <td>2.443522</td>\n",
       "      <td>41.642693</td>\n",
       "      <td>6.542142</td>\n",
       "      <td>6.886443</td>\n",
       "      <td>7902.651615</td>\n",
       "    </tr>\n",
       "    <tr>\n",
       "      <th>min</th>\n",
       "      <td>-2.000000</td>\n",
       "      <td>60.300000</td>\n",
       "      <td>47.800000</td>\n",
       "      <td>61.000000</td>\n",
       "      <td>13.000000</td>\n",
       "      <td>16.000000</td>\n",
       "      <td>5118.000000</td>\n",
       "    </tr>\n",
       "    <tr>\n",
       "      <th>25%</th>\n",
       "      <td>0.000000</td>\n",
       "      <td>64.100000</td>\n",
       "      <td>52.000000</td>\n",
       "      <td>97.000000</td>\n",
       "      <td>19.000000</td>\n",
       "      <td>25.000000</td>\n",
       "      <td>7788.000000</td>\n",
       "    </tr>\n",
       "    <tr>\n",
       "      <th>50%</th>\n",
       "      <td>1.000000</td>\n",
       "      <td>65.500000</td>\n",
       "      <td>54.100000</td>\n",
       "      <td>120.000000</td>\n",
       "      <td>24.000000</td>\n",
       "      <td>30.000000</td>\n",
       "      <td>10345.000000</td>\n",
       "    </tr>\n",
       "    <tr>\n",
       "      <th>75%</th>\n",
       "      <td>2.000000</td>\n",
       "      <td>66.900000</td>\n",
       "      <td>55.500000</td>\n",
       "      <td>141.000000</td>\n",
       "      <td>30.000000</td>\n",
       "      <td>34.000000</td>\n",
       "      <td>16500.000000</td>\n",
       "    </tr>\n",
       "    <tr>\n",
       "      <th>max</th>\n",
       "      <td>3.000000</td>\n",
       "      <td>72.300000</td>\n",
       "      <td>59.800000</td>\n",
       "      <td>326.000000</td>\n",
       "      <td>49.000000</td>\n",
       "      <td>54.000000</td>\n",
       "      <td>45400.000000</td>\n",
       "    </tr>\n",
       "  </tbody>\n",
       "</table>\n",
       "</div>"
      ],
      "text/plain": [
       "        symboling       width      height  engine-size    city-mpg   \n",
       "count  205.000000  205.000000  205.000000   205.000000  205.000000  \\\n",
       "mean     0.834146   65.907805   53.724878   126.907317   25.219512   \n",
       "std      1.245307    2.145204    2.443522    41.642693    6.542142   \n",
       "min     -2.000000   60.300000   47.800000    61.000000   13.000000   \n",
       "25%      0.000000   64.100000   52.000000    97.000000   19.000000   \n",
       "50%      1.000000   65.500000   54.100000   120.000000   24.000000   \n",
       "75%      2.000000   66.900000   55.500000   141.000000   30.000000   \n",
       "max      3.000000   72.300000   59.800000   326.000000   49.000000   \n",
       "\n",
       "       highway-mpg         price  \n",
       "count   205.000000    205.000000  \n",
       "mean     30.751220  13227.478049  \n",
       "std       6.886443   7902.651615  \n",
       "min      16.000000   5118.000000  \n",
       "25%      25.000000   7788.000000  \n",
       "50%      30.000000  10345.000000  \n",
       "75%      34.000000  16500.000000  \n",
       "max      54.000000  45400.000000  "
      ]
     },
     "execution_count": 9,
     "metadata": {},
     "output_type": "execute_result"
    }
   ],
   "source": [
    "#info() is primarily for understanding the structure and non-null values of the DataFrame, \n",
    "# while describe() is for obtaining statistical summaries of the numerical data within the DataFrame.\n",
    "df.describe()"
   ]
  },
  {
   "cell_type": "markdown",
   "id": "958386fa",
   "metadata": {},
   "source": [
    "\n",
    "### By describe(), we can observe the following insights:\n",
    "\n",
    "Symboling:\n",
    "\n",
    "The range of symboling values is from -2 to 3, indicating the relative insurance risk associated with the cars.\n",
    "The mean symboling value is approximately 0.83, suggesting an average insurance risk.\n",
    "Width and Height:\n",
    "\n",
    "The width of the cars ranges from 60.3 to 72.3 inches, with a mean width of approximately 65.91 inches.\n",
    "The height of the cars ranges from 47.8 to 59.8 inches, with a mean height of approximately 53.72 inches.\n",
    "Engine Size:\n",
    "\n",
    "The engine size varies from 61 to 326 cubic centimeters (cc) or liters, with a mean engine size of approximately 126.91 cc.\n",
    "City and Highway MPG (Miles Per Gallon):\n",
    "\n",
    "City MPG ranges from 13 to 49, with a mean of approximately 25.22.\n",
    "Highway MPG ranges from 16 to 54, with a mean of approximately 30.75.\n",
    "Price:\n",
    "\n",
    "The price of cars in the dataset ranges from $5118 to $45400, with a mean price of approximately $13227.48."
   ]
  },
  {
   "cell_type": "markdown",
   "id": "86b3b843",
   "metadata": {},
   "source": [
    "# Observations:\n",
    "\n",
    "The standard deviation for engine size and price is relatively high, indicating a wider spread of values around the mean.\n",
    "Symboling, city MPG, and highway MPG have moderate standard deviations, suggesting moderate variability in these features.\n",
    "Width and height have relatively low standard deviations, indicating less variability in these dimensions across the dataset."
   ]
  },
  {
   "cell_type": "code",
   "execution_count": 10,
   "id": "74111018",
   "metadata": {},
   "outputs": [
    {
     "data": {
      "text/plain": [
       "symboling  normalized-losses  make           fuel-type  body-style   drive-wheels  engine-location  width  height  engine-type  engine-size  horsepower  city-mpg  highway-mpg  price\n",
       "-2         103                volvo          gas        sedan        rwd           front            67.2   56.2    ohc          130          162         17        22           18420    1\n",
       " 1         ?                  bmw            gas        sedan        rwd           front            66.9   55.7    ohc          164          121         20        25           24565    1\n",
       "           168                toyota         gas        hatchback    rwd           front            64.0   52.6    ohc          98           70          29        34           8238     1\n",
       "                                                        sedan        rwd           front            64.0   52.6    dohc         98           112         26        29           9298     1\n",
       "                                                                                                                   ohc          98           70          29        34           8058     1\n",
       "                                                                                                                                                                                        ..\n",
       " 0         91                 toyota         gas        wagon        4wd           front            63.6   59.1    ohc          92           62          27        32           8778     1\n",
       "           93                 mercedes-benz  diesel     hardtop      rwd           front            70.3   54.9    ohc          183          123         22        25           28176    1\n",
       "           ?                  audi           gas        hatchback    4wd           front            67.9   52.0    ohc          131          160         16        22           12000    1\n",
       "                              bmw            gas        sedan        rwd           front            66.9   55.7    ohc          209          182         16        22           30760    1\n",
       " 3         ?                  volkswagen     gas        convertible  fwd           front            64.2   55.6    ohc          109          90          24        29           11595    1\n",
       "Name: count, Length: 205, dtype: int64"
      ]
     },
     "execution_count": 10,
     "metadata": {},
     "output_type": "execute_result"
    }
   ],
   "source": [
    "df.value_counts()"
   ]
  },
  {
   "cell_type": "markdown",
   "id": "232e8cb8",
   "metadata": {},
   "source": [
    ".I have noticed that some unknown values present in the df['normalized-losses'] column\n",
    ". In df['drive-wheels] some different value present '4wd'"
   ]
  },
  {
   "cell_type": "code",
   "execution_count": 11,
   "id": "a7b88c15",
   "metadata": {},
   "outputs": [
    {
     "data": {
      "text/plain": [
       "normalized-losses\n",
       "?      41\n",
       "161    11\n",
       "91      8\n",
       "150     7\n",
       "134     6\n",
       "128     6\n",
       "104     6\n",
       "85      5\n",
       "94      5\n",
       "65      5\n",
       "102     5\n",
       "74      5\n",
       "168     5\n",
       "103     5\n",
       "95      5\n",
       "106     4\n",
       "93      4\n",
       "118     4\n",
       "148     4\n",
       "122     4\n",
       "83      3\n",
       "125     3\n",
       "154     3\n",
       "115     3\n",
       "137     3\n",
       "101     3\n",
       "119     2\n",
       "87      2\n",
       "89      2\n",
       "192     2\n",
       "197     2\n",
       "158     2\n",
       "81      2\n",
       "188     2\n",
       "194     2\n",
       "153     2\n",
       "129     2\n",
       "108     2\n",
       "110     2\n",
       "164     2\n",
       "145     2\n",
       "113     2\n",
       "256     1\n",
       "107     1\n",
       "90      1\n",
       "231     1\n",
       "142     1\n",
       "121     1\n",
       "78      1\n",
       "98      1\n",
       "186     1\n",
       "77      1\n",
       "Name: count, dtype: int64"
      ]
     },
     "execution_count": 11,
     "metadata": {},
     "output_type": "execute_result"
    }
   ],
   "source": [
    "#checking that what the different values present in normalized column ,previously we have checked that some unknow values present in it\n",
    "df['normalized-losses'].value_counts()"
   ]
  },
  {
   "cell_type": "markdown",
   "id": "37e4cabb",
   "metadata": {},
   "source": [
    "__?__ is present 41 times in the normalized column that we need to fix using replace method\n",
    "- we will convert the unknow value into not a number (__Nan__)  that will helps to perform some operation easily"
   ]
  },
  {
   "cell_type": "code",
   "execution_count": 12,
   "id": "94645fd7",
   "metadata": {},
   "outputs": [],
   "source": [
    "#step1:Replace ? with nan\n",
    "df['normalized-losses'].replace('?',np.nan,inplace=True)\n",
    "df['horsepower'].replace('?',np.nan,inplace=True)"
   ]
  },
  {
   "cell_type": "code",
   "execution_count": 13,
   "id": "c9bc85f1",
   "metadata": {},
   "outputs": [
    {
     "data": {
      "text/plain": [
       "<bound method IndexOpsMixin.value_counts of 0      NaN\n",
       "1      NaN\n",
       "2      NaN\n",
       "3      164\n",
       "4      164\n",
       "      ... \n",
       "200     95\n",
       "201     95\n",
       "202     95\n",
       "203     95\n",
       "204     95\n",
       "Name: normalized-losses, Length: 205, dtype: object>"
      ]
     },
     "execution_count": 13,
     "metadata": {},
     "output_type": "execute_result"
    }
   ],
   "source": [
    "df['normalized-losses'].value_counts\n",
    "### Now we can see \"?\" is replaced with NaN ###"
   ]
  },
  {
   "cell_type": "markdown",
   "id": "e7e25881",
   "metadata": {},
   "source": [
    "## Normalized & horsepower column loaded with numeric values but it considered as object because of Nan present in the normalized column and horsepower ##\n",
    "- If we convert the object column to float64 means we can perform all the statistics"
   ]
  },
  {
   "cell_type": "code",
   "execution_count": 14,
   "id": "4a53cffc",
   "metadata": {},
   "outputs": [
    {
     "data": {
      "text/plain": [
       "dtype('float64')"
      ]
     },
     "execution_count": 14,
     "metadata": {},
     "output_type": "execute_result"
    }
   ],
   "source": [
    "#step2:changing the datatype of mv columns\n",
    "df['normalized-losses']=df['normalized-losses'].astype('float64')\n",
    "df['horsepower']=df['horsepower'].astype('float64')\n",
    "df['normalized-losses'].dtype"
   ]
  },
  {
   "cell_type": "code",
   "execution_count": 15,
   "id": "b97199a0",
   "metadata": {},
   "outputs": [
    {
     "name": "stdout",
     "output_type": "stream",
     "text": [
      "Mean of normalized column: 122.0\n",
      "Median of normalized column: 115.0\n",
      "Mean of horsepower column: 104.25615763546799\n",
      "Median of horsepower column: 95.0\n"
     ]
    }
   ],
   "source": [
    "#nor_mean reprsents the mean of normalized column\n",
    "#nor_median represents the median of normalized column\n",
    "nor_mean=df['normalized-losses'].mean()\n",
    "nor_median=df['normalized-losses'].median()\n",
    "print(\"Mean of normalized column:\",nor_mean)\n",
    "print(\"Median of normalized column:\",nor_median)\n",
    "\n",
    "#hor_mean represents the mean of horsepower column\n",
    "#hor_median represents the median of horsepowe column\n",
    "hor_mean=df['horsepower'].mean()\n",
    "hor_median=df['horsepower'].median()\n",
    "print(\"Mean of horsepower column:\",hor_mean)\n",
    "print(\"Median of horsepower column:\",hor_median)"
   ]
  },
  {
   "cell_type": "markdown",
   "id": "57f0683a",
   "metadata": {},
   "source": [
    "## Here the median value of normalized-losses is 115.0 and the mean is 122.0 .Here the median value of horsepower is 104.25615763546799 and the mean is 95.0 ##"
   ]
  },
  {
   "cell_type": "code",
   "execution_count": 16,
   "id": "f80997ff",
   "metadata": {},
   "outputs": [
    {
     "data": {
      "image/png": "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",
      "text/plain": [
       "<Figure size 640x480 with 1 Axes>"
      ]
     },
     "metadata": {},
     "output_type": "display_data"
    }
   ],
   "source": [
    "sns.distplot(df[\"horsepower\"])\n",
    "plt.grid()"
   ]
  },
  {
   "cell_type": "markdown",
   "id": "bb498ad5",
   "metadata": {},
   "source": [
    "- hor_mean=104.25\n",
    "- hor_median=95.0\n",
    "- Mean >Median\n",
    "When the mean is greater than the median, it indicates that the distribution is right-skewed. In a right-skewed distribution, the tail of the distribution extends towards the right, and the majority of the data points are concentrated on the left side"
   ]
  },
  {
   "cell_type": "code",
   "execution_count": 17,
   "id": "5d94fb55",
   "metadata": {},
   "outputs": [
    {
     "data": {
      "image/png": "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",
      "text/plain": [
       "<Figure size 500x500 with 1 Axes>"
      ]
     },
     "metadata": {},
     "output_type": "display_data"
    }
   ],
   "source": [
    "sns.displot(df['normalized-losses'],kde=True)\n",
    "plt.grid()"
   ]
  },
  {
   "cell_type": "markdown",
   "id": "325f74ea",
   "metadata": {},
   "source": [
    "- nor_mean=122.0\n",
    "- nor_median=115.0\n",
    "### he mean of this column is greater than the median, it indicates that there might be some higher values pulling the mean to the right, suggesting a right-skewed distribution of normalized losses.###\n"
   ]
  },
  {
   "cell_type": "code",
   "execution_count": 18,
   "id": "504878ac",
   "metadata": {},
   "outputs": [
    {
     "data": {
      "image/png": "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",
      "text/plain": [
       "<Figure size 640x480 with 1 Axes>"
      ]
     },
     "metadata": {},
     "output_type": "display_data"
    }
   ],
   "source": [
    "sns.histplot(df[\"normalized-losses\"].replace(np.nan,nor_mean),kde=True,color=\"blue\",label=\"Mean\")\n",
    "sns.histplot(df[\"normalized-losses\"].replace(np.nan,nor_median),kde=True,color=\"Red\",label=\"Median\")\n",
    "plt.xlabel('Normalized Losses')\n",
    "plt.ylabel('Frequency')\n",
    "plt.legend()\n",
    "plt.grid()\n"
   ]
  },
  {
   "cell_type": "markdown",
   "id": "6db2a11f",
   "metadata": {},
   "source": [
    "In normalized losses column we can choose __nor_median__ why because it gives the normal distribution among the data\n",
    "- So the normalized null values going to replace with **nor_median=115.0**"
   ]
  },
  {
   "cell_type": "code",
   "execution_count": 19,
   "id": "311011a4",
   "metadata": {},
   "outputs": [
    {
     "data": {
      "image/png": "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",
      "text/plain": [
       "<Figure size 640x480 with 1 Axes>"
      ]
     },
     "metadata": {},
     "output_type": "display_data"
    }
   ],
   "source": [
    "sns.histplot(df[\"horsepower\"].replace(np.nan,hor_mean),kde=True,color=\"Black\",label=\"Mean\")\n",
    "sns.histplot(df[\"horsepower\"].replace(np.nan,hor_median),kde=True,color=\"Red\",label=\"Median\")\n",
    "plt.xlabel('Horsepower')\n",
    "plt.ylabel('Frequency')\n",
    "plt.legend()\n",
    "plt.grid()\n"
   ]
  },
  {
   "cell_type": "markdown",
   "id": "60b1775b",
   "metadata": {},
   "source": [
    "We can go with either mean or median for horsepower column it will give the same normal distribution\n",
    "_ HorsePower nan values replaced with **hor_mean=104**"
   ]
  },
  {
   "cell_type": "code",
   "execution_count": 20,
   "id": "8e8efcf0",
   "metadata": {},
   "outputs": [],
   "source": [
    "df[\"normalized-losses\"].replace(np.nan,nor_median,inplace=True)\n",
    "df[\"horsepower\"].replace(np.nan,hor_mean,inplace=True)"
   ]
  },
  {
   "cell_type": "code",
   "execution_count": 21,
   "id": "1c7eb636",
   "metadata": {},
   "outputs": [
    {
     "data": {
      "text/plain": [
       "normalized-losses    0\n",
       "horsepower           0\n",
       "dtype: int64"
      ]
     },
     "execution_count": 21,
     "metadata": {},
     "output_type": "execute_result"
    }
   ],
   "source": [
    "df[['normalized-losses', 'horsepower']].isnull().sum()"
   ]
  },
  {
   "cell_type": "markdown",
   "id": "45252bfc",
   "metadata": {},
   "source": [
    "# Alternate method \n",
    "from sklearn.impute import SimpleImputer\n",
    "si=SimpleImputer(missing_values=np.nan,strategy='mean')\n",
    "X=df.iloc[:,:-1] #All the cols except last col(features)\n",
    "y=df.iloc[:,-1]\n",
    "X[['normalized-losses','horsepower']]=si.fit_transform(X[['normalized-losses','horsepower']])"
   ]
  },
  {
   "cell_type": "markdown",
   "id": "82a9aced",
   "metadata": {},
   "source": [
    "- Now we dont have any nan value in two column .We have replaced successfully "
   ]
  },
  {
   "cell_type": "markdown",
   "id": "b0b7e14c",
   "metadata": {},
   "source": [
    "# Checking Outliers in the dataset\n",
    "- An outlier is an observation that significantly differs from other observations in a dataset."
   ]
  },
  {
   "cell_type": "code",
   "execution_count": 22,
   "id": "4e05fe32",
   "metadata": {},
   "outputs": [
    {
     "data": {
      "text/html": [
       "<div>\n",
       "<style scoped>\n",
       "    .dataframe tbody tr th:only-of-type {\n",
       "        vertical-align: middle;\n",
       "    }\n",
       "\n",
       "    .dataframe tbody tr th {\n",
       "        vertical-align: top;\n",
       "    }\n",
       "\n",
       "    .dataframe thead th {\n",
       "        text-align: right;\n",
       "    }\n",
       "</style>\n",
       "<table border=\"1\" class=\"dataframe\">\n",
       "  <thead>\n",
       "    <tr style=\"text-align: right;\">\n",
       "      <th></th>\n",
       "      <th>symboling</th>\n",
       "      <th>normalized-losses</th>\n",
       "      <th>width</th>\n",
       "      <th>height</th>\n",
       "      <th>engine-size</th>\n",
       "      <th>horsepower</th>\n",
       "      <th>city-mpg</th>\n",
       "      <th>highway-mpg</th>\n",
       "      <th>price</th>\n",
       "    </tr>\n",
       "  </thead>\n",
       "  <tbody>\n",
       "    <tr>\n",
       "      <th>min</th>\n",
       "      <td>-2.000000</td>\n",
       "      <td>65.000000</td>\n",
       "      <td>60.300000</td>\n",
       "      <td>47.800000</td>\n",
       "      <td>61.000000</td>\n",
       "      <td>48.000000</td>\n",
       "      <td>13.000000</td>\n",
       "      <td>16.000000</td>\n",
       "      <td>5118.000000</td>\n",
       "    </tr>\n",
       "    <tr>\n",
       "      <th>max</th>\n",
       "      <td>3.000000</td>\n",
       "      <td>256.000000</td>\n",
       "      <td>72.300000</td>\n",
       "      <td>59.800000</td>\n",
       "      <td>326.000000</td>\n",
       "      <td>288.000000</td>\n",
       "      <td>49.000000</td>\n",
       "      <td>54.000000</td>\n",
       "      <td>45400.000000</td>\n",
       "    </tr>\n",
       "    <tr>\n",
       "      <th>std</th>\n",
       "      <td>1.245307</td>\n",
       "      <td>31.805105</td>\n",
       "      <td>2.145204</td>\n",
       "      <td>2.443522</td>\n",
       "      <td>41.642693</td>\n",
       "      <td>39.519211</td>\n",
       "      <td>6.542142</td>\n",
       "      <td>6.886443</td>\n",
       "      <td>7902.651615</td>\n",
       "    </tr>\n",
       "  </tbody>\n",
       "</table>\n",
       "</div>"
      ],
      "text/plain": [
       "     symboling  normalized-losses      width     height  engine-size   \n",
       "min  -2.000000          65.000000  60.300000  47.800000    61.000000  \\\n",
       "max   3.000000         256.000000  72.300000  59.800000   326.000000   \n",
       "std   1.245307          31.805105   2.145204   2.443522    41.642693   \n",
       "\n",
       "     horsepower   city-mpg  highway-mpg         price  \n",
       "min   48.000000  13.000000    16.000000   5118.000000  \n",
       "max  288.000000  49.000000    54.000000  45400.000000  \n",
       "std   39.519211   6.542142     6.886443   7902.651615  "
      ]
     },
     "execution_count": 22,
     "metadata": {},
     "output_type": "execute_result"
    }
   ],
   "source": [
    "df.describe().loc[['min', 'max','std']]\n",
    "\n"
   ]
  },
  {
   "cell_type": "markdown",
   "id": "5694ad9e",
   "metadata": {},
   "source": [
    "- There is a maximum deviation in price column "
   ]
  },
  {
   "cell_type": "code",
   "execution_count": 23,
   "id": "9873202d",
   "metadata": {},
   "outputs": [
    {
     "data": {
      "text/plain": [
       "count      205.000000\n",
       "mean     13227.478049\n",
       "std       7902.651615\n",
       "min       5118.000000\n",
       "25%       7788.000000\n",
       "50%      10345.000000\n",
       "75%      16500.000000\n",
       "max      45400.000000\n",
       "Name: price, dtype: float64"
      ]
     },
     "execution_count": 23,
     "metadata": {},
     "output_type": "execute_result"
    }
   ],
   "source": [
    "df['price'].describe()"
   ]
  },
  {
   "cell_type": "code",
   "execution_count": 24,
   "id": "d4b72633",
   "metadata": {},
   "outputs": [
    {
     "name": "stderr",
     "output_type": "stream",
     "text": [
      "No artists with labels found to put in legend.  Note that artists whose label start with an underscore are ignored when legend() is called with no argument.\n"
     ]
    },
    {
     "data": {
      "image/png": "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",
      "text/plain": [
       "<Figure size 640x480 with 1 Axes>"
      ]
     },
     "metadata": {},
     "output_type": "display_data"
    }
   ],
   "source": [
    "sns.boxplot(df[\"price\"])\n",
    "plt.legend()\n",
    "\n",
    "plt.grid()"
   ]
  },
  {
   "cell_type": "markdown",
   "id": "da948337",
   "metadata": {},
   "source": [
    "- So by this graph we can conclude that the price above 30,000 are all outliers,That mean it is very fair from the mean"
   ]
  },
  {
   "cell_type": "code",
   "execution_count": 25,
   "id": "615e9651",
   "metadata": {},
   "outputs": [
    {
     "name": "stdout",
     "output_type": "stream",
     "text": [
      "Count of outlier present in the price column : 14\n",
      "     price           make\n",
      "15   30760            bmw\n",
      "16   41315            bmw\n",
      "17   36880            bmw\n",
      "47   32250         jaguar\n",
      "48   35550         jaguar\n",
      "49   36000         jaguar\n",
      "70   31600  mercedes-benz\n",
      "71   34184  mercedes-benz\n",
      "72   35056  mercedes-benz\n",
      "73   40960  mercedes-benz\n",
      "74   45400  mercedes-benz\n",
      "126  32528        porsche\n",
      "127  34028        porsche\n",
      "128  37028        porsche\n"
     ]
    }
   ],
   "source": [
    "print(\"Count of outlier present in the price column :\",df[df[\"price\"]>30000]['price'].count())\n",
    "print(df[df[\"price\"]>30000][['price','make']])"
   ]
  },
  {
   "cell_type": "code",
   "execution_count": 26,
   "id": "4a58623e",
   "metadata": {},
   "outputs": [
    {
     "data": {
      "image/png": "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",
      "text/plain": [
       "<Figure size 1500x1000 with 1 Axes>"
      ]
     },
     "metadata": {},
     "output_type": "display_data"
    }
   ],
   "source": [
    "plt.figure(figsize=(15,10))\n",
    "sns.boxplot(x=df[\"price\"],y=df[\"make\"])\n",
    "plt.grid()"
   ]
  },
  {
   "cell_type": "markdown",
   "id": "9d284f53",
   "metadata": {},
   "source": [
    "## insights ##\n",
    "Toyata has 5 outliers\n",
    "plymouth 1 outlier\n",
    "mistubishi 2 outliers\n",
    "isuzu,honda,dodge company has 1 outlier of each"
   ]
  },
  {
   "cell_type": "code",
   "execution_count": 27,
   "id": "04eec66b",
   "metadata": {},
   "outputs": [
    {
     "data": {
      "image/png": "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",
      "text/plain": [
       "<Figure size 640x480 with 1 Axes>"
      ]
     },
     "metadata": {},
     "output_type": "display_data"
    },
    {
     "data": {
      "text/plain": [
       "5572"
      ]
     },
     "execution_count": 27,
     "metadata": {},
     "output_type": "execute_result"
    }
   ],
   "source": [
    "sns.boxplot(x=df[df['make']=='dodge']['make'], y=df[df['make']=='dodge']['price'])\n",
    "plt.show()\n",
    "df[df['make']=='dodge']['price'].min()\n"
   ]
  },
  {
   "cell_type": "code",
   "execution_count": 28,
   "id": "7f592b3b",
   "metadata": {},
   "outputs": [
    {
     "data": {
      "text/plain": [
       "29"
      ]
     },
     "execution_count": 28,
     "metadata": {},
     "output_type": "execute_result"
    }
   ],
   "source": [
    "df[(df[\"make\"]==\"dodge\")&(df[\"price\"]>11000)].index[0]"
   ]
  },
  {
   "cell_type": "code",
   "execution_count": 29,
   "id": "0b340e0c",
   "metadata": {},
   "outputs": [
    {
     "data": {
      "text/html": [
       "<div>\n",
       "<style scoped>\n",
       "    .dataframe tbody tr th:only-of-type {\n",
       "        vertical-align: middle;\n",
       "    }\n",
       "\n",
       "    .dataframe tbody tr th {\n",
       "        vertical-align: top;\n",
       "    }\n",
       "\n",
       "    .dataframe thead th {\n",
       "        text-align: right;\n",
       "    }\n",
       "</style>\n",
       "<table border=\"1\" class=\"dataframe\">\n",
       "  <thead>\n",
       "    <tr style=\"text-align: right;\">\n",
       "      <th></th>\n",
       "      <th>symboling</th>\n",
       "      <th>normalized-losses</th>\n",
       "      <th>make</th>\n",
       "      <th>fuel-type</th>\n",
       "      <th>body-style</th>\n",
       "      <th>drive-wheels</th>\n",
       "      <th>engine-location</th>\n",
       "      <th>width</th>\n",
       "      <th>height</th>\n",
       "      <th>engine-type</th>\n",
       "      <th>engine-size</th>\n",
       "      <th>horsepower</th>\n",
       "      <th>city-mpg</th>\n",
       "      <th>highway-mpg</th>\n",
       "      <th>price</th>\n",
       "    </tr>\n",
       "  </thead>\n",
       "  <tbody>\n",
       "    <tr>\n",
       "      <th>0</th>\n",
       "      <td>3</td>\n",
       "      <td>115.0</td>\n",
       "      <td>alfa-romero</td>\n",
       "      <td>gas</td>\n",
       "      <td>convertible</td>\n",
       "      <td>rwd</td>\n",
       "      <td>front</td>\n",
       "      <td>64.1</td>\n",
       "      <td>48.8</td>\n",
       "      <td>dohc</td>\n",
       "      <td>130</td>\n",
       "      <td>111.0</td>\n",
       "      <td>21</td>\n",
       "      <td>27</td>\n",
       "      <td>13495</td>\n",
       "    </tr>\n",
       "    <tr>\n",
       "      <th>1</th>\n",
       "      <td>3</td>\n",
       "      <td>115.0</td>\n",
       "      <td>alfa-romero</td>\n",
       "      <td>gas</td>\n",
       "      <td>convertible</td>\n",
       "      <td>rwd</td>\n",
       "      <td>front</td>\n",
       "      <td>64.1</td>\n",
       "      <td>48.8</td>\n",
       "      <td>dohc</td>\n",
       "      <td>130</td>\n",
       "      <td>111.0</td>\n",
       "      <td>21</td>\n",
       "      <td>27</td>\n",
       "      <td>16500</td>\n",
       "    </tr>\n",
       "    <tr>\n",
       "      <th>2</th>\n",
       "      <td>1</td>\n",
       "      <td>115.0</td>\n",
       "      <td>alfa-romero</td>\n",
       "      <td>gas</td>\n",
       "      <td>hatchback</td>\n",
       "      <td>rwd</td>\n",
       "      <td>front</td>\n",
       "      <td>65.5</td>\n",
       "      <td>52.4</td>\n",
       "      <td>ohcv</td>\n",
       "      <td>152</td>\n",
       "      <td>154.0</td>\n",
       "      <td>19</td>\n",
       "      <td>26</td>\n",
       "      <td>16500</td>\n",
       "    </tr>\n",
       "    <tr>\n",
       "      <th>3</th>\n",
       "      <td>2</td>\n",
       "      <td>164.0</td>\n",
       "      <td>audi</td>\n",
       "      <td>gas</td>\n",
       "      <td>sedan</td>\n",
       "      <td>fwd</td>\n",
       "      <td>front</td>\n",
       "      <td>66.2</td>\n",
       "      <td>54.3</td>\n",
       "      <td>ohc</td>\n",
       "      <td>109</td>\n",
       "      <td>102.0</td>\n",
       "      <td>24</td>\n",
       "      <td>30</td>\n",
       "      <td>13950</td>\n",
       "    </tr>\n",
       "    <tr>\n",
       "      <th>4</th>\n",
       "      <td>2</td>\n",
       "      <td>164.0</td>\n",
       "      <td>audi</td>\n",
       "      <td>gas</td>\n",
       "      <td>sedan</td>\n",
       "      <td>4wd</td>\n",
       "      <td>front</td>\n",
       "      <td>66.4</td>\n",
       "      <td>54.3</td>\n",
       "      <td>ohc</td>\n",
       "      <td>136</td>\n",
       "      <td>115.0</td>\n",
       "      <td>18</td>\n",
       "      <td>22</td>\n",
       "      <td>17450</td>\n",
       "    </tr>\n",
       "    <tr>\n",
       "      <th>...</th>\n",
       "      <td>...</td>\n",
       "      <td>...</td>\n",
       "      <td>...</td>\n",
       "      <td>...</td>\n",
       "      <td>...</td>\n",
       "      <td>...</td>\n",
       "      <td>...</td>\n",
       "      <td>...</td>\n",
       "      <td>...</td>\n",
       "      <td>...</td>\n",
       "      <td>...</td>\n",
       "      <td>...</td>\n",
       "      <td>...</td>\n",
       "      <td>...</td>\n",
       "      <td>...</td>\n",
       "    </tr>\n",
       "    <tr>\n",
       "      <th>200</th>\n",
       "      <td>-1</td>\n",
       "      <td>95.0</td>\n",
       "      <td>volvo</td>\n",
       "      <td>gas</td>\n",
       "      <td>sedan</td>\n",
       "      <td>rwd</td>\n",
       "      <td>front</td>\n",
       "      <td>68.9</td>\n",
       "      <td>55.5</td>\n",
       "      <td>ohc</td>\n",
       "      <td>141</td>\n",
       "      <td>114.0</td>\n",
       "      <td>23</td>\n",
       "      <td>28</td>\n",
       "      <td>16845</td>\n",
       "    </tr>\n",
       "    <tr>\n",
       "      <th>201</th>\n",
       "      <td>-1</td>\n",
       "      <td>95.0</td>\n",
       "      <td>volvo</td>\n",
       "      <td>gas</td>\n",
       "      <td>sedan</td>\n",
       "      <td>rwd</td>\n",
       "      <td>front</td>\n",
       "      <td>68.8</td>\n",
       "      <td>55.5</td>\n",
       "      <td>ohc</td>\n",
       "      <td>141</td>\n",
       "      <td>160.0</td>\n",
       "      <td>19</td>\n",
       "      <td>25</td>\n",
       "      <td>19045</td>\n",
       "    </tr>\n",
       "    <tr>\n",
       "      <th>202</th>\n",
       "      <td>-1</td>\n",
       "      <td>95.0</td>\n",
       "      <td>volvo</td>\n",
       "      <td>gas</td>\n",
       "      <td>sedan</td>\n",
       "      <td>rwd</td>\n",
       "      <td>front</td>\n",
       "      <td>68.9</td>\n",
       "      <td>55.5</td>\n",
       "      <td>ohcv</td>\n",
       "      <td>173</td>\n",
       "      <td>134.0</td>\n",
       "      <td>18</td>\n",
       "      <td>23</td>\n",
       "      <td>21485</td>\n",
       "    </tr>\n",
       "    <tr>\n",
       "      <th>203</th>\n",
       "      <td>-1</td>\n",
       "      <td>95.0</td>\n",
       "      <td>volvo</td>\n",
       "      <td>diesel</td>\n",
       "      <td>sedan</td>\n",
       "      <td>rwd</td>\n",
       "      <td>front</td>\n",
       "      <td>68.9</td>\n",
       "      <td>55.5</td>\n",
       "      <td>ohc</td>\n",
       "      <td>145</td>\n",
       "      <td>106.0</td>\n",
       "      <td>26</td>\n",
       "      <td>27</td>\n",
       "      <td>22470</td>\n",
       "    </tr>\n",
       "    <tr>\n",
       "      <th>204</th>\n",
       "      <td>-1</td>\n",
       "      <td>95.0</td>\n",
       "      <td>volvo</td>\n",
       "      <td>gas</td>\n",
       "      <td>sedan</td>\n",
       "      <td>rwd</td>\n",
       "      <td>front</td>\n",
       "      <td>68.9</td>\n",
       "      <td>55.5</td>\n",
       "      <td>ohc</td>\n",
       "      <td>141</td>\n",
       "      <td>114.0</td>\n",
       "      <td>19</td>\n",
       "      <td>25</td>\n",
       "      <td>22625</td>\n",
       "    </tr>\n",
       "  </tbody>\n",
       "</table>\n",
       "<p>205 rows × 15 columns</p>\n",
       "</div>"
      ],
      "text/plain": [
       "     symboling  normalized-losses         make fuel-type   body-style   \n",
       "0            3              115.0  alfa-romero       gas  convertible  \\\n",
       "1            3              115.0  alfa-romero       gas  convertible   \n",
       "2            1              115.0  alfa-romero       gas    hatchback   \n",
       "3            2              164.0         audi       gas        sedan   \n",
       "4            2              164.0         audi       gas        sedan   \n",
       "..         ...                ...          ...       ...          ...   \n",
       "200         -1               95.0        volvo       gas        sedan   \n",
       "201         -1               95.0        volvo       gas        sedan   \n",
       "202         -1               95.0        volvo       gas        sedan   \n",
       "203         -1               95.0        volvo    diesel        sedan   \n",
       "204         -1               95.0        volvo       gas        sedan   \n",
       "\n",
       "    drive-wheels engine-location  width  height engine-type  engine-size   \n",
       "0            rwd           front   64.1    48.8        dohc          130  \\\n",
       "1            rwd           front   64.1    48.8        dohc          130   \n",
       "2            rwd           front   65.5    52.4        ohcv          152   \n",
       "3            fwd           front   66.2    54.3         ohc          109   \n",
       "4            4wd           front   66.4    54.3         ohc          136   \n",
       "..           ...             ...    ...     ...         ...          ...   \n",
       "200          rwd           front   68.9    55.5         ohc          141   \n",
       "201          rwd           front   68.8    55.5         ohc          141   \n",
       "202          rwd           front   68.9    55.5        ohcv          173   \n",
       "203          rwd           front   68.9    55.5         ohc          145   \n",
       "204          rwd           front   68.9    55.5         ohc          141   \n",
       "\n",
       "     horsepower  city-mpg  highway-mpg  price  \n",
       "0         111.0        21           27  13495  \n",
       "1         111.0        21           27  16500  \n",
       "2         154.0        19           26  16500  \n",
       "3         102.0        24           30  13950  \n",
       "4         115.0        18           22  17450  \n",
       "..          ...       ...          ...    ...  \n",
       "200       114.0        23           28  16845  \n",
       "201       160.0        19           25  19045  \n",
       "202       134.0        18           23  21485  \n",
       "203       106.0        26           27  22470  \n",
       "204       114.0        19           25  22625  \n",
       "\n",
       "[205 rows x 15 columns]"
      ]
     },
     "execution_count": 29,
     "metadata": {},
     "output_type": "execute_result"
    }
   ],
   "source": [
    "df.drop(29)\n",
    "df"
   ]
  },
  {
   "cell_type": "code",
   "execution_count": 30,
   "id": "e2dd5d42",
   "metadata": {},
   "outputs": [
    {
     "data": {
      "text/plain": [
       "(205, 15)"
      ]
     },
     "execution_count": 30,
     "metadata": {},
     "output_type": "execute_result"
    }
   ],
   "source": [
    "df.shape"
   ]
  },
  {
   "cell_type": "code",
   "execution_count": 31,
   "id": "b56fa07e",
   "metadata": {},
   "outputs": [
    {
     "data": {
      "text/plain": [
       "21     5572\n",
       "22     6377\n",
       "23     7957\n",
       "24     6229\n",
       "25     6692\n",
       "26     7609\n",
       "27     8558\n",
       "28     8921\n",
       "29    12964\n",
       "Name: price, dtype: int64"
      ]
     },
     "execution_count": 31,
     "metadata": {},
     "output_type": "execute_result"
    }
   ],
   "source": [
    "df[df[\"make\"]==\"dodge\"][\"price\"][:]"
   ]
  },
  {
   "cell_type": "markdown",
   "id": "aae34643",
   "metadata": {},
   "source": [
    "# Handling outliers"
   ]
  },
  {
   "cell_type": "code",
   "execution_count": 32,
   "id": "671d17c1",
   "metadata": {},
   "outputs": [],
   "source": [
    "q1=np.quantile(df[df[\"make\"]==\"dodge\"][\"price\"],0.25)"
   ]
  },
  {
   "cell_type": "code",
   "execution_count": 33,
   "id": "2b3b00e4",
   "metadata": {},
   "outputs": [],
   "source": [
    "q3=np.quantile(df[df[\"make\"]==\"dodge\"][\"price\"],0.75)"
   ]
  },
  {
   "cell_type": "code",
   "execution_count": 34,
   "id": "f3399326",
   "metadata": {},
   "outputs": [
    {
     "data": {
      "text/plain": [
       "2181.0"
      ]
     },
     "execution_count": 34,
     "metadata": {},
     "output_type": "execute_result"
    }
   ],
   "source": [
    "iqr=q3-q1\n",
    "iqr"
   ]
  },
  {
   "cell_type": "code",
   "execution_count": 35,
   "id": "53a908ab",
   "metadata": {},
   "outputs": [
    {
     "name": "stdout",
     "output_type": "stream",
     "text": [
      "11829.5 3105.5\n"
     ]
    }
   ],
   "source": [
    "ub=q3+(iqr*1.5)\n",
    "lb=q1-(iqr*1.5)\n",
    "print(ub,lb)"
   ]
  },
  {
   "cell_type": "code",
   "execution_count": 36,
   "id": "1b9c5e70",
   "metadata": {},
   "outputs": [],
   "source": [
    "def caculate_b(data):\n",
    "    q1=np.quantile(data,0.25)\n",
    "    q3=np.quantile(data,0.75)\n",
    "    iqr=q3-q1\n",
    "    ub=q3+(iqr*1.5)\n",
    "    lb=q1-(iqr*1.5)\n",
    "    return ub,lb\n",
    "    "
   ]
  },
  {
   "cell_type": "markdown",
   "id": "c6cb43d9",
   "metadata": {},
   "source": [
    "1.Take make unique values\n",
    "2.For each company for price column calculate upper and lower limits\n",
    "3.Based on ub and lb we have find index values of outliers\n"
   ]
  },
  {
   "cell_type": "code",
   "execution_count": 37,
   "id": "ad32550d",
   "metadata": {},
   "outputs": [],
   "source": [
    "make_list=df[\"make\"].unique()"
   ]
  },
  {
   "cell_type": "code",
   "execution_count": 38,
   "id": "392664fa",
   "metadata": {},
   "outputs": [
    {
     "data": {
      "text/plain": [
       "array(['alfa-romero', 'audi', 'bmw', 'chevrolet', 'dodge', 'honda',\n",
       "       'isuzu', 'jaguar', 'mazda', 'mercedes-benz', 'mercury',\n",
       "       'mitsubishi', 'nissan', 'peugot', 'plymouth', 'porsche', 'renault',\n",
       "       'saab', 'subaru', 'toyota', 'volkswagen', 'volvo'], dtype=object)"
      ]
     },
     "execution_count": 38,
     "metadata": {},
     "output_type": "execute_result"
    }
   ],
   "source": [
    "make_list"
   ]
  },
  {
   "cell_type": "code",
   "execution_count": 39,
   "id": "51ff81f4",
   "metadata": {},
   "outputs": [
    {
     "data": {
      "text/plain": [
       "(11829.5, 3105.5)"
      ]
     },
     "execution_count": 39,
     "metadata": {},
     "output_type": "execute_result"
    }
   ],
   "source": [
    "caculate_b(df[df[\"make\"]==\"dodge\"][\"price\"])"
   ]
  },
  {
   "cell_type": "code",
   "execution_count": 40,
   "id": "57960608",
   "metadata": {},
   "outputs": [
    {
     "name": "stdout",
     "output_type": "stream",
     "text": [
      "alfa-romero\n",
      "18753.75 12743.75\n",
      "[]\n",
      "==================================\n",
      "audi\n",
      "23887.5 9027.5\n",
      "[]\n",
      "==================================\n",
      "bmw\n",
      "50786.875 1461.875\n",
      "[]\n",
      "==================================\n",
      "chevrolet\n",
      "7503.0 4655.0\n",
      "[]\n",
      "==================================\n",
      "dodge\n",
      "11829.5 3105.5\n",
      "[29]\n",
      "==================================\n",
      "honda\n",
      "12455.0 3495.0\n",
      "[41]\n",
      "==================================\n",
      "isuzu\n",
      "21295.625 1936.625\n",
      "[45]\n",
      "==================================\n",
      "jaguar\n",
      "38587.5 31087.5\n",
      "[]\n",
      "==================================\n",
      "mazda\n",
      "18520.0 720.0\n",
      "[]\n",
      "==================================\n",
      "mercedes-benz\n",
      "48985.0 15777.0\n",
      "[]\n",
      "==================================\n",
      "mercury\n",
      "16503.0 16503.0\n",
      "[]\n",
      "==================================\n",
      "mitsubishi\n",
      "14414.0 2534.0\n",
      "[83, 84]\n",
      "==================================\n",
      "nissan\n",
      "22780.25 -1969.75\n",
      "[]\n",
      "==================================\n",
      "peugot\n",
      "22173.75 8343.75\n",
      "[]\n",
      "==================================\n",
      "plymouth\n",
      "11406.75 3492.75\n",
      "[124]\n",
      "==================================\n",
      "porsche\n",
      "52043.0 4003.0\n",
      "[]\n",
      "==================================\n",
      "renault\n",
      "10195.0 8995.0\n",
      "[]\n",
      "==================================\n",
      "saab\n",
      "24393.75 5983.75\n",
      "[]\n",
      "==================================\n",
      "subaru\n",
      "13980.625 3417.625\n",
      "[]\n",
      "==================================\n",
      "toyota\n",
      "15627.375 3216.375\n",
      "[172, 178, 179, 180, 181]\n",
      "==================================\n",
      "volkswagen\n",
      "17204.375 2709.375\n",
      "[]\n",
      "==================================\n",
      "volvo\n",
      "26287.5 10227.5\n",
      "[]\n",
      "==================================\n"
     ]
    }
   ],
   "source": [
    "for m in make_list:\n",
    "    print(m)\n",
    "    ub,lb=caculate_b(df[df[\"make\"]==m][\"price\"])\n",
    "    print(ub,lb)\n",
    "    index_values=df[(df[\"make\"]==m)&((df[\"price\"]>ub)|(df[\"price\"]<lb))].index.to_list()\n",
    "    print(index_values)\n",
    "    df.drop(index_values,inplace=True)\n",
    "    print(\"==================================\")\n",
    "    "
   ]
  },
  {
   "cell_type": "markdown",
   "id": "f4ca3c77",
   "metadata": {},
   "source": [
    "I have done a list  for upper and lower boundaries of make and  price "
   ]
  },
  {
   "cell_type": "code",
   "execution_count": 41,
   "id": "c34f105c",
   "metadata": {},
   "outputs": [
    {
     "data": {
      "image/png": "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",
      "text/plain": [
       "<Figure size 1500x1000 with 1 Axes>"
      ]
     },
     "metadata": {},
     "output_type": "display_data"
    }
   ],
   "source": [
    "plt.figure(figsize=(15,10))\n",
    "sns.boxplot(x=df[\"price\"],y=df[\"make\"])\n",
    "plt.grid()"
   ]
  },
  {
   "cell_type": "markdown",
   "id": "dcd4bcf8",
   "metadata": {},
   "source": [
    "# Handling Skewness"
   ]
  },
  {
   "cell_type": "code",
   "execution_count": 42,
   "id": "5753c376",
   "metadata": {},
   "outputs": [
    {
     "data": {
      "text/plain": [
       "(194, 15)"
      ]
     },
     "execution_count": 42,
     "metadata": {},
     "output_type": "execute_result"
    }
   ],
   "source": [
    "df.shape"
   ]
  },
  {
   "cell_type": "markdown",
   "id": "57248939",
   "metadata": {},
   "source": [
    "after removing the outliers the dataset having 194 rows and 15 columns"
   ]
  },
  {
   "cell_type": "code",
   "execution_count": 43,
   "id": "b2bec223",
   "metadata": {},
   "outputs": [
    {
     "data": {
      "text/plain": [
       "symboling              int64\n",
       "normalized-losses    float64\n",
       "make                  object\n",
       "fuel-type             object\n",
       "body-style            object\n",
       "drive-wheels          object\n",
       "engine-location       object\n",
       "width                float64\n",
       "height               float64\n",
       "engine-type           object\n",
       "engine-size            int64\n",
       "horsepower           float64\n",
       "city-mpg               int64\n",
       "highway-mpg            int64\n",
       "price                  int64\n",
       "dtype: object"
      ]
     },
     "execution_count": 43,
     "metadata": {},
     "output_type": "execute_result"
    }
   ],
   "source": [
    "df.dtypes"
   ]
  },
  {
   "cell_type": "code",
   "execution_count": 44,
   "id": "4d19a9eb",
   "metadata": {},
   "outputs": [],
   "source": [
    "Num_columns = df.select_dtypes([\"int64\",\"float64\",\"float32\"])\n",
    "cat_columns = df.select_dtypes(object)"
   ]
  },
  {
   "cell_type": "code",
   "execution_count": 45,
   "id": "9b790461",
   "metadata": {},
   "outputs": [
    {
     "data": {
      "text/html": [
       "<div>\n",
       "<style scoped>\n",
       "    .dataframe tbody tr th:only-of-type {\n",
       "        vertical-align: middle;\n",
       "    }\n",
       "\n",
       "    .dataframe tbody tr th {\n",
       "        vertical-align: top;\n",
       "    }\n",
       "\n",
       "    .dataframe thead th {\n",
       "        text-align: right;\n",
       "    }\n",
       "</style>\n",
       "<table border=\"1\" class=\"dataframe\">\n",
       "  <thead>\n",
       "    <tr style=\"text-align: right;\">\n",
       "      <th></th>\n",
       "      <th>symboling</th>\n",
       "      <th>normalized-losses</th>\n",
       "      <th>width</th>\n",
       "      <th>height</th>\n",
       "      <th>engine-size</th>\n",
       "      <th>horsepower</th>\n",
       "      <th>city-mpg</th>\n",
       "      <th>highway-mpg</th>\n",
       "      <th>price</th>\n",
       "    </tr>\n",
       "  </thead>\n",
       "  <tbody>\n",
       "    <tr>\n",
       "      <th>0</th>\n",
       "      <td>3</td>\n",
       "      <td>115.0</td>\n",
       "      <td>64.1</td>\n",
       "      <td>48.8</td>\n",
       "      <td>130</td>\n",
       "      <td>111.0</td>\n",
       "      <td>21</td>\n",
       "      <td>27</td>\n",
       "      <td>13495</td>\n",
       "    </tr>\n",
       "    <tr>\n",
       "      <th>1</th>\n",
       "      <td>3</td>\n",
       "      <td>115.0</td>\n",
       "      <td>64.1</td>\n",
       "      <td>48.8</td>\n",
       "      <td>130</td>\n",
       "      <td>111.0</td>\n",
       "      <td>21</td>\n",
       "      <td>27</td>\n",
       "      <td>16500</td>\n",
       "    </tr>\n",
       "    <tr>\n",
       "      <th>2</th>\n",
       "      <td>1</td>\n",
       "      <td>115.0</td>\n",
       "      <td>65.5</td>\n",
       "      <td>52.4</td>\n",
       "      <td>152</td>\n",
       "      <td>154.0</td>\n",
       "      <td>19</td>\n",
       "      <td>26</td>\n",
       "      <td>16500</td>\n",
       "    </tr>\n",
       "    <tr>\n",
       "      <th>3</th>\n",
       "      <td>2</td>\n",
       "      <td>164.0</td>\n",
       "      <td>66.2</td>\n",
       "      <td>54.3</td>\n",
       "      <td>109</td>\n",
       "      <td>102.0</td>\n",
       "      <td>24</td>\n",
       "      <td>30</td>\n",
       "      <td>13950</td>\n",
       "    </tr>\n",
       "    <tr>\n",
       "      <th>4</th>\n",
       "      <td>2</td>\n",
       "      <td>164.0</td>\n",
       "      <td>66.4</td>\n",
       "      <td>54.3</td>\n",
       "      <td>136</td>\n",
       "      <td>115.0</td>\n",
       "      <td>18</td>\n",
       "      <td>22</td>\n",
       "      <td>17450</td>\n",
       "    </tr>\n",
       "    <tr>\n",
       "      <th>...</th>\n",
       "      <td>...</td>\n",
       "      <td>...</td>\n",
       "      <td>...</td>\n",
       "      <td>...</td>\n",
       "      <td>...</td>\n",
       "      <td>...</td>\n",
       "      <td>...</td>\n",
       "      <td>...</td>\n",
       "      <td>...</td>\n",
       "    </tr>\n",
       "    <tr>\n",
       "      <th>200</th>\n",
       "      <td>-1</td>\n",
       "      <td>95.0</td>\n",
       "      <td>68.9</td>\n",
       "      <td>55.5</td>\n",
       "      <td>141</td>\n",
       "      <td>114.0</td>\n",
       "      <td>23</td>\n",
       "      <td>28</td>\n",
       "      <td>16845</td>\n",
       "    </tr>\n",
       "    <tr>\n",
       "      <th>201</th>\n",
       "      <td>-1</td>\n",
       "      <td>95.0</td>\n",
       "      <td>68.8</td>\n",
       "      <td>55.5</td>\n",
       "      <td>141</td>\n",
       "      <td>160.0</td>\n",
       "      <td>19</td>\n",
       "      <td>25</td>\n",
       "      <td>19045</td>\n",
       "    </tr>\n",
       "    <tr>\n",
       "      <th>202</th>\n",
       "      <td>-1</td>\n",
       "      <td>95.0</td>\n",
       "      <td>68.9</td>\n",
       "      <td>55.5</td>\n",
       "      <td>173</td>\n",
       "      <td>134.0</td>\n",
       "      <td>18</td>\n",
       "      <td>23</td>\n",
       "      <td>21485</td>\n",
       "    </tr>\n",
       "    <tr>\n",
       "      <th>203</th>\n",
       "      <td>-1</td>\n",
       "      <td>95.0</td>\n",
       "      <td>68.9</td>\n",
       "      <td>55.5</td>\n",
       "      <td>145</td>\n",
       "      <td>106.0</td>\n",
       "      <td>26</td>\n",
       "      <td>27</td>\n",
       "      <td>22470</td>\n",
       "    </tr>\n",
       "    <tr>\n",
       "      <th>204</th>\n",
       "      <td>-1</td>\n",
       "      <td>95.0</td>\n",
       "      <td>68.9</td>\n",
       "      <td>55.5</td>\n",
       "      <td>141</td>\n",
       "      <td>114.0</td>\n",
       "      <td>19</td>\n",
       "      <td>25</td>\n",
       "      <td>22625</td>\n",
       "    </tr>\n",
       "  </tbody>\n",
       "</table>\n",
       "<p>194 rows × 9 columns</p>\n",
       "</div>"
      ],
      "text/plain": [
       "     symboling  normalized-losses  width  height  engine-size  horsepower   \n",
       "0            3              115.0   64.1    48.8          130       111.0  \\\n",
       "1            3              115.0   64.1    48.8          130       111.0   \n",
       "2            1              115.0   65.5    52.4          152       154.0   \n",
       "3            2              164.0   66.2    54.3          109       102.0   \n",
       "4            2              164.0   66.4    54.3          136       115.0   \n",
       "..         ...                ...    ...     ...          ...         ...   \n",
       "200         -1               95.0   68.9    55.5          141       114.0   \n",
       "201         -1               95.0   68.8    55.5          141       160.0   \n",
       "202         -1               95.0   68.9    55.5          173       134.0   \n",
       "203         -1               95.0   68.9    55.5          145       106.0   \n",
       "204         -1               95.0   68.9    55.5          141       114.0   \n",
       "\n",
       "     city-mpg  highway-mpg  price  \n",
       "0          21           27  13495  \n",
       "1          21           27  16500  \n",
       "2          19           26  16500  \n",
       "3          24           30  13950  \n",
       "4          18           22  17450  \n",
       "..        ...          ...    ...  \n",
       "200        23           28  16845  \n",
       "201        19           25  19045  \n",
       "202        18           23  21485  \n",
       "203        26           27  22470  \n",
       "204        19           25  22625  \n",
       "\n",
       "[194 rows x 9 columns]"
      ]
     },
     "execution_count": 45,
     "metadata": {},
     "output_type": "execute_result"
    }
   ],
   "source": [
    "Num_columns "
   ]
  },
  {
   "cell_type": "code",
   "execution_count": 46,
   "id": "5818181c",
   "metadata": {},
   "outputs": [
    {
     "data": {
      "text/html": [
       "<div>\n",
       "<style scoped>\n",
       "    .dataframe tbody tr th:only-of-type {\n",
       "        vertical-align: middle;\n",
       "    }\n",
       "\n",
       "    .dataframe tbody tr th {\n",
       "        vertical-align: top;\n",
       "    }\n",
       "\n",
       "    .dataframe thead th {\n",
       "        text-align: right;\n",
       "    }\n",
       "</style>\n",
       "<table border=\"1\" class=\"dataframe\">\n",
       "  <thead>\n",
       "    <tr style=\"text-align: right;\">\n",
       "      <th></th>\n",
       "      <th>make</th>\n",
       "      <th>fuel-type</th>\n",
       "      <th>body-style</th>\n",
       "      <th>drive-wheels</th>\n",
       "      <th>engine-location</th>\n",
       "      <th>engine-type</th>\n",
       "    </tr>\n",
       "  </thead>\n",
       "  <tbody>\n",
       "    <tr>\n",
       "      <th>0</th>\n",
       "      <td>alfa-romero</td>\n",
       "      <td>gas</td>\n",
       "      <td>convertible</td>\n",
       "      <td>rwd</td>\n",
       "      <td>front</td>\n",
       "      <td>dohc</td>\n",
       "    </tr>\n",
       "    <tr>\n",
       "      <th>1</th>\n",
       "      <td>alfa-romero</td>\n",
       "      <td>gas</td>\n",
       "      <td>convertible</td>\n",
       "      <td>rwd</td>\n",
       "      <td>front</td>\n",
       "      <td>dohc</td>\n",
       "    </tr>\n",
       "    <tr>\n",
       "      <th>2</th>\n",
       "      <td>alfa-romero</td>\n",
       "      <td>gas</td>\n",
       "      <td>hatchback</td>\n",
       "      <td>rwd</td>\n",
       "      <td>front</td>\n",
       "      <td>ohcv</td>\n",
       "    </tr>\n",
       "    <tr>\n",
       "      <th>3</th>\n",
       "      <td>audi</td>\n",
       "      <td>gas</td>\n",
       "      <td>sedan</td>\n",
       "      <td>fwd</td>\n",
       "      <td>front</td>\n",
       "      <td>ohc</td>\n",
       "    </tr>\n",
       "    <tr>\n",
       "      <th>4</th>\n",
       "      <td>audi</td>\n",
       "      <td>gas</td>\n",
       "      <td>sedan</td>\n",
       "      <td>4wd</td>\n",
       "      <td>front</td>\n",
       "      <td>ohc</td>\n",
       "    </tr>\n",
       "    <tr>\n",
       "      <th>...</th>\n",
       "      <td>...</td>\n",
       "      <td>...</td>\n",
       "      <td>...</td>\n",
       "      <td>...</td>\n",
       "      <td>...</td>\n",
       "      <td>...</td>\n",
       "    </tr>\n",
       "    <tr>\n",
       "      <th>200</th>\n",
       "      <td>volvo</td>\n",
       "      <td>gas</td>\n",
       "      <td>sedan</td>\n",
       "      <td>rwd</td>\n",
       "      <td>front</td>\n",
       "      <td>ohc</td>\n",
       "    </tr>\n",
       "    <tr>\n",
       "      <th>201</th>\n",
       "      <td>volvo</td>\n",
       "      <td>gas</td>\n",
       "      <td>sedan</td>\n",
       "      <td>rwd</td>\n",
       "      <td>front</td>\n",
       "      <td>ohc</td>\n",
       "    </tr>\n",
       "    <tr>\n",
       "      <th>202</th>\n",
       "      <td>volvo</td>\n",
       "      <td>gas</td>\n",
       "      <td>sedan</td>\n",
       "      <td>rwd</td>\n",
       "      <td>front</td>\n",
       "      <td>ohcv</td>\n",
       "    </tr>\n",
       "    <tr>\n",
       "      <th>203</th>\n",
       "      <td>volvo</td>\n",
       "      <td>diesel</td>\n",
       "      <td>sedan</td>\n",
       "      <td>rwd</td>\n",
       "      <td>front</td>\n",
       "      <td>ohc</td>\n",
       "    </tr>\n",
       "    <tr>\n",
       "      <th>204</th>\n",
       "      <td>volvo</td>\n",
       "      <td>gas</td>\n",
       "      <td>sedan</td>\n",
       "      <td>rwd</td>\n",
       "      <td>front</td>\n",
       "      <td>ohc</td>\n",
       "    </tr>\n",
       "  </tbody>\n",
       "</table>\n",
       "<p>194 rows × 6 columns</p>\n",
       "</div>"
      ],
      "text/plain": [
       "            make fuel-type   body-style drive-wheels engine-location   \n",
       "0    alfa-romero       gas  convertible          rwd           front  \\\n",
       "1    alfa-romero       gas  convertible          rwd           front   \n",
       "2    alfa-romero       gas    hatchback          rwd           front   \n",
       "3           audi       gas        sedan          fwd           front   \n",
       "4           audi       gas        sedan          4wd           front   \n",
       "..           ...       ...          ...          ...             ...   \n",
       "200        volvo       gas        sedan          rwd           front   \n",
       "201        volvo       gas        sedan          rwd           front   \n",
       "202        volvo       gas        sedan          rwd           front   \n",
       "203        volvo    diesel        sedan          rwd           front   \n",
       "204        volvo       gas        sedan          rwd           front   \n",
       "\n",
       "    engine-type  \n",
       "0          dohc  \n",
       "1          dohc  \n",
       "2          ohcv  \n",
       "3           ohc  \n",
       "4           ohc  \n",
       "..          ...  \n",
       "200         ohc  \n",
       "201         ohc  \n",
       "202        ohcv  \n",
       "203         ohc  \n",
       "204         ohc  \n",
       "\n",
       "[194 rows x 6 columns]"
      ]
     },
     "execution_count": 46,
     "metadata": {},
     "output_type": "execute_result"
    }
   ],
   "source": [
    "cat_columns "
   ]
  },
  {
   "cell_type": "code",
   "execution_count": 47,
   "id": "c64425e2",
   "metadata": {},
   "outputs": [
    {
     "data": {
      "text/plain": [
       "Index(['symboling', 'normalized-losses', 'width', 'height', 'engine-size',\n",
       "       'horsepower', 'city-mpg', 'highway-mpg', 'price'],\n",
       "      dtype='object')"
      ]
     },
     "execution_count": 47,
     "metadata": {},
     "output_type": "execute_result"
    }
   ],
   "source": [
    "Num_columns.columns"
   ]
  },
  {
   "cell_type": "code",
   "execution_count": 48,
   "id": "73547fd5",
   "metadata": {},
   "outputs": [
    {
     "name": "stdout",
     "output_type": "stream",
     "text": [
      "symboling\n"
     ]
    },
    {
     "data": {
      "image/png": "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",
      "text/plain": [
       "<Figure size 640x480 with 1 Axes>"
      ]
     },
     "metadata": {},
     "output_type": "display_data"
    },
    {
     "name": "stdout",
     "output_type": "stream",
     "text": [
      "========================================================\n",
      "normalized-losses\n"
     ]
    },
    {
     "data": {
      "image/png": "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",
      "text/plain": [
       "<Figure size 640x480 with 1 Axes>"
      ]
     },
     "metadata": {},
     "output_type": "display_data"
    },
    {
     "name": "stdout",
     "output_type": "stream",
     "text": [
      "========================================================\n",
      "width\n"
     ]
    },
    {
     "data": {
      "image/png": "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",
      "text/plain": [
       "<Figure size 640x480 with 1 Axes>"
      ]
     },
     "metadata": {},
     "output_type": "display_data"
    },
    {
     "name": "stdout",
     "output_type": "stream",
     "text": [
      "========================================================\n",
      "height\n"
     ]
    },
    {
     "data": {
      "image/png": "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",
      "text/plain": [
       "<Figure size 640x480 with 1 Axes>"
      ]
     },
     "metadata": {},
     "output_type": "display_data"
    },
    {
     "name": "stdout",
     "output_type": "stream",
     "text": [
      "========================================================\n",
      "engine-size\n"
     ]
    },
    {
     "data": {
      "image/png": "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",
      "text/plain": [
       "<Figure size 640x480 with 1 Axes>"
      ]
     },
     "metadata": {},
     "output_type": "display_data"
    },
    {
     "name": "stdout",
     "output_type": "stream",
     "text": [
      "========================================================\n",
      "horsepower\n"
     ]
    },
    {
     "data": {
      "image/png": "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",
      "text/plain": [
       "<Figure size 640x480 with 1 Axes>"
      ]
     },
     "metadata": {},
     "output_type": "display_data"
    },
    {
     "name": "stdout",
     "output_type": "stream",
     "text": [
      "========================================================\n",
      "city-mpg\n"
     ]
    },
    {
     "data": {
      "image/png": "iVBORw0KGgoAAAANSUhEUgAAAkAAAAGwCAYAAABB4NqyAAAAOXRFWHRTb2Z0d2FyZQBNYXRwbG90bGliIHZlcnNpb24zLjcuMSwgaHR0cHM6Ly9tYXRwbG90bGliLm9yZy/bCgiHAAAACXBIWXMAAA9hAAAPYQGoP6dpAABhLklEQVR4nO3deXxU1f0//tfMZJbsK5lJQjYgrIGERWJARWUJSospNiJYWUSs1lhsKpXwFZCiP7QtCAofqVQEqghFMaUFkRgFUQKYhdWEPQRIJgshezKZzNzfH0NG0wTMMpk7y+v5eOQhuXNm5n2PQ/LinHPPlQiCIICIiIjIiUjFLoCIiIjI2hiAiIiIyOkwABEREZHTYQAiIiIip8MARERERE6HAYiIiIicDgMQEREROR0XsQuwRUajEUVFRfD09IREIhG7HCIiIuoAQRBQU1OD4OBgSKV3HuNhAGpHUVERQkNDxS6DiIiIuuDq1avo3bv3HdswALXD09MTgKkDvby8RK6mZ+j1euzfvx+TJk2CXC4XuxyHxr62Hva19bCvrYP93DnV1dUIDQ01/x6/E9ED0Pr16/HXv/4VWq0WMTExeOeddzB69Ojbtt+5cyeWLFmCgoICREVF4c0338TDDz9sfry2thaLFi1CWloabty4gcjISPz+97/Hs88+2+GaWqa9vLy8HDoAubm5wcvLi3+pehj72nrY19bDvrYO9nPXdGT5iqiLoHfs2IGUlBQsW7YMOTk5iImJQUJCAkpLS9ttf/jwYcyYMQPz5s1Dbm4uEhMTkZiYiNOnT5vbpKSkYN++ffjwww+Rl5eHF198EcnJydi9e7e1TouIiIhsnKgBaPXq1Zg/fz7mzp2LwYMHY8OGDXBzc8OmTZvabb927VpMnjwZCxcuxKBBg7BixQqMGDEC69atM7c5fPgwZs+ejfvvvx8RERF45plnEBMTg2PHjlnrtIiIiMjGiTYF1tTUhOzsbKSmppqPSaVSTJgwAZmZme0+JzMzEykpKa2OJSQkIC0tzfz9mDFjsHv3bjz11FMIDg7GgQMHcO7cObz11lu3rUWn00Gn05m/r66uBmAaetTr9V05PZvXcl6Oen62hH1tPexr62FfWwf7uXM600+iBaDy8nIYDAao1epWx9VqNfLz89t9jlarbbe9Vqs1f//OO+/gmWeeQe/eveHi4gKpVIqNGzfivvvuu20tK1euxPLly9sc379/P9zc3DpzWnYnPT1d7BKcBvvaetjX1sO+tg72c8fU19d3uK3oi6At7Z133sGRI0ewe/duhIeH45tvvsHzzz+P4OBgTJgwod3npKamthpZallFPmnSJIdeBJ2eno6JEydyYV0PY19bD/vaetjX1sF+7pyWGZyOEC0ABQQEQCaToaSkpNXxkpISaDSadp+j0Wju2L6hoQGLFy/GZ599hilTpgAAhg0bhuPHj+Nvf/vbbQOQUqmEUqlsc1wulzv8B84ZztFWsK+th31tPexr62A/d0xn+ki0RdAKhQIjR45ERkaG+ZjRaERGRgbi4+PbfU58fHyr9oBpWLClfcuanf/d/VEmk8FoNFr4DIiIiMheiToFlpKSgtmzZ2PUqFEYPXo01qxZg7q6OsydOxcAMGvWLISEhGDlypUAgAULFmDcuHFYtWoVpkyZgu3btyMrKwvvvfceANO+PePGjcPChQvh6uqK8PBwHDx4EFu3bsXq1atFO08iIiKyLaIGoOnTp6OsrAxLly6FVqtFbGws9u3bZ17oXFhY2Go0Z8yYMdi2bRteeeUVLF68GFFRUUhLS0N0dLS5zfbt25GamoonnngCFRUVCA8Px+uvv96pjRCJiIjIsYm+CDo5ORnJycntPnbgwIE2x5KSkpCUlHTb19NoNPjggw8sVR4RERE5IFE3QiQiIiISAwMQEREROR0GICIiInI6DEBERETkdBiAiIiIyOmIfhUYEVnXtqOFor7/zLgwUd+fiAjgCBARERE5IQYgIiIicjoMQEREROR0GICIiIjI6TAAERERkdNhACIiIiKnwwBERERETocBiIiIiJwOAxARERE5HQYgIiIicjoMQEREROR0GICIiIjI6TAAERERkdNhACIiIiKnwwBERERETocBiIiIiJwOAxARERE5HQYgIiIicjoMQEREROR0GICIiIjI6TAAERERkdNhACIiIiKnwwBERERETocBiIiIiJwOAxARERE5HQYgIiIicjoMQEREROR0GICIiIjI6TAAERERkdOxiQC0fv16REREQKVSIS4uDseOHbtj+507d2LgwIFQqVQYOnQo9u7d2+pxiUTS7tdf//rXnjwNIiIishOiB6AdO3YgJSUFy5YtQ05ODmJiYpCQkIDS0tJ22x8+fBgzZszAvHnzkJubi8TERCQmJuL06dPmNsXFxa2+Nm3aBIlEgkcffdRap0VEREQ2zEXsAlavXo358+dj7ty5AIANGzZgz5492LRpExYtWtSm/dq1azF58mQsXLgQALBixQqkp6dj3bp12LBhAwBAo9G0es6///1vPPDAA+jTp0+7Neh0Ouh0OvP31dXVAAC9Xg+9Xt/9k7RBLeflqOdnS2yur40GUd++J/vB5vragbGvrYP93Dmd6SdRA1BTUxOys7ORmppqPiaVSjFhwgRkZma2+5zMzEykpKS0OpaQkIC0tLR225eUlGDPnj3YsmXLbetYuXIlli9f3ub4/v374ebm1oEzsV/p6elil+A0bKWv3UV+/717T/b4e9hKXzsD9rV1sJ87pr6+vsNtRQ1A5eXlMBgMUKvVrY6r1Wrk5+e3+xytVttue61W2277LVu2wNPTE9OmTbttHampqa1CVXV1NUJDQzFp0iR4eXl19HTsil6vR3p6OiZOnAi5XC52OQ7N1vp6Z9Y1Ud8/aVTvHnttW+trR8a+tg72c+e0zOB0hOhTYD1t06ZNeOKJJ6BSqW7bRqlUQqlUtjkul8sd/gPnDOdoK2ymr6UyUd/eGn1gM33tBNjX1sF+7pjO9JGoASggIAAymQwlJSWtjpeUlLRZx9NCo9F0uP2hQ4dw9uxZ7Nixw3JFExERkd0T9SowhUKBkSNHIiMjw3zMaDQiIyMD8fHx7T4nPj6+VXvANDfaXvv3338fI0eORExMjGULJyIiIrsm+hRYSkoKZs+ejVGjRmH06NFYs2YN6urqzFeFzZo1CyEhIVi5ciUAYMGCBRg3bhxWrVqFKVOmYPv27cjKysJ7773X6nWrq6uxc+dOrFq1yurnRERERLZN9AA0ffp0lJWVYenSpdBqtYiNjcW+ffvMC50LCwshlf44UDVmzBhs27YNr7zyChYvXoyoqCikpaUhOjq61etu374dgiBgxowZVj0fIiIisn2iByAASE5ORnJycruPHThwoM2xpKQkJCUl3fE1n3nmGTzzzDOWKI+IiIgcjOg7QRMRERFZGwMQEREROR0GICIiInI6DEBERETkdBiAiIiIyOkwABEREZHTYQAiIiIip8MARERERE6HAYiIiIicDgMQEREROR0GICIiInI6DEBERETkdBiAiIiIyOkwABEREZHTYQAiIiIip8MARERERE6HAYiIiIicDgMQEREROR0GICIiInI6DEBERETkdBiAiIiIyOkwABEREZHTYQAiIiIip8MARERERE6HAYiIiIicDgMQEREROR0GICIiInI6DEBERETkdBiAiIiIyOkwABEREZHTYQAiIiIip8MARERERE6HAYiIiIicDgMQEREROR3RA9D69esREREBlUqFuLg4HDt27I7td+7ciYEDB0KlUmHo0KHYu3dvmzZ5eXmYOnUqvL294e7ujrvuuguFhYU9dQpERERkZ0QNQDt27EBKSgqWLVuGnJwcxMTEICEhAaWlpe22P3z4MGbMmIF58+YhNzcXiYmJSExMxOnTp81tLl68iHvuuQcDBw7EgQMHcPLkSSxZsgQqlcpap0VEREQ2TtQAtHr1asyfPx9z587F4MGDsWHDBri5uWHTpk3ttl+7di0mT56MhQsXYtCgQVixYgVGjBiBdevWmdv8v//3//Dwww/jL3/5C4YPH46+ffti6tSpCAwMtNZpERERkY1zEeuNm5qakJ2djdTUVPMxqVSKCRMmIDMzs93nZGZmIiUlpdWxhIQEpKWlAQCMRiP27NmDP/3pT0hISEBubi4iIyORmpqKxMTE29ai0+mg0+nM31dXVwMA9Ho99Hp9F8/QtrWcl6Oeny2xub42GkR9+57sB5vrawfGvrYO9nPndKafRAtA5eXlMBgMUKvVrY6r1Wrk5+e3+xytVttue61WCwAoLS1FbW0t3njjDbz22mt48803sW/fPkybNg1ff/01xo0b1+7rrly5EsuXL29zfP/+/XBzc+vK6dmN9PR0sUtwGrbS1+4iv//evSd7/D1spa+dAfvaOtjPHVNfX9/htqIFoJ5gNBoBAI888gj+8Ic/AABiY2Nx+PBhbNiw4bYBKDU1tdXIUnV1NUJDQzFp0iR4eXn1fOEi0Ov1SE9Px8SJEyGXy8Uux6HZWl/vzLom6vsnjerdY69ta33tyNjX1sF+7pyWGZyOEC0ABQQEQCaToaSkpNXxkpISaDSadp+j0Wju2D4gIAAuLi4YPHhwqzaDBg3Ct99+e9talEollEplm+NyudzhP3DOcI62wmb6WioT9e2t0Qc209dOgH1tHeznjulMH4m2CFqhUGDkyJHIyMgwHzMajcjIyEB8fHy7z4mPj2/VHjANC7a0VygUuOuuu3D27NlWbc6dO4fw8HALnwERERHZK1GnwFJSUjB79myMGjUKo0ePxpo1a1BXV4e5c+cCAGbNmoWQkBCsXLkSALBgwQKMGzcOq1atwpQpU7B9+3ZkZWXhvffeM7/mwoULMX36dNx333144IEHsG/fPvznP//BgQMHxDhFIiIiskGiBqDp06ejrKwMS5cuhVarRWxsLPbt22de6FxYWAip9MdBqjFjxmDbtm145ZVXsHjxYkRFRSEtLQ3R0dHmNr/61a+wYcMGrFy5Er///e8xYMAAfPrpp7jnnnusfn5ERERkm0RfBJ2cnIzk5OR2H2tv1CYpKQlJSUl3fM2nnnoKTz31lCXKIyIiIgck+q0wiIiIiKxN9BEgIrINTc1GXCyrxZUb9dBWN0DpIoO70gUR/m4YFOQFuYz/XiIix8EAROTkjIKA7IKb+DKvBDW65jaPH7l0A65yGUZF+OLBgYFQuoh7GT0RkSUwABE5saoGPf55pABFlY0AAG9XOaICPRDi64pmg4DK+iacLqpGVYMeh86X4/T1KvxqeG/0C/QQuXIiou5hACJyUsVVDdhyuADVjc1wlcvw4MBAxPXxg4u09VTXQ0ODcFZbg/+cLMLNej02fXcZkwarMa5/L0gkEpGqJyLqHgYgIid07WY93v/2MnTNRgR6KjF7TAR83RTttpVKJBgU5IU+vdzx+Wktjl2uwP4fSlDVoMcvY4IhZQgiIjvEVY1ETqayvglbM69A12xEhL87fntf39uGn59SusiQGBuCXwwLggTA0csV+DT7GoyC0PNFExFZGAMQkROpadRja+YV1OqaofFSYXZ8OFwVnVvUPKZvAB4fHQapBMi9Wom9p4ohMAQRkZ1hACJyEoIgIHXXKWirG+GpdMGs+HAo5V27omtoiDceHWG6q/vhizdw4FyZJUslIupxDEBETmL3iSL892QxpBLgibvD4dOBaa87GR7mi18MCwIApP9QgtPXqyxRJhGRVTAAETmB4qoGLEk7DQB4YEAgwvzcLPK6Y/oGYGxffwDAJ9nXUFzVYJHXJSLqaQxARA5OEAS8/OkpVDc2I6a3N+4fEGjR158cHYR+vTzQZDDiwyNXUN/UdjNFIiJbwwBE5OD2ndbim3NlULhIsXp6LGRSy162LpNK8PjoUPi5K3CzXo9Pc65zUTQR2TwGICIHVt/UjBX//QEA8Ox9fdC3V8/s4OymcMGM0WGQSSXIK65G5qUbPfI+RESWwgBE5MDWf30BRVWNCPFxxXP39+vR9wrxccXD0RoAwOentLh2s75H34+IqDsYgIgc1LWb9dj4zWUAwJJfDO70fj9dcXcffwwJ9oJBELD9+6to1Bt6/D2JiLqCAYjIQa3/+gKaDEbE9/FHwhC1Vd5TIpFg2vDe8HWTo6KuCZ/lcj0QEdkmBiAiB3S1oh47s64BAP44qb9Vb1rqqpDh8btMO0Wful6FYwUVVntvIqKO4s1QyWlsO1oozhsbDXAHsDPrGmbGR1rlLdd9dQHNRgH3RgVgVISfVd7zp0L93DB5iAZ7T2ux52QxwvzcEOTtavU6iIhuhyNARA6m8EY9Pskxjf68OKG/aHWM7ReAgRpPNBsFfHzsKnTNXA9ERLaDAYjIwbzz1XkYjALu698LI8N9RatDIpHg1yN6w9tVjvJaHXYfLxKtFiKi/8UARORACsrrsCv3OgDgDxOiRK4GcFO64LFRoZDAdOf4nCs3xS6JiAgAAxCRQ3nnqwswGAXcP6AXhoeJN/rzU5EB7pgw2HQV2r9PXMeF0hqRKyIiYgAichiXy+vwWa74a3/aM65/L/Tt5Q69QcDzH+WioYnrgYhIXAxARA7inYzzMArAgwMDERvqI3Y5rUglEjw2KhQeShecLanB4s9OcX8gIhIVAxCRA7hYVou046a1Py/awNqf9niq5Hj8rlDIpBJ8lnsdWw4XiF0SETkxBiAiB9Ay+jNhUCCG9fYRu5zb6tPLA6kPDQQAvLYnD0d401QiEgkDEJGdu1Bai90nTJeY29ran/bMuycSU2OC0WwU8OyH2SgorxO7JCJyQgxARHbu7VujPxMHqxEd4i12OT9LIpHgzUeHIaa3Nyrr9Xhq8/eoqteLXRYRORkGICI7dr6kBv852TL6Y5trf9rjqpBh4+xRCPZW4VJ5HZ75ZxbvHE9EVsUARGTH1mSchyAACUPUGBJs+6M/PxXoqcI/Zt8FD6ULjl6uwO8/zkWzwSh2WUTkJBiAiOzUWW0N9p4qBmAfa3/aMzjYCxtnjYLCRYr9P5Rg8WenYDTy8ngi6nkMQER2am3GOQgC8FC0BoOCvMQup8vi+/rjnRnDIZUA/8q6hkW7TsLAEEREPYwBiMgO5RVXY+8pLQBggR2t/bmdhCEavDU91hyCFu48wRBERD2KAYjIDq398jwAYMrQIAzU2O/oz089EhuCd2aMgEwqwa7c6/jDjuNcE0REPcYmAtD69esREREBlUqFuLg4HDt27I7td+7ciYEDB0KlUmHo0KHYu3dvq8fnzJkDiUTS6mvy5Mk9eQpEVnOmqAr7zmghkTjG6M9PTRkWhPUzh8NFKsHuE0X4/fZc6BmCiKgHiB6AduzYgZSUFCxbtgw5OTmIiYlBQkICSktL221/+PBhzJgxA/PmzUNubi4SExORmJiI06dPt2o3efJkFBcXm78+/vhja5wOUY/76ehPf7WnyNVY3uToIGz4zUgoZFLsPaXFs//M5iXyRGRxLmIXsHr1asyfPx9z584FAGzYsAF79uzBpk2bsGjRojbt165di8mTJ2PhwoUAgBUrViA9PR3r1q3Dhg0bzO2USiU0Gk2HatDpdNDpdObvq6urAQB6vR56vWNu0NZyXo56fu0yivRLtOV9jYZu9/eZomrs/6EEEgnwu3GRXXs9sfrhlo7UPC7KD/83MwbPf3wCGfmlmLPpKN59Yjg8lHf+keWUn2uRsK+tg/3cOZ3pJ4kg4i2Zm5qa4Obmhk8++QSJiYnm47Nnz0ZlZSX+/e9/t3lOWFgYUlJS8OKLL5qPLVu2DGlpaThx4gQA0xRYWloaFAoFfH198eCDD+K1116Dv79/u3W8+uqrWL58eZvj27Ztg5ubW/dOksiC/p4nxQ+VUozwN2J2f8efGrpQDbyXL4POIEGYu4BnBxngLhe7KiKyVfX19Zg5cyaqqqrg5XXn9ZGijgCVl5fDYDBArVa3Oq5Wq5Gfn9/uc7RabbvttVqt+fvJkydj2rRpiIyMxMWLF7F48WI89NBDyMzMhEwma/OaqampSElJMX9fXV2N0NBQTJo06Wc70F7p9Xqkp6dj4sSJkMud4zfKzqxr4ryx0QD38jOoCxiCpNHhXX6ZYwUV+CEzCy5SCf7y5H0I9+9aOBetH25JGtW7U+0fvF6Np7Zmo7BOj01XvLF5zkiovVTttnXGz7VY2NfWwX7unJYZnI4QfQqsJzz++OPmPw8dOhTDhg1D3759ceDAAYwfP75Ne6VSCaVS2ea4XC53+A+cM5yjmbRt+LX2+3e1rwVBwOovLwIApt8Vin6abuz6LHI/dLYPhkf441+/jcdv3j+KC2V1mPl+FrY/czeCfVzv+B5O87kWGfvaOtjPHdOZPhJ1EXRAQABkMhlKSkpaHS8pKbnt+h2NRtOp9gDQp08fBAQE4MKFC90vmkgEGXmlyL5yEyq5FL8f71hXfnVElNoTnzw7BmF+biisqMcT/ziKkupGscsiIjsmagBSKBQYOXIkMjIyzMeMRiMyMjIQHx/f7nPi4+NbtQeA9PT027YHgGvXruHGjRsICgqyTOFEVqQ3GPHGPtOU8Nyxkbed/nF0oX5u+PiZu9Hb1xWXy+swc+MR3KjV/fwTiYjaIfpl8CkpKdi4cSO2bNmCvLw8PPfcc6irqzNfFTZr1iykpqaa2y9YsAD79u3DqlWrkJ+fj1dffRVZWVlITk4GANTW1mLhwoU4cuQICgoKkJGRgUceeQT9+vVDQkKCKOdI1B0fHrmCC6W18HNX4NlxfcUuR1QhPq74eP7dCPZW4WJZHeZv5V3kiahrRA9A06dPx9/+9jcsXboUsbGxOH78OPbt22de6FxYWIji4mJz+zFjxmDbtm147733EBMTg08++QRpaWmIjo4GAMhkMpw8eRJTp05F//79MW/ePIwcORKHDh1qd50PkS2rqGvCW+nnAAAvTRoAb1euAQj1c8PWeXHwdpUjp7ASf9x5gjdQJaJOs4lF0MnJyeYRnP914MCBNseSkpKQlJTUbntXV1d88cUXliyPSDSr08+iurEZg4K8MP2uULHLsRn9Aj3w9ydH4sn3j2LPyWL06+WBP0zsL3ZZRGRHRB8BIqL25RbexLajhQCAZb8cDJlUInJFtuXuPv54Y9owAMDbX53H4YvlIldERPaEAYjIBjU1G/HypydhFIBfDQ/B3X3a38TT2T06sjemjwqFIAAvbj/ORdFE1GEMQEQ26P8OXMC5klr4uyuw9BeDxS7Hpr06dQj6BXqgtEaHRZ+dgXh72xORPWEAIrIxZ4qqsP5r055Vr04dAl93hcgV2TZXhQzrZ46AQibFgXPlOH6DU4VE9PMYgIhsSK2uGcnbcqE3CJg4WI1fDOPeVR0xQOOJ5+43bRGwq0CKmkbeOJKI7owBiMhGCIKAxbtO4XJ5HYK9VfjLo8MgkXA0o6Oeu78vIvzdUK2X4K0vues7Ed0ZAxCRjdiaeQW7TxRBJpXgnZnDOfXVSSq5DK/+chAA4MNjV5Gv7fhNEYnI+TAAEdmAL85o8ep/zgAAXp48ACPD/USuyD6N7euPWD8jBAFYtf+c2OUQkQ1jACISWVZBBX7/cS4EAZgxOgzz7+0jdkl27eEwI6QSIP2HEhy/Wil2OURkoxiAiET03YVyzN50DLpmIyYMCsSKR4Zw3U83qV2BxNhgAMDfvjgrcjVEZKsYgIhE8vmpYsz94HvUNRkwtp8/3p4xHC4y/pW0hBce6Au5TIJvL5Qj8+INscshIhvEn7ZEVtbUbMTre37Acx/loMlgxEPRGmyacxfcFDZxaz6H0NvX1XzvtI2HLolcDRHZoi4FoEuX+AOFqCt+KKpG0obD2HjoMgBg7tgIrJs5AkoXmciVOZ6n7+kDiQT4Kr8UF0prxS6HiGxMlwJQv3798MADD+DDDz9EY2OjpWsicjjVTcC/TxTjF+8cwolrVfB2lePvT47Esl8O4U1Oe0hEgDvGD1QDAD747rLI1RCRrelSAMrJycGwYcOQkpICjUaD3/72tzh27JilayOye9qqRnyaW4RXc2Q4WnATRgGYMiwI+168FwlDNGKX5/CevjcSAPBpzjVU1DWJXA0R2ZIuBaDY2FisXbsWRUVF2LRpE4qLi3HPPfcgOjoaq1evRllZmaXrJLIbgiDgXEkNPvjuMt7+6jyyCythECQI83XFtvlxWD9zBIK8XcUu0ynERfphSLAXGvVGbDt6RexyiMiGdGsRtIuLC6ZNm4adO3fizTffxIULF/DSSy8hNDQUs2bNQnFxsaXqJLJ5zUYjsq9UYG3GeWw+XIDzpbWQAIgO9sSL0c149r5IjOkbIHaZTkUikeCpsaZRoI+PXYXRyFvFE5FJtwJQVlYWfve73yEoKAirV6/GSy+9hIsXLyI9PR1FRUV45JFHLFUnkc1qNhpx5NINrNp/Dp/mXEdpjQ4KFynG9PXHHycNwMy7QhHpKXaVzuvhoUHwVLrgemUDjlziJfFEZNKl625Xr16NDz74AGfPnsXDDz+MrVu34uGHH4ZUaspTkZGR2Lx5MyIiIixZK5HNuVhWi38fL0J5rQ4A4Kl0wdh+Abgrwg+uiltXdhkNIlZIrgoZfhkbjG1HC/GvrKsY0y8A244Wil0WZsaFiV0CkVPrUgB699138dRTT2HOnDkICgpqt01gYCDef//9bhVHZKuamo34z4kiZBfeBAB4KF3wwIBeGBXhBzk3M7Q5j40Kxbajhfj8tBbLG/Ril0NENqBLASg9PR1hYWHmEZ8WgiDg6tWrCAsLg0KhwOzZsy1SJJEtuVGrw0dHC6GtboQEQFwfP0wcpPlxxIdsTkxvb/RXe+BcSS3+c6IIUt5uhMjpdemfqn379kV5eXmb4xUVFYiMjOx2UUS26vrNBvzfgYvQVjfCXemCefdEYmpMCMOPjZNIJHhslGln6J3Z10SuhohsQZcCkCC0fyVFbW0tVCpVtwoislXXKxvw/neX0KA3oLevK5If6Ic+vTzELos6KHF4CGRSCU5crcSNW2u2iMh5dWoKLCUlBYDpX1NLly6Fm5ub+TGDwYCjR48iNjbWogUS2QJtdSM2fXsZjXojwvzcMHdMBJRyjvrYkwAPJeL7+OPbC+U4fb0K4wYEil0SEYmoUwEoNzcXgGkE6NSpU1AoFObHFAoFYmJi8NJLL1m2QiKRNTQZ8OGRK2jQGxDm54Y5DD92a8qwIHx7oRynGICInF6nAtDXX38NAJg7dy7Wrl0LLy+vHimKyFYYBQH/yrqKirom+LrJMevucKgYfuxWwhANXkk7jaKqRtyo1cHfQyl2SUQkki6tAfrggw8YfsgpHDhbirMlNXCRSvBEXDjclF26cJJshJ+7AmP6+gMATl2vErkaIhJTh3+aT5s2DZs3b4aXlxemTZt2x7a7du3qdmFEYtNWNeKr/FIAQGJsCIJ9eP8uR/CLYUE4dN40DXY/p8GInFaHA5C3tzckt/bO8Pb27rGCiGyBURCwK/cajAIwOMgLw8N8xC6JLGTSYA1Sd51CcVUjymt1COA0GJFT6nAA+uCDD9r9M5EjOnyhHNduNkDpIsXUmGBz+Cf75+uuQJ8AD1woq0VecTXujeoldklEJIIurQFqaGhAfX29+fsrV65gzZo12L9/v8UKIxJLTaMeX+aZpr4eig6Cl6tc5IrI0gYGme5Om6+tEbkSIhJLlwLQI488gq1btwIAKisrMXr0aKxatQqPPPII3n33XYsWSGRtX+WXoslgRG9fV4yK8BW7HOoBAzWmiziu3KhDQxNvVkvkjLoUgHJycnDvvfcCAD755BNoNBpcuXIFW7duxdtvv23RAomsqbxWh+8LKgAAk6M1vGeUg/JzVyDQUwmjAJwt4SgQkTPqUgCqr6+Hp6dpCHn//v2YNm0apFIp7r77bly5csWiBRJZU/oPJTAKwAC1J/oE8DYXjmxQkGkUKF9bLXIlRCSGLgWgfv36IS0tDVevXsUXX3yBSZMmAQBKS0u7tD/Q+vXrERERAZVKhbi4OBw7duyO7Xfu3ImBAwdCpVJh6NCh2Lt3723bPvvss5BIJFizZk2n6yLnUlTZgFPXqyCBacM8cmwDNaZ/xJ0rqYHB2P79DYnIcXUpAC1duhQvvfQSIiIiEBcXh/j4eACm0aDhw4d36rV27NiBlJQULFu2DDk5OYiJiUFCQgJKS0vbbX/48GHMmDED8+bNQ25uLhITE5GYmIjTp0+3afvZZ5/hyJEjCA4O7vxJktP55nwZAGBob29ovHlTX0cX6ucGN4UMjXojCm7UiV0OEVlZlwLQr3/9axQWFiIrKwv79u0zHx8/fjzeeuutTr3W6tWrMX/+fMydOxeDBw/Ghg0b4Obmhk2bNrXbfu3atZg8eTIWLlyIQYMGYcWKFRgxYgTWrVvXqt3169fxwgsv4KOPPoJczqt46M4q6ppw6pppZ+Bx/XlZtDOQSiQYoL41CsSrwYicTpf39ddoNNBoWk8TjB49ulOv0dTUhOzsbKSmppqPSaVSTJgwAZmZme0+JzMz03xX+hYJCQlIS0szf280GvHkk09i4cKFGDJkyM/WodPpoNPpzN9XV5vWBOj1euj1+s6ckt1oOS9HPb92GW9/tc+350shAIgKdEeQp+KObbv8vkaDbfS3Jc+tC3qyDzr8ub7VB/0D3ZF7tRIXSmsAo3V3hbaJz0I3OOXPEBGwnzunM/3UpQBUV1eHN954AxkZGSgtLYXRaGz1+KVLlzr0OuXl5TAYDFCr1a2Oq9Vq5Ofnt/scrVbbbnutVmv+/s0334SLiwt+//vfd6iOlStXYvny5W2O79+/H25ubh16DXuVnp4udglW436b47V6IPuKDIAEkwKq4V56smfev/wM9u490yOv3ak6RH7/vXt7pn9/6uc+1y19MEwC7IALiqt1MFw7CS9Fj5dmZo1+sAZn+hkiJvZzx/x0j8Kf06UA9PTTT+PgwYN48sknERQUZFO75GZnZ2Pt2rXIycnpcF2pqamtRpWqq6sRGhqKSZMmOexNX/V6PdLT0zFx4kSnmSLcmXWt3eNfny2D3liGEG8VgvtFos7Sn2ejAe7lZ1AXMARJo8Mt+9pdcLt+sJakUb177LU7+rlu6QMJgODzl1BU1YiTQhiGB/r0WG3/qyf7wRqc8WeIGNjPndMyg9MRXQpAn3/+Ofbs2YOxY8d25elmAQEBkMlkKCkpaXW8pKSkzfRaC41Gc8f2hw4dQmlpKcLCwsyPGwwG/PGPf8SaNWtQUFDQ5jWVSiWUyrb3A5LL5Q7/gXOGczSTytocMgoCvr9SCQAYGxUAiawH7/YuldlGX7fTD9ZkjT742c/1T/ogSu2JoqpGnC+rx/Bw/x6vrYVNfBYswKl+hoiI/dwxnemjLi2C9vX1hZ+fX1ee2opCocDIkSORkZFhPmY0GpGRkWG+sux/xcfHt2oPmIYGW9o/+eSTOHnyJI4fP27+Cg4OxsKFC/HFF190u2ZyLOe0Nahq0MNNIcOQYN7k1xn1CzTt93ShtBZGgZfDEzmLLv1zd8WKFVi6dCm2bNnS7TUyKSkpmD17NkaNGoXRo0djzZo1qKurw9y5cwEAs2bNQkhICFauXAkAWLBgAcaNG4dVq1ZhypQp2L59O7KysvDee+8BAPz9/eHv3/pfcXK5HBqNBgMGDOhWreR4jl427fo8IswXclmX/j1Adi7czw1ymQS1umaUVDciyNtV7JKIyAq6FIBWrVqFixcvQq1WIyIios2QU05OTodfa/r06SgrK8PSpUuh1WoRGxuLffv2mRc6FxYWQir98RfTmDFjsG3bNrzyyitYvHgxoqKikJaWhujo6K6cCjmxm/VNOHfrNgijI7o/okn2yUUmRZ8AD5wtqcH5kloGICIn0aUAlJiYaNEikpOTkZyc3O5jBw4caHMsKSkJSUlJHX799tb9EGUVVEAA0CfAHQGebdeAkfOIUpsC0IXSWtzHfaCInEKXAtCyZcssXQeRVRkFATmFlQCA0ZEc/XF2fXuZ1gFdqahDs8EIF06HEjm8Lv8tr6ysxD/+8Q+kpqaiosK0jiInJwfXr1+3WHFEPeVyeR2qGvRQyaXmm2KS8wr0VMJd6QK9QcDVmw1il0NEVtClEaCTJ09iwoQJ8Pb2RkFBAebPnw8/Pz/s2rULhYWF2Lp1q6XrJLKo47dGf6KDvbn4mSCRSNAnwB2nrlfhUlktIgPE3i6SiHpal37yp6SkYM6cOTh//jxUqh9vGvnwww/jm2++sVhxRD1BbzDidJHpvl/Dw3xFroZsRZ9eptBzsYw3RiVyBl0KQN9//z1++9vftjkeEhLS6pYURLYor7gaumYjfFzlCPd37FudUMe1rAO6erMeeoPxZ1oTkb3rUgBSKpXtbjd97tw59OrFKyjIth2/WgkAiA31gdSGbuNC4vJ3V8BL5QKDUcCVGx2/nxAR2acuBaCpU6fiz3/+s/muqxKJBIWFhXj55Zfx6KOPWrRAIkuq1zWb9/6JDfURtxiyKRKJBH1ujQJdKqsVuRoi6mldCkCrVq1CbW0tevXqhYaGBowbNw79+vWDp6cnXn/9dUvXSGQxPxRXwygAGi8VAr1UP/8Ecip9b60DulTOdUBEjq5LV4F5e3sjPT0d3333HU6cOIHa2lqMGDECEyZMsHR9RBbVsvg5OoT3/aK2+gSYRoCu3ayHrtkApYu4N44lop7T6QBkNBqxefNm7Nq1CwUFBZBIJIiMjIRGo4EgCJBwTQXZqIYmAy6Wmv5lHx3CvX+oLV93BXxc5ahs0ONqRYP5RqlE5Hg6NQUmCAKmTp2Kp59+GtevX8fQoUMxZMgQXLlyBXPmzMGvfvWrnqqTqNvytNUwCAICPZUI9OT0F7Uv4tYeQAU3OA1G5Mg6NQK0efNmfPPNN8jIyMADDzzQ6rGvvvoKiYmJ2Lp1K2bNmmXRIoks4fR1Tn/Rz4vwd8fxq5W4zHVARA6tUyNAH3/8MRYvXtwm/ADAgw8+iEWLFuGjjz6yWHFEllLdqMf5UtOVPUMZgOgOIm7tDXW1oh7NRu4HROSoOhWATp48icmTJ9/28YceeggnTpzodlFElvZ1fikMRgEBHkoE8s7vdAe9PJVwU8jQbBRwnfcFI3JYnQpAFRUVUKvVt31crVbj5s2b3S6KyNK+zCsFAAwJ9uJCfbojiUSCCP+WdUDcEJHIUXUqABkMBri43H7ZkEwmQ3Nzc7eLIrKkpmYjDpw1BaBBGk+RqyF7YF4IzXVARA6rU4ugBUHAnDlzoFS2P4Wg0+ksUhSRJX1fUIGaxma4K13Q24/3/qKf17IO6EpFHYyCwFumEDmgTgWg2bNn/2wbXgFGtib9hxIAwECNJ3+RUYcEebtC4SJFo96IkupGBHm7il0SEVlYpwLQBx980FN1EPUIQRDMAWhwkPibH247Wih2CdQBMqkE4X5uOF9ai8vldQxARA6oS/cCI7IX+doaXK9sgNJFir69uKsvddyPGyJyITSRI2IAIof25a3Rn3ujAqBw4cedOq7lSrAr5XUQBEHkaojI0vgbgRzagXNlAIAHBgaKXAnZm96+rpBJJajRNeNGXZPY5RCRhTEAkcOqqtcjt9C0L9W4/r1ErobsjVwmRW9f09ofXg5P5HgYgMhhfXexHEYB6Bfogd6+vPydOo8bIhI5LgYgclgHz5qmvzj6Q131YwDiCBCRo2EAIockCAIOnmMAou4J93eDBEBFXROqGvRil0NEFsQARA7pXEkttNWNULpIMTrST+xyyE6p5DIEeasAcBSIyNEwAJFD+ubW6M/dffyhkstErobsWTjvC0bkkBiAyCFx+ossxbwfEBdCEzkUBiByOPVNzTh2uQIAMG4AAxB1T8uNUUuqG9HQZBC5GiKyFAYgcjhHLt1Ak8GI3r6u6HNr+oKoqzxVcvi7KyAAKKzgKBCRo2AAIofTcvn7ff17QcK7v5MFhPNyeCKHwwBEDueb8+UAuP6HLKdlGuwKAxCRw2AAIody5UYdLpfXwUUqwZi+/mKXQw6iZSH0tZsNaDYYRa6GiCyBAYgcSsvl7yPDfeGpkotcDTkKfw8F3BUyNBsFXK9sELscIrIAmwhA69evR0REBFQqFeLi4nDs2LE7tt+5cycGDhwIlUqFoUOHYu/eva0ef/XVVzFw4EC4u7vD19cXEyZMwNGjR3vyFMhGmC9/59VfZEESieQn64C4EJrIEYgegHbs2IGUlBQsW7YMOTk5iImJQUJCAkpLS9ttf/jwYcyYMQPz5s1Dbm4uEhMTkZiYiNOnT5vb9O/fH+vWrcOpU6fw7bffIiIiApMmTUJZWZm1TotE0NRsxOGLNwAA90UxAJFlcR0QkWNxEbuA1atXY/78+Zg7dy4AYMOGDdizZw82bdqERYsWtWm/du1aTJ48GQsXLgQArFixAunp6Vi3bh02bNgAAJg5c2ab93j//fdx8uRJjB8/vs1r6nQ66HQ68/fV1dUAAL1eD73eMe//03JejnR+3xdUoL7JAH93BaICXNuem1GkPVxa3les97cxPfmZ6/Dnugv/LyL8XAGYApDR0AxpN68wtPe/e474M8QWsZ87pzP9JGoAampqQnZ2NlJTU83HpFIpJkyYgMzMzHafk5mZiZSUlFbHEhISkJaWdtv3eO+99+Dt7Y2YmJh226xcuRLLly9vc3z//v1wc3Pr4NnYp/T0dLFLsJi9V6UApAhXNWLfvs/bPC72jkDu5WdErsA27N17ssff4+c+1135LPQzAgqpDA16I2qunEJwN380WKMfrMGRfobYMvZzx9TXd3yKWtQAVF5eDoPBALVa3eq4Wq1Gfn5+u8/RarXtttdqta2O/fe//8Xjjz+O+vp6BAUFIT09HQEBAe2+ZmpqaqtQVV1djdDQUEyaNAleXl5dOTWbp9frkZ6ejokTJ0Iud4zFwls3HgNQiUfvicbDo3q3eXxn1jXrFwUARgPcy8+gLmAIIOV9yZLa+X9jKR39XHf1s9DbrwCXyuuRL/SGd2D3brLbk/1gDY74M8QWsZ87p2UGpyNEnwLrKQ888ACOHz+O8vJybNy4EY899hiOHj2KwMDANm2VSiWUSmWb43K53OE/cI5yjnW6Zpy4VgUAuG+Auv1zEjt8SGXi12ADrPF5+9nPdRf/P0QEeOBSeT2u3GxEXN/u/b90hL93gOP8DLF17OeO6UwfiboIOiAgADKZDCUlJa2Ol5SUQKPRtPscjUbTofbu7u7o168f7r77brz//vtwcXHB+++/b9kTIJtx7HIFmo0CQv1cEern2NOWJJ4I7ghN5DBEDUAKhQIjR45ERkaG+ZjRaERGRgbi4+PbfU58fHyr9oBpbvR27X/6uj9d6EyO5bsLpt2fx/Rpf5qTyBJCfV0hlQCV9XpU1jeJXQ4RdYPol8GnpKRg48aN2LJlC/Ly8vDcc8+hrq7OfFXYrFmzWi2SXrBgAfbt24dVq1YhPz8fr776KrKyspCcnAwAqKurw+LFi3HkyBFcuXIF2dnZeOqpp3D9+nUkJSWJco7U8767dfn7mH7c/Zl6jlIuQ5B3y9Vg3A+IyJ6JvgZo+vTpKCsrw9KlS6HVahEbG4t9+/aZFzoXFhZCKv0xp40ZMwbbtm3DK6+8gsWLFyMqKgppaWmIjo4GAMhkMuTn52PLli0oLy+Hv78/7rrrLhw6dAhDhgwR5RypZ1XUNSGv2LTwbUxfjgBRz4rwd8P1ygYU3KhDTKiP2OUQUReJHoAAIDk52TyC878OHDjQ5lhSUtJtR3NUKhV27dplyfLIxmXeGv0ZoPZEL8+2i9mJLCnc3x3fXbzBESAiOyf6FBhRd3138db6H05/kRWE39oRuqS6EQ1N3NySyF4xAJHdO3xrAfRYTn+RFXiq5AjwUEAArwYjsmcMQGTXTGsx6iGTShDXp3sb0xF1lPly+HIGICJ7xQBEdq3l8vehId7wVHGTMLKOyABTALrMESAiu8UARHbNPP3F9T9kRS0BqKiyATo91wER2SMGILJbgiDg8K0rwLj+h6zJx00BXzc5jAJwpYJXgxHZIwYgslsXy2pRWqOD0kWKEeG+YpdDTsY8DcZ1QER2iQGI7NZ3F0yjP6MifKGS8yajZF0tAYgLoYnsEwMQ2S3z/b84/UUiaLkS7NrNBjQ1G0Wuhog6iwGI7JLBKODIpVvrf/oxAJH1+bkr4KVygUEQcPUm1wER2RsGILJLp69XobqxGZ5KF0QHe4ldDjkhiUSCPr08AACXyjgNRmRvbOJeYESd1XL7i7g+/nCRMcfbk21HC3vuxY0GuAPYmXUNkPb8urA+Ae44frUSl8pqAah7/P2IyHL4m4PsUssNULn/D4mp760RoKs366Fr5n5ARPaEAYjsjq7ZgO8LKgBw/Q+Jy9f9x/2ACsq5DojInjAAkd3JuVKJRr0RvTyViAr0ELsccnJ9zeuAakWuhIg6gwGI7M7hiy2Xv/tDIpGIXA05u5aF0BfLGYCI7AkDENmdlv1/ePsLsgV9epn2AyqubER9U7PI1RBRRzEAkV2padTjxLUqAEB8Xy6AJvF5qeTo5amEAN4Wg8ieMACRXTl2uQIGo4AwPzeE+rmJXQ4RAKDvrVGgi1wHRGQ3GIDIrhzm5e9kg/rdWgd0voQBiMheMACRXeH9v8gW9enlAakEuFHXhIq6JrHLIaIOYAAiu1Feq0O+tgaA6QowIluhkssQ5meaBjtXUiNyNUTUEQxAZDdadn8eqPGEv4dS5GqIWuuvvjUNVsppMCJ7wABEdqNl/x/u/ky2KCrQE4BpQ0SDURC5GiL6OQxAZDe+u2AaAeL0F9miIB8V3BUy6JqNKKzgbTGIbB0DENmFqxX1KKyoh0wqwehIP7HLIWpDKpGgX2DL1WBcB0Rk6xiAyC60TH/F9PaGp0oucjVE7YtSm6bBuBCayPYxAJFdOHTeFIDuieolciVEt9df7QkJgKKqRlQ16MUuh4jugAGIbJ7RKJg3QLyHC6DJhnkoXcw7lOdrq0WuhojuhAGIbF6ethoVdU1wV8gwPMxH7HKI7mhQkBcAIK+YAYjIljEAkc1r2f05ro8/5DJ+ZMm2DdKY1gFdLKuDTm8QuRoiuh3+NiGb17L+h/v/kD3o5amEv7sCBqPATRGJbBgDENm0Rr0B3xdUAADujWIAItsnkUg4DUZkBxiAyKblFN5Eo96IXp5KRN3aY4XI1rUEoHxtDXeFJrJRNhGA1q9fj4iICKhUKsTFxeHYsWN3bL9z504MHDgQKpUKQ4cOxd69e82P6fV6vPzyyxg6dCjc3d0RHByMWbNmoaioqKdPg3pAy/qfe/oFQCKRiFwNUceE+bnBTSFDg96Ay+V1YpdDRO0QPQDt2LEDKSkpWLZsGXJychATE4OEhASUlpa22/7w4cOYMWMG5s2bh9zcXCQmJiIxMRGnT58GANTX1yMnJwdLlixBTk4Odu3ahbNnz2Lq1KnWPC2ykG+5/ofskEwqwZBgbwDAyWuV4hZDRO0SPQCtXr0a8+fPx9y5czF48GBs2LABbm5u2LRpU7vt165di8mTJ2PhwoUYNGgQVqxYgREjRmDdunUAAG9vb6Snp+Oxxx7DgAEDcPfdd2PdunXIzs5GYWGhNU+NuqmqXo+T16sAcP8fsj8xvU0B6HRRFZqNRpGrIaL/5SLmmzc1NSE7OxupqanmY1KpFBMmTEBmZma7z8nMzERKSkqrYwkJCUhLS7vt+1RVVUEikcDHx6fdx3U6HXQ6nfn76mrTwkW9Xg+93jF3c205L1s+v0PnSiAIQN9e7vB3k3W/VqNIlyS3vK9Y7+9MbKivI/xU8FS6oEbXjPPaavPl8S22ZV4WqTKTpFG9u/V8e/gZ4gjYz53TmX4SNQCVl5fDYDBArVa3Oq5Wq5Gfn9/uc7RabbvttVptu+0bGxvx8ssvY8aMGfDy8mq3zcqVK7F8+fI2x/fv3w83N7eOnIrdSk9PF7uE2/rXJSkAKUJkNa3WeXWVe/dL6t77l58RuQLnYSt9PcJXioNaKX64eAWjpLY1CrR370mLvI4t/wxxJOznjqmvr+9wW1EDUE/T6/V47LHHIAgC3n333du2S01NbTWqVF1djdDQUEyaNOm2ocne6fV6pKenY+LEiZDLbfPmoqvf+hZAPWY+OALjBwV2+/V2Zl3rflFdYTTAvfwM6gKGAFKZODU4Cxvr68Eu9TioLcCpmzLc9BsMhYvoqw7MLDECZOs/QxwB+7lzWmZwOkLUABQQEACZTIaSkpJWx0tKSqDRaNp9jkaj6VD7lvBz5coVfPXVV3cMMkqlEkqlss1xuVzu8B84Wz3HqxX1uFJRD5lUgrH9Ay1To9i/EKUy8WtwFjbS1739PeDrJsfNej3ySusQ09tH7JLMLPX33lZ/hjga9nPHdKaPRP3niEKhwMiRI5GRkWE+ZjQakZGRgfj4+HafEx8f36o9YBoa/Gn7lvBz/vx5fPnll/D39++ZE6Aec/ii6eqv2FAfeKr4l57sk0QiQWyoLwAg69aGnkRkG0Qfj01JScHGjRuxZcsW5OXl4bnnnkNdXR3mzp0LAJg1a1arRdILFizAvn37sGrVKuTn5+PVV19FVlYWkpOTAZjCz69//WtkZWXho48+gsFggFarhVarRVNTkyjnSJ3H21+QoxgV4QsJTPcGu1Gr+9n2RGQdoq8Bmj59OsrKyrB06VJotVrExsZi37595oXOhYWFkEp/zGljxozBtm3b8Morr2Dx4sWIiopCWloaoqOjAQDXr1/H7t27AQCxsbGt3uvrr7/G/fffb5Xzoq5rNhjNAeg+3v6C7JyvmwJRag+cK6nF9wU3MTm6/el9IrIu0QMQACQnJ5tHcP7XgQMH2hxLSkpCUlJSu+0jIiIgCNx63p6duFaJqgY9vFQuiA31Ebscom67K8IP50pqkV14ExMGB8JFKvrgO5HT499CsjkHzpYBAO7t3wsuMn5Eyf4N1HjBU+mCOl0z8oprxC6HiMAARDaoJQA9MKD7l74T2QKZVIKR4abF0Jm3FvgTkbgYgMimlNXocOrW7S/G9e8lcjVElhPXxx8yiQQFN+px5QZvkEokNgYgsinfnDON/kSHeKGXZ9u9mYjslberHMPDfAAAB299zolIPAxAZFMO3PrFcH9/Tn+R47kvqhckAPK1NdBWNYpdDpFTYwAim2EwCjh0/lYAGsDpL3I8AZ5KDAkx3SX+wLlSkashcm42cRk8OYdtRwvv+HjhjTpU1uuhkkuRV1yDcyW1VqqMyHrG9e+F09ercOpaFe6LakCwj6vYJRE5JY4Akc04eyvwRAV6QiaViFwNUc8I8XHFsN7eEAD892Qx9y0jEgkDENmMcyWm/VH6qz1FroSoZ00eooFcJkHBjTqcLur43auJyHIYgMgm1DTqcb2yAQDQX+0hcjVEPcvHTYF7o0zr3PadLkZTs1HkioicDwMQ2YTzpabpr2BvFe/+Tk7hvqhe8HaV42a9HntPF4tdDpHTYQAim2Ce/tJw+oucg8JFikdH9IYEwLHLFThTVCV2SUROhQGIRGcUBJy/tQB6ANf/kBPpF+iBe6MCAAC7cq6jsr5J5IqInAcDEInuakU9GvQGqORS9PZ1E7scIquaMFiNEB9XNOgN2Hy4APW6ZrFLInIKDEAkupa7Y/dX8/J3cj4uUimeiAuDt6scpTU6bM4sgE5vELssIofHAESiyys2XQY8OMhL5EqIxOHjpsDcMRFwU8hw7WYD3v/uMqob9GKXReTQGIBIVOU1OpTV6iCTSLj/Dzm1QC8V5oyJgKvcFIL+78AFXK2oF7ssIofFAESiytOaRn8ie7lDJZeJXA2RuHr7uuF39/dFoKcS1Y3N+Ps3F7H3VDF0zZwSI7I0BiAS1Q+3pr8G8fJ3IgCAv4cSz47ri6Eh3jAKwLcXyvFW+jl8d6GcGyYSWRBvhkqiqdU1o/CGaYh/ENf/EJmp5DLMGB2GkSU12H2iCBV1Tdhzqhhfny3FyHBf3BXhhwAPpdhlEtk1BiASzVltNQSYdn/2cVOIXQ6Rzemv9sSC8VHILazEN+fLUFHXhEPny3HofDn6BLhjdKQfBgd5wUXGwXyizmIAItGcuXUTSI7+EN2eXCbF6Eg/jIrwRX5xDb4vqMC5khpcKq/DpfI6uClkGBl2a1TIk6NCRB3FAESiaNQbzPf/ig7xFrkaItsnlUgwONgLg4O9UFnfhKwrN5FVUIHqxmYculCOQxfKERngjtERfogO8eaeWkQ/gwGIRJGvrYHBKKCXhxKB/FcrUaf4uCkwYZAaDwwIxLkS06jQWW0NLpfX4XJ5HTLyS/BQdBAGajwhkTAIEbWHAYhEcfq66caPQ0K8+AOaqItkUgkGBXlhUJBpVCj7yk0cuXQD5bVN+OeRK+iv9sC04b3h5SoXu1Qim8OVc2R1umaD+e7v0cGc/iKyBB83BcYPUuOPkwZgXP9ecJFKcK6kFmszzuPUdd5pnuh/MQCR1Z0rqUWzUYCfuwJB3iqxyyFyKCq5DAlDNEh+oB+CfVRo0Bvw8bFCfHFGC6MgiF0ekc1gACKra5n+ig7m9BdRTwn0UuHZcX1xX1QAAODguTJsO1rIzRSJbmEAIqvSNRuQf+v2F7z6i6hnuUilmBwdhKSRvSGTSvBDcTW2HilgCCICAxBZWV5xNfQGAf7uCoT4uIpdDpFTGB7mi6fGRkLhIsWlsjpsySxAfVOz2GURiYoBiKzqxFXT9FdMqA+nv4isKDLAHXPHREDpIsXl8jr89p/ZHAkip8YARFZTp2vG+VLT1V/DenP6i8jawv3dMXdsJOQyCQ6dL8eiXSchcGE0OSkGILKa00VVMApAsI8KgZ68+otIDGF+bpg5OgwyqQS7cq7jrfRzYpdEJAoGILIa8/RXbx9xCyFycgM0XngtMRoA8PZXF/D5qWKRKyKyPgYgsoqrFfUouFEHCYChvPqLSHQzRofh6XsiAQAv7TyB87c2JyVyFqIHoPXr1yMiIgIqlQpxcXE4duzYHdvv3LkTAwcOhEqlwtChQ7F3795Wj+/atQuTJk2Cv78/JBIJjh8/3oPVU0d9mnMNANCnlzt83BQiV0NEALDooYGI7+OPuiYDfvvPbNTqeGUYOQ9RA9COHTuQkpKCZcuWIScnBzExMUhISEBpaWm77Q8fPowZM2Zg3rx5yM3NRWJiIhITE3H69Glzm7q6Otxzzz148803rXUa9DOMRgGfZJsC0MhwX5GrIaIWLjIp1s0cjmBvFS6V12H57jNil0RkNaLeDHX16tWYP38+5s6dCwDYsGED9uzZg02bNmHRokVt2q9duxaTJ0/GwoULAQArVqxAeno61q1bhw0bNgAAnnzySQBAQUFBh+vQ6XTQ6XTm76urTRv16fV66PX6Lp2brWs5L2uc35FLFbh2swFKFykGqz0Ao6HH39OmtJyvs523GNjXHdbyd99LKcXffj0Uv9n0PXZmX8O9/fzwULSmw8931J+RtoL93Dmd6SfRAlBTUxOys7ORmppqPiaVSjFhwgRkZma2+5zMzEykpKS0OpaQkIC0tLRu1bJy5UosX768zfH9+/fDzc2tW69t69LT03v8Pf55XgpAipF+zfCtOP2z7R2Vezn/dW0t7Ouft3fvyVbfTwiWYv91KRZ9cgI3z+fAR9mx17HGzxBiP3dUfX19h9uKFoDKy8thMBigVqtbHVer1cjPz2/3OVqttt32Wq22W7Wkpqa2ClbV1dUIDQ3FpEmT4OXl1a3XtlV6vR7p6emYOHEi5HJ5j71PTaMeL2cdBGDEsAF9UOfn2IGyXUYD3MvPoC5gCCCViV2NY2Nfd1jSqN6tvp9oMOLxjcdw8no1Pr/ZC1vmjIJUevvNSq31M8TZsZ87p2UGpyNEnQKzFUqlEkpl23/uyOVyh//A9fQ57s0uQqPeiL693BHq7wE48+7PUhl/KVsL+/pn/e/fe7kcWDtjBB5eewhHLt/E5iNX8dtxfTv0Oo7+c9IWsJ87pjN9JNoi6ICAAMhkMpSUlLQ6XlJSAo2m/flnjUbTqfYkLkEQ8OGRKwCAmXHhvPUFkY2LDHDHsl8OBgD8bf9ZnL5eJXJFRD1HtACkUCgwcuRIZGRkmI8ZjUZkZGQgPj6+3efEx8e3ag+Y5kVv157ElX3lJvK1NVDJpfj1iN4//wQiEt30u0IxabAaeoOAP+w4Dl0zF5STYxL1MviUlBRs3LgRW7ZsQV5eHp577jnU1dWZrwqbNWtWq0XSCxYswL59+7Bq1Srk5+fj1VdfRVZWFpKTk81tKioqcPz4cfzwww8AgLNnz+L48ePdXidEndcy+jM1Jhjebhy6JbIHEokEbzw6DAEeCpwvrcXbGefFLomoR4gagKZPn46//e1vWLp0KWJjY3H8+HHs27fPvNC5sLAQxcU/btE+ZswYbNu2De+99x5iYmLwySefIC0tDdHR0eY2u3fvxvDhwzFlyhQAwOOPP47hw4ebL5Mn67hRq8PeU6bQ+eTdEeIWQ0Sd4ueuMN8qY8PBSzh5rVLcgoh6gOiLoJOTk1uN4PzUgQMH2hxLSkpCUlLSbV9vzpw5mDNnjoWqo67akXUVTQYjYnp7Yyjv/E5kdyZHB+GXMcH4z4kivLTzBP7zwj1QunBhOTkO0W+FQY6nqdmILYcLAABPxkeIWgsRdd3yqUMQ4KHAuRJOhZHjYQAii/vPiSKUVOug9lJiakyw2OUQURdxKowcGQMQWZQgCNh46BIAYM6YSChc+BEjsmeTo4Pwi2FBMBgFLNx5kleFkcPgbyeyqEPny5GvrYG7QoaZcWFil0NEFvDnR6Lh767A2ZIavJNxQexyiCyCAYgs6u/fXAQATL8rDN6uvPSdyBH8dCrs3YMXceoaN0gk+8cARBaTVVCB7y7cgItUgqfuiRC7HCKyoIeGBmHKramwl3aegK7ZKHZJRN3CAEQWs/bWVSJJo3qjt68T3vSUyMH9eeoQ81TY/x24JHY5RN3CAEQWkVVQgUPny+EileB39/cTuxwi6gH+HkqsuDUV9vdDl3G1VuSCiLqBAYgsYs2XLaM/oQj14+gPkaN6+CdTYR9dkKGJU2FkpxiAqNu+u1COby+YRn+ef6Cv2OUQUQ/789Qh8HOXo7hBgnUHLopdDlGXMABRtxiMAl7bkwcA+M3d4Vz7Q+QE/D2UePUXgwAAf//mMrIKKkSuiKjzGICoWz7NuYa84mp4qlzw+/FRYpdDRFbyULQGd/UywigAC7YfR3WjXuySiDqFAYi6rL6pGav2nwUAvPBgP/i5K0SuiIis6dcRRoT6uuJ6ZQOWpJ2GIAhil0TUYQxA1GXvfHUBJdU6hPq5YvaYCLHLISIrU7kAq349FDKpBP8+XoQd318VuySiDmMAoi7J11Zj4zemfUCWTBkMpYtM5IqISAzDw3zwx0n9AQBLd5/BmSLuEk32gQGIOs1oFJC66xSajQIShqgxaYhG7JKISETP3tcX4wcGoqnZiOc/yuF6ILILDEDUaf88cgW5hZXwULpg+dRoscshIpFJpRKseiwGIT6uKLhRjxe25aLZwP2ByLYxAFGnXCitxcrPTZe9L0wYAI23SuSKiMgW+Lgp8PcnR0Ill+LguTKs/Dxf7JKI7ogBiDqsqdmIBdtz0ag34t6oADx5d7jYJRGRDYkO8cbqx2IBAO9/exkfHrkibkFEd8AARB22av9ZnCmqhq+bHH9LioFUKhG7JCKyMQ8PDULKRNOi6CX/Po29p4pFroiofQxA1CF7TxXj77eu+nrj0WFQe3Hqi4ja98KD/TAzLgyCACzYnotD58vELomoDQYg+ll5xdX4479OAACevicSCbzqi4juQCKRYMUj0Xh4qAZ6g4Cnt2Th67OlYpdF1AoDEN1RaU0j5m/NQoPegHujArDooYFil0REdkAmleCt6bGYMCgQumYjntmahc85HUY2hAGIbquqXo9Z7x/DtZsNCPNzwzszhsNFxo8MEXWM0kWGd38zEr8YFgS9QcDz23Kw8ZtLvGUG2QT+NqN21emaMXfzMeRra9DLU4l/zhsNHzfe64uIOkcuk2Lt48MxMy4MRgF4fW8eXtp5Eg1NBrFLIyfnInYBZHsq65swd/P3yC2shJfKBf+cNxrh/u5il0VEdkomleD1xGj0D/TAij15+DTnGnKv3sRbj8UiJtRH1Nq2HS0U9f1nxoWJ+v7OjCNA1EpJdSOm//0Icgsr4e0qx5anRmOgxkvssojIzkkkEswZG4l/PjUaai8lLpXVYdq7h/Haf39AVb393TrDKAicyrNzHAEis5zCm3juw2yUVOsQ6KnEP+fFYYDGU+yyiMiBjOkXgC9evA9L/30Gu08U4R/fXsYnOdfwu/v74vHRYfBSya1aj95gxM36JlQ16FHdoEdVgx5VDc2o1TWjocmARr0BDXrTfw1G4VbwAVqij1wmgVwmhcJFCoVMCjeFCzxVt76ULvBylcPfXQF/DyXcFDJIJNw/zVYwABEEQcCHRwvx5/+cgd4goF+gBzbNvgth/m5il0ZEDsjHTYG3ZwzHtBEh+P/25uFcSS3+v735WPvlefxqRAh+OSwYoyL8ILPQZquNegOu3axHQXk9Cm7U4XJ5HQpu1KGgvB5FlQ3ozjiO3iBAbzCg3rymSXfbtiq5FP7uSqi9lAjydkWwjyuqG/VWD31kwgDk5IqrGvHK7jx8c860UdnkIRr87bEYeCj50SCinnX/gEDc0y8Au3Kv4x+HLuFcSS0+PFKID48Uwt9dgdGRfhgR5osotQci/N2h9lJBJZe2GkXRG4yoatCjsl6PyvomFFU1ovBGHa7cqEdhhelLW92IO81WKV2k8HGTw9tVDi+V6b8eKhe4ymVwVcjgKpdBJZfBRSqBRCKBVAJIJRIIAPTNRjQZjGi69d86XTNqGk0jSDWNelQ26HGj1jTC1Kg34nplA65XNgCoBABsPHQJYX5uGBLshSHBXhjW2wcxoT7wdmUo6mn8LeekdM1GfFUkwf975zBqdc1QuEjxp4QBmHdPJIdoichqXGRSPDYqFEkje+O7CzeQdvw69p/R4kZdEz4/rcXnp7Wt2stlErjKZQAAg1FAXQevJvNQuiDc3w0RAe6I9HdHuL8bIgPckVNYCffuTE0pO9ZMbzCioq4J5bU6FFc1oriyAcVVjahs0JuD2k/PtU8vd8SG+mBYsCdqa03PlzMTWRQDkJPRG4zYfbwIazPOobBCBqAZsaE++FtSDPoFeohdHhE5kfauwBoR5othvb1xtaIBV28Fgxt1OlTUNd2abhKgNzS3eo4EgOrWaI2nygX+7gr4uSvg566Ev7sCvu6KNiFHbxBwrqTWaqPdcpkUai8V1F4qDAn2Nh9/KFqDH4qrcaaoCqevV+P41UoUVtTjUlkdLpXVYVcOALjgnbyvEB3ijeGhPogN80FsqA9CfFz5D9ZuYAByEjdqddiVcx2bDxfcGn4FvOQCFv8iGo/dFc4bmxKRzXCRShEZ4I7IgB+33xAEAU0GIxr1pukmCQCJBKbpKYUMUjsNAr7uCoztF4Cx/QLMx27U6nDiWiWOF1Yip/Amsi+Xo6HZiOwrN5F95aa5XYCHErGhPhh+KxAN6+0NT64n6jAGIAdW06jHV/ml+PyUFhn5JdAbTJPgAR5KzIkPQ6+qPEwbEcLwQ0Q2TyKRQOkig9JFJnYpPc7fQ4kHB6rx4EA19Ho9/rtnLwaPHofTxbU4frUSx69WIq+4GuW1OnyZV4Iv80oAmAJhv14eiP3JKNEAtSd38L8NmwhA69evx1//+ldotVrExMTgnXfewejRo2/bfufOnViyZAkKCgoQFRWFN998Ew8//LD5cUEQsGzZMmzcuBGVlZUYO3Ys3n33XURFRVnjdEQhCAJKa3Q4U1SFE1ercPhiOXILK9Fs/HHl37De3nj8rjBMGxECGYzYuzdPxIqJiKgjpBLTmqABwT54dGRvAKYr284UVSG3sBK5V02jRdcrG3C+tBbnS2uxM/saANOaqXB/d/Tt5Y6+vTxMX4Ee6NPL3emvPhM9AO3YsQMpKSnYsGED4uLisGbNGiQkJODs2bMIDAxs0/7w4cOYMWMGVq5ciV/84hfYtm0bEhMTkZOTg+joaADAX/7yF7z99tvYsmULIiMjsWTJEiQkJOCHH36ASqWy9ilajNEooKpBj6KqBly/abqS4PrNBpwrrcUPRVUor21q85w+vdzxULQGU4YGY3Dwjxsa6vVGa5ZOREQWpJLLMDLcDyPD/czHymp0t0aIbuL41UqcvFqFGl0zLpTW4kJpLYCSVq/h7SpHkLcKGm+V6b9ergjyVkHtrYKfmwLernJ4u8nhqXRxyJkC0QPQ6tWrMX/+fMydOxcAsGHDBuzZswebNm3CokWL2rRfu3YtJk+ejIULFwIAVqxYgfT0dKxbtw4bNmyAIAhYs2YNXnnlFTzyyCMAgK1bt0KtViMtLQ2PP/649U7uf7SMzugNRugNRuiajeY/6w2C+TLKpmYjahubTRtzNZq+qur1qNE13/FSTqkE6NvLA0OCvRDXxx9j+wZwLx8iIifRy1OJiYPVmDhYDcD0j+aiqgZcKqvDxbJa01ep6c+lNbpbmz7qka+tuePrSiQwbw/g5epi3hZA6SKFUi6DykUGlVwKldz0X6WLDDKpxPQlkUAqlcBFavqvTCKBTArIpFIM1HgiOsT7ju/dk0QNQE1NTcjOzkZqaqr5mFQqxYQJE5CZmdnuczIzM5GSktLqWEJCAtLS0gAAly9fhlarxYQJE8yPe3t7Iy4uDpmZme0GIJ1OB53ux82rqqqqAAAVFRXQ6y23Rfue7wuw7sClbr+On1tLajdtphXm54oBak9EBXrAVfHT+fEG3LjR0O5r6PV61NfX48aNG5Bb6drK+ppKq7yPzTEaIKmvN52/1PHXL4iKfd1hN2507/5+lvgZ4rQ/E37i5/4/dLefXQEM8ZdiiL8XMPDHWYCaxmaUVjeipEaHkppGlFY1oaTG9H3ZrXBU3diMxluzBTcbgZuVnX77O5o7JhxBD/a16GvW1JjCXEduUyJqACovL4fBYIBarW51XK1WIz8/v93naLXadttrtVrz4y3Hbtfmf61cuRLLly9vczwyMrJjJ2JlVwGcELsIIrJr88UugAA49/+HP68B/txDr11TUwNv7zuPLok+BWYLUlNTW40qGY1GVFRUwN/f32H3WKiurkZoaCiuXr0KLy/e7LQnsa+th31tPexr62A/d44gCKipqUFwcPDPthU1AAUEBEAmk6GkpPXCrJKSEmg0mnafo9Fo7ti+5b8lJSUICgpq1SY2Nrbd11QqlVAqW2/n6ePj05lTsVteXl78S2Ul7GvrYV9bD/vaOtjPHfdzIz8tRN0cQKFQYOTIkcjIyDAfMxqNyMjIQHx8fLvPiY+Pb9UeANLT083tIyMjodFoWrWprq7G0aNHb/uaRERE5FxEnwJLSUnB7NmzMWrUKIwePRpr1qxBXV2d+aqwWbNmISQkBCtXrgQALFiwAOPGjcOqVaswZcoUbN++HVlZWXjvvfcAmDbLevHFF/Haa68hKirKfBl8cHAwEhMTxTpNIiIisiGiB6Dp06ejrKwMS5cuhVarRWxsLPbt22dexFxYWAip9MeBqjFjxmDbtm145ZVXsHjxYkRFRSEtLc28BxAA/OlPf0JdXR2eeeYZVFZW4p577sG+ffvseg8gS1MqlVi2bFmbqT+yPPa19bCvrYd9bR3s554jETpyrRgRERGRA+ENQoiIiMjpMAARERGR02EAIiIiIqfDAEREREROhwHIwX3zzTf45S9/ieDgYEgkEvM901oIgoClS5ciKCgIrq6umDBhAs6fPy9OsXZs5cqVuOuuu+Dp6YnAwEAkJibi7Nmzrdo0Njbi+eefh7+/Pzw8PPDoo4+22dSTft67776LYcOGmTeGi4+Px+eff25+nP3cc9544w3zViMt2N+W8eqrr0IikbT6GjhwoPlx9rPlMQA5uLq6OsTExGD9+vXtPv6Xv/wFb7/9NjZs2ICjR4/C3d0dCQkJaGxstHKl9u3gwYN4/vnnceTIEaSnp0Ov12PSpEmoq6szt/nDH/6A//znP9i5cycOHjyIoqIiTJs2TcSq7VPv3r3xxhtvIDs7G1lZWXjwwQfxyCOP4MyZMwDYzz3l+++/x9///ncMGzas1XH2t+UMGTIExcXF5q9vv/3W/Bj7uQcI5DQACJ999pn5e6PRKGg0GuGvf/2r+VhlZaWgVCqFjz/+WIQKHUdpaakAQDh48KAgCKZ+lcvlws6dO81t8vLyBABCZmamWGU6DF9fX+Ef//gH+7mH1NTUCFFRUUJ6erowbtw4YcGCBYIg8HNtScuWLRNiYmLafYz93DM4AuTELl++DK1WiwkTJpiPeXt7Iy4uDpmZmSJWZv+qqqoAAH5+fgCA7Oxs6PX6Vn09cOBAhIWFsa+7wWAwYPv27airq0N8fDz7uYc8//zzmDJlSqt+Bfi5trTz588jODgYffr0wRNPPIHCwkIA7OeeIvpO0CQerVYLAOZdt1uo1WrzY9R5RqMRL774IsaOHWveoVyr1UKhULS5yS77umtOnTqF+Ph4NDY2wsPDA5999hkGDx6M48ePs58tbPv27cjJycH333/f5jF+ri0nLi4OmzdvxoABA1BcXIzly5fj3nvvxenTp9nPPYQBiMjCnn/+eZw+fbrV/D1Z1oABA3D8+HFUVVXhk08+wezZs3Hw4EGxy3I4V69exYIFC5Cens5bCfWwhx56yPznYcOGIS4uDuHh4fjXv/4FV1dXEStzXJwCc2IajQYA2lxJUFJSYn6MOic5ORn//e9/8fXXX6N3797m4xqNBk1NTaisrGzVnn3dNQqFAv369cPIkSOxcuVKxMTEYO3atexnC8vOzkZpaSlGjBgBFxcXuLi44ODBg3j77bfh4uICtVrN/u4hPj4+6N+/Py5cuMDPdQ9hAHJikZGR0Gg0yMjIMB+rrq7G0aNHER8fL2Jl9kcQBCQnJ+Ozzz7DV199hcjIyFaPjxw5EnK5vFVfnz17FoWFhexrCzAajdDpdOxnCxs/fjxOnTqF48ePm79GjRqFJ554wvxn9nfPqK2txcWLFxEUFMTPdQ/hFJiDq62txYULF8zfX758GcePH4efnx/CwsLw4osv4rXXXkNUVBQiIyOxZMkSBAcHIzExUbyi7dDzzz+Pbdu24d///jc8PT3N8/Le3t5wdXWFt7c35s2bh5SUFPj5+cHLywsvvPAC4uPjcffdd4tcvX1JTU3FQw89hLCwMNTU1GDbtm04cOAAvvjiC/azhXl6eprXsbVwd3eHv7+/+Tj72zJeeukl/PKXv0R4eDiKioqwbNkyyGQyzJgxg5/rniL2ZWjUs77++msBQJuv2bNnC4JguhR+yZIlglqtFpRKpTB+/Hjh7Nmz4hZth9rrYwDCBx98YG7T0NAg/O53vxN8fX0FNzc34Ve/+pVQXFwsXtF26qmnnhLCw8MFhUIh9OrVSxg/frywf/9+8+Ps557108vgBYH9bSnTp08XgoKCBIVCIYSEhAjTp08XLly4YH6c/Wx5EkEQBJGyFxEREZEouAaIiIiInA4DEBERETkdBiAiIiJyOgxARERE5HQYgIiIiMjpMAARERGR02EAIiIiIqfDAEREREROhwGIiGxSQUEBJBIJjh8/LnYpROSAGICIyCaFhoaiuLjYfM+pAwcOQCKRtLkjNhFRV/BmqERkk2QyGTQajdhlEJGD4ggQEYnKaDTiL3/5C/r16welUomwsDC8/vrrrabACgoK8MADDwAAfH19IZFIMGfOHGzduhX+/v7Q6XStXjMxMRFPPvnkbd8zIiICr732GmbNmgUPDw+Eh4dj9+7dKCsrwyOPPAIPDw8MGzYMWVlZ5uds3rwZPj4+SEtLQ1RUFFQqFRISEnD16tVWr/3aa68hMDAQnp6eePrpp7Fo0SLExsZarsOIyCIYgIhIVKmpqXjjjTewZMkS/PDDD9i2bRvUanWrNqGhofj0008BAGfPnkVxcTHWrl2LpKQkGAwG7N6929y2tLQUe/bswVNPPXXH933rrbcwduxY5ObmYsqUKXjyyScxa9Ys/OY3v0FOTg769u2LWbNm4af3i66vr8frr7+OrVu34rvvvkNlZSUef/xx8+MfffQRXn/9dbz55pvIzs5GWFgY3n33XUt0ExFZmsh3oyciJ1ZdXS0olUph48aNbR67fPmyAEDIzc0VBEEQvv76awGAcPPmzVbtnnvuOeGhhx4yf79q1SqhT58+gtFovO37hoeHC7/5zW/M3xcXFwsAhCVLlpiPZWZmCgCE4uJiQRAE4YMPPhAACEeOHDG3ycvLEwAIR48eFQRBEOLi4oTnn3++1XuNHTtWiImJuXNHEJHVcQSIiESTl5cHnU6H8ePHd/k15s+fj/379+P69esATFNVc+bMgUQiwUcffQQPDw/z16FDh8zPGzZsmPnPLSNOQ4cObXOstLTUfMzFxQV33XWX+fuBAwfCx8cHeXl5AEyjU6NHj25V3/9+T0S2gYugiUg0rq6u3X6N4cOHIyYmBlu3bsWkSZNw5swZ7NmzBwAwdepUxMXFmduGhISY/yyXy81/lkgktz1mNBq7XSMR2R6OABGRaKKiouDq6oqMjIyfbatQKAAABoOhzWNPP/00Nm/ejA8++AATJkxAaGgoAMDT0xP9+vUzf3U3cDU3N7daGH327FlUVlZi0KBBAIABAwbg+++/b/Wc//2eiGwDAxARiUalUuHll1/Gn/70J2zduhUXL17EkSNH8P7777dpGx4eDolEgv/+978oKytDbW2t+bGZM2fi2rVr2Lhx488ufu4OuVyOF154AUePHkV2djbmzJmDu+++2zzN9cILL+D999/Hli1bcP78ebz22ms4efKkeTSJiGwHAxARiWrJkiX44x//iKVLl2LQoEGYPn16q3U3LUJCQrB8+XIsWrQIarUaycnJ5se8vb3x6KOPwsPDA4mJiT1Wq5ubG15++WXMnDkTY8eOhYeHB3bs2GF+/IknnkBqaipeeukljBgxApcvX8acOXOgUql6rCYi6hqJIPzkGk8iIjs1fvx4DBkyBG+//XaPvP7mzZvx4osvdnon6okTJ0Kj0eCf//xnj9RFRF3DRdBEZNdu3ryJAwcO4MCBA/i///s/UWupr6/Hhg0bkJCQAJlMho8//hhffvkl0tPTRa2LiNpiACIiuzZ8+HDcvHkTb775JgYMGCBqLRKJBHv37sXrr7+OxsZGDBgwAJ9++ikmTJggal1E1BanwIiIiMjpcBE0EREROR0GICIiInI6DEBERETkdBiAiIiIyOkwABEREZHTYQAiIiIip8MARERERE6HAYiIiIiczv8PDKcrgOT23coAAAAASUVORK5CYII=",
      "text/plain": [
       "<Figure size 640x480 with 1 Axes>"
      ]
     },
     "metadata": {},
     "output_type": "display_data"
    },
    {
     "name": "stdout",
     "output_type": "stream",
     "text": [
      "========================================================\n",
      "highway-mpg\n"
     ]
    },
    {
     "data": {
      "image/png": "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",
      "text/plain": [
       "<Figure size 640x480 with 1 Axes>"
      ]
     },
     "metadata": {},
     "output_type": "display_data"
    },
    {
     "name": "stdout",
     "output_type": "stream",
     "text": [
      "========================================================\n",
      "price\n"
     ]
    },
    {
     "data": {
      "image/png": "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",
      "text/plain": [
       "<Figure size 640x480 with 1 Axes>"
      ]
     },
     "metadata": {},
     "output_type": "display_data"
    },
    {
     "name": "stdout",
     "output_type": "stream",
     "text": [
      "========================================================\n"
     ]
    }
   ],
   "source": [
    "for col in Num_columns.columns.to_list():\n",
    "    print(col)\n",
    "    sns.distplot(df[col])\n",
    "    plt.grid()\n",
    "    plt.show()\n",
    "    print(\"========================================================\")"
   ]
  },
  {
   "cell_type": "markdown",
   "id": "cee109af",
   "metadata": {},
   "source": [
    "### so here we have to check the skewness of all the columns density\n",
    ".symboling is normal distribution\n",
    ".normalised is having rightskewed data means positively skewed\n",
    ".width is having both side skew ness\n",
    ". height is directly propotional\n",
    ". engine _size is  having rightskewed data means positively skewed\n",
    ". horse power is also having rightskewed data means positively skewed\n",
    ".city map is having a little bit right skewed\n",
    ". highway_mpg is normal distribution.\n",
    ". price is also having rightskewed data means positively skewed"
   ]
  },
  {
   "cell_type": "markdown",
   "id": "ec999606",
   "metadata": {},
   "source": [
    "# machine learning\n"
   ]
  },
  {
   "cell_type": "code",
   "execution_count": 49,
   "id": "65531eba",
   "metadata": {},
   "outputs": [],
   "source": [
    "from sklearn.impute import SimpleImputer\n",
    "si=SimpleImputer(missing_values=np.nan,strategy='mean')\n",
    "#object of simpleimputer class"
   ]
  },
  {
   "cell_type": "code",
   "execution_count": 50,
   "id": "4767ea85",
   "metadata": {},
   "outputs": [],
   "source": [
    "#separating feature and response/target\n",
    "X=df.iloc[:,:-1] #All the cols except last col(features)\n",
    "y=df.iloc[:,-1] #All the rows of last col(response)\n"
   ]
  },
  {
   "cell_type": "code",
   "execution_count": 51,
   "id": "c9b1b247",
   "metadata": {},
   "outputs": [],
   "source": [
    "#fit nan with mean\n",
    "X[['normalized-losses','horsepower']]=si.fit_transform(X[['normalized-losses','horsepower']])"
   ]
  },
  {
   "cell_type": "markdown",
   "id": "6dc19c45",
   "metadata": {},
   "source": [
    "# Encoding"
   ]
  },
  {
   "cell_type": "code",
   "execution_count": 52,
   "id": "1cfd6b86",
   "metadata": {},
   "outputs": [
    {
     "data": {
      "text/plain": [
       "Index(['make', 'fuel-type', 'body-style', 'drive-wheels', 'engine-location',\n",
       "       'engine-type'],\n",
       "      dtype='object')"
      ]
     },
     "execution_count": 52,
     "metadata": {},
     "output_type": "execute_result"
    }
   ],
   "source": [
    "#seperating cat column\n",
    "cat_col=X.select_dtypes(object).columns\n",
    "cat_col"
   ]
  },
  {
   "cell_type": "code",
   "execution_count": 53,
   "id": "082e42f3",
   "metadata": {},
   "outputs": [],
   "source": [
    "#splitting training ant test data\n",
    "xtrain,xtest,ytrain,ytest=train_test_split(X,y,test_size=0.3,random_state=1)"
   ]
  },
  {
   "cell_type": "code",
   "execution_count": 54,
   "id": "70902e01",
   "metadata": {},
   "outputs": [],
   "source": [
    "#Encoding\n",
    "for col in cat_col:\n",
    "    le=LabelEncoder() #le is an object of label encoder\n",
    "    xtrain[col]=le.fit_transform(xtrain[col])\n",
    "    xtest[col]=le.fit_transform(xtest[col])"
   ]
  },
  {
   "cell_type": "code",
   "execution_count": 55,
   "id": "ace61328",
   "metadata": {},
   "outputs": [
    {
     "data": {
      "text/html": [
       "<div>\n",
       "<style scoped>\n",
       "    .dataframe tbody tr th:only-of-type {\n",
       "        vertical-align: middle;\n",
       "    }\n",
       "\n",
       "    .dataframe tbody tr th {\n",
       "        vertical-align: top;\n",
       "    }\n",
       "\n",
       "    .dataframe thead th {\n",
       "        text-align: right;\n",
       "    }\n",
       "</style>\n",
       "<table border=\"1\" class=\"dataframe\">\n",
       "  <thead>\n",
       "    <tr style=\"text-align: right;\">\n",
       "      <th></th>\n",
       "      <th>symboling</th>\n",
       "      <th>normalized-losses</th>\n",
       "      <th>make</th>\n",
       "      <th>fuel-type</th>\n",
       "      <th>body-style</th>\n",
       "      <th>drive-wheels</th>\n",
       "      <th>engine-location</th>\n",
       "      <th>width</th>\n",
       "      <th>height</th>\n",
       "      <th>engine-type</th>\n",
       "      <th>engine-size</th>\n",
       "      <th>horsepower</th>\n",
       "      <th>city-mpg</th>\n",
       "      <th>highway-mpg</th>\n",
       "    </tr>\n",
       "  </thead>\n",
       "  <tbody>\n",
       "    <tr>\n",
       "      <th>104</th>\n",
       "      <td>3</td>\n",
       "      <td>194.0</td>\n",
       "      <td>12</td>\n",
       "      <td>1</td>\n",
       "      <td>2</td>\n",
       "      <td>2</td>\n",
       "      <td>0</td>\n",
       "      <td>67.9</td>\n",
       "      <td>49.7</td>\n",
       "      <td>4</td>\n",
       "      <td>181</td>\n",
       "      <td>160.0</td>\n",
       "      <td>19</td>\n",
       "      <td>25</td>\n",
       "    </tr>\n",
       "    <tr>\n",
       "      <th>200</th>\n",
       "      <td>-1</td>\n",
       "      <td>95.0</td>\n",
       "      <td>21</td>\n",
       "      <td>1</td>\n",
       "      <td>3</td>\n",
       "      <td>2</td>\n",
       "      <td>0</td>\n",
       "      <td>68.9</td>\n",
       "      <td>55.5</td>\n",
       "      <td>2</td>\n",
       "      <td>141</td>\n",
       "      <td>114.0</td>\n",
       "      <td>23</td>\n",
       "      <td>28</td>\n",
       "    </tr>\n",
       "    <tr>\n",
       "      <th>18</th>\n",
       "      <td>2</td>\n",
       "      <td>121.0</td>\n",
       "      <td>3</td>\n",
       "      <td>1</td>\n",
       "      <td>2</td>\n",
       "      <td>1</td>\n",
       "      <td>0</td>\n",
       "      <td>60.3</td>\n",
       "      <td>53.2</td>\n",
       "      <td>1</td>\n",
       "      <td>61</td>\n",
       "      <td>48.0</td>\n",
       "      <td>47</td>\n",
       "      <td>53</td>\n",
       "    </tr>\n",
       "    <tr>\n",
       "      <th>165</th>\n",
       "      <td>1</td>\n",
       "      <td>168.0</td>\n",
       "      <td>19</td>\n",
       "      <td>1</td>\n",
       "      <td>3</td>\n",
       "      <td>2</td>\n",
       "      <td>0</td>\n",
       "      <td>64.0</td>\n",
       "      <td>52.6</td>\n",
       "      <td>0</td>\n",
       "      <td>98</td>\n",
       "      <td>112.0</td>\n",
       "      <td>26</td>\n",
       "      <td>29</td>\n",
       "    </tr>\n",
       "    <tr>\n",
       "      <th>118</th>\n",
       "      <td>1</td>\n",
       "      <td>119.0</td>\n",
       "      <td>14</td>\n",
       "      <td>1</td>\n",
       "      <td>2</td>\n",
       "      <td>1</td>\n",
       "      <td>0</td>\n",
       "      <td>63.8</td>\n",
       "      <td>50.8</td>\n",
       "      <td>2</td>\n",
       "      <td>90</td>\n",
       "      <td>68.0</td>\n",
       "      <td>37</td>\n",
       "      <td>41</td>\n",
       "    </tr>\n",
       "    <tr>\n",
       "      <th>...</th>\n",
       "      <td>...</td>\n",
       "      <td>...</td>\n",
       "      <td>...</td>\n",
       "      <td>...</td>\n",
       "      <td>...</td>\n",
       "      <td>...</td>\n",
       "      <td>...</td>\n",
       "      <td>...</td>\n",
       "      <td>...</td>\n",
       "      <td>...</td>\n",
       "      <td>...</td>\n",
       "      <td>...</td>\n",
       "      <td>...</td>\n",
       "      <td>...</td>\n",
       "    </tr>\n",
       "    <tr>\n",
       "      <th>139</th>\n",
       "      <td>2</td>\n",
       "      <td>83.0</td>\n",
       "      <td>18</td>\n",
       "      <td>1</td>\n",
       "      <td>2</td>\n",
       "      <td>1</td>\n",
       "      <td>0</td>\n",
       "      <td>63.6</td>\n",
       "      <td>53.7</td>\n",
       "      <td>3</td>\n",
       "      <td>108</td>\n",
       "      <td>73.0</td>\n",
       "      <td>26</td>\n",
       "      <td>31</td>\n",
       "    </tr>\n",
       "    <tr>\n",
       "      <th>143</th>\n",
       "      <td>0</td>\n",
       "      <td>102.0</td>\n",
       "      <td>18</td>\n",
       "      <td>1</td>\n",
       "      <td>3</td>\n",
       "      <td>1</td>\n",
       "      <td>0</td>\n",
       "      <td>65.4</td>\n",
       "      <td>52.5</td>\n",
       "      <td>3</td>\n",
       "      <td>108</td>\n",
       "      <td>94.0</td>\n",
       "      <td>26</td>\n",
       "      <td>32</td>\n",
       "    </tr>\n",
       "    <tr>\n",
       "      <th>75</th>\n",
       "      <td>1</td>\n",
       "      <td>115.0</td>\n",
       "      <td>10</td>\n",
       "      <td>1</td>\n",
       "      <td>2</td>\n",
       "      <td>2</td>\n",
       "      <td>0</td>\n",
       "      <td>68.0</td>\n",
       "      <td>54.8</td>\n",
       "      <td>2</td>\n",
       "      <td>140</td>\n",
       "      <td>175.0</td>\n",
       "      <td>19</td>\n",
       "      <td>24</td>\n",
       "    </tr>\n",
       "    <tr>\n",
       "      <th>146</th>\n",
       "      <td>0</td>\n",
       "      <td>89.0</td>\n",
       "      <td>18</td>\n",
       "      <td>1</td>\n",
       "      <td>4</td>\n",
       "      <td>1</td>\n",
       "      <td>0</td>\n",
       "      <td>65.4</td>\n",
       "      <td>53.0</td>\n",
       "      <td>3</td>\n",
       "      <td>108</td>\n",
       "      <td>82.0</td>\n",
       "      <td>28</td>\n",
       "      <td>32</td>\n",
       "    </tr>\n",
       "    <tr>\n",
       "      <th>38</th>\n",
       "      <td>0</td>\n",
       "      <td>106.0</td>\n",
       "      <td>5</td>\n",
       "      <td>1</td>\n",
       "      <td>2</td>\n",
       "      <td>1</td>\n",
       "      <td>0</td>\n",
       "      <td>65.2</td>\n",
       "      <td>53.3</td>\n",
       "      <td>2</td>\n",
       "      <td>110</td>\n",
       "      <td>86.0</td>\n",
       "      <td>27</td>\n",
       "      <td>33</td>\n",
       "    </tr>\n",
       "  </tbody>\n",
       "</table>\n",
       "<p>135 rows × 14 columns</p>\n",
       "</div>"
      ],
      "text/plain": [
       "     symboling  normalized-losses  make  fuel-type  body-style  drive-wheels   \n",
       "104          3              194.0    12          1           2             2  \\\n",
       "200         -1               95.0    21          1           3             2   \n",
       "18           2              121.0     3          1           2             1   \n",
       "165          1              168.0    19          1           3             2   \n",
       "118          1              119.0    14          1           2             1   \n",
       "..         ...                ...   ...        ...         ...           ...   \n",
       "139          2               83.0    18          1           2             1   \n",
       "143          0              102.0    18          1           3             1   \n",
       "75           1              115.0    10          1           2             2   \n",
       "146          0               89.0    18          1           4             1   \n",
       "38           0              106.0     5          1           2             1   \n",
       "\n",
       "     engine-location  width  height  engine-type  engine-size  horsepower   \n",
       "104                0   67.9    49.7            4          181       160.0  \\\n",
       "200                0   68.9    55.5            2          141       114.0   \n",
       "18                 0   60.3    53.2            1           61        48.0   \n",
       "165                0   64.0    52.6            0           98       112.0   \n",
       "118                0   63.8    50.8            2           90        68.0   \n",
       "..               ...    ...     ...          ...          ...         ...   \n",
       "139                0   63.6    53.7            3          108        73.0   \n",
       "143                0   65.4    52.5            3          108        94.0   \n",
       "75                 0   68.0    54.8            2          140       175.0   \n",
       "146                0   65.4    53.0            3          108        82.0   \n",
       "38                 0   65.2    53.3            2          110        86.0   \n",
       "\n",
       "     city-mpg  highway-mpg  \n",
       "104        19           25  \n",
       "200        23           28  \n",
       "18         47           53  \n",
       "165        26           29  \n",
       "118        37           41  \n",
       "..        ...          ...  \n",
       "139        26           31  \n",
       "143        26           32  \n",
       "75         19           24  \n",
       "146        28           32  \n",
       "38         27           33  \n",
       "\n",
       "[135 rows x 14 columns]"
      ]
     },
     "execution_count": 55,
     "metadata": {},
     "output_type": "execute_result"
    }
   ],
   "source": [
    "xtrain"
   ]
  },
  {
   "cell_type": "code",
   "execution_count": 56,
   "id": "262b0653",
   "metadata": {},
   "outputs": [
    {
     "data": {
      "text/html": [
       "<div>\n",
       "<style scoped>\n",
       "    .dataframe tbody tr th:only-of-type {\n",
       "        vertical-align: middle;\n",
       "    }\n",
       "\n",
       "    .dataframe tbody tr th {\n",
       "        vertical-align: top;\n",
       "    }\n",
       "\n",
       "    .dataframe thead th {\n",
       "        text-align: right;\n",
       "    }\n",
       "</style>\n",
       "<table border=\"1\" class=\"dataframe\">\n",
       "  <thead>\n",
       "    <tr style=\"text-align: right;\">\n",
       "      <th></th>\n",
       "      <th>symboling</th>\n",
       "      <th>normalized-losses</th>\n",
       "      <th>make</th>\n",
       "      <th>fuel-type</th>\n",
       "      <th>body-style</th>\n",
       "      <th>drive-wheels</th>\n",
       "      <th>engine-location</th>\n",
       "      <th>width</th>\n",
       "      <th>height</th>\n",
       "      <th>engine-type</th>\n",
       "      <th>engine-size</th>\n",
       "      <th>horsepower</th>\n",
       "      <th>city-mpg</th>\n",
       "      <th>highway-mpg</th>\n",
       "    </tr>\n",
       "  </thead>\n",
       "  <tbody>\n",
       "    <tr>\n",
       "      <th>47</th>\n",
       "      <td>0</td>\n",
       "      <td>145.0</td>\n",
       "      <td>6</td>\n",
       "      <td>1</td>\n",
       "      <td>3</td>\n",
       "      <td>2</td>\n",
       "      <td>0</td>\n",
       "      <td>69.6</td>\n",
       "      <td>52.8</td>\n",
       "      <td>0</td>\n",
       "      <td>258</td>\n",
       "      <td>176.000000</td>\n",
       "      <td>15</td>\n",
       "      <td>19</td>\n",
       "    </tr>\n",
       "    <tr>\n",
       "      <th>183</th>\n",
       "      <td>2</td>\n",
       "      <td>122.0</td>\n",
       "      <td>18</td>\n",
       "      <td>1</td>\n",
       "      <td>3</td>\n",
       "      <td>1</td>\n",
       "      <td>0</td>\n",
       "      <td>65.5</td>\n",
       "      <td>55.7</td>\n",
       "      <td>3</td>\n",
       "      <td>109</td>\n",
       "      <td>85.000000</td>\n",
       "      <td>27</td>\n",
       "      <td>34</td>\n",
       "    </tr>\n",
       "    <tr>\n",
       "      <th>169</th>\n",
       "      <td>2</td>\n",
       "      <td>134.0</td>\n",
       "      <td>17</td>\n",
       "      <td>1</td>\n",
       "      <td>2</td>\n",
       "      <td>2</td>\n",
       "      <td>0</td>\n",
       "      <td>65.6</td>\n",
       "      <td>52.0</td>\n",
       "      <td>3</td>\n",
       "      <td>146</td>\n",
       "      <td>116.000000</td>\n",
       "      <td>24</td>\n",
       "      <td>30</td>\n",
       "    </tr>\n",
       "    <tr>\n",
       "      <th>36</th>\n",
       "      <td>0</td>\n",
       "      <td>78.0</td>\n",
       "      <td>4</td>\n",
       "      <td>1</td>\n",
       "      <td>4</td>\n",
       "      <td>1</td>\n",
       "      <td>0</td>\n",
       "      <td>63.9</td>\n",
       "      <td>58.3</td>\n",
       "      <td>3</td>\n",
       "      <td>92</td>\n",
       "      <td>76.000000</td>\n",
       "      <td>30</td>\n",
       "      <td>34</td>\n",
       "    </tr>\n",
       "    <tr>\n",
       "      <th>142</th>\n",
       "      <td>0</td>\n",
       "      <td>102.0</td>\n",
       "      <td>16</td>\n",
       "      <td>1</td>\n",
       "      <td>3</td>\n",
       "      <td>1</td>\n",
       "      <td>0</td>\n",
       "      <td>65.4</td>\n",
       "      <td>52.5</td>\n",
       "      <td>4</td>\n",
       "      <td>108</td>\n",
       "      <td>82.000000</td>\n",
       "      <td>28</td>\n",
       "      <td>33</td>\n",
       "    </tr>\n",
       "    <tr>\n",
       "      <th>11</th>\n",
       "      <td>0</td>\n",
       "      <td>192.0</td>\n",
       "      <td>1</td>\n",
       "      <td>1</td>\n",
       "      <td>3</td>\n",
       "      <td>2</td>\n",
       "      <td>0</td>\n",
       "      <td>64.8</td>\n",
       "      <td>54.3</td>\n",
       "      <td>3</td>\n",
       "      <td>108</td>\n",
       "      <td>101.000000</td>\n",
       "      <td>23</td>\n",
       "      <td>29</td>\n",
       "    </tr>\n",
       "    <tr>\n",
       "      <th>129</th>\n",
       "      <td>1</td>\n",
       "      <td>115.0</td>\n",
       "      <td>13</td>\n",
       "      <td>1</td>\n",
       "      <td>2</td>\n",
       "      <td>2</td>\n",
       "      <td>0</td>\n",
       "      <td>72.3</td>\n",
       "      <td>50.5</td>\n",
       "      <td>1</td>\n",
       "      <td>203</td>\n",
       "      <td>288.000000</td>\n",
       "      <td>17</td>\n",
       "      <td>28</td>\n",
       "    </tr>\n",
       "    <tr>\n",
       "      <th>87</th>\n",
       "      <td>1</td>\n",
       "      <td>125.0</td>\n",
       "      <td>9</td>\n",
       "      <td>1</td>\n",
       "      <td>3</td>\n",
       "      <td>1</td>\n",
       "      <td>0</td>\n",
       "      <td>65.4</td>\n",
       "      <td>51.6</td>\n",
       "      <td>3</td>\n",
       "      <td>110</td>\n",
       "      <td>116.000000</td>\n",
       "      <td>23</td>\n",
       "      <td>30</td>\n",
       "    </tr>\n",
       "    <tr>\n",
       "      <th>186</th>\n",
       "      <td>2</td>\n",
       "      <td>94.0</td>\n",
       "      <td>18</td>\n",
       "      <td>1</td>\n",
       "      <td>3</td>\n",
       "      <td>1</td>\n",
       "      <td>0</td>\n",
       "      <td>65.5</td>\n",
       "      <td>55.7</td>\n",
       "      <td>3</td>\n",
       "      <td>109</td>\n",
       "      <td>85.000000</td>\n",
       "      <td>27</td>\n",
       "      <td>34</td>\n",
       "    </tr>\n",
       "    <tr>\n",
       "      <th>107</th>\n",
       "      <td>0</td>\n",
       "      <td>161.0</td>\n",
       "      <td>11</td>\n",
       "      <td>1</td>\n",
       "      <td>3</td>\n",
       "      <td>2</td>\n",
       "      <td>0</td>\n",
       "      <td>68.4</td>\n",
       "      <td>56.7</td>\n",
       "      <td>2</td>\n",
       "      <td>120</td>\n",
       "      <td>97.000000</td>\n",
       "      <td>19</td>\n",
       "      <td>24</td>\n",
       "    </tr>\n",
       "    <tr>\n",
       "      <th>185</th>\n",
       "      <td>2</td>\n",
       "      <td>94.0</td>\n",
       "      <td>18</td>\n",
       "      <td>1</td>\n",
       "      <td>3</td>\n",
       "      <td>1</td>\n",
       "      <td>0</td>\n",
       "      <td>65.5</td>\n",
       "      <td>55.7</td>\n",
       "      <td>3</td>\n",
       "      <td>109</td>\n",
       "      <td>85.000000</td>\n",
       "      <td>27</td>\n",
       "      <td>34</td>\n",
       "    </tr>\n",
       "    <tr>\n",
       "      <th>191</th>\n",
       "      <td>0</td>\n",
       "      <td>115.0</td>\n",
       "      <td>18</td>\n",
       "      <td>1</td>\n",
       "      <td>3</td>\n",
       "      <td>1</td>\n",
       "      <td>0</td>\n",
       "      <td>66.9</td>\n",
       "      <td>55.1</td>\n",
       "      <td>3</td>\n",
       "      <td>136</td>\n",
       "      <td>110.000000</td>\n",
       "      <td>19</td>\n",
       "      <td>24</td>\n",
       "    </tr>\n",
       "    <tr>\n",
       "      <th>30</th>\n",
       "      <td>2</td>\n",
       "      <td>137.0</td>\n",
       "      <td>4</td>\n",
       "      <td>1</td>\n",
       "      <td>2</td>\n",
       "      <td>1</td>\n",
       "      <td>0</td>\n",
       "      <td>63.9</td>\n",
       "      <td>50.8</td>\n",
       "      <td>3</td>\n",
       "      <td>92</td>\n",
       "      <td>58.000000</td>\n",
       "      <td>49</td>\n",
       "      <td>54</td>\n",
       "    </tr>\n",
       "    <tr>\n",
       "      <th>16</th>\n",
       "      <td>0</td>\n",
       "      <td>115.0</td>\n",
       "      <td>1</td>\n",
       "      <td>1</td>\n",
       "      <td>3</td>\n",
       "      <td>2</td>\n",
       "      <td>0</td>\n",
       "      <td>67.9</td>\n",
       "      <td>53.7</td>\n",
       "      <td>3</td>\n",
       "      <td>209</td>\n",
       "      <td>182.000000</td>\n",
       "      <td>16</td>\n",
       "      <td>22</td>\n",
       "    </tr>\n",
       "    <tr>\n",
       "      <th>149</th>\n",
       "      <td>0</td>\n",
       "      <td>85.0</td>\n",
       "      <td>16</td>\n",
       "      <td>1</td>\n",
       "      <td>4</td>\n",
       "      <td>0</td>\n",
       "      <td>0</td>\n",
       "      <td>65.4</td>\n",
       "      <td>54.9</td>\n",
       "      <td>4</td>\n",
       "      <td>108</td>\n",
       "      <td>111.000000</td>\n",
       "      <td>23</td>\n",
       "      <td>23</td>\n",
       "    </tr>\n",
       "    <tr>\n",
       "      <th>173</th>\n",
       "      <td>-1</td>\n",
       "      <td>65.0</td>\n",
       "      <td>17</td>\n",
       "      <td>1</td>\n",
       "      <td>3</td>\n",
       "      <td>1</td>\n",
       "      <td>0</td>\n",
       "      <td>66.5</td>\n",
       "      <td>54.9</td>\n",
       "      <td>3</td>\n",
       "      <td>122</td>\n",
       "      <td>92.000000</td>\n",
       "      <td>29</td>\n",
       "      <td>34</td>\n",
       "    </tr>\n",
       "    <tr>\n",
       "      <th>28</th>\n",
       "      <td>-1</td>\n",
       "      <td>110.0</td>\n",
       "      <td>3</td>\n",
       "      <td>1</td>\n",
       "      <td>4</td>\n",
       "      <td>1</td>\n",
       "      <td>0</td>\n",
       "      <td>64.6</td>\n",
       "      <td>59.8</td>\n",
       "      <td>3</td>\n",
       "      <td>122</td>\n",
       "      <td>88.000000</td>\n",
       "      <td>24</td>\n",
       "      <td>30</td>\n",
       "    </tr>\n",
       "    <tr>\n",
       "      <th>54</th>\n",
       "      <td>1</td>\n",
       "      <td>113.0</td>\n",
       "      <td>7</td>\n",
       "      <td>1</td>\n",
       "      <td>3</td>\n",
       "      <td>1</td>\n",
       "      <td>0</td>\n",
       "      <td>64.2</td>\n",
       "      <td>54.1</td>\n",
       "      <td>3</td>\n",
       "      <td>91</td>\n",
       "      <td>68.000000</td>\n",
       "      <td>31</td>\n",
       "      <td>38</td>\n",
       "    </tr>\n",
       "    <tr>\n",
       "      <th>32</th>\n",
       "      <td>1</td>\n",
       "      <td>101.0</td>\n",
       "      <td>4</td>\n",
       "      <td>1</td>\n",
       "      <td>2</td>\n",
       "      <td>1</td>\n",
       "      <td>0</td>\n",
       "      <td>64.0</td>\n",
       "      <td>52.6</td>\n",
       "      <td>3</td>\n",
       "      <td>79</td>\n",
       "      <td>60.000000</td>\n",
       "      <td>38</td>\n",
       "      <td>42</td>\n",
       "    </tr>\n",
       "    <tr>\n",
       "      <th>128</th>\n",
       "      <td>3</td>\n",
       "      <td>115.0</td>\n",
       "      <td>13</td>\n",
       "      <td>1</td>\n",
       "      <td>0</td>\n",
       "      <td>2</td>\n",
       "      <td>1</td>\n",
       "      <td>65.0</td>\n",
       "      <td>51.6</td>\n",
       "      <td>4</td>\n",
       "      <td>194</td>\n",
       "      <td>207.000000</td>\n",
       "      <td>17</td>\n",
       "      <td>25</td>\n",
       "    </tr>\n",
       "    <tr>\n",
       "      <th>50</th>\n",
       "      <td>1</td>\n",
       "      <td>104.0</td>\n",
       "      <td>7</td>\n",
       "      <td>1</td>\n",
       "      <td>2</td>\n",
       "      <td>1</td>\n",
       "      <td>0</td>\n",
       "      <td>64.2</td>\n",
       "      <td>54.1</td>\n",
       "      <td>3</td>\n",
       "      <td>91</td>\n",
       "      <td>68.000000</td>\n",
       "      <td>30</td>\n",
       "      <td>31</td>\n",
       "    </tr>\n",
       "    <tr>\n",
       "      <th>4</th>\n",
       "      <td>2</td>\n",
       "      <td>164.0</td>\n",
       "      <td>0</td>\n",
       "      <td>1</td>\n",
       "      <td>3</td>\n",
       "      <td>0</td>\n",
       "      <td>0</td>\n",
       "      <td>66.4</td>\n",
       "      <td>54.3</td>\n",
       "      <td>3</td>\n",
       "      <td>136</td>\n",
       "      <td>115.000000</td>\n",
       "      <td>18</td>\n",
       "      <td>22</td>\n",
       "    </tr>\n",
       "    <tr>\n",
       "      <th>103</th>\n",
       "      <td>0</td>\n",
       "      <td>108.0</td>\n",
       "      <td>10</td>\n",
       "      <td>1</td>\n",
       "      <td>3</td>\n",
       "      <td>1</td>\n",
       "      <td>0</td>\n",
       "      <td>66.5</td>\n",
       "      <td>55.1</td>\n",
       "      <td>5</td>\n",
       "      <td>181</td>\n",
       "      <td>152.000000</td>\n",
       "      <td>19</td>\n",
       "      <td>25</td>\n",
       "    </tr>\n",
       "    <tr>\n",
       "      <th>59</th>\n",
       "      <td>1</td>\n",
       "      <td>129.0</td>\n",
       "      <td>7</td>\n",
       "      <td>1</td>\n",
       "      <td>2</td>\n",
       "      <td>1</td>\n",
       "      <td>0</td>\n",
       "      <td>66.5</td>\n",
       "      <td>53.7</td>\n",
       "      <td>3</td>\n",
       "      <td>122</td>\n",
       "      <td>84.000000</td>\n",
       "      <td>26</td>\n",
       "      <td>32</td>\n",
       "    </tr>\n",
       "    <tr>\n",
       "      <th>81</th>\n",
       "      <td>3</td>\n",
       "      <td>153.0</td>\n",
       "      <td>9</td>\n",
       "      <td>1</td>\n",
       "      <td>2</td>\n",
       "      <td>1</td>\n",
       "      <td>0</td>\n",
       "      <td>65.4</td>\n",
       "      <td>49.4</td>\n",
       "      <td>3</td>\n",
       "      <td>122</td>\n",
       "      <td>88.000000</td>\n",
       "      <td>25</td>\n",
       "      <td>32</td>\n",
       "    </tr>\n",
       "    <tr>\n",
       "      <th>61</th>\n",
       "      <td>1</td>\n",
       "      <td>129.0</td>\n",
       "      <td>7</td>\n",
       "      <td>1</td>\n",
       "      <td>2</td>\n",
       "      <td>1</td>\n",
       "      <td>0</td>\n",
       "      <td>66.5</td>\n",
       "      <td>53.7</td>\n",
       "      <td>3</td>\n",
       "      <td>122</td>\n",
       "      <td>84.000000</td>\n",
       "      <td>26</td>\n",
       "      <td>32</td>\n",
       "    </tr>\n",
       "    <tr>\n",
       "      <th>138</th>\n",
       "      <td>2</td>\n",
       "      <td>83.0</td>\n",
       "      <td>16</td>\n",
       "      <td>1</td>\n",
       "      <td>2</td>\n",
       "      <td>1</td>\n",
       "      <td>0</td>\n",
       "      <td>63.4</td>\n",
       "      <td>53.7</td>\n",
       "      <td>4</td>\n",
       "      <td>97</td>\n",
       "      <td>69.000000</td>\n",
       "      <td>31</td>\n",
       "      <td>36</td>\n",
       "    </tr>\n",
       "    <tr>\n",
       "      <th>130</th>\n",
       "      <td>0</td>\n",
       "      <td>115.0</td>\n",
       "      <td>14</td>\n",
       "      <td>1</td>\n",
       "      <td>4</td>\n",
       "      <td>1</td>\n",
       "      <td>0</td>\n",
       "      <td>66.5</td>\n",
       "      <td>55.2</td>\n",
       "      <td>3</td>\n",
       "      <td>132</td>\n",
       "      <td>104.256158</td>\n",
       "      <td>23</td>\n",
       "      <td>31</td>\n",
       "    </tr>\n",
       "    <tr>\n",
       "      <th>56</th>\n",
       "      <td>3</td>\n",
       "      <td>150.0</td>\n",
       "      <td>7</td>\n",
       "      <td>1</td>\n",
       "      <td>2</td>\n",
       "      <td>2</td>\n",
       "      <td>0</td>\n",
       "      <td>65.7</td>\n",
       "      <td>49.6</td>\n",
       "      <td>6</td>\n",
       "      <td>70</td>\n",
       "      <td>101.000000</td>\n",
       "      <td>17</td>\n",
       "      <td>23</td>\n",
       "    </tr>\n",
       "    <tr>\n",
       "      <th>133</th>\n",
       "      <td>2</td>\n",
       "      <td>104.0</td>\n",
       "      <td>15</td>\n",
       "      <td>1</td>\n",
       "      <td>3</td>\n",
       "      <td>1</td>\n",
       "      <td>0</td>\n",
       "      <td>66.5</td>\n",
       "      <td>56.1</td>\n",
       "      <td>3</td>\n",
       "      <td>121</td>\n",
       "      <td>110.000000</td>\n",
       "      <td>21</td>\n",
       "      <td>28</td>\n",
       "    </tr>\n",
       "    <tr>\n",
       "      <th>70</th>\n",
       "      <td>-1</td>\n",
       "      <td>93.0</td>\n",
       "      <td>8</td>\n",
       "      <td>0</td>\n",
       "      <td>3</td>\n",
       "      <td>2</td>\n",
       "      <td>0</td>\n",
       "      <td>71.7</td>\n",
       "      <td>56.3</td>\n",
       "      <td>3</td>\n",
       "      <td>183</td>\n",
       "      <td>123.000000</td>\n",
       "      <td>22</td>\n",
       "      <td>25</td>\n",
       "    </tr>\n",
       "    <tr>\n",
       "      <th>126</th>\n",
       "      <td>3</td>\n",
       "      <td>115.0</td>\n",
       "      <td>13</td>\n",
       "      <td>1</td>\n",
       "      <td>1</td>\n",
       "      <td>2</td>\n",
       "      <td>1</td>\n",
       "      <td>65.0</td>\n",
       "      <td>51.6</td>\n",
       "      <td>4</td>\n",
       "      <td>194</td>\n",
       "      <td>207.000000</td>\n",
       "      <td>17</td>\n",
       "      <td>25</td>\n",
       "    </tr>\n",
       "    <tr>\n",
       "      <th>62</th>\n",
       "      <td>0</td>\n",
       "      <td>115.0</td>\n",
       "      <td>7</td>\n",
       "      <td>1</td>\n",
       "      <td>3</td>\n",
       "      <td>1</td>\n",
       "      <td>0</td>\n",
       "      <td>66.5</td>\n",
       "      <td>55.5</td>\n",
       "      <td>3</td>\n",
       "      <td>122</td>\n",
       "      <td>84.000000</td>\n",
       "      <td>26</td>\n",
       "      <td>32</td>\n",
       "    </tr>\n",
       "    <tr>\n",
       "      <th>102</th>\n",
       "      <td>0</td>\n",
       "      <td>108.0</td>\n",
       "      <td>10</td>\n",
       "      <td>1</td>\n",
       "      <td>4</td>\n",
       "      <td>1</td>\n",
       "      <td>0</td>\n",
       "      <td>66.5</td>\n",
       "      <td>56.1</td>\n",
       "      <td>5</td>\n",
       "      <td>181</td>\n",
       "      <td>152.000000</td>\n",
       "      <td>17</td>\n",
       "      <td>22</td>\n",
       "    </tr>\n",
       "    <tr>\n",
       "      <th>198</th>\n",
       "      <td>-2</td>\n",
       "      <td>103.0</td>\n",
       "      <td>19</td>\n",
       "      <td>1</td>\n",
       "      <td>3</td>\n",
       "      <td>2</td>\n",
       "      <td>0</td>\n",
       "      <td>67.2</td>\n",
       "      <td>56.2</td>\n",
       "      <td>3</td>\n",
       "      <td>130</td>\n",
       "      <td>162.000000</td>\n",
       "      <td>17</td>\n",
       "      <td>22</td>\n",
       "    </tr>\n",
       "    <tr>\n",
       "      <th>14</th>\n",
       "      <td>1</td>\n",
       "      <td>115.0</td>\n",
       "      <td>1</td>\n",
       "      <td>1</td>\n",
       "      <td>3</td>\n",
       "      <td>2</td>\n",
       "      <td>0</td>\n",
       "      <td>66.9</td>\n",
       "      <td>55.7</td>\n",
       "      <td>3</td>\n",
       "      <td>164</td>\n",
       "      <td>121.000000</td>\n",
       "      <td>20</td>\n",
       "      <td>25</td>\n",
       "    </tr>\n",
       "    <tr>\n",
       "      <th>42</th>\n",
       "      <td>1</td>\n",
       "      <td>107.0</td>\n",
       "      <td>4</td>\n",
       "      <td>1</td>\n",
       "      <td>3</td>\n",
       "      <td>1</td>\n",
       "      <td>0</td>\n",
       "      <td>66.0</td>\n",
       "      <td>51.0</td>\n",
       "      <td>3</td>\n",
       "      <td>110</td>\n",
       "      <td>100.000000</td>\n",
       "      <td>25</td>\n",
       "      <td>31</td>\n",
       "    </tr>\n",
       "    <tr>\n",
       "      <th>19</th>\n",
       "      <td>1</td>\n",
       "      <td>98.0</td>\n",
       "      <td>2</td>\n",
       "      <td>1</td>\n",
       "      <td>2</td>\n",
       "      <td>1</td>\n",
       "      <td>0</td>\n",
       "      <td>63.6</td>\n",
       "      <td>52.0</td>\n",
       "      <td>3</td>\n",
       "      <td>90</td>\n",
       "      <td>70.000000</td>\n",
       "      <td>38</td>\n",
       "      <td>43</td>\n",
       "    </tr>\n",
       "    <tr>\n",
       "      <th>115</th>\n",
       "      <td>0</td>\n",
       "      <td>161.0</td>\n",
       "      <td>11</td>\n",
       "      <td>1</td>\n",
       "      <td>3</td>\n",
       "      <td>2</td>\n",
       "      <td>0</td>\n",
       "      <td>68.4</td>\n",
       "      <td>56.7</td>\n",
       "      <td>2</td>\n",
       "      <td>120</td>\n",
       "      <td>97.000000</td>\n",
       "      <td>19</td>\n",
       "      <td>24</td>\n",
       "    </tr>\n",
       "    <tr>\n",
       "      <th>117</th>\n",
       "      <td>0</td>\n",
       "      <td>161.0</td>\n",
       "      <td>11</td>\n",
       "      <td>1</td>\n",
       "      <td>3</td>\n",
       "      <td>2</td>\n",
       "      <td>0</td>\n",
       "      <td>68.3</td>\n",
       "      <td>56.0</td>\n",
       "      <td>2</td>\n",
       "      <td>134</td>\n",
       "      <td>142.000000</td>\n",
       "      <td>18</td>\n",
       "      <td>24</td>\n",
       "    </tr>\n",
       "    <tr>\n",
       "      <th>119</th>\n",
       "      <td>1</td>\n",
       "      <td>119.0</td>\n",
       "      <td>12</td>\n",
       "      <td>1</td>\n",
       "      <td>2</td>\n",
       "      <td>1</td>\n",
       "      <td>0</td>\n",
       "      <td>63.8</td>\n",
       "      <td>50.8</td>\n",
       "      <td>3</td>\n",
       "      <td>98</td>\n",
       "      <td>102.000000</td>\n",
       "      <td>24</td>\n",
       "      <td>30</td>\n",
       "    </tr>\n",
       "    <tr>\n",
       "      <th>174</th>\n",
       "      <td>-1</td>\n",
       "      <td>65.0</td>\n",
       "      <td>17</td>\n",
       "      <td>0</td>\n",
       "      <td>3</td>\n",
       "      <td>1</td>\n",
       "      <td>0</td>\n",
       "      <td>66.5</td>\n",
       "      <td>54.9</td>\n",
       "      <td>3</td>\n",
       "      <td>110</td>\n",
       "      <td>73.000000</td>\n",
       "      <td>30</td>\n",
       "      <td>33</td>\n",
       "    </tr>\n",
       "    <tr>\n",
       "      <th>72</th>\n",
       "      <td>3</td>\n",
       "      <td>142.0</td>\n",
       "      <td>8</td>\n",
       "      <td>1</td>\n",
       "      <td>0</td>\n",
       "      <td>2</td>\n",
       "      <td>0</td>\n",
       "      <td>70.5</td>\n",
       "      <td>50.8</td>\n",
       "      <td>5</td>\n",
       "      <td>234</td>\n",
       "      <td>155.000000</td>\n",
       "      <td>16</td>\n",
       "      <td>18</td>\n",
       "    </tr>\n",
       "    <tr>\n",
       "      <th>158</th>\n",
       "      <td>0</td>\n",
       "      <td>91.0</td>\n",
       "      <td>17</td>\n",
       "      <td>0</td>\n",
       "      <td>3</td>\n",
       "      <td>1</td>\n",
       "      <td>0</td>\n",
       "      <td>64.4</td>\n",
       "      <td>53.0</td>\n",
       "      <td>3</td>\n",
       "      <td>110</td>\n",
       "      <td>56.000000</td>\n",
       "      <td>34</td>\n",
       "      <td>36</td>\n",
       "    </tr>\n",
       "    <tr>\n",
       "      <th>34</th>\n",
       "      <td>1</td>\n",
       "      <td>101.0</td>\n",
       "      <td>4</td>\n",
       "      <td>1</td>\n",
       "      <td>2</td>\n",
       "      <td>1</td>\n",
       "      <td>0</td>\n",
       "      <td>64.0</td>\n",
       "      <td>52.6</td>\n",
       "      <td>3</td>\n",
       "      <td>92</td>\n",
       "      <td>76.000000</td>\n",
       "      <td>30</td>\n",
       "      <td>34</td>\n",
       "    </tr>\n",
       "    <tr>\n",
       "      <th>94</th>\n",
       "      <td>1</td>\n",
       "      <td>128.0</td>\n",
       "      <td>10</td>\n",
       "      <td>1</td>\n",
       "      <td>3</td>\n",
       "      <td>1</td>\n",
       "      <td>0</td>\n",
       "      <td>63.8</td>\n",
       "      <td>54.5</td>\n",
       "      <td>3</td>\n",
       "      <td>97</td>\n",
       "      <td>69.000000</td>\n",
       "      <td>31</td>\n",
       "      <td>37</td>\n",
       "    </tr>\n",
       "    <tr>\n",
       "      <th>160</th>\n",
       "      <td>0</td>\n",
       "      <td>91.0</td>\n",
       "      <td>17</td>\n",
       "      <td>1</td>\n",
       "      <td>3</td>\n",
       "      <td>1</td>\n",
       "      <td>0</td>\n",
       "      <td>64.4</td>\n",
       "      <td>53.0</td>\n",
       "      <td>3</td>\n",
       "      <td>98</td>\n",
       "      <td>70.000000</td>\n",
       "      <td>38</td>\n",
       "      <td>47</td>\n",
       "    </tr>\n",
       "    <tr>\n",
       "      <th>199</th>\n",
       "      <td>-1</td>\n",
       "      <td>74.0</td>\n",
       "      <td>19</td>\n",
       "      <td>1</td>\n",
       "      <td>4</td>\n",
       "      <td>2</td>\n",
       "      <td>0</td>\n",
       "      <td>67.2</td>\n",
       "      <td>57.5</td>\n",
       "      <td>3</td>\n",
       "      <td>130</td>\n",
       "      <td>162.000000</td>\n",
       "      <td>17</td>\n",
       "      <td>22</td>\n",
       "    </tr>\n",
       "    <tr>\n",
       "      <th>110</th>\n",
       "      <td>0</td>\n",
       "      <td>115.0</td>\n",
       "      <td>11</td>\n",
       "      <td>0</td>\n",
       "      <td>4</td>\n",
       "      <td>2</td>\n",
       "      <td>0</td>\n",
       "      <td>68.4</td>\n",
       "      <td>58.7</td>\n",
       "      <td>2</td>\n",
       "      <td>152</td>\n",
       "      <td>95.000000</td>\n",
       "      <td>25</td>\n",
       "      <td>25</td>\n",
       "    </tr>\n",
       "    <tr>\n",
       "      <th>112</th>\n",
       "      <td>0</td>\n",
       "      <td>161.0</td>\n",
       "      <td>11</td>\n",
       "      <td>0</td>\n",
       "      <td>3</td>\n",
       "      <td>2</td>\n",
       "      <td>0</td>\n",
       "      <td>68.4</td>\n",
       "      <td>56.7</td>\n",
       "      <td>2</td>\n",
       "      <td>152</td>\n",
       "      <td>95.000000</td>\n",
       "      <td>28</td>\n",
       "      <td>33</td>\n",
       "    </tr>\n",
       "    <tr>\n",
       "      <th>44</th>\n",
       "      <td>1</td>\n",
       "      <td>115.0</td>\n",
       "      <td>5</td>\n",
       "      <td>1</td>\n",
       "      <td>3</td>\n",
       "      <td>1</td>\n",
       "      <td>0</td>\n",
       "      <td>63.6</td>\n",
       "      <td>52.0</td>\n",
       "      <td>3</td>\n",
       "      <td>90</td>\n",
       "      <td>70.000000</td>\n",
       "      <td>38</td>\n",
       "      <td>43</td>\n",
       "    </tr>\n",
       "    <tr>\n",
       "      <th>17</th>\n",
       "      <td>0</td>\n",
       "      <td>115.0</td>\n",
       "      <td>1</td>\n",
       "      <td>1</td>\n",
       "      <td>3</td>\n",
       "      <td>2</td>\n",
       "      <td>0</td>\n",
       "      <td>70.9</td>\n",
       "      <td>56.3</td>\n",
       "      <td>3</td>\n",
       "      <td>209</td>\n",
       "      <td>182.000000</td>\n",
       "      <td>15</td>\n",
       "      <td>20</td>\n",
       "    </tr>\n",
       "    <tr>\n",
       "      <th>5</th>\n",
       "      <td>2</td>\n",
       "      <td>115.0</td>\n",
       "      <td>0</td>\n",
       "      <td>1</td>\n",
       "      <td>3</td>\n",
       "      <td>1</td>\n",
       "      <td>0</td>\n",
       "      <td>66.3</td>\n",
       "      <td>53.1</td>\n",
       "      <td>3</td>\n",
       "      <td>136</td>\n",
       "      <td>110.000000</td>\n",
       "      <td>19</td>\n",
       "      <td>25</td>\n",
       "    </tr>\n",
       "    <tr>\n",
       "      <th>122</th>\n",
       "      <td>1</td>\n",
       "      <td>154.0</td>\n",
       "      <td>12</td>\n",
       "      <td>1</td>\n",
       "      <td>3</td>\n",
       "      <td>1</td>\n",
       "      <td>0</td>\n",
       "      <td>63.8</td>\n",
       "      <td>50.8</td>\n",
       "      <td>3</td>\n",
       "      <td>98</td>\n",
       "      <td>68.000000</td>\n",
       "      <td>31</td>\n",
       "      <td>38</td>\n",
       "    </tr>\n",
       "    <tr>\n",
       "      <th>193</th>\n",
       "      <td>0</td>\n",
       "      <td>115.0</td>\n",
       "      <td>18</td>\n",
       "      <td>1</td>\n",
       "      <td>4</td>\n",
       "      <td>1</td>\n",
       "      <td>0</td>\n",
       "      <td>66.9</td>\n",
       "      <td>55.1</td>\n",
       "      <td>3</td>\n",
       "      <td>109</td>\n",
       "      <td>88.000000</td>\n",
       "      <td>25</td>\n",
       "      <td>31</td>\n",
       "    </tr>\n",
       "    <tr>\n",
       "      <th>51</th>\n",
       "      <td>1</td>\n",
       "      <td>104.0</td>\n",
       "      <td>7</td>\n",
       "      <td>1</td>\n",
       "      <td>2</td>\n",
       "      <td>1</td>\n",
       "      <td>0</td>\n",
       "      <td>64.2</td>\n",
       "      <td>54.1</td>\n",
       "      <td>3</td>\n",
       "      <td>91</td>\n",
       "      <td>68.000000</td>\n",
       "      <td>31</td>\n",
       "      <td>38</td>\n",
       "    </tr>\n",
       "    <tr>\n",
       "      <th>40</th>\n",
       "      <td>0</td>\n",
       "      <td>85.0</td>\n",
       "      <td>4</td>\n",
       "      <td>1</td>\n",
       "      <td>3</td>\n",
       "      <td>1</td>\n",
       "      <td>0</td>\n",
       "      <td>62.5</td>\n",
       "      <td>54.1</td>\n",
       "      <td>3</td>\n",
       "      <td>110</td>\n",
       "      <td>86.000000</td>\n",
       "      <td>27</td>\n",
       "      <td>33</td>\n",
       "    </tr>\n",
       "    <tr>\n",
       "      <th>121</th>\n",
       "      <td>1</td>\n",
       "      <td>154.0</td>\n",
       "      <td>12</td>\n",
       "      <td>1</td>\n",
       "      <td>3</td>\n",
       "      <td>1</td>\n",
       "      <td>0</td>\n",
       "      <td>63.8</td>\n",
       "      <td>50.8</td>\n",
       "      <td>3</td>\n",
       "      <td>90</td>\n",
       "      <td>68.000000</td>\n",
       "      <td>31</td>\n",
       "      <td>38</td>\n",
       "    </tr>\n",
       "    <tr>\n",
       "      <th>69</th>\n",
       "      <td>0</td>\n",
       "      <td>93.0</td>\n",
       "      <td>8</td>\n",
       "      <td>0</td>\n",
       "      <td>1</td>\n",
       "      <td>2</td>\n",
       "      <td>0</td>\n",
       "      <td>70.3</td>\n",
       "      <td>54.9</td>\n",
       "      <td>3</td>\n",
       "      <td>183</td>\n",
       "      <td>123.000000</td>\n",
       "      <td>22</td>\n",
       "      <td>25</td>\n",
       "    </tr>\n",
       "  </tbody>\n",
       "</table>\n",
       "</div>"
      ],
      "text/plain": [
       "     symboling  normalized-losses  make  fuel-type  body-style  drive-wheels   \n",
       "47           0              145.0     6          1           3             2  \\\n",
       "183          2              122.0    18          1           3             1   \n",
       "169          2              134.0    17          1           2             2   \n",
       "36           0               78.0     4          1           4             1   \n",
       "142          0              102.0    16          1           3             1   \n",
       "11           0              192.0     1          1           3             2   \n",
       "129          1              115.0    13          1           2             2   \n",
       "87           1              125.0     9          1           3             1   \n",
       "186          2               94.0    18          1           3             1   \n",
       "107          0              161.0    11          1           3             2   \n",
       "185          2               94.0    18          1           3             1   \n",
       "191          0              115.0    18          1           3             1   \n",
       "30           2              137.0     4          1           2             1   \n",
       "16           0              115.0     1          1           3             2   \n",
       "149          0               85.0    16          1           4             0   \n",
       "173         -1               65.0    17          1           3             1   \n",
       "28          -1              110.0     3          1           4             1   \n",
       "54           1              113.0     7          1           3             1   \n",
       "32           1              101.0     4          1           2             1   \n",
       "128          3              115.0    13          1           0             2   \n",
       "50           1              104.0     7          1           2             1   \n",
       "4            2              164.0     0          1           3             0   \n",
       "103          0              108.0    10          1           3             1   \n",
       "59           1              129.0     7          1           2             1   \n",
       "81           3              153.0     9          1           2             1   \n",
       "61           1              129.0     7          1           2             1   \n",
       "138          2               83.0    16          1           2             1   \n",
       "130          0              115.0    14          1           4             1   \n",
       "56           3              150.0     7          1           2             2   \n",
       "133          2              104.0    15          1           3             1   \n",
       "70          -1               93.0     8          0           3             2   \n",
       "126          3              115.0    13          1           1             2   \n",
       "62           0              115.0     7          1           3             1   \n",
       "102          0              108.0    10          1           4             1   \n",
       "198         -2              103.0    19          1           3             2   \n",
       "14           1              115.0     1          1           3             2   \n",
       "42           1              107.0     4          1           3             1   \n",
       "19           1               98.0     2          1           2             1   \n",
       "115          0              161.0    11          1           3             2   \n",
       "117          0              161.0    11          1           3             2   \n",
       "119          1              119.0    12          1           2             1   \n",
       "174         -1               65.0    17          0           3             1   \n",
       "72           3              142.0     8          1           0             2   \n",
       "158          0               91.0    17          0           3             1   \n",
       "34           1              101.0     4          1           2             1   \n",
       "94           1              128.0    10          1           3             1   \n",
       "160          0               91.0    17          1           3             1   \n",
       "199         -1               74.0    19          1           4             2   \n",
       "110          0              115.0    11          0           4             2   \n",
       "112          0              161.0    11          0           3             2   \n",
       "44           1              115.0     5          1           3             1   \n",
       "17           0              115.0     1          1           3             2   \n",
       "5            2              115.0     0          1           3             1   \n",
       "122          1              154.0    12          1           3             1   \n",
       "193          0              115.0    18          1           4             1   \n",
       "51           1              104.0     7          1           2             1   \n",
       "40           0               85.0     4          1           3             1   \n",
       "121          1              154.0    12          1           3             1   \n",
       "69           0               93.0     8          0           1             2   \n",
       "\n",
       "     engine-location  width  height  engine-type  engine-size  horsepower   \n",
       "47                 0   69.6    52.8            0          258  176.000000  \\\n",
       "183                0   65.5    55.7            3          109   85.000000   \n",
       "169                0   65.6    52.0            3          146  116.000000   \n",
       "36                 0   63.9    58.3            3           92   76.000000   \n",
       "142                0   65.4    52.5            4          108   82.000000   \n",
       "11                 0   64.8    54.3            3          108  101.000000   \n",
       "129                0   72.3    50.5            1          203  288.000000   \n",
       "87                 0   65.4    51.6            3          110  116.000000   \n",
       "186                0   65.5    55.7            3          109   85.000000   \n",
       "107                0   68.4    56.7            2          120   97.000000   \n",
       "185                0   65.5    55.7            3          109   85.000000   \n",
       "191                0   66.9    55.1            3          136  110.000000   \n",
       "30                 0   63.9    50.8            3           92   58.000000   \n",
       "16                 0   67.9    53.7            3          209  182.000000   \n",
       "149                0   65.4    54.9            4          108  111.000000   \n",
       "173                0   66.5    54.9            3          122   92.000000   \n",
       "28                 0   64.6    59.8            3          122   88.000000   \n",
       "54                 0   64.2    54.1            3           91   68.000000   \n",
       "32                 0   64.0    52.6            3           79   60.000000   \n",
       "128                1   65.0    51.6            4          194  207.000000   \n",
       "50                 0   64.2    54.1            3           91   68.000000   \n",
       "4                  0   66.4    54.3            3          136  115.000000   \n",
       "103                0   66.5    55.1            5          181  152.000000   \n",
       "59                 0   66.5    53.7            3          122   84.000000   \n",
       "81                 0   65.4    49.4            3          122   88.000000   \n",
       "61                 0   66.5    53.7            3          122   84.000000   \n",
       "138                0   63.4    53.7            4           97   69.000000   \n",
       "130                0   66.5    55.2            3          132  104.256158   \n",
       "56                 0   65.7    49.6            6           70  101.000000   \n",
       "133                0   66.5    56.1            3          121  110.000000   \n",
       "70                 0   71.7    56.3            3          183  123.000000   \n",
       "126                1   65.0    51.6            4          194  207.000000   \n",
       "62                 0   66.5    55.5            3          122   84.000000   \n",
       "102                0   66.5    56.1            5          181  152.000000   \n",
       "198                0   67.2    56.2            3          130  162.000000   \n",
       "14                 0   66.9    55.7            3          164  121.000000   \n",
       "42                 0   66.0    51.0            3          110  100.000000   \n",
       "19                 0   63.6    52.0            3           90   70.000000   \n",
       "115                0   68.4    56.7            2          120   97.000000   \n",
       "117                0   68.3    56.0            2          134  142.000000   \n",
       "119                0   63.8    50.8            3           98  102.000000   \n",
       "174                0   66.5    54.9            3          110   73.000000   \n",
       "72                 0   70.5    50.8            5          234  155.000000   \n",
       "158                0   64.4    53.0            3          110   56.000000   \n",
       "34                 0   64.0    52.6            3           92   76.000000   \n",
       "94                 0   63.8    54.5            3           97   69.000000   \n",
       "160                0   64.4    53.0            3           98   70.000000   \n",
       "199                0   67.2    57.5            3          130  162.000000   \n",
       "110                0   68.4    58.7            2          152   95.000000   \n",
       "112                0   68.4    56.7            2          152   95.000000   \n",
       "44                 0   63.6    52.0            3           90   70.000000   \n",
       "17                 0   70.9    56.3            3          209  182.000000   \n",
       "5                  0   66.3    53.1            3          136  110.000000   \n",
       "122                0   63.8    50.8            3           98   68.000000   \n",
       "193                0   66.9    55.1            3          109   88.000000   \n",
       "51                 0   64.2    54.1            3           91   68.000000   \n",
       "40                 0   62.5    54.1            3          110   86.000000   \n",
       "121                0   63.8    50.8            3           90   68.000000   \n",
       "69                 0   70.3    54.9            3          183  123.000000   \n",
       "\n",
       "     city-mpg  highway-mpg  \n",
       "47         15           19  \n",
       "183        27           34  \n",
       "169        24           30  \n",
       "36         30           34  \n",
       "142        28           33  \n",
       "11         23           29  \n",
       "129        17           28  \n",
       "87         23           30  \n",
       "186        27           34  \n",
       "107        19           24  \n",
       "185        27           34  \n",
       "191        19           24  \n",
       "30         49           54  \n",
       "16         16           22  \n",
       "149        23           23  \n",
       "173        29           34  \n",
       "28         24           30  \n",
       "54         31           38  \n",
       "32         38           42  \n",
       "128        17           25  \n",
       "50         30           31  \n",
       "4          18           22  \n",
       "103        19           25  \n",
       "59         26           32  \n",
       "81         25           32  \n",
       "61         26           32  \n",
       "138        31           36  \n",
       "130        23           31  \n",
       "56         17           23  \n",
       "133        21           28  \n",
       "70         22           25  \n",
       "126        17           25  \n",
       "62         26           32  \n",
       "102        17           22  \n",
       "198        17           22  \n",
       "14         20           25  \n",
       "42         25           31  \n",
       "19         38           43  \n",
       "115        19           24  \n",
       "117        18           24  \n",
       "119        24           30  \n",
       "174        30           33  \n",
       "72         16           18  \n",
       "158        34           36  \n",
       "34         30           34  \n",
       "94         31           37  \n",
       "160        38           47  \n",
       "199        17           22  \n",
       "110        25           25  \n",
       "112        28           33  \n",
       "44         38           43  \n",
       "17         15           20  \n",
       "5          19           25  \n",
       "122        31           38  \n",
       "193        25           31  \n",
       "51         31           38  \n",
       "40         27           33  \n",
       "121        31           38  \n",
       "69         22           25  "
      ]
     },
     "execution_count": 56,
     "metadata": {},
     "output_type": "execute_result"
    }
   ],
   "source": [
    "xtest"
   ]
  },
  {
   "cell_type": "code",
   "execution_count": 57,
   "id": "fccbde32",
   "metadata": {},
   "outputs": [
    {
     "data": {
      "text/html": [
       "<style>#sk-container-id-1 {color: black;background-color: white;}#sk-container-id-1 pre{padding: 0;}#sk-container-id-1 div.sk-toggleable {background-color: white;}#sk-container-id-1 label.sk-toggleable__label {cursor: pointer;display: block;width: 100%;margin-bottom: 0;padding: 0.3em;box-sizing: border-box;text-align: center;}#sk-container-id-1 label.sk-toggleable__label-arrow:before {content: \"▸\";float: left;margin-right: 0.25em;color: #696969;}#sk-container-id-1 label.sk-toggleable__label-arrow:hover:before {color: black;}#sk-container-id-1 div.sk-estimator:hover label.sk-toggleable__label-arrow:before {color: black;}#sk-container-id-1 div.sk-toggleable__content {max-height: 0;max-width: 0;overflow: hidden;text-align: left;background-color: #f0f8ff;}#sk-container-id-1 div.sk-toggleable__content pre {margin: 0.2em;color: black;border-radius: 0.25em;background-color: #f0f8ff;}#sk-container-id-1 input.sk-toggleable__control:checked~div.sk-toggleable__content {max-height: 200px;max-width: 100%;overflow: auto;}#sk-container-id-1 input.sk-toggleable__control:checked~label.sk-toggleable__label-arrow:before {content: \"▾\";}#sk-container-id-1 div.sk-estimator input.sk-toggleable__control:checked~label.sk-toggleable__label {background-color: #d4ebff;}#sk-container-id-1 div.sk-label input.sk-toggleable__control:checked~label.sk-toggleable__label {background-color: #d4ebff;}#sk-container-id-1 input.sk-hidden--visually {border: 0;clip: rect(1px 1px 1px 1px);clip: rect(1px, 1px, 1px, 1px);height: 1px;margin: -1px;overflow: hidden;padding: 0;position: absolute;width: 1px;}#sk-container-id-1 div.sk-estimator {font-family: monospace;background-color: #f0f8ff;border: 1px dotted black;border-radius: 0.25em;box-sizing: border-box;margin-bottom: 0.5em;}#sk-container-id-1 div.sk-estimator:hover {background-color: #d4ebff;}#sk-container-id-1 div.sk-parallel-item::after {content: \"\";width: 100%;border-bottom: 1px solid gray;flex-grow: 1;}#sk-container-id-1 div.sk-label:hover label.sk-toggleable__label {background-color: #d4ebff;}#sk-container-id-1 div.sk-serial::before {content: \"\";position: absolute;border-left: 1px solid gray;box-sizing: border-box;top: 0;bottom: 0;left: 50%;z-index: 0;}#sk-container-id-1 div.sk-serial {display: flex;flex-direction: column;align-items: center;background-color: white;padding-right: 0.2em;padding-left: 0.2em;position: relative;}#sk-container-id-1 div.sk-item {position: relative;z-index: 1;}#sk-container-id-1 div.sk-parallel {display: flex;align-items: stretch;justify-content: center;background-color: white;position: relative;}#sk-container-id-1 div.sk-item::before, #sk-container-id-1 div.sk-parallel-item::before {content: \"\";position: absolute;border-left: 1px solid gray;box-sizing: border-box;top: 0;bottom: 0;left: 50%;z-index: -1;}#sk-container-id-1 div.sk-parallel-item {display: flex;flex-direction: column;z-index: 1;position: relative;background-color: white;}#sk-container-id-1 div.sk-parallel-item:first-child::after {align-self: flex-end;width: 50%;}#sk-container-id-1 div.sk-parallel-item:last-child::after {align-self: flex-start;width: 50%;}#sk-container-id-1 div.sk-parallel-item:only-child::after {width: 0;}#sk-container-id-1 div.sk-dashed-wrapped {border: 1px dashed gray;margin: 0 0.4em 0.5em 0.4em;box-sizing: border-box;padding-bottom: 0.4em;background-color: white;}#sk-container-id-1 div.sk-label label {font-family: monospace;font-weight: bold;display: inline-block;line-height: 1.2em;}#sk-container-id-1 div.sk-label-container {text-align: center;}#sk-container-id-1 div.sk-container {/* jupyter's `normalize.less` sets `[hidden] { display: none; }` but bootstrap.min.css set `[hidden] { display: none !important; }` so we also need the `!important` here to be able to override the default hidden behavior on the sphinx rendered scikit-learn.org. See: https://github.com/scikit-learn/scikit-learn/issues/21755 */display: inline-block !important;position: relative;}#sk-container-id-1 div.sk-text-repr-fallback {display: none;}</style><div id=\"sk-container-id-1\" class=\"sk-top-container\"><div class=\"sk-text-repr-fallback\"><pre>LinearRegression()</pre><b>In a Jupyter environment, please rerun this cell to show the HTML representation or trust the notebook. <br />On GitHub, the HTML representation is unable to render, please try loading this page with nbviewer.org.</b></div><div class=\"sk-container\" hidden><div class=\"sk-item\"><div class=\"sk-estimator sk-toggleable\"><input class=\"sk-toggleable__control sk-hidden--visually\" id=\"sk-estimator-id-1\" type=\"checkbox\" checked><label for=\"sk-estimator-id-1\" class=\"sk-toggleable__label sk-toggleable__label-arrow\">LinearRegression</label><div class=\"sk-toggleable__content\"><pre>LinearRegression()</pre></div></div></div></div></div>"
      ],
      "text/plain": [
       "LinearRegression()"
      ]
     },
     "execution_count": 57,
     "metadata": {},
     "output_type": "execute_result"
    }
   ],
   "source": [
    "#Linear Regression model\n",
    "lr=LinearRegression()\n",
    "lr.fit(xtrain,ytrain)"
   ]
  },
  {
   "cell_type": "code",
   "execution_count": 58,
   "id": "c406c5bb",
   "metadata": {},
   "outputs": [
    {
     "data": {
      "text/plain": [
       "0.8951173399850283"
      ]
     },
     "execution_count": 58,
     "metadata": {},
     "output_type": "execute_result"
    }
   ],
   "source": [
    "#testing model on training data\n",
    "from sklearn.metrics import r2_score\n",
    "y_pred=lr.predict(xtrain)\n",
    "r2_score(ytrain,y_pred)"
   ]
  },
  {
   "cell_type": "code",
   "execution_count": 59,
   "id": "d24c7928",
   "metadata": {},
   "outputs": [
    {
     "data": {
      "text/plain": [
       "0.7942432903464473"
      ]
     },
     "execution_count": 59,
     "metadata": {},
     "output_type": "execute_result"
    }
   ],
   "source": [
    "#testing model on testing data\n",
    "from sklearn.metrics import r2_score\n",
    "y_pred=lr.predict(xtest)\n",
    "r2_score(ytest,y_pred)"
   ]
  },
  {
   "cell_type": "code",
   "execution_count": 60,
   "id": "5481beb1",
   "metadata": {},
   "outputs": [],
   "source": [
    "#Regularization\n",
    "from sklearn.linear_model import Lasso, Ridge"
   ]
  },
  {
   "cell_type": "code",
   "execution_count": 61,
   "id": "164f146b",
   "metadata": {},
   "outputs": [
    {
     "data": {
      "text/html": [
       "<style>#sk-container-id-2 {color: black;background-color: white;}#sk-container-id-2 pre{padding: 0;}#sk-container-id-2 div.sk-toggleable {background-color: white;}#sk-container-id-2 label.sk-toggleable__label {cursor: pointer;display: block;width: 100%;margin-bottom: 0;padding: 0.3em;box-sizing: border-box;text-align: center;}#sk-container-id-2 label.sk-toggleable__label-arrow:before {content: \"▸\";float: left;margin-right: 0.25em;color: #696969;}#sk-container-id-2 label.sk-toggleable__label-arrow:hover:before {color: black;}#sk-container-id-2 div.sk-estimator:hover label.sk-toggleable__label-arrow:before {color: black;}#sk-container-id-2 div.sk-toggleable__content {max-height: 0;max-width: 0;overflow: hidden;text-align: left;background-color: #f0f8ff;}#sk-container-id-2 div.sk-toggleable__content pre {margin: 0.2em;color: black;border-radius: 0.25em;background-color: #f0f8ff;}#sk-container-id-2 input.sk-toggleable__control:checked~div.sk-toggleable__content {max-height: 200px;max-width: 100%;overflow: auto;}#sk-container-id-2 input.sk-toggleable__control:checked~label.sk-toggleable__label-arrow:before {content: \"▾\";}#sk-container-id-2 div.sk-estimator input.sk-toggleable__control:checked~label.sk-toggleable__label {background-color: #d4ebff;}#sk-container-id-2 div.sk-label input.sk-toggleable__control:checked~label.sk-toggleable__label {background-color: #d4ebff;}#sk-container-id-2 input.sk-hidden--visually {border: 0;clip: rect(1px 1px 1px 1px);clip: rect(1px, 1px, 1px, 1px);height: 1px;margin: -1px;overflow: hidden;padding: 0;position: absolute;width: 1px;}#sk-container-id-2 div.sk-estimator {font-family: monospace;background-color: #f0f8ff;border: 1px dotted black;border-radius: 0.25em;box-sizing: border-box;margin-bottom: 0.5em;}#sk-container-id-2 div.sk-estimator:hover {background-color: #d4ebff;}#sk-container-id-2 div.sk-parallel-item::after {content: \"\";width: 100%;border-bottom: 1px solid gray;flex-grow: 1;}#sk-container-id-2 div.sk-label:hover label.sk-toggleable__label {background-color: #d4ebff;}#sk-container-id-2 div.sk-serial::before {content: \"\";position: absolute;border-left: 1px solid gray;box-sizing: border-box;top: 0;bottom: 0;left: 50%;z-index: 0;}#sk-container-id-2 div.sk-serial {display: flex;flex-direction: column;align-items: center;background-color: white;padding-right: 0.2em;padding-left: 0.2em;position: relative;}#sk-container-id-2 div.sk-item {position: relative;z-index: 1;}#sk-container-id-2 div.sk-parallel {display: flex;align-items: stretch;justify-content: center;background-color: white;position: relative;}#sk-container-id-2 div.sk-item::before, #sk-container-id-2 div.sk-parallel-item::before {content: \"\";position: absolute;border-left: 1px solid gray;box-sizing: border-box;top: 0;bottom: 0;left: 50%;z-index: -1;}#sk-container-id-2 div.sk-parallel-item {display: flex;flex-direction: column;z-index: 1;position: relative;background-color: white;}#sk-container-id-2 div.sk-parallel-item:first-child::after {align-self: flex-end;width: 50%;}#sk-container-id-2 div.sk-parallel-item:last-child::after {align-self: flex-start;width: 50%;}#sk-container-id-2 div.sk-parallel-item:only-child::after {width: 0;}#sk-container-id-2 div.sk-dashed-wrapped {border: 1px dashed gray;margin: 0 0.4em 0.5em 0.4em;box-sizing: border-box;padding-bottom: 0.4em;background-color: white;}#sk-container-id-2 div.sk-label label {font-family: monospace;font-weight: bold;display: inline-block;line-height: 1.2em;}#sk-container-id-2 div.sk-label-container {text-align: center;}#sk-container-id-2 div.sk-container {/* jupyter's `normalize.less` sets `[hidden] { display: none; }` but bootstrap.min.css set `[hidden] { display: none !important; }` so we also need the `!important` here to be able to override the default hidden behavior on the sphinx rendered scikit-learn.org. See: https://github.com/scikit-learn/scikit-learn/issues/21755 */display: inline-block !important;position: relative;}#sk-container-id-2 div.sk-text-repr-fallback {display: none;}</style><div id=\"sk-container-id-2\" class=\"sk-top-container\"><div class=\"sk-text-repr-fallback\"><pre>Ridge(alpha=0.01)</pre><b>In a Jupyter environment, please rerun this cell to show the HTML representation or trust the notebook. <br />On GitHub, the HTML representation is unable to render, please try loading this page with nbviewer.org.</b></div><div class=\"sk-container\" hidden><div class=\"sk-item\"><div class=\"sk-estimator sk-toggleable\"><input class=\"sk-toggleable__control sk-hidden--visually\" id=\"sk-estimator-id-2\" type=\"checkbox\" checked><label for=\"sk-estimator-id-2\" class=\"sk-toggleable__label sk-toggleable__label-arrow\">Ridge</label><div class=\"sk-toggleable__content\"><pre>Ridge(alpha=0.01)</pre></div></div></div></div></div>"
      ],
      "text/plain": [
       "Ridge(alpha=0.01)"
      ]
     },
     "execution_count": 61,
     "metadata": {},
     "output_type": "execute_result"
    }
   ],
   "source": [
    "#ridge Regularization\n",
    "l2=Ridge(0.01) #model of ridge\n",
    "l2.fit(xtrain,ytrain) #training model"
   ]
  },
  {
   "cell_type": "code",
   "execution_count": 62,
   "id": "6fd1e3d2",
   "metadata": {},
   "outputs": [
    {
     "data": {
      "text/plain": [
       "0.7940588079305919"
      ]
     },
     "execution_count": 62,
     "metadata": {},
     "output_type": "execute_result"
    }
   ],
   "source": [
    "#testing model\n",
    "l2.score(xtest,ytest)"
   ]
  },
  {
   "cell_type": "code",
   "execution_count": 63,
   "id": "d4b5f0e2",
   "metadata": {},
   "outputs": [
    {
     "data": {
      "text/plain": [
       "array([ 4.53043848e+02, -2.47531278e+00, -1.34250354e+02, -1.38720492e+03,\n",
       "        1.29530111e+01,  1.55702190e+03,  1.21584538e+04,  6.98915248e+02,\n",
       "        4.10217957e+02,  1.02720810e+02,  8.64821139e+01,  2.15414604e+01,\n",
       "        7.24584341e+01, -1.89747380e+02])"
      ]
     },
     "execution_count": 63,
     "metadata": {},
     "output_type": "execute_result"
    }
   ],
   "source": [
    "l2.coef_"
   ]
  },
  {
   "cell_type": "code",
   "execution_count": 64,
   "id": "ea107a72",
   "metadata": {},
   "outputs": [
    {
     "name": "stdout",
     "output_type": "stream",
     "text": [
      "Alpha 1\n",
      "Test score: 0.7729397609054283\n",
      "-------------------------\n",
      "Alpha 2\n",
      "Test score: 0.7615629503395582\n",
      "-------------------------\n",
      "Alpha 3\n",
      "Test score: 0.7550362204678325\n",
      "-------------------------\n",
      "Alpha 4\n",
      "Test score: 0.7507231967535227\n",
      "-------------------------\n",
      "Alpha 5\n",
      "Test score: 0.7475979997310718\n",
      "-------------------------\n",
      "Alpha 6\n",
      "Test score: 0.7451883443175387\n",
      "-------------------------\n",
      "Alpha 7\n",
      "Test score: 0.7432469263034722\n",
      "-------------------------\n",
      "Alpha 8\n",
      "Test score: 0.7416313703975997\n",
      "-------------------------\n",
      "Alpha 9\n",
      "Test score: 0.7402536018715136\n",
      "-------------------------\n"
     ]
    }
   ],
   "source": [
    "#Inducing different value of error to l2 model\n",
    "for alpha in range(1,10):\n",
    "    l2=Ridge(alpha)\n",
    "    l2.fit(xtrain,ytrain)\n",
    "    test_score=l2.score(xtest,ytest)\n",
    "    print('Alpha',alpha)\n",
    "    print('Test score:',test_score)\n",
    "    print('-------------------------')"
   ]
  },
  {
   "cell_type": "code",
   "execution_count": 65,
   "id": "621df342",
   "metadata": {},
   "outputs": [
    {
     "data": {
      "text/plain": [
       "'\\nafter an alpha value of 2, we can observe that there is a small change in the r2 score,\\ntherefore ridge with alpha=2 is a good model with an r2 score of 81%\\n'"
      ]
     },
     "execution_count": 65,
     "metadata": {},
     "output_type": "execute_result"
    }
   ],
   "source": [
    "'''\n",
    "after an alpha value of 2, we can observe that there is a small change in the r2 score,\n",
    "therefore ridge with alpha=2 is a good model with an r2 score of 81%\n",
    "'''"
   ]
  },
  {
   "cell_type": "code",
   "execution_count": 66,
   "id": "362f56fc",
   "metadata": {},
   "outputs": [
    {
     "name": "stdout",
     "output_type": "stream",
     "text": [
      "Alpha: 100\n",
      "test score: 0.7240766873762506\n",
      "------------------------\n",
      "Alpha: 110\n",
      "test score: 0.7226163662528552\n",
      "------------------------\n",
      "Alpha: 120\n",
      "test score: 0.7219888511701633\n",
      "------------------------\n",
      "Alpha: 130\n",
      "test score: 0.7214728734827759\n",
      "------------------------\n",
      "Alpha: 140\n",
      "test score: 0.7209390596836065\n",
      "------------------------\n",
      "Alpha: 150\n",
      "test score: 0.7203909611247281\n",
      "------------------------\n"
     ]
    }
   ],
   "source": [
    "#Lasso\n",
    "for alpha in range(100,151,10):\n",
    "    l1=Lasso(alpha)\n",
    "    l1.fit(xtrain,ytrain)\n",
    "    test_score=l1.score(xtest,ytest)\n",
    "    print('Alpha:',alpha)\n",
    "    print('test score:',test_score)\n",
    "    print('------------------------')"
   ]
  },
  {
   "cell_type": "code",
   "execution_count": 67,
   "id": "5fcb9866",
   "metadata": {},
   "outputs": [
    {
     "data": {
      "text/plain": [
       "array([  509.02975589,    -4.79604863,  -128.36881238, -1314.68667258,\n",
       "         -53.05538643,  1563.3077934 ,  3532.32817869,   601.37227171,\n",
       "         460.33790678,   149.33274681,    86.64828083,    34.71556277,\n",
       "          34.7584407 ,  -125.1786658 ])"
      ]
     },
     "execution_count": 67,
     "metadata": {},
     "output_type": "execute_result"
    }
   ],
   "source": [
    "#Final ridge model\n",
    "l2=Ridge(2)\n",
    "l2.fit(xtrain,ytrain)\n",
    "l2.coef_"
   ]
  },
  {
   "cell_type": "code",
   "execution_count": 68,
   "id": "a0e73825",
   "metadata": {},
   "outputs": [
    {
     "data": {
      "text/plain": [
       "array([ -56.22456715,  -15.59300707, -260.03366556,   -0.        ,\n",
       "        -12.18119776, 3802.96150211, 6233.91787197,    0.        ,\n",
       "        -27.41704932,  720.89322855,  138.49876083,  -14.76125157,\n",
       "         91.15020871, -314.37555839])"
      ]
     },
     "execution_count": 68,
     "metadata": {},
     "output_type": "execute_result"
    }
   ],
   "source": [
    "#Final lasso model\n",
    "l1=Lasso(130)\n",
    "l1.fit(xtest,ytest)\n",
    "l1.coef_"
   ]
  },
  {
   "cell_type": "markdown",
   "id": "5a8f21ee",
   "metadata": {},
   "source": [
    "# Cross Validation"
   ]
  },
  {
   "cell_type": "code",
   "execution_count": 69,
   "id": "958b87c7",
   "metadata": {},
   "outputs": [],
   "source": [
    "from sklearn.model_selection import cross_val_score"
   ]
  },
  {
   "cell_type": "code",
   "execution_count": 70,
   "id": "a187df02",
   "metadata": {},
   "outputs": [],
   "source": [
    "#Encoding features\n",
    "catcol=X.select_dtypes(object).columns\n",
    "\n",
    "for col in catcol:\n",
    "    le=LabelEncoder()\n",
    "    X[col]=le.fit_transform(X[col])"
   ]
  },
  {
   "cell_type": "code",
   "execution_count": 71,
   "id": "c00f3f65",
   "metadata": {},
   "outputs": [
    {
     "data": {
      "text/html": [
       "<div>\n",
       "<style scoped>\n",
       "    .dataframe tbody tr th:only-of-type {\n",
       "        vertical-align: middle;\n",
       "    }\n",
       "\n",
       "    .dataframe tbody tr th {\n",
       "        vertical-align: top;\n",
       "    }\n",
       "\n",
       "    .dataframe thead th {\n",
       "        text-align: right;\n",
       "    }\n",
       "</style>\n",
       "<table border=\"1\" class=\"dataframe\">\n",
       "  <thead>\n",
       "    <tr style=\"text-align: right;\">\n",
       "      <th></th>\n",
       "      <th>symboling</th>\n",
       "      <th>normalized-losses</th>\n",
       "      <th>make</th>\n",
       "      <th>fuel-type</th>\n",
       "      <th>body-style</th>\n",
       "      <th>drive-wheels</th>\n",
       "      <th>engine-location</th>\n",
       "      <th>width</th>\n",
       "      <th>height</th>\n",
       "      <th>engine-type</th>\n",
       "      <th>engine-size</th>\n",
       "      <th>horsepower</th>\n",
       "      <th>city-mpg</th>\n",
       "      <th>highway-mpg</th>\n",
       "    </tr>\n",
       "  </thead>\n",
       "  <tbody>\n",
       "    <tr>\n",
       "      <th>0</th>\n",
       "      <td>3</td>\n",
       "      <td>115.0</td>\n",
       "      <td>0</td>\n",
       "      <td>1</td>\n",
       "      <td>0</td>\n",
       "      <td>2</td>\n",
       "      <td>0</td>\n",
       "      <td>64.1</td>\n",
       "      <td>48.8</td>\n",
       "      <td>0</td>\n",
       "      <td>130</td>\n",
       "      <td>111.0</td>\n",
       "      <td>21</td>\n",
       "      <td>27</td>\n",
       "    </tr>\n",
       "    <tr>\n",
       "      <th>1</th>\n",
       "      <td>3</td>\n",
       "      <td>115.0</td>\n",
       "      <td>0</td>\n",
       "      <td>1</td>\n",
       "      <td>0</td>\n",
       "      <td>2</td>\n",
       "      <td>0</td>\n",
       "      <td>64.1</td>\n",
       "      <td>48.8</td>\n",
       "      <td>0</td>\n",
       "      <td>130</td>\n",
       "      <td>111.0</td>\n",
       "      <td>21</td>\n",
       "      <td>27</td>\n",
       "    </tr>\n",
       "    <tr>\n",
       "      <th>2</th>\n",
       "      <td>1</td>\n",
       "      <td>115.0</td>\n",
       "      <td>0</td>\n",
       "      <td>1</td>\n",
       "      <td>2</td>\n",
       "      <td>2</td>\n",
       "      <td>0</td>\n",
       "      <td>65.5</td>\n",
       "      <td>52.4</td>\n",
       "      <td>5</td>\n",
       "      <td>152</td>\n",
       "      <td>154.0</td>\n",
       "      <td>19</td>\n",
       "      <td>26</td>\n",
       "    </tr>\n",
       "    <tr>\n",
       "      <th>3</th>\n",
       "      <td>2</td>\n",
       "      <td>164.0</td>\n",
       "      <td>1</td>\n",
       "      <td>1</td>\n",
       "      <td>3</td>\n",
       "      <td>1</td>\n",
       "      <td>0</td>\n",
       "      <td>66.2</td>\n",
       "      <td>54.3</td>\n",
       "      <td>3</td>\n",
       "      <td>109</td>\n",
       "      <td>102.0</td>\n",
       "      <td>24</td>\n",
       "      <td>30</td>\n",
       "    </tr>\n",
       "    <tr>\n",
       "      <th>4</th>\n",
       "      <td>2</td>\n",
       "      <td>164.0</td>\n",
       "      <td>1</td>\n",
       "      <td>1</td>\n",
       "      <td>3</td>\n",
       "      <td>0</td>\n",
       "      <td>0</td>\n",
       "      <td>66.4</td>\n",
       "      <td>54.3</td>\n",
       "      <td>3</td>\n",
       "      <td>136</td>\n",
       "      <td>115.0</td>\n",
       "      <td>18</td>\n",
       "      <td>22</td>\n",
       "    </tr>\n",
       "  </tbody>\n",
       "</table>\n",
       "</div>"
      ],
      "text/plain": [
       "   symboling  normalized-losses  make  fuel-type  body-style  drive-wheels   \n",
       "0          3              115.0     0          1           0             2  \\\n",
       "1          3              115.0     0          1           0             2   \n",
       "2          1              115.0     0          1           2             2   \n",
       "3          2              164.0     1          1           3             1   \n",
       "4          2              164.0     1          1           3             0   \n",
       "\n",
       "   engine-location  width  height  engine-type  engine-size  horsepower   \n",
       "0                0   64.1    48.8            0          130       111.0  \\\n",
       "1                0   64.1    48.8            0          130       111.0   \n",
       "2                0   65.5    52.4            5          152       154.0   \n",
       "3                0   66.2    54.3            3          109       102.0   \n",
       "4                0   66.4    54.3            3          136       115.0   \n",
       "\n",
       "   city-mpg  highway-mpg  \n",
       "0        21           27  \n",
       "1        21           27  \n",
       "2        19           26  \n",
       "3        24           30  \n",
       "4        18           22  "
      ]
     },
     "execution_count": 71,
     "metadata": {},
     "output_type": "execute_result"
    }
   ],
   "source": [
    "X.head()"
   ]
  },
  {
   "cell_type": "code",
   "execution_count": 72,
   "id": "d37043d1",
   "metadata": {},
   "outputs": [
    {
     "data": {
      "text/plain": [
       "array([0.80503653, 0.87093455, 0.38865201, 0.36433016])"
      ]
     },
     "execution_count": 72,
     "metadata": {},
     "output_type": "execute_result"
    }
   ],
   "source": [
    "#k-fold validation on ridge model\n",
    "#cross_val_score(model,feature,target,cv=model)\n",
    "cross_val_score(l2,X,y,cv=4)\n",
    "#return r2 score for all 4 parts of data"
   ]
  },
  {
   "cell_type": "code",
   "execution_count": 73,
   "id": "d435c642",
   "metadata": {},
   "outputs": [
    {
     "data": {
      "text/plain": [
       "array([0.83130613, 0.84437349, 0.40613075, 0.36238957])"
      ]
     },
     "execution_count": 73,
     "metadata": {},
     "output_type": "execute_result"
    }
   ],
   "source": [
    "#k-fold validation for lasso model\n",
    "cv1=cross_val_score(l1,X,y,cv=4)\n",
    "cv1"
   ]
  },
  {
   "cell_type": "code",
   "execution_count": 74,
   "id": "50352df5",
   "metadata": {},
   "outputs": [],
   "source": [
    "training_score=[]\n",
    "testing_score=[]\n",
    "\n",
    "def model_prediction(model):\n",
    "    model.fit(xtrain,ytrain)\n",
    "    x_train_pred = model.predict(xtrain)\n",
    "    x_test_pred = model.predict(xtest)\n",
    "    a = r2_score(ytrain,x_train_pred)*100\n",
    "    b = r2_score(ytest,x_test_pred)*100\n",
    "    training_score.append(a)\n",
    "    testing_score.append(b)\n",
    "    \n",
    "    print(f\"r2_Score of {model} model on Training Data is:\",a)\n",
    "    print(f\"r2_Score of {model} model on Testing Data is:\",b)"
   ]
  },
  {
   "cell_type": "code",
   "execution_count": 75,
   "id": "0008c48e",
   "metadata": {},
   "outputs": [
    {
     "name": "stdout",
     "output_type": "stream",
     "text": [
      "r2_Score of LinearRegression() model on Training Data is: 89.51173399850283\n",
      "r2_Score of LinearRegression() model on Testing Data is: 79.42432903464473\n",
      "r2_Score of DecisionTreeRegressor() model on Training Data is: 99.58007498771732\n",
      "r2_Score of DecisionTreeRegressor() model on Testing Data is: 78.10064254439868\n",
      "r2_Score of RandomForestRegressor() model on Training Data is: 98.33108546668873\n",
      "r2_Score of RandomForestRegressor() model on Testing Data is: 83.0402500042497\n"
     ]
    }
   ],
   "source": [
    "from sklearn.tree import DecisionTreeRegressor\n",
    "\n",
    "model_prediction(LinearRegression())\n",
    "\n",
    "model_prediction(DecisionTreeRegressor())\n",
    "model_prediction(RandomForestRegressor())\n"
   ]
  },
  {
   "cell_type": "code",
   "execution_count": 76,
   "id": "1c7d0341",
   "metadata": {},
   "outputs": [],
   "source": [
    "models = [\"Linear Regression\",\"Decision Tree\",\"RandomForestRegressor\"]"
   ]
  },
  {
   "cell_type": "code",
   "execution_count": 77,
   "id": "11e8f912",
   "metadata": {},
   "outputs": [],
   "source": [
    "df_result = pd.DataFrame({\"Algorithms\":models,\n",
    "                   \"Training Score\":training_score,\n",
    "                   \"Testing Score\":testing_score})"
   ]
  },
  {
   "cell_type": "code",
   "execution_count": 78,
   "id": "66b78564",
   "metadata": {},
   "outputs": [
    {
     "data": {
      "text/html": [
       "<div>\n",
       "<style scoped>\n",
       "    .dataframe tbody tr th:only-of-type {\n",
       "        vertical-align: middle;\n",
       "    }\n",
       "\n",
       "    .dataframe tbody tr th {\n",
       "        vertical-align: top;\n",
       "    }\n",
       "\n",
       "    .dataframe thead th {\n",
       "        text-align: right;\n",
       "    }\n",
       "</style>\n",
       "<table border=\"1\" class=\"dataframe\">\n",
       "  <thead>\n",
       "    <tr style=\"text-align: right;\">\n",
       "      <th></th>\n",
       "      <th>Algorithms</th>\n",
       "      <th>Training Score</th>\n",
       "      <th>Testing Score</th>\n",
       "      <th>Diff</th>\n",
       "    </tr>\n",
       "  </thead>\n",
       "  <tbody>\n",
       "    <tr>\n",
       "      <th>0</th>\n",
       "      <td>Linear Regression</td>\n",
       "      <td>89.511734</td>\n",
       "      <td>79.424329</td>\n",
       "      <td>10.087405</td>\n",
       "    </tr>\n",
       "    <tr>\n",
       "      <th>1</th>\n",
       "      <td>Decision Tree</td>\n",
       "      <td>99.580075</td>\n",
       "      <td>78.100643</td>\n",
       "      <td>21.479432</td>\n",
       "    </tr>\n",
       "    <tr>\n",
       "      <th>2</th>\n",
       "      <td>RandomForestRegressor</td>\n",
       "      <td>98.331085</td>\n",
       "      <td>83.040250</td>\n",
       "      <td>15.290835</td>\n",
       "    </tr>\n",
       "  </tbody>\n",
       "</table>\n",
       "</div>"
      ],
      "text/plain": [
       "              Algorithms  Training Score  Testing Score       Diff\n",
       "0      Linear Regression       89.511734      79.424329  10.087405\n",
       "1          Decision Tree       99.580075      78.100643  21.479432\n",
       "2  RandomForestRegressor       98.331085      83.040250  15.290835"
      ]
     },
     "execution_count": 78,
     "metadata": {},
     "output_type": "execute_result"
    }
   ],
   "source": [
    "df_result['Diff']=(df_result['Training Score'])- (df_result['Testing Score'])\n",
    "df_result"
   ]
  },
  {
   "cell_type": "code",
   "execution_count": 79,
   "id": "d9580dec",
   "metadata": {},
   "outputs": [
    {
     "data": {
      "image/png": "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",
      "text/plain": [
       "<Figure size 600x600 with 1 Axes>"
      ]
     },
     "metadata": {},
     "output_type": "display_data"
    }
   ],
   "source": [
    "df_result.plot(x=\"Algorithms\",y=[\"Training Score\",\"Testing Score\"], figsize=(6,6),kind=\"bar\",\n",
    "        title=\"Performance Visualization of Different Models\",colormap=\"Set1\")\n",
    "plt.show()"
   ]
  },
  {
   "cell_type": "markdown",
   "id": "691244ed",
   "metadata": {},
   "source": [
    "So the graph states that:\n",
    "    X-axis is algorithms what we have used and y axis is training and testing\n",
    "    \n",
    "#insights:\n",
    "    linear regression algorithm states 100 for training and 78 for testing\n",
    "    decision Tree 90 for training and 80 for testing\n",
    "    Randomforest  99 for taining and 82 for testing"
   ]
  },
  {
   "cell_type": "code",
   "execution_count": 88,
   "id": "c6ba3df7",
   "metadata": {},
   "outputs": [
    {
     "name": "stdout",
     "output_type": "stream",
     "text": [
      "Mean Squared Error: 29216682.45518781\n",
      "R-squared: 0.7093369579187796\n",
      "Prediction: [-2747.65867779]\n"
     ]
    }
   ],
   "source": [
    "# Step 3: Import Libraries\n",
    "import numpy as np\n",
    "import pandas as pd  # Assuming you have your data in a pandas DataFrame\n",
    "from sklearn.model_selection import train_test_split\n",
    "from sklearn.linear_model import LinearRegression\n",
    "from sklearn.metrics import mean_squared_error, r2_score\n",
    "\n",
    "# Step 1: Prepare Data\n",
    "# Assuming you have a DataFrame named df with columns: engine_size, horsepower, city_mpg, and price\n",
    "X = df[['engine-size', 'horsepower', 'city-mpg']].values\n",
    "y = df['price'].values\n",
    "\n",
    "# Step 2: Split Data\n",
    "X_train, X_test, y_train, y_test = train_test_split(X, y, test_size=0.2, random_state=42)\n",
    "\n",
    "# Step 4: Create and Train the Model\n",
    "lr_model = LinearRegression()\n",
    "New_model=lr_model.fit(X_train, y_train)\n",
    "\n",
    "# Step 5: Evaluate the Model\n",
    "y_pred = New_model.predict(X_test)\n",
    "mse = mean_squared_error(y_test, y_pred)\n",
    "r2 = r2_score(y_test, y_pred)\n",
    "print(\"Mean Squared Error:\", mse)\n",
    "print(\"R-squared:\", r2)\n",
    "\n",
    "# Step 6: Make Predictions\n",
    "# Example prediction using new data\n",
    "new_data = np.array([[130,27,25]])  # Replace with actual values\n",
    "prediction = New_model.predict(new_data)\n",
    "print(\"Prediction:\", prediction)\n"
   ]
  },
  {
   "cell_type": "code",
   "execution_count": 87,
   "id": "d497d476",
   "metadata": {},
   "outputs": [
    {
     "name": "stdout",
     "output_type": "stream",
     "text": [
      "Prediction: [11485.68642857]\n"
     ]
    }
   ],
   "source": [
    "#Step 2: Split Data\n",
    "import pickle\n",
    "X_train, X_test, y_train, y_test = train_test_split(X, y, test_size=0.2, random_state=42)\n",
    "\n",
    "# Step 4: Create and Train the Model\n",
    "rf_model =RandomForestRegressor(random_state=42)\n",
    "New_model = rf_model.fit(X_train, y_train)\n",
    "\n",
    "# Step 5: Evaluate the Model\n",
    "y_pred = New_model.predict(X_test)\n",
    "mse = mean_squared_error(y_test, y_pred)\n",
    "\n",
    "\n",
    "new_data = np.array([[304,184,14]])  # Replace with actual values\n",
    "prediction = New_model.predict(new_data)\n",
    "print(\"Prediction:\", prediction)\n",
    "\n",
    "\n",
    "file_path = 'C:\\Django_2\\E_Learning\\CarForecastML\\Django-Car-Store\\models/New_RF_model.pkl'\n",
    "with open(file_path, 'wb') as f:\n",
    "    pickle.dump(New_model,f)"
   ]
  },
  {
   "cell_type": "code",
   "execution_count": 83,
   "id": "d1478c66",
   "metadata": {},
   "outputs": [
    {
     "data": {
      "text/html": [
       "<div>\n",
       "<style scoped>\n",
       "    .dataframe tbody tr th:only-of-type {\n",
       "        vertical-align: middle;\n",
       "    }\n",
       "\n",
       "    .dataframe tbody tr th {\n",
       "        vertical-align: top;\n",
       "    }\n",
       "\n",
       "    .dataframe thead th {\n",
       "        text-align: right;\n",
       "    }\n",
       "</style>\n",
       "<table border=\"1\" class=\"dataframe\">\n",
       "  <thead>\n",
       "    <tr style=\"text-align: right;\">\n",
       "      <th></th>\n",
       "      <th>Algorithms</th>\n",
       "      <th>Training Score</th>\n",
       "      <th>Testing Score</th>\n",
       "      <th>Diff</th>\n",
       "    </tr>\n",
       "  </thead>\n",
       "  <tbody>\n",
       "    <tr>\n",
       "      <th>0</th>\n",
       "      <td>Linear Regression</td>\n",
       "      <td>89.511734</td>\n",
       "      <td>79.424329</td>\n",
       "      <td>10.087405</td>\n",
       "    </tr>\n",
       "    <tr>\n",
       "      <th>1</th>\n",
       "      <td>Decision Tree</td>\n",
       "      <td>99.580075</td>\n",
       "      <td>78.100643</td>\n",
       "      <td>21.479432</td>\n",
       "    </tr>\n",
       "    <tr>\n",
       "      <th>2</th>\n",
       "      <td>RandomForestRegressor</td>\n",
       "      <td>98.331085</td>\n",
       "      <td>83.040250</td>\n",
       "      <td>15.290835</td>\n",
       "    </tr>\n",
       "  </tbody>\n",
       "</table>\n",
       "</div>"
      ],
      "text/plain": [
       "              Algorithms  Training Score  Testing Score       Diff\n",
       "0      Linear Regression       89.511734      79.424329  10.087405\n",
       "1          Decision Tree       99.580075      78.100643  21.479432\n",
       "2  RandomForestRegressor       98.331085      83.040250  15.290835"
      ]
     },
     "execution_count": 83,
     "metadata": {},
     "output_type": "execute_result"
    }
   ],
   "source": [
    "df_result"
   ]
  },
  {
   "cell_type": "code",
   "execution_count": 89,
   "id": "ca5aa90b",
   "metadata": {},
   "outputs": [
    {
     "name": "stdout",
     "output_type": "stream",
     "text": [
      "Prediction: [45400.]\n"
     ]
    }
   ],
   "source": [
    "dt_model = DecisionTreeRegressor(random_state=42)\n",
    "New_model = dt_model.fit(X_train, y_train)\n",
    "\n",
    "# Step 4: Evaluate the Model\n",
    "y_pred = New_model.predict(X_test)\n",
    "mse = mean_squared_error(y_test, y_pred)\n",
    "\n",
    "# Step 5: Make Predictions\n",
    "new_data = np.array([[304, 180, 14]])  # Replace with actual values\n",
    "prediction = New_model.predict(new_data)\n",
    "print(\"Prediction:\", prediction)\n"
   ]
  }
 ],
 "metadata": {
  "kernelspec": {
   "display_name": "Python 3 (ipykernel)",
   "language": "python",
   "name": "python3"
  },
  "language_info": {
   "codemirror_mode": {
    "name": "ipython",
    "version": 3
   },
   "file_extension": ".py",
   "mimetype": "text/x-python",
   "name": "python",
   "nbconvert_exporter": "python",
   "pygments_lexer": "ipython3",
   "version": "3.10.2"
  }
 },
 "nbformat": 4,
 "nbformat_minor": 5
}
